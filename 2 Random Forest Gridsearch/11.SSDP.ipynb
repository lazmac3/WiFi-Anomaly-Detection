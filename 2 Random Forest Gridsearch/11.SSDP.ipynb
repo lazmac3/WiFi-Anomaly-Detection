{
 "cells": [
  {
   "cell_type": "code",
   "execution_count": 1,
   "id": "e0a30673-c306-426b-b29c-c7d4b546efff",
   "metadata": {},
   "outputs": [
    {
     "name": "stdout",
     "output_type": "stream",
     "text": [
      "Hello World\n"
     ]
    }
   ],
   "source": [
    "print(\"Hello World\")"
   ]
  },
  {
   "cell_type": "code",
   "execution_count": 2,
   "id": "1ca80d56-7e03-42be-ae46-f2727a41eba3",
   "metadata": {},
   "outputs": [],
   "source": [
    "readFile=\"Data/parquet/11.SSDP\""
   ]
  },
  {
   "cell_type": "code",
   "execution_count": 3,
   "id": "568f24af-506e-49ee-b2d0-463093f550b2",
   "metadata": {},
   "outputs": [],
   "source": [
    "from pyspark.sql import SparkSession\n",
    "import seaborn as sns\n",
    "import matplotlib.pyplot as plt \n",
    "from pyspark.sql.functions import col"
   ]
  },
  {
   "cell_type": "code",
   "execution_count": 4,
   "id": "20e74d5e-ef53-4f92-b285-3919dc3bc776",
   "metadata": {},
   "outputs": [],
   "source": [
    "spark = SparkSession.builder \\\n",
    "    .master(\"local\") \\\n",
    "    .appName(\"WiFi\") \\\n",
    "    .config(\"spark.driver.memory\", \"4g\")\\\n",
    "    .getOrCreate()"
   ]
  },
  {
   "cell_type": "code",
   "execution_count": 5,
   "id": "814ba7fe-44ad-49a1-b7c3-f31d5959582a",
   "metadata": {},
   "outputs": [],
   "source": [
    "df = spark.read.parquet(readFile)"
   ]
  },
  {
   "cell_type": "code",
   "execution_count": 6,
   "id": "98ff64c6-ac13-48d2-aa1b-f5ecf5c13edd",
   "metadata": {},
   "outputs": [
    {
     "data": {
      "text/plain": [
       "8141368"
      ]
     },
     "execution_count": 6,
     "metadata": {},
     "output_type": "execute_result"
    }
   ],
   "source": [
    "df.count()"
   ]
  },
  {
   "cell_type": "markdown",
   "id": "d709200e-d7cb-4250-955a-de345d7f8d0d",
   "metadata": {},
   "source": [
    "https://docs.microsoft.com/en-us/azure/databricks/_static/notebooks/getting-started/get-started-with-mllib-dbr7.html as a guide"
   ]
  },
  {
   "cell_type": "code",
   "execution_count": 7,
   "id": "80e19669-eced-4040-a0a6-6e10ec1c89ed",
   "metadata": {},
   "outputs": [],
   "source": [
    "from pyspark.ml.feature import StringIndexer, OneHotEncoder"
   ]
  },
  {
   "cell_type": "code",
   "execution_count": 8,
   "id": "081dcc35-ad79-44eb-be23-dd6bd11fc47b",
   "metadata": {},
   "outputs": [],
   "source": [
    "categoricalCols = [\n",
    "    #\"frame_time\",\n",
    "    \"radiotap_present_tsft\",\n",
    "    \"radiotap_rxflags\",\n",
    "    \"wlan_analysis_kck\",\n",
    "    \"wlan_analysis_kek\",\n",
    "    \"wlan_bssid\",\n",
    "    \"wlan_country_info_fnm\",\n",
    "    \"wlan_country_info_code\",\n",
    "    \"wlan_da\",\n",
    "    \"wlan_fc_ds\",\n",
    "    \"wlan_ra\",\n",
    "    \"wlan_sa\",\n",
    "    \"wlan_ssid\",\n",
    "    \"wlan_ta\",\n",
    "    \"wlan_tag_length\",\n",
    "    \"wlan_rsna_eapol_keydes_data\",\n",
    "    \"wlan_rsna_eapol_keydes_nonce\",\n",
    "    \"llc\",\n",
    "    \"arp\",\n",
    "    \"arp_proto_type\",\n",
    "    \"arp_src_hw_mac\",\n",
    "    \"arp_src_proto_ipv4\",\n",
    "    \"arp_dst_hw_mac\",\n",
    "    \"arp_dst_proto_ipv4\",\n",
    "    \"ip_dst\",\n",
    "    \"ip_src\",\n",
    "    \"data_data\",\n",
    "    \"tcp_checksum\",\n",
    "    #\"tcp_payload\",\n",
    "    #\"udp_payload\",\n",
    "    \"nbns\",\n",
    "    \"nbss_continuation_data\",\n",
    "    \"nbss_type\",\n",
    "    \"ldap\",\n",
    "    \"smb_server_component\",\n",
    "    \"smb2_acct\",\n",
    "    \"smb2_auth_frame\",\n",
    "    \"smb2_buffer_code\",\n",
    "    \"smb2_cmd\",\n",
    "    \"smb2_data_offset\",\n",
    "    \"smb2_domain\",\n",
    "    \"smb2_fid\",\n",
    "    \"smb2_filename\",\n",
    "    \"smb2_header_len\",\n",
    "    \"smb2_host\",\n",
    "    \"smb2_msg_id\",\n",
    "    \"smb2_pid\",\n",
    "    \"smb2_previous_sesid\",\n",
    "    \"smb2_protocol_id\",\n",
    "    \"smb2_sesid\",\n",
    "    \"smb2_session_flags\",\n",
    "    \"smb2_tid\",\n",
    "    \"dhcp\",\n",
    "    \"dhcp_client_id_duid_ll_hw_type\",\n",
    "    \"dhcp_cookie\",\n",
    "    \"dhcp_hw_mac_addr\",\n",
    "    \"dhcp_id\",\n",
    "    \"dhcp_ip_client\",\n",
    "    \"dhcp_ip_relay\",\n",
    "    \"dhcp_ip_server\",\n",
    "    \"dhcp_option_broadcast_address\",\n",
    "    \"dhcp_option_dhcp_server_id\",\n",
    "    \"dhcp_option_router\",\n",
    "    \"dhcp_option_vendor_bsdp_message_type\",\n",
    "    \"mdns\",\n",
    "    \"dns\",\n",
    "    \"dns_a\",\n",
    "    \"dns_flags_authoritative\",\n",
    "    \"dns_flags_checkdisable\",\n",
    "    \"dns_flags_opcode\",\n",
    "    \"dns_flags_response\",\n",
    "    \"dns_id\",\n",
    "    \"dns_ptr_domain_name\",\n",
    "    \"dns_qry_name\",\n",
    "    \"dns_resp_len\",\n",
    "    \"dns_resp_name\",\n",
    "    \"dns_resp_ttl\",\n",
    "    \"dns_resp_len_1\",\n",
    "    \"ssdp\",\n",
    "    \"http_connection\",\n",
    "    \"http_content_type\",\n",
    "    \"http_date\",\n",
    "    \"http_file_data\",\n",
    "    \"http_host\",\n",
    "    \"http_last_modified\",\n",
    "    \"http_location\",\n",
    "    \"http_next_request_in\",\n",
    "    \"http_next_response_in\",\n",
    "    \"http_request_full_uri\",\n",
    "    \"http_request_line\",\n",
    "    \"http_request_method\",\n",
    "    \"http_request_uri_path\",\n",
    "    \"http_request_uri_query\",\n",
    "    \"http_request_uri_query_parameter\",\n",
    "    \"http_request_version\",\n",
    "    \"http_response_code_desc\",\n",
    "    \"http_response_line\",\n",
    "    \"http_response_phrase\",\n",
    "    \"http_response_version\",\n",
    "    \"http_response_for_uri\",\n",
    "    \"http_response_in\",\n",
    "    \"http_referer\",\n",
    "    \"http_server\",\n",
    "    \"json_value_string\",\n",
    "    \"json_key\",\n",
    "    \"ssh_cookie\",\n",
    "    \"ssh_message_code\",\n",
    "    \"ssh_mpint_length\",\n",
    "    #\"ssh_packet_length_encrypted\",\n",
    "    \"ssh_protocol\",\n",
    "    \"tls_app_data_proto\",\n",
    "    \"tls_connection_id\",\n",
    "    \"tls_handshake_extension_type\",\n",
    "    \"tls_handshake_extensions_key_share_group\",\n",
    "    \"tls_handshake_version\",\n",
    "    \"tls_record_version\" \n",
    "]\n"
   ]
  },
  {
   "cell_type": "code",
   "execution_count": 9,
   "id": "05a660a4-eec4-4c97-901f-b31fa7464b19",
   "metadata": {},
   "outputs": [],
   "source": [
    "# The following two lines are estimators. They return functions that we will later apply to transform the dataset.\n",
    "stringIndexer = StringIndexer(inputCols=categoricalCols, outputCols=[x + \"index\" for x in categoricalCols]).setHandleInvalid(\"keep\") \n",
    "encoder = OneHotEncoder(inputCols=stringIndexer.getOutputCols(), outputCols=[x + \"OHE\" for x in categoricalCols]) "
   ]
  },
  {
   "cell_type": "code",
   "execution_count": 10,
   "id": "b5d9a30f-9e7b-408c-a560-b5b131ac332b",
   "metadata": {},
   "outputs": [],
   "source": [
    "numericCols=[\n",
    "    \"frame_time_delta\",\n",
    "    \"frame_time_delta_displayed\",\n",
    "    \"frame_time_epoch\",\n",
    "    \"frame_time_relative\",\n",
    "    \"radiotap_datarate\",\n",
    "    \"radiotap_mactime\",\n",
    "    \"wlan_fixed_timestamp\",\n",
    "    \"wlan_seq\",\n",
    "    \"wlan_radio_data_rate\",\n",
    "    \"wlan_radio_end_tsf\",\n",
    "    \"wlan_radio_start_tsf\",\n",
    "    \"wlan_radio_timestamp\",\n",
    "    \"wlan_rsn_capabilities_mfpc\",\n",
    "    \"wlan_rsna_eapol_keydes_msgnr\",\n",
    "    \"wlan_rsna_eapol_keydes_data_len\",\n",
    "    \"wlan_rsna_eapol_keydes_key_info_key_mic\",\n",
    "    \"eapol_keydes_key_len\",\n",
    "    \"eapol_keydes_replay_counter\",\n",
    "    \"eapol_len\",\n",
    "    \"eapol_type\",\n",
    "    \"arp_hw_type\",\n",
    "    \"arp_hw_size\",\n",
    "    \"arp_proto_size\",\n",
    "    \"arp_opcode\",\n",
    "    \"icmpv6_mldr_nb_mcast_records\",\n",
    "    \"tcp_time_delta\",\n",
    "    \"tcp_time_relative\",\n",
    "    \"udp_time_relative\",\n",
    "    \"udp_time_delta\",\n",
    "    \"nbss_length\",\n",
    "    \"smb_access_generic_execute\",\n",
    "    \"smb_access_generic_read\",\n",
    "    \"smb_access_generic_write\",\n",
    "    \"smb_flags_notify\",\n",
    "    \"smb_flags_response\",\n",
    "    \"smb_flags2_nt_error\",\n",
    "    \"smb_flags2_sec_sig\",\n",
    "    \"smb_mid\",\n",
    "    \"smb_nt_status\",\n",
    "    \"smb_pid_high\",\n",
    "    \"smb_tid\",\n",
    "    \"dhcp_hw_addr_padding\",\n",
    "    \"dns_time\",\n",
    "    \"http_content_length\",\n",
    "    \"http_request_in\",\n",
    "    \"http_response_code\",\n",
    "    \"http_time\",\n",
    "    \"tls_compress_certificate_compressed_certificate_message_length\",\n",
    "    \"frame_encap_type\",\n",
    "    #\"frame_len\",\n",
    "    #\"frame_number\",\n",
    "    \"radiotap_channel_flags_cck\",\n",
    "    \"radiotap_channel_flags_ofdm\",\n",
    "    \"radiotap_channel_freq\",\n",
    "    \"radiotap_dbm_antsignal\",\n",
    "    \"radiotap_length\",\n",
    "    \"radiotap_vendor_oui\",\n",
    "    \"wlan_duration\",\n",
    "    \"wlan_fc_frag\",\n",
    "    \"wlan_fc_order\",\n",
    "    \"wlan_fc_moredata\",\n",
    "    \"wlan_fc_protected\",\n",
    "    \"wlan_fc_pwrmgt\",\n",
    "    \"wlan_fc_type\",\n",
    "    \"wlan_fc_retry\",\n",
    "    \"wlan_fc_subtype\",\n",
    "    \"wlan_fcs_bad_checksum\",\n",
    "    \"wlan_fixed_beacon\",\n",
    "    \"wlan_fixed_capabilities_ess\",\n",
    "    \"wlan_fixed_capabilities_ibss\",\n",
    "    \"wlan_fixed_reason_code\",\n",
    "    \"wlan_radio_duration\",\n",
    "    \"wlan_rsn_ie_gtk_key\",\n",
    "    \"wlan_rsn_ie_igtk_key\",\n",
    "    \"wlan_rsn_ie_pmkid\",\n",
    "    \"wlan_tag\",\n",
    "    \"wlan_radio_channel\",\n",
    "    \"wlan_radio_frequency\",\n",
    "    \"wlan_radio_signal_dbm\",\n",
    "    \"wlan_radio_phy\",\n",
    "    \"ip_proto\",\n",
    "    \"ip_ttl\",\n",
    "    \"ip_version\",\n",
    "    \"data_len\",\n",
    "    \"icmpv6_ni_nonce\",\n",
    "    \"tcp_ack\",\n",
    "    \"tcp_ack_raw\",\n",
    "    \"tcp_analysis\",\n",
    "    \"tcp_analysis_flags\",\n",
    "    \"tcp_analysis_retransmission\",\n",
    "    \"tcp_analysis_reused_ports\",\n",
    "    \"tcp_analysis_rto_frame\",\n",
    "    \"tcp_checksum_status\",\n",
    "    \"tcp_flags_syn\",\n",
    "    \"tcp_dstport\",\n",
    "    \"tcp_flags_ack\",\n",
    "    \"tcp_flags_fin\",\n",
    "    \"tcp_flags_push\",\n",
    "    \"tcp_flags_reset\",\n",
    "    \"tcp_option_len\",\n",
    "    \"tcp_seq\",\n",
    "    \"tcp_seq_raw\",\n",
    "    \"tcp_srcport\",\n",
    "    \"udp_dstport\",\n",
    "    \"udp_srcport\",\n",
    "    \"udp_length\",\n",
    "    \"smb2_write_length\",\n",
    "    \"dns_count_add_rr\",\n",
    "    \"dns_count_answers\",\n",
    "    \"dns_count_auth_rr\",\n",
    "    \"dns_count_labels\",\n",
    "    \"dns_count_queries\",\n",
    "    \"dns_qry_name_len\",\n",
    "    \"dns_retransmit_request\",\n",
    "    \"dns_retransmit_response\",\n",
    "    \"ssh_compression_algorithms_client_to_server_length\",\n",
    "    \"ssh_compression_algorithms_server_to_client_length\",\n",
    "    \"ssh_direction\",\n",
    "    \"ssh_dh_gex_max\",\n",
    "    \"ssh_dh_gex_min\",\n",
    "    \"ssh_dh_gex_nbits\",\n",
    "    \"ssh_encryption_algorithms_client_to_server_length\",\n",
    "    \"ssh_encryption_algorithms_server_to_client_length\",\n",
    "    \"ssh_host_key_length\",\n",
    "    \"ssh_host_key_type_length\",\n",
    "    \"ssh_kex_algorithms_length\",\n",
    "    \"ssh_mac_algorithms_client_to_server_length\",\n",
    "    \"ssh_mac_algorithms_server_to_client_length\",\n",
    "    \"ssh_packet_length\",\n",
    "    \"ssh_padding_length\",\n",
    "    \"ssh_padding_string\",\n",
    "    \"ssh_server_host_key_algorithms_length\",\n",
    "    \"tls_alert_message_desc\",\n",
    "    \"tls_alert_message_level\",\n",
    "    \"tls_handshake_session_ticket_length\",\n",
    "    \"tls_record_content_type\",\n",
    "    \"radiotap_timestamp_ts\"\n",
    "]"
   ]
  },
  {
   "cell_type": "code",
   "execution_count": 11,
   "id": "4699f280-fdd8-4904-9c44-b8103b1f9284",
   "metadata": {},
   "outputs": [],
   "source": [
    "from pyspark.ml.feature import VectorAssembler\n",
    " \n",
    "# This includes both the numeric columns and the one-hot encoded binary vector columns in our dataset.\n",
    "assemblerInputs = [c + \"OHE\" for c in categoricalCols] + numericCols\n",
    "vecAssembler = VectorAssembler(inputCols=assemblerInputs, outputCol=\"features\")"
   ]
  },
  {
   "cell_type": "code",
   "execution_count": 12,
   "id": "a4c188f9-b85a-48c1-bf31-aadf34f53821",
   "metadata": {},
   "outputs": [],
   "source": [
    "from pyspark.ml.classification import RandomForestClassifier\n",
    "from pyspark.ml import Pipeline"
   ]
  },
  {
   "cell_type": "code",
   "execution_count": 113,
   "id": "1543c0d9-c35d-45a0-ba31-2964ea945516",
   "metadata": {},
   "outputs": [
    {
     "name": "stdout",
     "output_type": "stream",
     "text": [
      "We will use 81365  events for the grid search.\n"
     ]
    }
   ],
   "source": [
    "subSample = df.sample(fraction=1.0/100, withReplacement=False)\n",
    "print('We will use',subSample.count(),' events for the grid search.')"
   ]
  },
  {
   "cell_type": "code",
   "execution_count": 114,
   "id": "e8e52697-0407-4cb3-b942-0eb8577a6a9d",
   "metadata": {},
   "outputs": [
    {
     "name": "stdout",
     "output_type": "stream",
     "text": [
      "+-----+-----+\n",
      "|label|count|\n",
      "+-----+-----+\n",
      "|    0|26581|\n",
      "|    1|54784|\n",
      "+-----+-----+\n",
      "\n"
     ]
    }
   ],
   "source": [
    "subSample.groupBy('label').count().show()"
   ]
  },
  {
   "cell_type": "code",
   "execution_count": 115,
   "id": "c2703cb4-b1a9-4da1-aed8-e1d33109b6b8",
   "metadata": {},
   "outputs": [],
   "source": [
    "from pyspark.ml.tuning import ParamGridBuilder, CrossValidator\n",
    "from pyspark.ml.evaluation import BinaryClassificationEvaluator\n",
    "from pyspark.ml.classification import RandomForestClassifier\n",
    "\n",
    "rf = RandomForestClassifier(labelCol='label', featuresCol='features', \n",
    "                            maxBins=20, subsamplingRate=0.7,\n",
    "                            minInfoGain= 1e-05,\n",
    "                            featureSubsetStrategy='all',\n",
    "                            minInstancesPerNode=2)\n",
    "\n",
    "evaluator=BinaryClassificationEvaluator(metricName='areaUnderPR')\n",
    "rf_pipe = Pipeline(stages=[stringIndexer, encoder, vecAssembler,rf])\n",
    "\n",
    "\n",
    "\n",
    "\n",
    "\n",
    "paramGrid = ParamGridBuilder()\\\n",
    "  .addGrid(rf.maxDepth, [10,20])\\\n",
    "  .addGrid(rf.numTrees, [50])\\\n",
    "  .build()\n",
    "\n",
    "cv = CrossValidator(estimator=rf_pipe, \n",
    "                    evaluator=evaluator,\n",
    "                    estimatorParamMaps=paramGrid,\n",
    "                    numFolds=2, parallelism=2)"
   ]
  },
  {
   "cell_type": "code",
   "execution_count": 116,
   "id": "c6414d94-af2e-454e-8682-b09486c2c453",
   "metadata": {},
   "outputs": [],
   "source": [
    "\n",
    "bestModel = cv.fit(subSample)\n",
    " "
   ]
  },
  {
   "cell_type": "code",
   "execution_count": 117,
   "id": "c1413a66-ea2d-418e-9928-4c7173f3d6e0",
   "metadata": {},
   "outputs": [
    {
     "name": "stdout",
     "output_type": "stream",
     "text": [
      "BestModel:\n",
      "\t-maxDepth = 10\n",
      "\t-Feature Importance = (10505,[79,209,1536,1586,1610,10473],[2.2079927493249517E-5,0.012456377392356683,2.8691666129596467E-5,2.0770144455475423E-5,3.036805800751258E-5,0.9874417128115576])\n"
     ]
    }
   ],
   "source": [
    "print('BestModel:\\n\\t-maxDepth =',bestModel.bestModel.stages[-1]._java_obj.getMaxDepth())\n",
    "print('\\t-Feature Importance =',bestModel.bestModel.stages[-1]._java_obj.featureImportances())"
   ]
  },
  {
   "cell_type": "raw",
   "id": "35e100df-e7b7-4504-b31d-076eaa09a21c",
   "metadata": {},
   "source": [
    "We need to use the model as the encoding changes the index to extract the feature names and assess the model. This page was essential in working this out https://stackoverflow.com/questions/50937591/pyspark-random-forest-feature-importance-mapping-after-column-transformations/50957255#50957255"
   ]
  },
  {
   "cell_type": "code",
   "execution_count": 118,
   "id": "fb444d4e-de2c-479c-8973-12b01a0e315f",
   "metadata": {},
   "outputs": [],
   "source": [
    "transformedBestModel=bestModel.transform(subSample)"
   ]
  },
  {
   "cell_type": "code",
   "execution_count": 119,
   "id": "b382b579-f2ce-41be-8357-0afce10f74ad",
   "metadata": {},
   "outputs": [],
   "source": [
    "import pandas as pd\n",
    "\n",
    "p = pd.DataFrame(transformedBestModel.schema[\"features\"].metadata[\"ml_attr\"][\"attrs\"][\"binary\"]+transformedBestModel.schema[\"features\"].metadata[\"ml_attr\"][\"attrs\"][\"numeric\"]).sort_values(\"idx\")"
   ]
  },
  {
   "cell_type": "code",
   "execution_count": 120,
   "id": "c7b93ad6-1d4b-4cf7-ab21-5a1fb177ef82",
   "metadata": {},
   "outputs": [
    {
     "data": {
      "text/plain": [
       "0             radiotap_present_tsftOHE_0-0-0\n",
       "1             radiotap_present_tsftOHE_1-0-0\n",
       "2             radiotap_rxflagsOHE_0x00000000\n",
       "3                    wlan_analysis_kckOHE_NA\n",
       "4                    wlan_analysis_kekOHE_NA\n",
       "                        ...                 \n",
       "10500                 tls_alert_message_desc\n",
       "10501                tls_alert_message_level\n",
       "10502    tls_handshake_session_ticket_length\n",
       "10503                tls_record_content_type\n",
       "10504                  radiotap_timestamp_ts\n",
       "Name: name, Length: 10505, dtype: object"
      ]
     },
     "execution_count": 120,
     "metadata": {},
     "output_type": "execute_result"
    }
   ],
   "source": [
    "p.name"
   ]
  },
  {
   "cell_type": "code",
   "execution_count": 121,
   "id": "2ed13f7f-871c-4a8e-a5c3-92926320902a",
   "metadata": {},
   "outputs": [],
   "source": [
    "\n",
    "from itertools import chain\n",
    "attrs = sorted(\n",
    "    (attr[\"idx\"], attr[\"name\"])\n",
    "    for attr in (\n",
    "        chain(*transformedBestModel.schema[\"features\"].metadata[\"ml_attr\"][\"attrs\"].values())\n",
    "    )\n",
    ") "
   ]
  },
  {
   "cell_type": "code",
   "execution_count": 122,
   "id": "44c4c302-e780-4697-b518-937de740ca6b",
   "metadata": {},
   "outputs": [
    {
     "data": {
      "text/plain": [
       "[('wlan_daOHE_04:ed:33:e0:24:82', 2.2079927493249517e-05),\n",
       " ('wlan_saOHE_04:ed:33:e0:24:82', 0.012456377392356683),\n",
       " ('data_dataOHE_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',\n",
       "  2.8691666129596467e-05),\n",
       " ('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',\n",
       "  2.0770144455475423e-05),\n",
       " ('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',\n",
       "  3.036805800751258e-05),\n",
       " ('udp_length', 0.9874417128115576)]"
      ]
     },
     "execution_count": 122,
     "metadata": {},
     "output_type": "execute_result"
    }
   ],
   "source": [
    "[\n",
    "    (name,  bestModel.bestModel.stages[-1].featureImportances[idx])\n",
    "    for idx, name in attrs\n",
    "    if bestModel.bestModel.stages[-1].featureImportances[idx]\n",
    "]"
   ]
  },
  {
   "cell_type": "code",
   "execution_count": 123,
   "id": "251425d2-b8ce-4d55-ae2e-977d3f7e8add",
   "metadata": {},
   "outputs": [
    {
     "data": {
      "text/plain": [
       "10505"
      ]
     },
     "execution_count": 123,
     "metadata": {},
     "output_type": "execute_result"
    }
   ],
   "source": [
    "len(bestModel.bestModel.stages[-1].featureImportances)"
   ]
  },
  {
   "cell_type": "markdown",
   "id": "c1a448e1-e862-4ec7-83fe-3a7108e33290",
   "metadata": {},
   "source": [
    "The test on the subsample tells us which are important dimensions that we can then use for out model. The lengh output shows that even with the subsample the one hot encoder makes adds an order of magnitude of dimensions"
   ]
  },
  {
   "cell_type": "code",
   "execution_count": 13,
   "id": "d7bc9251-2da6-4d87-a9a2-a319d1290f03",
   "metadata": {},
   "outputs": [],
   "source": [
    "train, test = df.randomSplit([0.8,0.2])"
   ]
  },
  {
   "cell_type": "code",
   "execution_count": 14,
   "id": "3002ad02-183f-4dcd-89f7-ca012417140c",
   "metadata": {},
   "outputs": [
    {
     "name": "stdout",
     "output_type": "stream",
     "text": [
      "Events for the training 6512018\n",
      "Events for the validation 1629350\n"
     ]
    }
   ],
   "source": [
    "print('Events for the training {}'.format(train.count()))\n",
    "print('Events for the validation {}'.format(test.count()))"
   ]
  },
  {
   "cell_type": "code",
   "execution_count": 15,
   "id": "ea96cfd2-da22-40ea-b5de-001477c13eaf",
   "metadata": {},
   "outputs": [],
   "source": [
    "importantNumerical=[\n",
    "   'udp_length'\n",
    "]"
   ]
  },
  {
   "cell_type": "code",
   "execution_count": 16,
   "id": "42d98025-120b-463a-a00b-bbe535438b0a",
   "metadata": {},
   "outputs": [],
   "source": [
    "importantCategorical=[\n",
    " \n",
    "]"
   ]
  },
  {
   "cell_type": "code",
   "execution_count": 17,
   "id": "849fb6b6-caa4-4aff-9d29-06d32493d783",
   "metadata": {},
   "outputs": [],
   "source": [
    "ImportantstringIndexer = StringIndexer(inputCols=importantCategorical, outputCols=[x + \"index\" for x in importantCategorical]).setHandleInvalid(\"keep\") \n",
    "Importantencoder = OneHotEncoder(inputCols=ImportantstringIndexer.getOutputCols(), outputCols=[x + \"OHE\" for x in importantCategorical]) "
   ]
  },
  {
   "cell_type": "code",
   "execution_count": 18,
   "id": "ed08fb80-cef9-4008-86aa-fd2168ab1d53",
   "metadata": {},
   "outputs": [],
   "source": [
    "# This includes both the numeric columns and the one-hot encoded binary vector columns in our dataset.\n",
    "ImportantAssemblerInputs = [c + \"OHE\" for c in importantCategorical] + importantNumerical\n",
    "ImportantvecAssembler = VectorAssembler(inputCols=ImportantAssemblerInputs, outputCol=\"importantfeatures\")"
   ]
  },
  {
   "cell_type": "code",
   "execution_count": 19,
   "id": "df185548-6ee8-4701-9498-76aadd213bbe",
   "metadata": {},
   "outputs": [],
   "source": [
    "\n",
    "\n",
    "rf = RandomForestClassifier(labelCol='label', featuresCol='importantfeatures', numTrees=50)"
   ]
  },
  {
   "cell_type": "code",
   "execution_count": 20,
   "id": "6985d897-9508-4003-9175-515798bb965b",
   "metadata": {},
   "outputs": [],
   "source": [
    "\n",
    " \n",
    "# Define the pipeline based on the stages created in previous steps.\n",
    "pipeline = Pipeline(stages=[ImportantstringIndexer, Importantencoder, ImportantvecAssembler,rf])\n",
    " \n",
    "\n",
    " \n"
   ]
  },
  {
   "cell_type": "code",
   "execution_count": 21,
   "id": "135057f8-7198-4c96-bc8d-c6d3ed73dafd",
   "metadata": {},
   "outputs": [],
   "source": [
    "# Define the pipeline model.\n",
    "pipelineModel = pipeline.fit(train)"
   ]
  },
  {
   "cell_type": "code",
   "execution_count": 22,
   "id": "d9a8ee3c-dded-449b-a2cd-d1683dd1d0d5",
   "metadata": {},
   "outputs": [],
   "source": [
    "# Apply the pipeline model to the test dataset.\n",
    "pred = pipelineModel.transform(test)"
   ]
  },
  {
   "cell_type": "code",
   "execution_count": 23,
   "id": "f8724e5c-af62-44aa-a7f9-117cbe761d39",
   "metadata": {},
   "outputs": [
    {
     "name": "stdout",
     "output_type": "stream",
     "text": [
      "+----------------+---------+------------+--------------------+----------------+--------------------------+----------------+-------------------+--------------------------+---------------------------+---------------------+-----------------+----------------------+---------------+----------------+---------------------+----------------+---------------------+-------------------+-------------+-----------------+-----------------+----------+---------------------+----------------------+-------+----------+------------+-------------+----------------+-----------------+--------------+------------+-------------+---------------+---------------------+-----------------+---------------------------+----------------------------+----------------------+--------------------+-----------------+-------------------+-------------------+--------------------+-----------------+-------+--------+---------+-------+--------+---------------+------------------+--------------------+------------------+--------------------+---------------------+--------------------+--------------+--------------------+--------------------------+----------------------------+---------------------------+-------------------------------+---------------------------------------+----------------------------+--------------------+---------------------------+---------+----------+---+---+-----------+--------------+-----------+--------------+----------+--------------+------------------+--------------+------------------+------+--------+------+------+----------+---------+--------+----------------------------+---------------+-------+-----------+------------+------------------+---------------------------+-------------------------+----------------------+------------+-------------------+-------------+-----------+-------------+-------------+--------------+---------------+--------------+-----------+-------+-----------+-----------+--------------+-----------------+-----------+-----------+----------+-----------+-----------------+--------------+----+----------------------+---------+-----------+----+--------------------------+-----------------------+------------------------+----------------+------------------+-------------------+------------------+-------+-------------+--------------------+------------+-------+---------+---------------+----------------+--------+----------------+-----------+--------+-------------+---------------+---------+-----------+--------+-------------------+----------------+----------+------------------+--------+-----------------+----+------------------------------+-----------+--------------------+----------------+-------+--------------+-------------+--------------+-----------------------------+--------------------------+------------------+------------------------------------+----+---+-----+----------------+-----------------+-----------------+----------------+-----------------+-----------------------+----------------------+----------------+------------------+------+-------------------+------------+----------------+------------+-------------+------------+--------------+----------------------+-----------------------+--------+----+---------------+-------------------+-----------------+---------+--------------+---------+------------------+-------------+--------------------+---------------------+---------------------+-----------------+-------------------+---------------------+----------------------+--------------------------------+--------------------+---------------+------------------+-----------------------+------------------+--------------------+---------------------+---------------------+----------------+------------+---------+-----------+-----------------+--------+----------+--------------------------------------------------+--------------------------------------------------+-------------+--------------+--------------+----------------+-------------------------------------------------+-------------------------------------------------+-------------------+------------------------+-------------------------+------------------------------------------+------------------------------------------+----------------+----------------+-----------------+---------------------------+------------------+------------------+------------+-------------------------------------+----------------------+-----------------------+------------------+--------------------------------------------------------------+-----------------+----------------------------+----------------------------------------+-----------------------------------+---------------------+-----------------------+------------------+-----------+-----+-----------------+--------------------+--------------------+----------+\n",
      "|frame_encap_type|frame_len|frame_number|          frame_time|frame_time_delta|frame_time_delta_displayed|frame_time_epoch|frame_time_relative|radiotap_channel_flags_cck|radiotap_channel_flags_ofdm|radiotap_channel_freq|radiotap_datarate|radiotap_dbm_antsignal|radiotap_length|radiotap_mactime|radiotap_present_tsft|radiotap_rxflags|radiotap_timestamp_ts|radiotap_vendor_oui|wlan_duration|wlan_analysis_kck|wlan_analysis_kek|wlan_bssid|wlan_country_info_fnm|wlan_country_info_code|wlan_da|wlan_fc_ds|wlan_fc_frag|wlan_fc_order|wlan_fc_moredata|wlan_fc_protected|wlan_fc_pwrmgt|wlan_fc_type|wlan_fc_retry|wlan_fc_subtype|wlan_fcs_bad_checksum|wlan_fixed_beacon|wlan_fixed_capabilities_ess|wlan_fixed_capabilities_ibss|wlan_fixed_reason_code|wlan_fixed_timestamp|          wlan_ra|wlan_radio_duration|wlan_rsn_ie_gtk_key|wlan_rsn_ie_igtk_key|wlan_rsn_ie_pmkid|wlan_sa|wlan_seq|wlan_ssid|wlan_ta|wlan_tag|wlan_tag_length|wlan_radio_channel|wlan_radio_data_rate|wlan_radio_end_tsf|wlan_radio_frequency|wlan_radio_signal_dbm|wlan_radio_start_tsf|wlan_radio_phy|wlan_radio_timestamp|wlan_rsn_capabilities_mfpc|wlan_rsna_eapol_keydes_msgnr|wlan_rsna_eapol_keydes_data|wlan_rsna_eapol_keydes_data_len|wlan_rsna_eapol_keydes_key_info_key_mic|wlan_rsna_eapol_keydes_nonce|eapol_keydes_key_len|eapol_keydes_replay_counter|eapol_len|eapol_type|llc|arp|arp_hw_type|arp_proto_type|arp_hw_size|arp_proto_size|arp_opcode|arp_src_hw_mac|arp_src_proto_ipv4|arp_dst_hw_mac|arp_dst_proto_ipv4|ip_dst|ip_proto|ip_src|ip_ttl|ip_version|data_data|data_len|icmpv6_mldr_nb_mcast_records|icmpv6_ni_nonce|tcp_ack|tcp_ack_raw|tcp_analysis|tcp_analysis_flags|tcp_analysis_retransmission|tcp_analysis_reused_ports|tcp_analysis_rto_frame|tcp_checksum|tcp_checksum_status|tcp_flags_syn|tcp_dstport|tcp_flags_ack|tcp_flags_fin|tcp_flags_push|tcp_flags_reset|tcp_option_len|tcp_payload|tcp_seq|tcp_seq_raw|tcp_srcport|tcp_time_delta|tcp_time_relative|udp_dstport|udp_srcport|udp_length|udp_payload|udp_time_relative|udp_time_delta|nbns|nbss_continuation_data|nbss_type|nbss_length|ldap|smb_access_generic_execute|smb_access_generic_read|smb_access_generic_write|smb_flags_notify|smb_flags_response|smb_flags2_nt_error|smb_flags2_sec_sig|smb_mid|smb_nt_status|smb_server_component|smb_pid_high|smb_tid|smb2_acct|smb2_auth_frame|smb2_buffer_code|smb2_cmd|smb2_data_offset|smb2_domain|smb2_fid|smb2_filename|smb2_header_len|smb2_host|smb2_msg_id|smb2_pid|smb2_previous_sesid|smb2_protocol_id|smb2_sesid|smb2_session_flags|smb2_tid|smb2_write_length|dhcp|dhcp_client_id_duid_ll_hw_type|dhcp_cookie|dhcp_hw_addr_padding|dhcp_hw_mac_addr|dhcp_id|dhcp_ip_client|dhcp_ip_relay|dhcp_ip_server|dhcp_option_broadcast_address|dhcp_option_dhcp_server_id|dhcp_option_router|dhcp_option_vendor_bsdp_message_type|mdns|dns|dns_a|dns_count_add_rr|dns_count_answers|dns_count_auth_rr|dns_count_labels|dns_count_queries|dns_flags_authoritative|dns_flags_checkdisable|dns_flags_opcode|dns_flags_response|dns_id|dns_ptr_domain_name|dns_qry_name|dns_qry_name_len|dns_resp_len|dns_resp_name|dns_resp_ttl|dns_resp_len_1|dns_retransmit_request|dns_retransmit_response|dns_time|ssdp|http_connection|http_content_length|http_content_type|http_date|http_file_data|http_host|http_last_modified|http_location|http_next_request_in|http_next_response_in|http_request_full_uri|http_request_line|http_request_method|http_request_uri_path|http_request_uri_query|http_request_uri_query_parameter|http_request_version|http_request_in|http_response_code|http_response_code_desc|http_response_line|http_response_phrase|http_response_version|http_response_for_uri|http_response_in|http_referer|http_time|http_server|json_value_string|json_key|ssh_cookie|ssh_compression_algorithms_client_to_server_length|ssh_compression_algorithms_server_to_client_length|ssh_direction|ssh_dh_gex_max|ssh_dh_gex_min|ssh_dh_gex_nbits|ssh_encryption_algorithms_client_to_server_length|ssh_encryption_algorithms_server_to_client_length|ssh_host_key_length|ssh_host_key_type_length|ssh_kex_algorithms_length|ssh_mac_algorithms_client_to_server_length|ssh_mac_algorithms_server_to_client_length|ssh_message_code|ssh_mpint_length|ssh_packet_length|ssh_packet_length_encrypted|ssh_padding_length|ssh_padding_string|ssh_protocol|ssh_server_host_key_algorithms_length|tls_alert_message_desc|tls_alert_message_level|tls_app_data_proto|tls_compress_certificate_compressed_certificate_message_length|tls_connection_id|tls_handshake_extension_type|tls_handshake_extensions_key_share_group|tls_handshake_session_ticket_length|tls_handshake_version|tls_record_content_type|tls_record_version|StringLabel|label|importantfeatures|       rawPrediction|         probability|prediction|\n",
      "+----------------+---------+------------+--------------------+----------------+--------------------------+----------------+-------------------+--------------------------+---------------------------+---------------------+-----------------+----------------------+---------------+----------------+---------------------+----------------+---------------------+-------------------+-------------+-----------------+-----------------+----------+---------------------+----------------------+-------+----------+------------+-------------+----------------+-----------------+--------------+------------+-------------+---------------+---------------------+-----------------+---------------------------+----------------------------+----------------------+--------------------+-----------------+-------------------+-------------------+--------------------+-----------------+-------+--------+---------+-------+--------+---------------+------------------+--------------------+------------------+--------------------+---------------------+--------------------+--------------+--------------------+--------------------------+----------------------------+---------------------------+-------------------------------+---------------------------------------+----------------------------+--------------------+---------------------------+---------+----------+---+---+-----------+--------------+-----------+--------------+----------+--------------+------------------+--------------+------------------+------+--------+------+------+----------+---------+--------+----------------------------+---------------+-------+-----------+------------+------------------+---------------------------+-------------------------+----------------------+------------+-------------------+-------------+-----------+-------------+-------------+--------------+---------------+--------------+-----------+-------+-----------+-----------+--------------+-----------------+-----------+-----------+----------+-----------+-----------------+--------------+----+----------------------+---------+-----------+----+--------------------------+-----------------------+------------------------+----------------+------------------+-------------------+------------------+-------+-------------+--------------------+------------+-------+---------+---------------+----------------+--------+----------------+-----------+--------+-------------+---------------+---------+-----------+--------+-------------------+----------------+----------+------------------+--------+-----------------+----+------------------------------+-----------+--------------------+----------------+-------+--------------+-------------+--------------+-----------------------------+--------------------------+------------------+------------------------------------+----+---+-----+----------------+-----------------+-----------------+----------------+-----------------+-----------------------+----------------------+----------------+------------------+------+-------------------+------------+----------------+------------+-------------+------------+--------------+----------------------+-----------------------+--------+----+---------------+-------------------+-----------------+---------+--------------+---------+------------------+-------------+--------------------+---------------------+---------------------+-----------------+-------------------+---------------------+----------------------+--------------------------------+--------------------+---------------+------------------+-----------------------+------------------+--------------------+---------------------+---------------------+----------------+------------+---------+-----------+-----------------+--------+----------+--------------------------------------------------+--------------------------------------------------+-------------+--------------+--------------+----------------+-------------------------------------------------+-------------------------------------------------+-------------------+------------------------+-------------------------+------------------------------------------+------------------------------------------+----------------+----------------+-----------------+---------------------------+------------------+------------------+------------+-------------------------------------+----------------------+-----------------------+------------------+--------------------------------------------------------------+-----------------+----------------------------+----------------------------------------+-----------------------------------+---------------------+-----------------------+------------------+-----------+-----+-----------------+--------------------+--------------------+----------+\n",
      "|              23|       70|       50021|Dec 13- 2020 20:5...|          6.9E-5|                    6.9E-5|   1.607885727E9|         194.717399|                         0|                          1|                 5180|             24.0|                  -196|             56| 3.5078959232E10|                1-0-0|      0x00000000|            719220845|                  0|          596|               NA|               NA|        NA|                   NA|                    NA|     NA|0x00000000|           0|            0|               0|                0|             0|           1|            0|             12|                    0|                0|                          0|                           0|                     0|                 0.0|0c:9d:92:54:fe:34|                 28|                  0|                   0|                0|     NA|     0.0|       NA|     NA|       0|             NA|                36|                24.0|   3.5078959232E10|                5180|                  -59|     3.5078959204E10|             5|     3.5078959232E10|                       0.0|                         0.0|                         NA|                            0.0|                                    0.0|                          NA|                 0.0|                        0.0|      0.0|       0.0| NA| NA|        0.0|            NA|        0.0|           0.0|       0.0|            NA|                NA|            NA|                NA|    NA|       0|    NA|     0|         0|       NA|       0|                         0.0|              0|      0|          0|           0|                 0|                          0|                        0|                     0|          NA|                  0|            0|          0|            0|            0|             0|              0|             0|         NA|      0|          0|          0|           0.0|              0.0|          0|          0|         0|         NA|              0.0|           0.0|  NA|                    NA|       NA|        0.0|  NA|                       0.0|                    0.0|                     0.0|             0.0|               0.0|                0.0|               0.0|    0.0|          0.0|                  NA|         0.0|    0.0|       NA|             NA|              NA|      NA|              NA|         NA|      NA|           NA|             NA|       NA|         NA|      NA|                 NA|              NA|        NA|                NA|      NA|                0|  NA|                            NA|         NA|                 0.0|              NA|     NA|            NA|           NA|            NA|                           NA|                        NA|                NA|                                  NA|  NA| NA|   NA|               0|                0|                0|               0|                0|                     NA|                    NA|              NA|                NA|    NA|                 NA|          NA|               0|          NA|           NA|          NA|            NA|                     0|                      0|     0.0|  NA|             NA|                0.0|               NA|       NA|            NA|       NA|                NA|           NA|                  NA|                   NA|                   NA|               NA|                 NA|                   NA|                    NA|                              NA|                  NA|            0.0|               0.0|                     NA|                NA|                  NA|                   NA|                   NA|              NA|          NA|      0.0|         NA|               NA|      NA|        NA|                                                 0|                                                 0|            0|             0|             0|               0|                                                0|                                                0|                  0|                       0|                        0|                                         0|                                         0|              NA|              NA|                0|                         NA|                 0|                 0|          NA|                                    0|                     0|                      0|                NA|                                                           0.0|               NA|                          NA|                                      NA|                                  0|                   NA|                      0|                NA|     Normal|    0|            [0.0]|[49.9999794654993...|[0.99999958930998...|       0.0|\n",
      "+----------------+---------+------------+--------------------+----------------+--------------------------+----------------+-------------------+--------------------------+---------------------------+---------------------+-----------------+----------------------+---------------+----------------+---------------------+----------------+---------------------+-------------------+-------------+-----------------+-----------------+----------+---------------------+----------------------+-------+----------+------------+-------------+----------------+-----------------+--------------+------------+-------------+---------------+---------------------+-----------------+---------------------------+----------------------------+----------------------+--------------------+-----------------+-------------------+-------------------+--------------------+-----------------+-------+--------+---------+-------+--------+---------------+------------------+--------------------+------------------+--------------------+---------------------+--------------------+--------------+--------------------+--------------------------+----------------------------+---------------------------+-------------------------------+---------------------------------------+----------------------------+--------------------+---------------------------+---------+----------+---+---+-----------+--------------+-----------+--------------+----------+--------------+------------------+--------------+------------------+------+--------+------+------+----------+---------+--------+----------------------------+---------------+-------+-----------+------------+------------------+---------------------------+-------------------------+----------------------+------------+-------------------+-------------+-----------+-------------+-------------+--------------+---------------+--------------+-----------+-------+-----------+-----------+--------------+-----------------+-----------+-----------+----------+-----------+-----------------+--------------+----+----------------------+---------+-----------+----+--------------------------+-----------------------+------------------------+----------------+------------------+-------------------+------------------+-------+-------------+--------------------+------------+-------+---------+---------------+----------------+--------+----------------+-----------+--------+-------------+---------------+---------+-----------+--------+-------------------+----------------+----------+------------------+--------+-----------------+----+------------------------------+-----------+--------------------+----------------+-------+--------------+-------------+--------------+-----------------------------+--------------------------+------------------+------------------------------------+----+---+-----+----------------+-----------------+-----------------+----------------+-----------------+-----------------------+----------------------+----------------+------------------+------+-------------------+------------+----------------+------------+-------------+------------+--------------+----------------------+-----------------------+--------+----+---------------+-------------------+-----------------+---------+--------------+---------+------------------+-------------+--------------------+---------------------+---------------------+-----------------+-------------------+---------------------+----------------------+--------------------------------+--------------------+---------------+------------------+-----------------------+------------------+--------------------+---------------------+---------------------+----------------+------------+---------+-----------+-----------------+--------+----------+--------------------------------------------------+--------------------------------------------------+-------------+--------------+--------------+----------------+-------------------------------------------------+-------------------------------------------------+-------------------+------------------------+-------------------------+------------------------------------------+------------------------------------------+----------------+----------------+-----------------+---------------------------+------------------+------------------+------------+-------------------------------------+----------------------+-----------------------+------------------+--------------------------------------------------------------+-----------------+----------------------------+----------------------------------------+-----------------------------------+---------------------+-----------------------+------------------+-----------+-----+-----------------+--------------------+--------------------+----------+\n",
      "only showing top 1 row\n",
      "\n"
     ]
    }
   ],
   "source": [
    "pred.show(1)"
   ]
  },
  {
   "cell_type": "code",
   "execution_count": 24,
   "id": "8d3f0f18-cf7f-45c6-a348-eb507cfa5d1d",
   "metadata": {},
   "outputs": [
    {
     "data": {
      "text/html": [
       "<div>\n",
       "<style scoped>\n",
       "    .dataframe tbody tr th:only-of-type {\n",
       "        vertical-align: middle;\n",
       "    }\n",
       "\n",
       "    .dataframe tbody tr th {\n",
       "        vertical-align: top;\n",
       "    }\n",
       "\n",
       "    .dataframe thead th {\n",
       "        text-align: right;\n",
       "    }\n",
       "</style>\n",
       "<table border=\"1\" class=\"dataframe\">\n",
       "  <thead>\n",
       "    <tr style=\"text-align: right;\">\n",
       "      <th></th>\n",
       "      <th>label</th>\n",
       "      <th>prediction</th>\n",
       "      <th>probability</th>\n",
       "    </tr>\n",
       "  </thead>\n",
       "  <tbody>\n",
       "    <tr>\n",
       "      <th>0</th>\n",
       "      <td>0</td>\n",
       "      <td>0.0</td>\n",
       "      <td>[0.9999995893099869, 4.1069001309306327e-07]</td>\n",
       "    </tr>\n",
       "    <tr>\n",
       "      <th>1</th>\n",
       "      <td>0</td>\n",
       "      <td>0.0</td>\n",
       "      <td>[0.9999995893099869, 4.1069001309306327e-07]</td>\n",
       "    </tr>\n",
       "    <tr>\n",
       "      <th>2</th>\n",
       "      <td>0</td>\n",
       "      <td>0.0</td>\n",
       "      <td>[0.9999995893099869, 4.1069001309306327e-07]</td>\n",
       "    </tr>\n",
       "    <tr>\n",
       "      <th>3</th>\n",
       "      <td>0</td>\n",
       "      <td>0.0</td>\n",
       "      <td>[0.9999995893099869, 4.1069001309306327e-07]</td>\n",
       "    </tr>\n",
       "    <tr>\n",
       "      <th>4</th>\n",
       "      <td>0</td>\n",
       "      <td>0.0</td>\n",
       "      <td>[0.9999995893099869, 4.1069001309306327e-07]</td>\n",
       "    </tr>\n",
       "  </tbody>\n",
       "</table>\n",
       "</div>"
      ],
      "text/plain": [
       "   label  prediction                                   probability\n",
       "0      0         0.0  [0.9999995893099869, 4.1069001309306327e-07]\n",
       "1      0         0.0  [0.9999995893099869, 4.1069001309306327e-07]\n",
       "2      0         0.0  [0.9999995893099869, 4.1069001309306327e-07]\n",
       "3      0         0.0  [0.9999995893099869, 4.1069001309306327e-07]\n",
       "4      0         0.0  [0.9999995893099869, 4.1069001309306327e-07]"
      ]
     },
     "execution_count": 24,
     "metadata": {},
     "output_type": "execute_result"
    }
   ],
   "source": [
    "pred_pd = pred.select(['label', 'prediction', 'probability']).toPandas()\n",
    "pred_pd.head()\n"
   ]
  },
  {
   "cell_type": "code",
   "execution_count": 25,
   "id": "e76a2f7a-d4a4-45a6-b4d4-512ad8027475",
   "metadata": {},
   "outputs": [],
   "source": [
    "from sklearn.metrics import confusion_matrix\n",
    "\n",
    "confusion_matrix(pred_pd['label'], pred_pd['prediction'])\n",
    "tn, fp, fn, tp = confusion_matrix(pred_pd['label'], pred_pd['prediction']).ravel()"
   ]
  },
  {
   "cell_type": "code",
   "execution_count": 26,
   "id": "2e939b6e-ee57-4c4d-812b-8465791c68fd",
   "metadata": {},
   "outputs": [
    {
     "name": "stdout",
     "output_type": "stream",
     "text": [
      "There are 529735 true negatives\n",
      "There are 1099482 true positives\n",
      "There are 7 false negatives\n",
      "There are 126 false positives\n"
     ]
    }
   ],
   "source": [
    "print(\"There are \"+str(tn)+ \" true negatives\")\n",
    "print(\"There are \"+str(tp)+ \" true positives\")\n",
    "print(\"There are \"+str(fn)+ \" false negatives\")\n",
    "print(\"There are \"+str(fp)+ \" false positives\")"
   ]
  },
  {
   "cell_type": "code",
   "execution_count": 27,
   "id": "789c8631-153f-4b7b-bd22-57f9b16e1735",
   "metadata": {},
   "outputs": [
    {
     "name": "stdout",
     "output_type": "stream",
     "text": [
      "The precision is 0.999885413711068\n",
      "The recall is 0.9999936334060641\n",
      "The fscore is 0.9999395206305134\n",
      "The Matthews correlation coefficient is 0.9998140157683434\n"
     ]
    }
   ],
   "source": [
    "from sklearn.metrics import precision_recall_fscore_support\n",
    "from sklearn.metrics import matthews_corrcoef\n",
    "\n",
    "precision,recall,fscore,support = precision_recall_fscore_support(pred_pd['label'], pred_pd['prediction'], average='binary')\n",
    "matthews_corrcoef = matthews_corrcoef(pred_pd['label'], pred_pd['prediction'])\n",
    "print(\"The precision is \"+str(precision))\n",
    "print(\"The recall is \"+str(recall))\n",
    "print(\"The fscore is \"+str(fscore))\n",
    "print(\"The Matthews correlation coefficient is \"+str(matthews_corrcoef))"
   ]
  },
  {
   "cell_type": "code",
   "execution_count": null,
   "id": "5ae0555b-88c8-4279-ab3b-7d650be88a3f",
   "metadata": {},
   "outputs": [],
   "source": []
  },
  {
   "cell_type": "code",
   "execution_count": null,
   "id": "74ba6b35-e9a4-42c2-8f9a-1865e6f60fbe",
   "metadata": {},
   "outputs": [],
   "source": []
  },
  {
   "cell_type": "code",
   "execution_count": null,
   "id": "cd878ccf-6de8-439e-933b-e4f877f1dab1",
   "metadata": {},
   "outputs": [],
   "source": []
  }
 ],
 "metadata": {
  "kernelspec": {
   "display_name": "Python 3 (ipykernel)",
   "language": "python",
   "name": "python3"
  },
  "language_info": {
   "codemirror_mode": {
    "name": "ipython",
    "version": 3
   },
   "file_extension": ".py",
   "mimetype": "text/x-python",
   "name": "python",
   "nbconvert_exporter": "python",
   "pygments_lexer": "ipython3",
   "version": "3.9.12"
  }
 },
 "nbformat": 4,
 "nbformat_minor": 5
}
