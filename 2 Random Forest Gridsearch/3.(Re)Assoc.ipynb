{
 "cells": [
  {
   "cell_type": "code",
   "execution_count": 1,
   "id": "e0a30673-c306-426b-b29c-c7d4b546efff",
   "metadata": {},
   "outputs": [
    {
     "name": "stdout",
     "output_type": "stream",
     "text": [
      "Hello World\n"
     ]
    }
   ],
   "source": [
    "print(\"Hello World\")"
   ]
  },
  {
   "cell_type": "code",
   "execution_count": 2,
   "id": "1ca80d56-7e03-42be-ae46-f2727a41eba3",
   "metadata": {},
   "outputs": [],
   "source": [
    "readFile=\"Data/parquet/3.(Re)Assoc\""
   ]
  },
  {
   "cell_type": "code",
   "execution_count": 3,
   "id": "568f24af-506e-49ee-b2d0-463093f550b2",
   "metadata": {},
   "outputs": [],
   "source": [
    "from pyspark.sql import SparkSession\n",
    "import seaborn as sns\n",
    "import matplotlib.pyplot as plt \n",
    "from pyspark.sql.functions import col"
   ]
  },
  {
   "cell_type": "code",
   "execution_count": 4,
   "id": "20e74d5e-ef53-4f92-b285-3919dc3bc776",
   "metadata": {},
   "outputs": [],
   "source": [
    "spark = SparkSession.builder \\\n",
    "    .master(\"local\") \\\n",
    "    .appName(\"WiFi\") \\\n",
    "    .config(\"spark.driver.memory\", \"4g\")\\\n",
    "    .getOrCreate()"
   ]
  },
  {
   "cell_type": "code",
   "execution_count": 5,
   "id": "814ba7fe-44ad-49a1-b7c3-f31d5959582a",
   "metadata": {},
   "outputs": [],
   "source": [
    "df = spark.read.parquet(readFile)"
   ]
  },
  {
   "cell_type": "code",
   "execution_count": 6,
   "id": "98ff64c6-ac13-48d2-aa1b-f5ecf5c13edd",
   "metadata": {},
   "outputs": [
    {
     "data": {
      "text/plain": [
       "1843938"
      ]
     },
     "execution_count": 6,
     "metadata": {},
     "output_type": "execute_result"
    }
   ],
   "source": [
    "df.count()"
   ]
  },
  {
   "cell_type": "markdown",
   "id": "d709200e-d7cb-4250-955a-de345d7f8d0d",
   "metadata": {},
   "source": [
    "https://docs.microsoft.com/en-us/azure/databricks/_static/notebooks/getting-started/get-started-with-mllib-dbr7.html as a guide"
   ]
  },
  {
   "cell_type": "code",
   "execution_count": 7,
   "id": "80e19669-eced-4040-a0a6-6e10ec1c89ed",
   "metadata": {},
   "outputs": [],
   "source": [
    "from pyspark.ml.feature import StringIndexer, OneHotEncoder"
   ]
  },
  {
   "cell_type": "code",
   "execution_count": 8,
   "id": "081dcc35-ad79-44eb-be23-dd6bd11fc47b",
   "metadata": {},
   "outputs": [],
   "source": [
    "categoricalCols = [\n",
    "    #\"frame_time\",\n",
    "    \"radiotap_present_tsft\",\n",
    "    \"radiotap_rxflags\",\n",
    "    \"wlan_analysis_kck\",\n",
    "    \"wlan_analysis_kek\",\n",
    "    \"wlan_bssid\",\n",
    "    \"wlan_country_info_fnm\",\n",
    "    \"wlan_country_info_code\",\n",
    "    \"wlan_da\",\n",
    "    \"wlan_fc_ds\",\n",
    "    \"wlan_ra\",\n",
    "    \"wlan_sa\",\n",
    "    \"wlan_ssid\",\n",
    "    \"wlan_ta\",\n",
    "    \"wlan_tag_length\",\n",
    "    \"wlan_rsna_eapol_keydes_data\",\n",
    "    \"wlan_rsna_eapol_keydes_nonce\",\n",
    "    \"llc\",\n",
    "    \"arp\",\n",
    "    \"arp_proto_type\",\n",
    "    \"arp_src_hw_mac\",\n",
    "    \"arp_src_proto_ipv4\",\n",
    "    \"arp_dst_hw_mac\",\n",
    "    \"arp_dst_proto_ipv4\",\n",
    "    \"ip_dst\",\n",
    "    \"ip_src\",\n",
    "    \"data_data\",\n",
    "    \"tcp_checksum\",\n",
    "    #\"tcp_payload\",\n",
    "    #\"udp_payload\",\n",
    "    \"nbns\",\n",
    "    \"nbss_continuation_data\",\n",
    "    \"nbss_type\",\n",
    "    \"ldap\",\n",
    "    \"smb_server_component\",\n",
    "    \"smb2_acct\",\n",
    "    \"smb2_auth_frame\",\n",
    "    \"smb2_buffer_code\",\n",
    "    \"smb2_cmd\",\n",
    "    \"smb2_data_offset\",\n",
    "    \"smb2_domain\",\n",
    "    \"smb2_fid\",\n",
    "    \"smb2_filename\",\n",
    "    \"smb2_header_len\",\n",
    "    \"smb2_host\",\n",
    "    \"smb2_msg_id\",\n",
    "    \"smb2_pid\",\n",
    "    \"smb2_previous_sesid\",\n",
    "    \"smb2_protocol_id\",\n",
    "    \"smb2_sesid\",\n",
    "    \"smb2_session_flags\",\n",
    "    \"smb2_tid\",\n",
    "    \"dhcp\",\n",
    "    \"dhcp_client_id_duid_ll_hw_type\",\n",
    "    \"dhcp_cookie\",\n",
    "    \"dhcp_hw_mac_addr\",\n",
    "    \"dhcp_id\",\n",
    "    \"dhcp_ip_client\",\n",
    "    \"dhcp_ip_relay\",\n",
    "    \"dhcp_ip_server\",\n",
    "    \"dhcp_option_broadcast_address\",\n",
    "    \"dhcp_option_dhcp_server_id\",\n",
    "    \"dhcp_option_router\",\n",
    "    \"dhcp_option_vendor_bsdp_message_type\",\n",
    "    \"mdns\",\n",
    "    \"dns\",\n",
    "    \"dns_a\",\n",
    "    \"dns_flags_authoritative\",\n",
    "    \"dns_flags_checkdisable\",\n",
    "    \"dns_flags_opcode\",\n",
    "    \"dns_flags_response\",\n",
    "    \"dns_id\",\n",
    "    \"dns_ptr_domain_name\",\n",
    "    \"dns_qry_name\",\n",
    "    \"dns_resp_len\",\n",
    "    \"dns_resp_name\",\n",
    "    \"dns_resp_ttl\",\n",
    "    \"dns_resp_len_1\",\n",
    "    \"ssdp\",\n",
    "    \"http_connection\",\n",
    "    \"http_content_type\",\n",
    "    \"http_date\",\n",
    "    \"http_file_data\",\n",
    "    \"http_host\",\n",
    "    \"http_last_modified\",\n",
    "    \"http_location\",\n",
    "    \"http_next_request_in\",\n",
    "    \"http_next_response_in\",\n",
    "    \"http_request_full_uri\",\n",
    "    \"http_request_line\",\n",
    "    \"http_request_method\",\n",
    "    \"http_request_uri_path\",\n",
    "    \"http_request_uri_query\",\n",
    "    \"http_request_uri_query_parameter\",\n",
    "    \"http_request_version\",\n",
    "    \"http_response_code_desc\",\n",
    "    \"http_response_line\",\n",
    "    \"http_response_phrase\",\n",
    "    \"http_response_version\",\n",
    "    \"http_response_for_uri\",\n",
    "    \"http_response_in\",\n",
    "    \"http_referer\",\n",
    "    \"http_server\",\n",
    "    \"json_value_string\",\n",
    "    \"json_key\",\n",
    "    \"ssh_cookie\",\n",
    "    \"ssh_message_code\",\n",
    "    \"ssh_mpint_length\",\n",
    "    #\"ssh_packet_length_encrypted\",\n",
    "    \"ssh_protocol\",\n",
    "    \"tls_app_data_proto\",\n",
    "    \"tls_connection_id\",\n",
    "    \"tls_handshake_extension_type\",\n",
    "    \"tls_handshake_extensions_key_share_group\",\n",
    "    \"tls_handshake_version\",\n",
    "    \"tls_record_version\" \n",
    "]\n"
   ]
  },
  {
   "cell_type": "code",
   "execution_count": 9,
   "id": "05a660a4-eec4-4c97-901f-b31fa7464b19",
   "metadata": {},
   "outputs": [],
   "source": [
    "# The following two lines are estimators. They return functions that we will later apply to transform the dataset.\n",
    "stringIndexer = StringIndexer(inputCols=categoricalCols, outputCols=[x + \"index\" for x in categoricalCols]).setHandleInvalid(\"keep\") \n",
    "encoder = OneHotEncoder(inputCols=stringIndexer.getOutputCols(), outputCols=[x + \"OHE\" for x in categoricalCols]) "
   ]
  },
  {
   "cell_type": "code",
   "execution_count": 10,
   "id": "b5d9a30f-9e7b-408c-a560-b5b131ac332b",
   "metadata": {},
   "outputs": [],
   "source": [
    "numericCols=[\n",
    "    \"frame_time_delta\",\n",
    "    \"frame_time_delta_displayed\",\n",
    "    \"frame_time_epoch\",\n",
    "    \"frame_time_relative\",\n",
    "    \"radiotap_datarate\",\n",
    "    \"radiotap_mactime\",\n",
    "    \"wlan_fixed_timestamp\",\n",
    "    \"wlan_seq\",\n",
    "    \"wlan_radio_data_rate\",\n",
    "    \"wlan_radio_end_tsf\",\n",
    "    \"wlan_radio_start_tsf\",\n",
    "    \"wlan_radio_timestamp\",\n",
    "    \"wlan_rsn_capabilities_mfpc\",\n",
    "    \"wlan_rsna_eapol_keydes_msgnr\",\n",
    "    \"wlan_rsna_eapol_keydes_data_len\",\n",
    "    \"wlan_rsna_eapol_keydes_key_info_key_mic\",\n",
    "    \"eapol_keydes_key_len\",\n",
    "    \"eapol_keydes_replay_counter\",\n",
    "    \"eapol_len\",\n",
    "    \"eapol_type\",\n",
    "    \"arp_hw_type\",\n",
    "    \"arp_hw_size\",\n",
    "    \"arp_proto_size\",\n",
    "    \"arp_opcode\",\n",
    "    \"icmpv6_mldr_nb_mcast_records\",\n",
    "    \"tcp_time_delta\",\n",
    "    \"tcp_time_relative\",\n",
    "    \"udp_time_relative\",\n",
    "    \"udp_time_delta\",\n",
    "    \"nbss_length\",\n",
    "    \"smb_access_generic_execute\",\n",
    "    \"smb_access_generic_read\",\n",
    "    \"smb_access_generic_write\",\n",
    "    \"smb_flags_notify\",\n",
    "    \"smb_flags_response\",\n",
    "    \"smb_flags2_nt_error\",\n",
    "    \"smb_flags2_sec_sig\",\n",
    "    \"smb_mid\",\n",
    "    \"smb_nt_status\",\n",
    "    \"smb_pid_high\",\n",
    "    \"smb_tid\",\n",
    "    \"dhcp_hw_addr_padding\",\n",
    "    \"dns_time\",\n",
    "    \"http_content_length\",\n",
    "    \"http_request_in\",\n",
    "    \"http_response_code\",\n",
    "    \"http_time\",\n",
    "    \"tls_compress_certificate_compressed_certificate_message_length\",\n",
    "    \"frame_encap_type\",\n",
    "    #\"frame_len\",\n",
    "    #\"frame_number\",\n",
    "    \"radiotap_channel_flags_cck\",\n",
    "    \"radiotap_channel_flags_ofdm\",\n",
    "    \"radiotap_channel_freq\",\n",
    "    \"radiotap_dbm_antsignal\",\n",
    "    \"radiotap_length\",\n",
    "    \"radiotap_vendor_oui\",\n",
    "    \"wlan_duration\",\n",
    "    \"wlan_fc_frag\",\n",
    "    \"wlan_fc_order\",\n",
    "    \"wlan_fc_moredata\",\n",
    "    \"wlan_fc_protected\",\n",
    "    \"wlan_fc_pwrmgt\",\n",
    "    \"wlan_fc_type\",\n",
    "    \"wlan_fc_retry\",\n",
    "    \"wlan_fc_subtype\",\n",
    "    \"wlan_fcs_bad_checksum\",\n",
    "    \"wlan_fixed_beacon\",\n",
    "    \"wlan_fixed_capabilities_ess\",\n",
    "    \"wlan_fixed_capabilities_ibss\",\n",
    "    \"wlan_fixed_reason_code\",\n",
    "    \"wlan_radio_duration\",\n",
    "    \"wlan_rsn_ie_gtk_key\",\n",
    "    \"wlan_rsn_ie_igtk_key\",\n",
    "    \"wlan_rsn_ie_pmkid\",\n",
    "    \"wlan_tag\",\n",
    "    \"wlan_radio_channel\",\n",
    "    \"wlan_radio_frequency\",\n",
    "    \"wlan_radio_signal_dbm\",\n",
    "    \"wlan_radio_phy\",\n",
    "    \"ip_proto\",\n",
    "    \"ip_ttl\",\n",
    "    \"ip_version\",\n",
    "    \"data_len\",\n",
    "    \"icmpv6_ni_nonce\",\n",
    "    \"tcp_ack\",\n",
    "    \"tcp_ack_raw\",\n",
    "    \"tcp_analysis\",\n",
    "    \"tcp_analysis_flags\",\n",
    "    \"tcp_analysis_retransmission\",\n",
    "    \"tcp_analysis_reused_ports\",\n",
    "    \"tcp_analysis_rto_frame\",\n",
    "    \"tcp_checksum_status\",\n",
    "    \"tcp_flags_syn\",\n",
    "    \"tcp_dstport\",\n",
    "    \"tcp_flags_ack\",\n",
    "    \"tcp_flags_fin\",\n",
    "    \"tcp_flags_push\",\n",
    "    \"tcp_flags_reset\",\n",
    "    \"tcp_option_len\",\n",
    "    \"tcp_seq\",\n",
    "    \"tcp_seq_raw\",\n",
    "    \"tcp_srcport\",\n",
    "    \"udp_dstport\",\n",
    "    \"udp_srcport\",\n",
    "    \"udp_length\",\n",
    "    \"smb2_write_length\",\n",
    "    \"dns_count_add_rr\",\n",
    "    \"dns_count_answers\",\n",
    "    \"dns_count_auth_rr\",\n",
    "    \"dns_count_labels\",\n",
    "    \"dns_count_queries\",\n",
    "    \"dns_qry_name_len\",\n",
    "    \"dns_retransmit_request\",\n",
    "    \"dns_retransmit_response\",\n",
    "    \"ssh_compression_algorithms_client_to_server_length\",\n",
    "    \"ssh_compression_algorithms_server_to_client_length\",\n",
    "    \"ssh_direction\",\n",
    "    \"ssh_dh_gex_max\",\n",
    "    \"ssh_dh_gex_min\",\n",
    "    \"ssh_dh_gex_nbits\",\n",
    "    \"ssh_encryption_algorithms_client_to_server_length\",\n",
    "    \"ssh_encryption_algorithms_server_to_client_length\",\n",
    "    \"ssh_host_key_length\",\n",
    "    \"ssh_host_key_type_length\",\n",
    "    \"ssh_kex_algorithms_length\",\n",
    "    \"ssh_mac_algorithms_client_to_server_length\",\n",
    "    \"ssh_mac_algorithms_server_to_client_length\",\n",
    "    \"ssh_packet_length\",\n",
    "    \"ssh_padding_length\",\n",
    "    \"ssh_padding_string\",\n",
    "    \"ssh_server_host_key_algorithms_length\",\n",
    "    \"tls_alert_message_desc\",\n",
    "    \"tls_alert_message_level\",\n",
    "    \"tls_handshake_session_ticket_length\",\n",
    "    \"tls_record_content_type\",\n",
    "    \"radiotap_timestamp_ts\"\n",
    "]"
   ]
  },
  {
   "cell_type": "code",
   "execution_count": 11,
   "id": "4699f280-fdd8-4904-9c44-b8103b1f9284",
   "metadata": {},
   "outputs": [],
   "source": [
    "from pyspark.ml.feature import VectorAssembler\n",
    " \n",
    "# This includes both the numeric columns and the one-hot encoded binary vector columns in our dataset.\n",
    "assemblerInputs = [c + \"OHE\" for c in categoricalCols] + numericCols\n",
    "vecAssembler = VectorAssembler(inputCols=assemblerInputs, outputCol=\"features\")"
   ]
  },
  {
   "cell_type": "code",
   "execution_count": 12,
   "id": "a4c188f9-b85a-48c1-bf31-aadf34f53821",
   "metadata": {},
   "outputs": [],
   "source": [
    "from pyspark.ml.classification import RandomForestClassifier\n",
    "from pyspark.ml import Pipeline"
   ]
  },
  {
   "cell_type": "code",
   "execution_count": 98,
   "id": "1543c0d9-c35d-45a0-ba31-2964ea945516",
   "metadata": {},
   "outputs": [
    {
     "name": "stdout",
     "output_type": "stream",
     "text": [
      "We will use 18486  events for the grid search.\n"
     ]
    }
   ],
   "source": [
    "subSample = df.sample(fraction=1.0/100, withReplacement=False)\n",
    "print('We will use',subSample.count(),' events for the grid search.')"
   ]
  },
  {
   "cell_type": "code",
   "execution_count": 99,
   "id": "e8e52697-0407-4cb3-b942-0eb8577a6a9d",
   "metadata": {},
   "outputs": [
    {
     "name": "stdout",
     "output_type": "stream",
     "text": [
      "+-----+-----+\n",
      "|label|count|\n",
      "+-----+-----+\n",
      "|    1|   55|\n",
      "|    0|18431|\n",
      "+-----+-----+\n",
      "\n"
     ]
    }
   ],
   "source": [
    "subSample.groupBy('label').count().show()"
   ]
  },
  {
   "cell_type": "code",
   "execution_count": 100,
   "id": "c2703cb4-b1a9-4da1-aed8-e1d33109b6b8",
   "metadata": {},
   "outputs": [],
   "source": [
    "from pyspark.ml.tuning import ParamGridBuilder, CrossValidator\n",
    "from pyspark.ml.evaluation import BinaryClassificationEvaluator\n",
    "from pyspark.ml.classification import RandomForestClassifier\n",
    "\n",
    "rf = RandomForestClassifier(labelCol='label', featuresCol='features', \n",
    "                            maxBins=20, subsamplingRate=0.7,\n",
    "                            minInfoGain= 1e-05,\n",
    "                            featureSubsetStrategy='all',\n",
    "                            minInstancesPerNode=2)\n",
    "\n",
    "evaluator=BinaryClassificationEvaluator(metricName='areaUnderPR')\n",
    "rf_pipe = Pipeline(stages=[stringIndexer, encoder, vecAssembler,rf])\n",
    "\n",
    "\n",
    "\n",
    "\n",
    "\n",
    "paramGrid = ParamGridBuilder()\\\n",
    "  .addGrid(rf.maxDepth, [10,20])\\\n",
    "  .addGrid(rf.numTrees, [50])\\\n",
    "  .build()\n",
    "\n",
    "cv = CrossValidator(estimator=rf_pipe, \n",
    "                    evaluator=evaluator,\n",
    "                    estimatorParamMaps=paramGrid,\n",
    "                    numFolds=2, parallelism=2)"
   ]
  },
  {
   "cell_type": "code",
   "execution_count": 101,
   "id": "c6414d94-af2e-454e-8682-b09486c2c453",
   "metadata": {},
   "outputs": [],
   "source": [
    "\n",
    "bestModel = cv.fit(subSample)\n",
    " "
   ]
  },
  {
   "cell_type": "code",
   "execution_count": 102,
   "id": "c1413a66-ea2d-418e-9928-4c7173f3d6e0",
   "metadata": {},
   "outputs": [
    {
     "name": "stdout",
     "output_type": "stream",
     "text": [
      "BestModel:\n",
      "\t-maxDepth = 10\n",
      "\t-Feature Importance = (8450,[199,201,892],[0.8714300106372757,0.12397987437851875,0.00459011498420559])\n"
     ]
    }
   ],
   "source": [
    "print('BestModel:\\n\\t-maxDepth =',bestModel.bestModel.stages[-1]._java_obj.getMaxDepth())\n",
    "print('\\t-Feature Importance =',bestModel.bestModel.stages[-1]._java_obj.featureImportances())"
   ]
  },
  {
   "cell_type": "raw",
   "id": "35e100df-e7b7-4504-b31d-076eaa09a21c",
   "metadata": {},
   "source": [
    "We need to use the model as the encoding changes the index to extract the feature names and assess the model. This page was essential in working this out https://stackoverflow.com/questions/50937591/pyspark-random-forest-feature-importance-mapping-after-column-transformations/50957255#50957255"
   ]
  },
  {
   "cell_type": "code",
   "execution_count": 103,
   "id": "fb444d4e-de2c-479c-8973-12b01a0e315f",
   "metadata": {},
   "outputs": [],
   "source": [
    "transformedBestModel=bestModel.transform(subSample)"
   ]
  },
  {
   "cell_type": "code",
   "execution_count": 104,
   "id": "b382b579-f2ce-41be-8357-0afce10f74ad",
   "metadata": {},
   "outputs": [],
   "source": [
    "import pandas as pd\n",
    "\n",
    "p = pd.DataFrame(transformedBestModel.schema[\"features\"].metadata[\"ml_attr\"][\"attrs\"][\"binary\"]+transformedBestModel.schema[\"features\"].metadata[\"ml_attr\"][\"attrs\"][\"numeric\"]).sort_values(\"idx\")"
   ]
  },
  {
   "cell_type": "code",
   "execution_count": 105,
   "id": "c7b93ad6-1d4b-4cf7-ab21-5a1fb177ef82",
   "metadata": {},
   "outputs": [
    {
     "data": {
      "text/plain": [
       "0            radiotap_present_tsftOHE_1-0-0\n",
       "1            radiotap_present_tsftOHE_0-0-0\n",
       "2            radiotap_rxflagsOHE_0x00000000\n",
       "3                   wlan_analysis_kckOHE_NA\n",
       "4                   wlan_analysis_kekOHE_NA\n",
       "                       ...                 \n",
       "8445                 tls_alert_message_desc\n",
       "8446                tls_alert_message_level\n",
       "8447    tls_handshake_session_ticket_length\n",
       "8448                tls_record_content_type\n",
       "8449                  radiotap_timestamp_ts\n",
       "Name: name, Length: 8450, dtype: object"
      ]
     },
     "execution_count": 105,
     "metadata": {},
     "output_type": "execute_result"
    }
   ],
   "source": [
    "p.name"
   ]
  },
  {
   "cell_type": "code",
   "execution_count": 106,
   "id": "2ed13f7f-871c-4a8e-a5c3-92926320902a",
   "metadata": {},
   "outputs": [],
   "source": [
    "\n",
    "from itertools import chain\n",
    "attrs = sorted(\n",
    "    (attr[\"idx\"], attr[\"name\"])\n",
    "    for attr in (\n",
    "        chain(*transformedBestModel.schema[\"features\"].metadata[\"ml_attr\"][\"attrs\"].values())\n",
    "    )\n",
    ") "
   ]
  },
  {
   "cell_type": "code",
   "execution_count": 107,
   "id": "44c4c302-e780-4697-b518-937de740ca6b",
   "metadata": {},
   "outputs": [
    {
     "data": {
      "text/plain": [
       "[('wlan_tag_lengthOHE_4', 0.8714300106372757),\n",
       " ('wlan_tag_lengthOHE_177-24', 0.12397987437851875),\n",
       " ('data_dataOHE_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-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-93fbe4280727271ababafe2e81e556b19e4e67ba9ee6e6da81a3ad7caf107f0d08bab735731fed5ff0ede6dedee8eb35983706e8a212ec311396b24a030a7e9277e720a8b31079cc04aae42b8f92fce39f48ac97ca716e892bc5be9983a1e2d71fc45f8303e2c40fc73c9d16fff1e39fd700df6f56fff6a10290c03811617a99378e2ec88d0244178ccb0df994f129511b668319b995292bdfc15cdd8b966c3f657e4c6290b796d7da3d590c578e94ff401c3dc99fa51822d45a3f4e03761a98d3006c445986fa8104630ea40908d5daf9fedb6f4fd119918c587b12ed8a7731982339afd4ffe17e0446651160f6e64d1e36e24b99fb37eaae6b430226ac72ae42f9beb1145bb1764a2e2f3f657d4bd637c124d3dd2b639fb085891adf2dd3111d65f23bf8faed29a518d5da2896bd51dcd52084d4d596199f30b5bdee270a42d3c19dc9b0f026c2a995682fdd6b32816a531cfb415fa90f3bd150d692726fefd46f376bd3bf37ee0635ff892ae1d63c4a24b8ba3fc57eff88291038fc14a436220ea1cd8d888649552ca9fa24558dc086c853c3df09f70457cee59cbf3b1712bd5298a1e13128c507a5841b14587813ff72d2dfa',\n",
       "  0.00459011498420559)]"
      ]
     },
     "execution_count": 107,
     "metadata": {},
     "output_type": "execute_result"
    }
   ],
   "source": [
    "[\n",
    "    (name,  bestModel.bestModel.stages[-1].featureImportances[idx])\n",
    "    for idx, name in attrs\n",
    "    if bestModel.bestModel.stages[-1].featureImportances[idx]\n",
    "]"
   ]
  },
  {
   "cell_type": "code",
   "execution_count": 108,
   "id": "251425d2-b8ce-4d55-ae2e-977d3f7e8add",
   "metadata": {},
   "outputs": [
    {
     "data": {
      "text/plain": [
       "8450"
      ]
     },
     "execution_count": 108,
     "metadata": {},
     "output_type": "execute_result"
    }
   ],
   "source": [
    "len(bestModel.bestModel.stages[-1].featureImportances)"
   ]
  },
  {
   "cell_type": "markdown",
   "id": "c1a448e1-e862-4ec7-83fe-3a7108e33290",
   "metadata": {},
   "source": [
    "The test on the subsample tells us which are important dimensions that we can then use for out model. The lengh output shows that even with the subsample the one hot encoder makes adds an order of magnitude of dimensions"
   ]
  },
  {
   "cell_type": "code",
   "execution_count": 13,
   "id": "d7bc9251-2da6-4d87-a9a2-a319d1290f03",
   "metadata": {},
   "outputs": [],
   "source": [
    "train, test = df.randomSplit([0.8,0.2])"
   ]
  },
  {
   "cell_type": "code",
   "execution_count": 14,
   "id": "3002ad02-183f-4dcd-89f7-ca012417140c",
   "metadata": {},
   "outputs": [
    {
     "name": "stdout",
     "output_type": "stream",
     "text": [
      "Events for the training 1475068\n",
      "Events for the validation 368870\n"
     ]
    }
   ],
   "source": [
    "print('Events for the training {}'.format(train.count()))\n",
    "print('Events for the validation {}'.format(test.count()))"
   ]
  },
  {
   "cell_type": "code",
   "execution_count": 15,
   "id": "ea96cfd2-da22-40ea-b5de-001477c13eaf",
   "metadata": {},
   "outputs": [],
   "source": [
    "importantNumerical=[\n",
    "\n",
    "]"
   ]
  },
  {
   "cell_type": "code",
   "execution_count": 16,
   "id": "42d98025-120b-463a-a00b-bbe535438b0a",
   "metadata": {},
   "outputs": [],
   "source": [
    "importantCategorical=[\n",
    "    'wlan_tag_length'\n",
    "\n",
    "]"
   ]
  },
  {
   "cell_type": "code",
   "execution_count": 17,
   "id": "849fb6b6-caa4-4aff-9d29-06d32493d783",
   "metadata": {},
   "outputs": [],
   "source": [
    "ImportantstringIndexer = StringIndexer(inputCols=importantCategorical, outputCols=[x + \"index\" for x in importantCategorical]).setHandleInvalid(\"keep\") \n",
    "Importantencoder = OneHotEncoder(inputCols=ImportantstringIndexer.getOutputCols(), outputCols=[x + \"OHE\" for x in importantCategorical]) "
   ]
  },
  {
   "cell_type": "code",
   "execution_count": 18,
   "id": "ed08fb80-cef9-4008-86aa-fd2168ab1d53",
   "metadata": {},
   "outputs": [],
   "source": [
    "# This includes both the numeric columns and the one-hot encoded binary vector columns in our dataset.\n",
    "ImportantAssemblerInputs = [c + \"OHE\" for c in importantCategorical] + importantNumerical\n",
    "ImportantvecAssembler = VectorAssembler(inputCols=ImportantAssemblerInputs, outputCol=\"importantfeatures\")"
   ]
  },
  {
   "cell_type": "code",
   "execution_count": 19,
   "id": "df185548-6ee8-4701-9498-76aadd213bbe",
   "metadata": {},
   "outputs": [],
   "source": [
    "\n",
    "\n",
    "rf = RandomForestClassifier(labelCol='label', featuresCol='importantfeatures', numTrees=50)"
   ]
  },
  {
   "cell_type": "code",
   "execution_count": 20,
   "id": "6985d897-9508-4003-9175-515798bb965b",
   "metadata": {},
   "outputs": [],
   "source": [
    "\n",
    " \n",
    "# Define the pipeline based on the stages created in previous steps.\n",
    "pipeline = Pipeline(stages=[ImportantstringIndexer, Importantencoder, ImportantvecAssembler,rf])\n",
    " \n",
    "\n",
    " \n"
   ]
  },
  {
   "cell_type": "code",
   "execution_count": 21,
   "id": "135057f8-7198-4c96-bc8d-c6d3ed73dafd",
   "metadata": {},
   "outputs": [],
   "source": [
    "# Define the pipeline model.\n",
    "pipelineModel = pipeline.fit(train)"
   ]
  },
  {
   "cell_type": "code",
   "execution_count": 22,
   "id": "d9a8ee3c-dded-449b-a2cd-d1683dd1d0d5",
   "metadata": {},
   "outputs": [],
   "source": [
    "# Apply the pipeline model to the test dataset.\n",
    "pred = pipelineModel.transform(test)"
   ]
  },
  {
   "cell_type": "code",
   "execution_count": 23,
   "id": "f8724e5c-af62-44aa-a7f9-117cbe761d39",
   "metadata": {},
   "outputs": [
    {
     "name": "stdout",
     "output_type": "stream",
     "text": [
      "+----------------+---------+------------+--------------------+----------------+--------------------------+----------------+-------------------+--------------------------+---------------------------+---------------------+-----------------+----------------------+---------------+----------------+---------------------+----------------+---------------------+-------------------+-------------+-----------------+-----------------+----------+---------------------+----------------------+-------+----------+------------+-------------+----------------+-----------------+--------------+------------+-------------+---------------+---------------------+-----------------+---------------------------+----------------------------+----------------------+--------------------+-----------------+-------------------+-------------------+--------------------+-----------------+-------+--------+---------+-------+--------+---------------+------------------+--------------------+------------------+--------------------+---------------------+--------------------+--------------+--------------------+--------------------------+----------------------------+---------------------------+-------------------------------+---------------------------------------+----------------------------+--------------------+---------------------------+---------+----------+---+---+-----------+--------------+-----------+--------------+----------+--------------+------------------+--------------+------------------+------+--------+------+------+----------+---------+--------+----------------------------+---------------+-------+-----------+------------+------------------+---------------------------+-------------------------+----------------------+------------+-------------------+-------------+-----------+-------------+-------------+--------------+---------------+--------------+-----------+-------+-----------+-----------+--------------+-----------------+-----------+-----------+----------+-----------+-----------------+--------------+----+----------------------+---------+-----------+----+--------------------------+-----------------------+------------------------+----------------+------------------+-------------------+------------------+-------+-------------+--------------------+------------+-------+---------+---------------+----------------+--------+----------------+-----------+--------+-------------+---------------+---------+-----------+--------+-------------------+----------------+----------+------------------+--------+-----------------+----+------------------------------+-----------+--------------------+----------------+-------+--------------+-------------+--------------+-----------------------------+--------------------------+------------------+------------------------------------+----+---+-----+----------------+-----------------+-----------------+----------------+-----------------+-----------------------+----------------------+----------------+------------------+------+-------------------+------------+----------------+------------+-------------+------------+--------------+----------------------+-----------------------+--------+----+---------------+-------------------+-----------------+---------+--------------+---------+------------------+-------------+--------------------+---------------------+---------------------+-----------------+-------------------+---------------------+----------------------+--------------------------------+--------------------+---------------+------------------+-----------------------+------------------+--------------------+---------------------+---------------------+----------------+------------+---------+-----------+-----------------+--------+----------+--------------------------------------------------+--------------------------------------------------+-------------+--------------+--------------+----------------+-------------------------------------------------+-------------------------------------------------+-------------------+------------------------+-------------------------+------------------------------------------+------------------------------------------+----------------+----------------+-----------------+---------------------------+------------------+------------------+------------+-------------------------------------+----------------------+-----------------------+------------------+--------------------------------------------------------------+-----------------+----------------------------+----------------------------------------+-----------------------------------+---------------------+-----------------------+------------------+-----------+-----+--------------------+------------------+-----------------+--------------------+--------------------+----------+\n",
      "|frame_encap_type|frame_len|frame_number|          frame_time|frame_time_delta|frame_time_delta_displayed|frame_time_epoch|frame_time_relative|radiotap_channel_flags_cck|radiotap_channel_flags_ofdm|radiotap_channel_freq|radiotap_datarate|radiotap_dbm_antsignal|radiotap_length|radiotap_mactime|radiotap_present_tsft|radiotap_rxflags|radiotap_timestamp_ts|radiotap_vendor_oui|wlan_duration|wlan_analysis_kck|wlan_analysis_kek|wlan_bssid|wlan_country_info_fnm|wlan_country_info_code|wlan_da|wlan_fc_ds|wlan_fc_frag|wlan_fc_order|wlan_fc_moredata|wlan_fc_protected|wlan_fc_pwrmgt|wlan_fc_type|wlan_fc_retry|wlan_fc_subtype|wlan_fcs_bad_checksum|wlan_fixed_beacon|wlan_fixed_capabilities_ess|wlan_fixed_capabilities_ibss|wlan_fixed_reason_code|wlan_fixed_timestamp|          wlan_ra|wlan_radio_duration|wlan_rsn_ie_gtk_key|wlan_rsn_ie_igtk_key|wlan_rsn_ie_pmkid|wlan_sa|wlan_seq|wlan_ssid|wlan_ta|wlan_tag|wlan_tag_length|wlan_radio_channel|wlan_radio_data_rate|wlan_radio_end_tsf|wlan_radio_frequency|wlan_radio_signal_dbm|wlan_radio_start_tsf|wlan_radio_phy|wlan_radio_timestamp|wlan_rsn_capabilities_mfpc|wlan_rsna_eapol_keydes_msgnr|wlan_rsna_eapol_keydes_data|wlan_rsna_eapol_keydes_data_len|wlan_rsna_eapol_keydes_key_info_key_mic|wlan_rsna_eapol_keydes_nonce|eapol_keydes_key_len|eapol_keydes_replay_counter|eapol_len|eapol_type|llc|arp|arp_hw_type|arp_proto_type|arp_hw_size|arp_proto_size|arp_opcode|arp_src_hw_mac|arp_src_proto_ipv4|arp_dst_hw_mac|arp_dst_proto_ipv4|ip_dst|ip_proto|ip_src|ip_ttl|ip_version|data_data|data_len|icmpv6_mldr_nb_mcast_records|icmpv6_ni_nonce|tcp_ack|tcp_ack_raw|tcp_analysis|tcp_analysis_flags|tcp_analysis_retransmission|tcp_analysis_reused_ports|tcp_analysis_rto_frame|tcp_checksum|tcp_checksum_status|tcp_flags_syn|tcp_dstport|tcp_flags_ack|tcp_flags_fin|tcp_flags_push|tcp_flags_reset|tcp_option_len|tcp_payload|tcp_seq|tcp_seq_raw|tcp_srcport|tcp_time_delta|tcp_time_relative|udp_dstport|udp_srcport|udp_length|udp_payload|udp_time_relative|udp_time_delta|nbns|nbss_continuation_data|nbss_type|nbss_length|ldap|smb_access_generic_execute|smb_access_generic_read|smb_access_generic_write|smb_flags_notify|smb_flags_response|smb_flags2_nt_error|smb_flags2_sec_sig|smb_mid|smb_nt_status|smb_server_component|smb_pid_high|smb_tid|smb2_acct|smb2_auth_frame|smb2_buffer_code|smb2_cmd|smb2_data_offset|smb2_domain|smb2_fid|smb2_filename|smb2_header_len|smb2_host|smb2_msg_id|smb2_pid|smb2_previous_sesid|smb2_protocol_id|smb2_sesid|smb2_session_flags|smb2_tid|smb2_write_length|dhcp|dhcp_client_id_duid_ll_hw_type|dhcp_cookie|dhcp_hw_addr_padding|dhcp_hw_mac_addr|dhcp_id|dhcp_ip_client|dhcp_ip_relay|dhcp_ip_server|dhcp_option_broadcast_address|dhcp_option_dhcp_server_id|dhcp_option_router|dhcp_option_vendor_bsdp_message_type|mdns|dns|dns_a|dns_count_add_rr|dns_count_answers|dns_count_auth_rr|dns_count_labels|dns_count_queries|dns_flags_authoritative|dns_flags_checkdisable|dns_flags_opcode|dns_flags_response|dns_id|dns_ptr_domain_name|dns_qry_name|dns_qry_name_len|dns_resp_len|dns_resp_name|dns_resp_ttl|dns_resp_len_1|dns_retransmit_request|dns_retransmit_response|dns_time|ssdp|http_connection|http_content_length|http_content_type|http_date|http_file_data|http_host|http_last_modified|http_location|http_next_request_in|http_next_response_in|http_request_full_uri|http_request_line|http_request_method|http_request_uri_path|http_request_uri_query|http_request_uri_query_parameter|http_request_version|http_request_in|http_response_code|http_response_code_desc|http_response_line|http_response_phrase|http_response_version|http_response_for_uri|http_response_in|http_referer|http_time|http_server|json_value_string|json_key|ssh_cookie|ssh_compression_algorithms_client_to_server_length|ssh_compression_algorithms_server_to_client_length|ssh_direction|ssh_dh_gex_max|ssh_dh_gex_min|ssh_dh_gex_nbits|ssh_encryption_algorithms_client_to_server_length|ssh_encryption_algorithms_server_to_client_length|ssh_host_key_length|ssh_host_key_type_length|ssh_kex_algorithms_length|ssh_mac_algorithms_client_to_server_length|ssh_mac_algorithms_server_to_client_length|ssh_message_code|ssh_mpint_length|ssh_packet_length|ssh_packet_length_encrypted|ssh_padding_length|ssh_padding_string|ssh_protocol|ssh_server_host_key_algorithms_length|tls_alert_message_desc|tls_alert_message_level|tls_app_data_proto|tls_compress_certificate_compressed_certificate_message_length|tls_connection_id|tls_handshake_extension_type|tls_handshake_extensions_key_share_group|tls_handshake_session_ticket_length|tls_handshake_version|tls_record_content_type|tls_record_version|StringLabel|label|wlan_tag_lengthindex|wlan_tag_lengthOHE|importantfeatures|       rawPrediction|         probability|prediction|\n",
      "+----------------+---------+------------+--------------------+----------------+--------------------------+----------------+-------------------+--------------------------+---------------------------+---------------------+-----------------+----------------------+---------------+----------------+---------------------+----------------+---------------------+-------------------+-------------+-----------------+-----------------+----------+---------------------+----------------------+-------+----------+------------+-------------+----------------+-----------------+--------------+------------+-------------+---------------+---------------------+-----------------+---------------------------+----------------------------+----------------------+--------------------+-----------------+-------------------+-------------------+--------------------+-----------------+-------+--------+---------+-------+--------+---------------+------------------+--------------------+------------------+--------------------+---------------------+--------------------+--------------+--------------------+--------------------------+----------------------------+---------------------------+-------------------------------+---------------------------------------+----------------------------+--------------------+---------------------------+---------+----------+---+---+-----------+--------------+-----------+--------------+----------+--------------+------------------+--------------+------------------+------+--------+------+------+----------+---------+--------+----------------------------+---------------+-------+-----------+------------+------------------+---------------------------+-------------------------+----------------------+------------+-------------------+-------------+-----------+-------------+-------------+--------------+---------------+--------------+-----------+-------+-----------+-----------+--------------+-----------------+-----------+-----------+----------+-----------+-----------------+--------------+----+----------------------+---------+-----------+----+--------------------------+-----------------------+------------------------+----------------+------------------+-------------------+------------------+-------+-------------+--------------------+------------+-------+---------+---------------+----------------+--------+----------------+-----------+--------+-------------+---------------+---------+-----------+--------+-------------------+----------------+----------+------------------+--------+-----------------+----+------------------------------+-----------+--------------------+----------------+-------+--------------+-------------+--------------+-----------------------------+--------------------------+------------------+------------------------------------+----+---+-----+----------------+-----------------+-----------------+----------------+-----------------+-----------------------+----------------------+----------------+------------------+------+-------------------+------------+----------------+------------+-------------+------------+--------------+----------------------+-----------------------+--------+----+---------------+-------------------+-----------------+---------+--------------+---------+------------------+-------------+--------------------+---------------------+---------------------+-----------------+-------------------+---------------------+----------------------+--------------------------------+--------------------+---------------+------------------+-----------------------+------------------+--------------------+---------------------+---------------------+----------------+------------+---------+-----------+-----------------+--------+----------+--------------------------------------------------+--------------------------------------------------+-------------+--------------+--------------+----------------+-------------------------------------------------+-------------------------------------------------+-------------------+------------------------+-------------------------+------------------------------------------+------------------------------------------+----------------+----------------+-----------------+---------------------------+------------------+------------------+------------+-------------------------------------+----------------------+-----------------------+------------------+--------------------------------------------------------------+-----------------+----------------------------+----------------------------------------+-----------------------------------+---------------------+-----------------------+------------------+-----------+-----+--------------------+------------------+-----------------+--------------------+--------------------+----------+\n",
      "|              23|       70|      800002|Dec 18- 2020 19:1...|          4.4E-5|                    4.4E-5|   1.608311697E9|         344.986978|                         0|                          1|                 5180|             24.0|                  -115|             56| 1.7132477322E10|                1-0-0|      0x00000000|           4247575428|                  0|          108|               NA|               NA|        NA|                   NA|                    NA|     NA|0x00000000|           0|            0|               0|                0|             0|           1|            0|             12|                    0|                0|                          0|                           0|                     0|                 0.0|50:3e:aa:e4:01:93|                 28|                  0|                   0|                0|     NA|     0.0|       NA|     NA|       0|             NA|                36|                24.0|   1.7132477322E10|                5180|                  -37|     1.7132477294E10|             5|     1.7132477322E10|                       0.0|                         0.0|                         NA|                            0.0|                                    0.0|                          NA|                 0.0|                        0.0|      0.0|       0.0| NA| NA|        0.0|            NA|        0.0|           0.0|       0.0|            NA|                NA|            NA|                NA|    NA|       0|    NA|     0|         0|       NA|       0|                         0.0|              0|      0|          0|           0|                 0|                          0|                        0|                     0|          NA|                  0|            0|          0|            0|            0|             0|              0|             0|         NA|      0|          0|          0|           0.0|              0.0|          0|          0|         0|         NA|              0.0|           0.0|  NA|                    NA|       NA|        0.0|  NA|                       0.0|                    0.0|                     0.0|             0.0|               0.0|                0.0|               0.0|    0.0|          0.0|                  NA|         0.0|    0.0|       NA|             NA|              NA|      NA|              NA|         NA|      NA|           NA|             NA|       NA|         NA|      NA|                 NA|              NA|        NA|                NA|      NA|                0|  NA|                            NA|         NA|                 0.0|              NA|     NA|            NA|           NA|            NA|                           NA|                        NA|                NA|                                  NA|  NA| NA|   NA|               0|                0|                0|               0|                0|                     NA|                    NA|              NA|                NA|    NA|                 NA|          NA|               0|          NA|           NA|          NA|            NA|                     0|                      0|     0.0|  NA|             NA|                0.0|               NA|       NA|            NA|       NA|                NA|           NA|                  NA|                   NA|                   NA|               NA|                 NA|                   NA|                    NA|                              NA|                  NA|            0.0|               0.0|                     NA|                NA|                  NA|                   NA|                   NA|              NA|          NA|      0.0|         NA|               NA|      NA|        NA|                                                 0|                                                 0|            0|             0|             0|               0|                                                0|                                                0|                  0|                       0|                        0|                                         0|                                         0|              NA|              NA|                0|                         NA|                 0|                 0|          NA|                                    0|                     0|                      0|                NA|                                                           0.0|               NA|                          NA|                                      NA|                                  0|                   NA|                      0|                NA|     Normal|    0|                 0.0|    (38,[0],[1.0])|   (38,[0],[1.0])|[49.9584241724853...|[0.99916848344970...|       0.0|\n",
      "+----------------+---------+------------+--------------------+----------------+--------------------------+----------------+-------------------+--------------------------+---------------------------+---------------------+-----------------+----------------------+---------------+----------------+---------------------+----------------+---------------------+-------------------+-------------+-----------------+-----------------+----------+---------------------+----------------------+-------+----------+------------+-------------+----------------+-----------------+--------------+------------+-------------+---------------+---------------------+-----------------+---------------------------+----------------------------+----------------------+--------------------+-----------------+-------------------+-------------------+--------------------+-----------------+-------+--------+---------+-------+--------+---------------+------------------+--------------------+------------------+--------------------+---------------------+--------------------+--------------+--------------------+--------------------------+----------------------------+---------------------------+-------------------------------+---------------------------------------+----------------------------+--------------------+---------------------------+---------+----------+---+---+-----------+--------------+-----------+--------------+----------+--------------+------------------+--------------+------------------+------+--------+------+------+----------+---------+--------+----------------------------+---------------+-------+-----------+------------+------------------+---------------------------+-------------------------+----------------------+------------+-------------------+-------------+-----------+-------------+-------------+--------------+---------------+--------------+-----------+-------+-----------+-----------+--------------+-----------------+-----------+-----------+----------+-----------+-----------------+--------------+----+----------------------+---------+-----------+----+--------------------------+-----------------------+------------------------+----------------+------------------+-------------------+------------------+-------+-------------+--------------------+------------+-------+---------+---------------+----------------+--------+----------------+-----------+--------+-------------+---------------+---------+-----------+--------+-------------------+----------------+----------+------------------+--------+-----------------+----+------------------------------+-----------+--------------------+----------------+-------+--------------+-------------+--------------+-----------------------------+--------------------------+------------------+------------------------------------+----+---+-----+----------------+-----------------+-----------------+----------------+-----------------+-----------------------+----------------------+----------------+------------------+------+-------------------+------------+----------------+------------+-------------+------------+--------------+----------------------+-----------------------+--------+----+---------------+-------------------+-----------------+---------+--------------+---------+------------------+-------------+--------------------+---------------------+---------------------+-----------------+-------------------+---------------------+----------------------+--------------------------------+--------------------+---------------+------------------+-----------------------+------------------+--------------------+---------------------+---------------------+----------------+------------+---------+-----------+-----------------+--------+----------+--------------------------------------------------+--------------------------------------------------+-------------+--------------+--------------+----------------+-------------------------------------------------+-------------------------------------------------+-------------------+------------------------+-------------------------+------------------------------------------+------------------------------------------+----------------+----------------+-----------------+---------------------------+------------------+------------------+------------+-------------------------------------+----------------------+-----------------------+------------------+--------------------------------------------------------------+-----------------+----------------------------+----------------------------------------+-----------------------------------+---------------------+-----------------------+------------------+-----------+-----+--------------------+------------------+-----------------+--------------------+--------------------+----------+\n",
      "only showing top 1 row\n",
      "\n"
     ]
    }
   ],
   "source": [
    "pred.show(1)"
   ]
  },
  {
   "cell_type": "code",
   "execution_count": 24,
   "id": "5ae77ee8-f631-46e0-9859-7a88f04f7167",
   "metadata": {},
   "outputs": [
    {
     "data": {
      "text/html": [
       "<div>\n",
       "<style scoped>\n",
       "    .dataframe tbody tr th:only-of-type {\n",
       "        vertical-align: middle;\n",
       "    }\n",
       "\n",
       "    .dataframe tbody tr th {\n",
       "        vertical-align: top;\n",
       "    }\n",
       "\n",
       "    .dataframe thead th {\n",
       "        text-align: right;\n",
       "    }\n",
       "</style>\n",
       "<table border=\"1\" class=\"dataframe\">\n",
       "  <thead>\n",
       "    <tr style=\"text-align: right;\">\n",
       "      <th></th>\n",
       "      <th>label</th>\n",
       "      <th>prediction</th>\n",
       "      <th>probability</th>\n",
       "    </tr>\n",
       "  </thead>\n",
       "  <tbody>\n",
       "    <tr>\n",
       "      <th>0</th>\n",
       "      <td>0</td>\n",
       "      <td>0.0</td>\n",
       "      <td>[0.9991684834497072, 0.0008315165502928357]</td>\n",
       "    </tr>\n",
       "    <tr>\n",
       "      <th>1</th>\n",
       "      <td>0</td>\n",
       "      <td>0.0</td>\n",
       "      <td>[0.9991684834497072, 0.0008315165502928357]</td>\n",
       "    </tr>\n",
       "    <tr>\n",
       "      <th>2</th>\n",
       "      <td>0</td>\n",
       "      <td>0.0</td>\n",
       "      <td>[0.9991684834497072, 0.0008315165502928357]</td>\n",
       "    </tr>\n",
       "    <tr>\n",
       "      <th>3</th>\n",
       "      <td>0</td>\n",
       "      <td>0.0</td>\n",
       "      <td>[0.9991684834497072, 0.0008315165502928357]</td>\n",
       "    </tr>\n",
       "    <tr>\n",
       "      <th>4</th>\n",
       "      <td>0</td>\n",
       "      <td>0.0</td>\n",
       "      <td>[0.9991684834497072, 0.0008315165502928357]</td>\n",
       "    </tr>\n",
       "  </tbody>\n",
       "</table>\n",
       "</div>"
      ],
      "text/plain": [
       "   label  prediction                                  probability\n",
       "0      0         0.0  [0.9991684834497072, 0.0008315165502928357]\n",
       "1      0         0.0  [0.9991684834497072, 0.0008315165502928357]\n",
       "2      0         0.0  [0.9991684834497072, 0.0008315165502928357]\n",
       "3      0         0.0  [0.9991684834497072, 0.0008315165502928357]\n",
       "4      0         0.0  [0.9991684834497072, 0.0008315165502928357]"
      ]
     },
     "execution_count": 24,
     "metadata": {},
     "output_type": "execute_result"
    }
   ],
   "source": [
    "pred_pd = pred.select(['label', 'prediction', 'probability']).toPandas()\n",
    "pred_pd.head()"
   ]
  },
  {
   "cell_type": "code",
   "execution_count": 25,
   "id": "503e64c3-5126-4427-bbf9-2526223443b6",
   "metadata": {},
   "outputs": [],
   "source": [
    "from sklearn.metrics import confusion_matrix\n",
    "\n",
    "confusion_matrix(pred_pd['label'], pred_pd['prediction'])\n",
    "tn, fp, fn, tp = confusion_matrix(pred_pd['label'], pred_pd['prediction']).ravel()"
   ]
  },
  {
   "cell_type": "code",
   "execution_count": 26,
   "id": "8d3f0f18-cf7f-45c6-a348-eb507cfa5d1d",
   "metadata": {},
   "outputs": [
    {
     "name": "stdout",
     "output_type": "stream",
     "text": [
      "There are 367764 true negatives\n",
      "There are 1011 true positives\n",
      "There are 95 false negatives\n",
      "There are 0 false positives\n"
     ]
    }
   ],
   "source": [
    "print(\"There are \"+str(tn)+ \" true negatives\")\n",
    "print(\"There are \"+str(tp)+ \" true positives\")\n",
    "print(\"There are \"+str(fn)+ \" false negatives\")\n",
    "print(\"There are \"+str(fp)+ \" false positives\")\n"
   ]
  },
  {
   "cell_type": "code",
   "execution_count": 27,
   "id": "e76a2f7a-d4a4-45a6-b4d4-512ad8027475",
   "metadata": {},
   "outputs": [
    {
     "name": "stdout",
     "output_type": "stream",
     "text": [
      "The precision is 1.0\n",
      "The recall is 0.9141048824593129\n",
      "The fscore is 0.9551251771374587\n",
      "The Matthews correlation coefficient is 0.9559648601525682\n"
     ]
    }
   ],
   "source": [
    "from sklearn.metrics import precision_recall_fscore_support\n",
    "from sklearn.metrics import matthews_corrcoef\n",
    "\n",
    "precision,recall,fscore,support = precision_recall_fscore_support(pred_pd['label'], pred_pd['prediction'], average='binary')\n",
    "matthews_corrcoef = matthews_corrcoef(pred_pd['label'], pred_pd['prediction'])\n",
    "print(\"The precision is \"+str(precision))\n",
    "print(\"The recall is \"+str(recall))\n",
    "print(\"The fscore is \"+str(fscore))\n",
    "print(\"The Matthews correlation coefficient is \"+str(matthews_corrcoef))"
   ]
  },
  {
   "cell_type": "code",
   "execution_count": 27,
   "id": "2e939b6e-ee57-4c4d-812b-8465791c68fd",
   "metadata": {},
   "outputs": [],
   "source": []
  },
  {
   "cell_type": "code",
   "execution_count": null,
   "id": "789c8631-153f-4b7b-bd22-57f9b16e1735",
   "metadata": {},
   "outputs": [],
   "source": []
  },
  {
   "cell_type": "code",
   "execution_count": null,
   "id": "5ae0555b-88c8-4279-ab3b-7d650be88a3f",
   "metadata": {},
   "outputs": [],
   "source": []
  },
  {
   "cell_type": "code",
   "execution_count": null,
   "id": "74ba6b35-e9a4-42c2-8f9a-1865e6f60fbe",
   "metadata": {},
   "outputs": [],
   "source": []
  },
  {
   "cell_type": "code",
   "execution_count": null,
   "id": "cd878ccf-6de8-439e-933b-e4f877f1dab1",
   "metadata": {},
   "outputs": [],
   "source": []
  }
 ],
 "metadata": {
  "kernelspec": {
   "display_name": "Python 3 (ipykernel)",
   "language": "python",
   "name": "python3"
  },
  "language_info": {
   "codemirror_mode": {
    "name": "ipython",
    "version": 3
   },
   "file_extension": ".py",
   "mimetype": "text/x-python",
   "name": "python",
   "nbconvert_exporter": "python",
   "pygments_lexer": "ipython3",
   "version": "3.9.12"
  }
 },
 "nbformat": 4,
 "nbformat_minor": 5
}
