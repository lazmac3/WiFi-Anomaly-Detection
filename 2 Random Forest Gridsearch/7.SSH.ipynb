{
 "cells": [
  {
   "cell_type": "code",
   "execution_count": 1,
   "id": "e0a30673-c306-426b-b29c-c7d4b546efff",
   "metadata": {},
   "outputs": [
    {
     "name": "stdout",
     "output_type": "stream",
     "text": [
      "Hello World\n"
     ]
    }
   ],
   "source": [
    "print(\"Hello World\")"
   ]
  },
  {
   "cell_type": "code",
   "execution_count": 2,
   "id": "1ca80d56-7e03-42be-ae46-f2727a41eba3",
   "metadata": {},
   "outputs": [],
   "source": [
    "readFile=\"Data/parquet/7.SSH\""
   ]
  },
  {
   "cell_type": "code",
   "execution_count": 3,
   "id": "568f24af-506e-49ee-b2d0-463093f550b2",
   "metadata": {},
   "outputs": [],
   "source": [
    "from pyspark.sql import SparkSession\n",
    "import seaborn as sns\n",
    "import matplotlib.pyplot as plt \n",
    "from pyspark.sql.functions import col"
   ]
  },
  {
   "cell_type": "code",
   "execution_count": 4,
   "id": "20e74d5e-ef53-4f92-b285-3919dc3bc776",
   "metadata": {},
   "outputs": [],
   "source": [
    "spark = SparkSession.builder \\\n",
    "    .master(\"local\") \\\n",
    "    .appName(\"WiFi\") \\\n",
    "    .config(\"spark.driver.memory\", \"4g\")\\\n",
    "    .getOrCreate()"
   ]
  },
  {
   "cell_type": "code",
   "execution_count": 5,
   "id": "814ba7fe-44ad-49a1-b7c3-f31d5959582a",
   "metadata": {},
   "outputs": [],
   "source": [
    "df = spark.read.parquet(readFile)"
   ]
  },
  {
   "cell_type": "code",
   "execution_count": 6,
   "id": "98ff64c6-ac13-48d2-aa1b-f5ecf5c13edd",
   "metadata": {},
   "outputs": [
    {
     "data": {
      "text/plain": [
       "2440570"
      ]
     },
     "execution_count": 6,
     "metadata": {},
     "output_type": "execute_result"
    }
   ],
   "source": [
    "df.count()"
   ]
  },
  {
   "cell_type": "markdown",
   "id": "d709200e-d7cb-4250-955a-de345d7f8d0d",
   "metadata": {},
   "source": [
    "https://docs.microsoft.com/en-us/azure/databricks/_static/notebooks/getting-started/get-started-with-mllib-dbr7.html as a guide"
   ]
  },
  {
   "cell_type": "code",
   "execution_count": 7,
   "id": "80e19669-eced-4040-a0a6-6e10ec1c89ed",
   "metadata": {},
   "outputs": [],
   "source": [
    "from pyspark.ml.feature import StringIndexer, OneHotEncoder"
   ]
  },
  {
   "cell_type": "code",
   "execution_count": 8,
   "id": "081dcc35-ad79-44eb-be23-dd6bd11fc47b",
   "metadata": {},
   "outputs": [],
   "source": [
    "categoricalCols = [\n",
    "    #\"frame_time\",\n",
    "    \"radiotap_present_tsft\",\n",
    "    \"radiotap_rxflags\",\n",
    "    \"wlan_analysis_kck\",\n",
    "    \"wlan_analysis_kek\",\n",
    "    \"wlan_bssid\",\n",
    "    \"wlan_country_info_fnm\",\n",
    "    \"wlan_country_info_code\",\n",
    "    \"wlan_da\",\n",
    "    \"wlan_fc_ds\",\n",
    "    \"wlan_ra\",\n",
    "    \"wlan_sa\",\n",
    "    \"wlan_ssid\",\n",
    "    \"wlan_ta\",\n",
    "    \"wlan_tag_length\",\n",
    "    \"wlan_rsna_eapol_keydes_data\",\n",
    "    \"wlan_rsna_eapol_keydes_nonce\",\n",
    "    \"llc\",\n",
    "    \"arp\",\n",
    "    \"arp_proto_type\",\n",
    "    \"arp_src_hw_mac\",\n",
    "    \"arp_src_proto_ipv4\",\n",
    "    \"arp_dst_hw_mac\",\n",
    "    \"arp_dst_proto_ipv4\",\n",
    "    \"ip_dst\",\n",
    "    \"ip_src\",\n",
    "    \"data_data\",\n",
    "    \"tcp_checksum\",\n",
    "    #\"tcp_payload\",\n",
    "    #\"udp_payload\",\n",
    "    \"nbns\",\n",
    "    \"nbss_continuation_data\",\n",
    "    \"nbss_type\",\n",
    "    \"ldap\",\n",
    "    \"smb_server_component\",\n",
    "    \"smb2_acct\",\n",
    "    \"smb2_auth_frame\",\n",
    "    \"smb2_buffer_code\",\n",
    "    \"smb2_cmd\",\n",
    "    \"smb2_data_offset\",\n",
    "    \"smb2_domain\",\n",
    "    \"smb2_fid\",\n",
    "    \"smb2_filename\",\n",
    "    \"smb2_header_len\",\n",
    "    \"smb2_host\",\n",
    "    \"smb2_msg_id\",\n",
    "    \"smb2_pid\",\n",
    "    \"smb2_previous_sesid\",\n",
    "    \"smb2_protocol_id\",\n",
    "    \"smb2_sesid\",\n",
    "    \"smb2_session_flags\",\n",
    "    \"smb2_tid\",\n",
    "    \"dhcp\",\n",
    "    \"dhcp_client_id_duid_ll_hw_type\",\n",
    "    \"dhcp_cookie\",\n",
    "    \"dhcp_hw_mac_addr\",\n",
    "    \"dhcp_id\",\n",
    "    \"dhcp_ip_client\",\n",
    "    \"dhcp_ip_relay\",\n",
    "    \"dhcp_ip_server\",\n",
    "    \"dhcp_option_broadcast_address\",\n",
    "    \"dhcp_option_dhcp_server_id\",\n",
    "    \"dhcp_option_router\",\n",
    "    \"dhcp_option_vendor_bsdp_message_type\",\n",
    "    \"mdns\",\n",
    "    \"dns\",\n",
    "    \"dns_a\",\n",
    "    \"dns_flags_authoritative\",\n",
    "    \"dns_flags_checkdisable\",\n",
    "    \"dns_flags_opcode\",\n",
    "    \"dns_flags_response\",\n",
    "    \"dns_id\",\n",
    "    \"dns_ptr_domain_name\",\n",
    "    \"dns_qry_name\",\n",
    "    \"dns_resp_len\",\n",
    "    \"dns_resp_name\",\n",
    "    \"dns_resp_ttl\",\n",
    "    \"dns_resp_len_1\",\n",
    "    \"ssdp\",\n",
    "    \"http_connection\",\n",
    "    \"http_content_type\",\n",
    "    \"http_date\",\n",
    "    \"http_file_data\",\n",
    "    \"http_host\",\n",
    "    \"http_last_modified\",\n",
    "    \"http_location\",\n",
    "    \"http_next_request_in\",\n",
    "    \"http_next_response_in\",\n",
    "    \"http_request_full_uri\",\n",
    "    \"http_request_line\",\n",
    "    \"http_request_method\",\n",
    "    \"http_request_uri_path\",\n",
    "    \"http_request_uri_query\",\n",
    "    \"http_request_uri_query_parameter\",\n",
    "    \"http_request_version\",\n",
    "    \"http_response_code_desc\",\n",
    "    \"http_response_line\",\n",
    "    \"http_response_phrase\",\n",
    "    \"http_response_version\",\n",
    "    \"http_response_for_uri\",\n",
    "    \"http_response_in\",\n",
    "    \"http_referer\",\n",
    "    \"http_server\",\n",
    "    \"json_value_string\",\n",
    "    \"json_key\",\n",
    "    \"ssh_cookie\",\n",
    "    \"ssh_message_code\",\n",
    "    \"ssh_mpint_length\",\n",
    "    #\"ssh_packet_length_encrypted\",\n",
    "    \"ssh_protocol\",\n",
    "    \"tls_app_data_proto\",\n",
    "    \"tls_connection_id\",\n",
    "    \"tls_handshake_extension_type\",\n",
    "    \"tls_handshake_extensions_key_share_group\",\n",
    "    \"tls_handshake_version\",\n",
    "    \"tls_record_version\" \n",
    "]\n"
   ]
  },
  {
   "cell_type": "code",
   "execution_count": 9,
   "id": "05a660a4-eec4-4c97-901f-b31fa7464b19",
   "metadata": {},
   "outputs": [],
   "source": [
    "# The following two lines are estimators. They return functions that we will later apply to transform the dataset.\n",
    "stringIndexer = StringIndexer(inputCols=categoricalCols, outputCols=[x + \"index\" for x in categoricalCols]).setHandleInvalid(\"keep\") \n",
    "encoder = OneHotEncoder(inputCols=stringIndexer.getOutputCols(), outputCols=[x + \"OHE\" for x in categoricalCols]) "
   ]
  },
  {
   "cell_type": "code",
   "execution_count": 10,
   "id": "b5d9a30f-9e7b-408c-a560-b5b131ac332b",
   "metadata": {},
   "outputs": [],
   "source": [
    "numericCols=[\n",
    "    \"frame_time_delta\",\n",
    "    \"frame_time_delta_displayed\",\n",
    "    \"frame_time_epoch\",\n",
    "    \"frame_time_relative\",\n",
    "    \"radiotap_datarate\",\n",
    "    \"radiotap_mactime\",\n",
    "    \"wlan_fixed_timestamp\",\n",
    "    \"wlan_seq\",\n",
    "    \"wlan_radio_data_rate\",\n",
    "    \"wlan_radio_end_tsf\",\n",
    "    \"wlan_radio_start_tsf\",\n",
    "    \"wlan_radio_timestamp\",\n",
    "    \"wlan_rsn_capabilities_mfpc\",\n",
    "    \"wlan_rsna_eapol_keydes_msgnr\",\n",
    "    \"wlan_rsna_eapol_keydes_data_len\",\n",
    "    \"wlan_rsna_eapol_keydes_key_info_key_mic\",\n",
    "    \"eapol_keydes_key_len\",\n",
    "    \"eapol_keydes_replay_counter\",\n",
    "    \"eapol_len\",\n",
    "    \"eapol_type\",\n",
    "    \"arp_hw_type\",\n",
    "    \"arp_hw_size\",\n",
    "    \"arp_proto_size\",\n",
    "    \"arp_opcode\",\n",
    "    \"icmpv6_mldr_nb_mcast_records\",\n",
    "    \"tcp_time_delta\",\n",
    "    \"tcp_time_relative\",\n",
    "    \"udp_time_relative\",\n",
    "    \"udp_time_delta\",\n",
    "    \"nbss_length\",\n",
    "    \"smb_access_generic_execute\",\n",
    "    \"smb_access_generic_read\",\n",
    "    \"smb_access_generic_write\",\n",
    "    \"smb_flags_notify\",\n",
    "    \"smb_flags_response\",\n",
    "    \"smb_flags2_nt_error\",\n",
    "    \"smb_flags2_sec_sig\",\n",
    "    \"smb_mid\",\n",
    "    \"smb_nt_status\",\n",
    "    \"smb_pid_high\",\n",
    "    \"smb_tid\",\n",
    "    \"dhcp_hw_addr_padding\",\n",
    "    \"dns_time\",\n",
    "    \"http_content_length\",\n",
    "    \"http_request_in\",\n",
    "    \"http_response_code\",\n",
    "    \"http_time\",\n",
    "    \"tls_compress_certificate_compressed_certificate_message_length\",\n",
    "    \"frame_encap_type\",\n",
    "    #\"frame_len\",\n",
    "    #\"frame_number\",\n",
    "    \"radiotap_channel_flags_cck\",\n",
    "    \"radiotap_channel_flags_ofdm\",\n",
    "    \"radiotap_channel_freq\",\n",
    "    \"radiotap_dbm_antsignal\",\n",
    "    \"radiotap_length\",\n",
    "    \"radiotap_vendor_oui\",\n",
    "    \"wlan_duration\",\n",
    "    \"wlan_fc_frag\",\n",
    "    \"wlan_fc_order\",\n",
    "    \"wlan_fc_moredata\",\n",
    "    \"wlan_fc_protected\",\n",
    "    \"wlan_fc_pwrmgt\",\n",
    "    \"wlan_fc_type\",\n",
    "    \"wlan_fc_retry\",\n",
    "    \"wlan_fc_subtype\",\n",
    "    \"wlan_fcs_bad_checksum\",\n",
    "    \"wlan_fixed_beacon\",\n",
    "    \"wlan_fixed_capabilities_ess\",\n",
    "    \"wlan_fixed_capabilities_ibss\",\n",
    "    \"wlan_fixed_reason_code\",\n",
    "    \"wlan_radio_duration\",\n",
    "    \"wlan_rsn_ie_gtk_key\",\n",
    "    \"wlan_rsn_ie_igtk_key\",\n",
    "    \"wlan_rsn_ie_pmkid\",\n",
    "    \"wlan_tag\",\n",
    "    \"wlan_radio_channel\",\n",
    "    \"wlan_radio_frequency\",\n",
    "    \"wlan_radio_signal_dbm\",\n",
    "    \"wlan_radio_phy\",\n",
    "    \"ip_proto\",\n",
    "    \"ip_ttl\",\n",
    "    \"ip_version\",\n",
    "    \"data_len\",\n",
    "    \"icmpv6_ni_nonce\",\n",
    "    \"tcp_ack\",\n",
    "    \"tcp_ack_raw\",\n",
    "    \"tcp_analysis\",\n",
    "    \"tcp_analysis_flags\",\n",
    "    \"tcp_analysis_retransmission\",\n",
    "    \"tcp_analysis_reused_ports\",\n",
    "    \"tcp_analysis_rto_frame\",\n",
    "    \"tcp_checksum_status\",\n",
    "    \"tcp_flags_syn\",\n",
    "    \"tcp_dstport\",\n",
    "    \"tcp_flags_ack\",\n",
    "    \"tcp_flags_fin\",\n",
    "    \"tcp_flags_push\",\n",
    "    \"tcp_flags_reset\",\n",
    "    \"tcp_option_len\",\n",
    "    \"tcp_seq\",\n",
    "    \"tcp_seq_raw\",\n",
    "    \"tcp_srcport\",\n",
    "    \"udp_dstport\",\n",
    "    \"udp_srcport\",\n",
    "    \"udp_length\",\n",
    "    \"smb2_write_length\",\n",
    "    \"dns_count_add_rr\",\n",
    "    \"dns_count_answers\",\n",
    "    \"dns_count_auth_rr\",\n",
    "    \"dns_count_labels\",\n",
    "    \"dns_count_queries\",\n",
    "    \"dns_qry_name_len\",\n",
    "    \"dns_retransmit_request\",\n",
    "    \"dns_retransmit_response\",\n",
    "    \"ssh_compression_algorithms_client_to_server_length\",\n",
    "    \"ssh_compression_algorithms_server_to_client_length\",\n",
    "    \"ssh_direction\",\n",
    "    \"ssh_dh_gex_max\",\n",
    "    \"ssh_dh_gex_min\",\n",
    "    \"ssh_dh_gex_nbits\",\n",
    "    \"ssh_encryption_algorithms_client_to_server_length\",\n",
    "    \"ssh_encryption_algorithms_server_to_client_length\",\n",
    "    \"ssh_host_key_length\",\n",
    "    \"ssh_host_key_type_length\",\n",
    "    \"ssh_kex_algorithms_length\",\n",
    "    \"ssh_mac_algorithms_client_to_server_length\",\n",
    "    \"ssh_mac_algorithms_server_to_client_length\",\n",
    "    \"ssh_packet_length\",\n",
    "    \"ssh_padding_length\",\n",
    "    \"ssh_padding_string\",\n",
    "    \"ssh_server_host_key_algorithms_length\",\n",
    "    \"tls_alert_message_desc\",\n",
    "    \"tls_alert_message_level\",\n",
    "    \"tls_handshake_session_ticket_length\",\n",
    "    \"tls_record_content_type\",\n",
    "    \"radiotap_timestamp_ts\"\n",
    "]"
   ]
  },
  {
   "cell_type": "code",
   "execution_count": 11,
   "id": "4699f280-fdd8-4904-9c44-b8103b1f9284",
   "metadata": {},
   "outputs": [],
   "source": [
    "from pyspark.ml.feature import VectorAssembler\n",
    " \n",
    "# This includes both the numeric columns and the one-hot encoded binary vector columns in our dataset.\n",
    "assemblerInputs = [c + \"OHE\" for c in categoricalCols] + numericCols\n",
    "vecAssembler = VectorAssembler(inputCols=assemblerInputs, outputCol=\"features\")"
   ]
  },
  {
   "cell_type": "code",
   "execution_count": 12,
   "id": "a4c188f9-b85a-48c1-bf31-aadf34f53821",
   "metadata": {},
   "outputs": [],
   "source": [
    "from pyspark.ml.classification import RandomForestClassifier\n",
    "from pyspark.ml import Pipeline"
   ]
  },
  {
   "cell_type": "code",
   "execution_count": 163,
   "id": "1543c0d9-c35d-45a0-ba31-2964ea945516",
   "metadata": {},
   "outputs": [
    {
     "name": "stdout",
     "output_type": "stream",
     "text": [
      "We will use 24350  events for the grid search.\n"
     ]
    }
   ],
   "source": [
    "subSample = df.sample(fraction=1.0/100, withReplacement=False)\n",
    "print('We will use',subSample.count(),' events for the grid search.')"
   ]
  },
  {
   "cell_type": "code",
   "execution_count": 164,
   "id": "e8e52697-0407-4cb3-b942-0eb8577a6a9d",
   "metadata": {},
   "outputs": [
    {
     "name": "stdout",
     "output_type": "stream",
     "text": [
      "+-----+-----+\n",
      "|label|count|\n",
      "+-----+-----+\n",
      "|    1|  109|\n",
      "|    0|24241|\n",
      "+-----+-----+\n",
      "\n"
     ]
    }
   ],
   "source": [
    "subSample.groupBy('label').count().show()"
   ]
  },
  {
   "cell_type": "code",
   "execution_count": 165,
   "id": "c2703cb4-b1a9-4da1-aed8-e1d33109b6b8",
   "metadata": {},
   "outputs": [],
   "source": [
    "from pyspark.ml.tuning import ParamGridBuilder, CrossValidator\n",
    "from pyspark.ml.evaluation import BinaryClassificationEvaluator\n",
    "from pyspark.ml.classification import RandomForestClassifier\n",
    "\n",
    "rf = RandomForestClassifier(labelCol='label', featuresCol='features', \n",
    "                            maxBins=20, subsamplingRate=0.7,\n",
    "                            minInfoGain= 1e-05,\n",
    "                            featureSubsetStrategy='all',\n",
    "                            minInstancesPerNode=2)\n",
    "\n",
    "evaluator=BinaryClassificationEvaluator(metricName='areaUnderPR')\n",
    "rf_pipe = Pipeline(stages=[stringIndexer, encoder, vecAssembler,rf])\n",
    "\n",
    "\n",
    "\n",
    "\n",
    "\n",
    "paramGrid = ParamGridBuilder()\\\n",
    "  .addGrid(rf.maxDepth, [10,20])\\\n",
    "  .addGrid(rf.numTrees, [50])\\\n",
    "  .build()\n",
    "\n",
    "cv = CrossValidator(estimator=rf_pipe, \n",
    "                    evaluator=evaluator,\n",
    "                    estimatorParamMaps=paramGrid,\n",
    "                    numFolds=2, parallelism=2)"
   ]
  },
  {
   "cell_type": "code",
   "execution_count": 166,
   "id": "c6414d94-af2e-454e-8682-b09486c2c453",
   "metadata": {},
   "outputs": [],
   "source": [
    "\n",
    "bestModel = cv.fit(subSample)\n",
    " "
   ]
  },
  {
   "cell_type": "code",
   "execution_count": 167,
   "id": "c1413a66-ea2d-418e-9928-4c7173f3d6e0",
   "metadata": {},
   "outputs": [
    {
     "name": "stdout",
     "output_type": "stream",
     "text": [
      "BestModel:\n",
      "\t-maxDepth = 10\n",
      "\t-Feature Importance = (10480,[47,52,132],[0.22680216430717023,0.3427512071672516,0.4304466285255782])\n"
     ]
    }
   ],
   "source": [
    "print('BestModel:\\n\\t-maxDepth =',bestModel.bestModel.stages[-1]._java_obj.getMaxDepth())\n",
    "print('\\t-Feature Importance =',bestModel.bestModel.stages[-1]._java_obj.featureImportances())"
   ]
  },
  {
   "cell_type": "raw",
   "id": "35e100df-e7b7-4504-b31d-076eaa09a21c",
   "metadata": {},
   "source": [
    "We need to use the model as the encoding changes the index to extract the feature names and assess the model. This page was essential in working this out https://stackoverflow.com/questions/50937591/pyspark-random-forest-feature-importance-mapping-after-column-transformations/50957255#50957255"
   ]
  },
  {
   "cell_type": "code",
   "execution_count": 168,
   "id": "fb444d4e-de2c-479c-8973-12b01a0e315f",
   "metadata": {},
   "outputs": [],
   "source": [
    "transformedBestModel=bestModel.transform(subSample)"
   ]
  },
  {
   "cell_type": "code",
   "execution_count": 169,
   "id": "b382b579-f2ce-41be-8357-0afce10f74ad",
   "metadata": {},
   "outputs": [],
   "source": [
    "import pandas as pd\n",
    "\n",
    "p = pd.DataFrame(transformedBestModel.schema[\"features\"].metadata[\"ml_attr\"][\"attrs\"][\"binary\"]+transformedBestModel.schema[\"features\"].metadata[\"ml_attr\"][\"attrs\"][\"numeric\"]).sort_values(\"idx\")"
   ]
  },
  {
   "cell_type": "code",
   "execution_count": 170,
   "id": "c7b93ad6-1d4b-4cf7-ab21-5a1fb177ef82",
   "metadata": {},
   "outputs": [
    {
     "data": {
      "text/plain": [
       "0             radiotap_present_tsftOHE_1-0-0\n",
       "1             radiotap_present_tsftOHE_0-0-0\n",
       "2             radiotap_rxflagsOHE_0x00000000\n",
       "3                    wlan_analysis_kckOHE_NA\n",
       "4                    wlan_analysis_kekOHE_NA\n",
       "                        ...                 \n",
       "10475                 tls_alert_message_desc\n",
       "10476                tls_alert_message_level\n",
       "10477    tls_handshake_session_ticket_length\n",
       "10478                tls_record_content_type\n",
       "10479                  radiotap_timestamp_ts\n",
       "Name: name, Length: 10480, dtype: object"
      ]
     },
     "execution_count": 170,
     "metadata": {},
     "output_type": "execute_result"
    }
   ],
   "source": [
    "p.name"
   ]
  },
  {
   "cell_type": "code",
   "execution_count": 171,
   "id": "2ed13f7f-871c-4a8e-a5c3-92926320902a",
   "metadata": {},
   "outputs": [],
   "source": [
    "\n",
    "from itertools import chain\n",
    "attrs = sorted(\n",
    "    (attr[\"idx\"], attr[\"name\"])\n",
    "    for attr in (\n",
    "        chain(*transformedBestModel.schema[\"features\"].metadata[\"ml_attr\"][\"attrs\"].values())\n",
    "    )\n",
    ") "
   ]
  },
  {
   "cell_type": "code",
   "execution_count": 172,
   "id": "44c4c302-e780-4697-b518-937de740ca6b",
   "metadata": {},
   "outputs": [
    {
     "data": {
      "text/plain": [
       "[('wlan_daOHE_04:ed:33:e0:24:82', 0.22680216430717023),\n",
       " ('wlan_daOHE_00:0c:29:1d:70:f5', 0.3427512071672516),\n",
       " ('wlan_saOHE_00:0c:29:1d:70:f5', 0.4304466285255782)]"
      ]
     },
     "execution_count": 172,
     "metadata": {},
     "output_type": "execute_result"
    }
   ],
   "source": [
    "[\n",
    "    (name,  bestModel.bestModel.stages[-1].featureImportances[idx])\n",
    "    for idx, name in attrs\n",
    "    if bestModel.bestModel.stages[-1].featureImportances[idx]\n",
    "]"
   ]
  },
  {
   "cell_type": "code",
   "execution_count": 173,
   "id": "251425d2-b8ce-4d55-ae2e-977d3f7e8add",
   "metadata": {},
   "outputs": [
    {
     "data": {
      "text/plain": [
       "10480"
      ]
     },
     "execution_count": 173,
     "metadata": {},
     "output_type": "execute_result"
    }
   ],
   "source": [
    "len(bestModel.bestModel.stages[-1].featureImportances)"
   ]
  },
  {
   "cell_type": "markdown",
   "id": "c1a448e1-e862-4ec7-83fe-3a7108e33290",
   "metadata": {},
   "source": [
    "The test on the subsample tells us which are important dimensions that we can then use for out model. The lengh output shows that even with the subsample the one hot encoder makes adds an order of magnitude of dimensions"
   ]
  },
  {
   "cell_type": "code",
   "execution_count": 13,
   "id": "d7bc9251-2da6-4d87-a9a2-a319d1290f03",
   "metadata": {},
   "outputs": [],
   "source": [
    "train, test = df.randomSplit([0.8,0.2])"
   ]
  },
  {
   "cell_type": "code",
   "execution_count": 14,
   "id": "3002ad02-183f-4dcd-89f7-ca012417140c",
   "metadata": {},
   "outputs": [
    {
     "name": "stdout",
     "output_type": "stream",
     "text": [
      "Events for the training 1952595\n",
      "Events for the validation 487975\n"
     ]
    }
   ],
   "source": [
    "print('Events for the training {}'.format(train.count()))\n",
    "print('Events for the validation {}'.format(test.count()))"
   ]
  },
  {
   "cell_type": "code",
   "execution_count": 15,
   "id": "ea96cfd2-da22-40ea-b5de-001477c13eaf",
   "metadata": {},
   "outputs": [],
   "source": [
    "importantNumerical=[\n",
    "   \n",
    "]"
   ]
  },
  {
   "cell_type": "code",
   "execution_count": 16,
   "id": "42d98025-120b-463a-a00b-bbe535438b0a",
   "metadata": {},
   "outputs": [],
   "source": [
    "importantCategorical=[\n",
    "    'wlan_da',\n",
    "    'wlan_sa'\n",
    "]"
   ]
  },
  {
   "cell_type": "code",
   "execution_count": 17,
   "id": "849fb6b6-caa4-4aff-9d29-06d32493d783",
   "metadata": {},
   "outputs": [],
   "source": [
    "ImportantstringIndexer = StringIndexer(inputCols=importantCategorical, outputCols=[x + \"index\" for x in importantCategorical]).setHandleInvalid(\"keep\") \n",
    "Importantencoder = OneHotEncoder(inputCols=ImportantstringIndexer.getOutputCols(), outputCols=[x + \"OHE\" for x in importantCategorical]) "
   ]
  },
  {
   "cell_type": "code",
   "execution_count": 18,
   "id": "ed08fb80-cef9-4008-86aa-fd2168ab1d53",
   "metadata": {},
   "outputs": [],
   "source": [
    "# This includes both the numeric columns and the one-hot encoded binary vector columns in our dataset.\n",
    "ImportantAssemblerInputs = [c + \"OHE\" for c in importantCategorical] + importantNumerical\n",
    "ImportantvecAssembler = VectorAssembler(inputCols=ImportantAssemblerInputs, outputCol=\"importantfeatures\")"
   ]
  },
  {
   "cell_type": "code",
   "execution_count": 19,
   "id": "df185548-6ee8-4701-9498-76aadd213bbe",
   "metadata": {},
   "outputs": [],
   "source": [
    "\n",
    "\n",
    "rf = RandomForestClassifier(labelCol='label', featuresCol='importantfeatures', numTrees=50)"
   ]
  },
  {
   "cell_type": "code",
   "execution_count": 20,
   "id": "6985d897-9508-4003-9175-515798bb965b",
   "metadata": {},
   "outputs": [],
   "source": [
    "\n",
    " \n",
    "# Define the pipeline based on the stages created in previous steps.\n",
    "pipeline = Pipeline(stages=[ImportantstringIndexer, Importantencoder, ImportantvecAssembler,rf])\n",
    " \n",
    "\n",
    " \n"
   ]
  },
  {
   "cell_type": "code",
   "execution_count": 21,
   "id": "135057f8-7198-4c96-bc8d-c6d3ed73dafd",
   "metadata": {},
   "outputs": [],
   "source": [
    "# Define the pipeline model.\n",
    "pipelineModel = pipeline.fit(train)"
   ]
  },
  {
   "cell_type": "code",
   "execution_count": 22,
   "id": "d9a8ee3c-dded-449b-a2cd-d1683dd1d0d5",
   "metadata": {},
   "outputs": [],
   "source": [
    "# Apply the pipeline model to the test dataset.\n",
    "pred = pipelineModel.transform(test)"
   ]
  },
  {
   "cell_type": "code",
   "execution_count": 23,
   "id": "f8724e5c-af62-44aa-a7f9-117cbe761d39",
   "metadata": {},
   "outputs": [
    {
     "name": "stdout",
     "output_type": "stream",
     "text": [
      "+----------------+---------+------------+--------------------+----------------+--------------------------+----------------+-------------------+--------------------------+---------------------------+---------------------+-----------------+----------------------+---------------+----------------+---------------------+----------------+---------------------+-------------------+-------------+-----------------+-----------------+----------+---------------------+----------------------+-------+----------+------------+-------------+----------------+-----------------+--------------+------------+-------------+---------------+---------------------+-----------------+---------------------------+----------------------------+----------------------+--------------------+-----------------+-------------------+-------------------+--------------------+-----------------+-------+--------+---------+-------+--------+---------------+------------------+--------------------+------------------+--------------------+---------------------+--------------------+--------------+--------------------+--------------------------+----------------------------+---------------------------+-------------------------------+---------------------------------------+----------------------------+--------------------+---------------------------+---------+----------+---+---+-----------+--------------+-----------+--------------+----------+--------------+------------------+--------------+------------------+------+--------+------+------+----------+---------+--------+----------------------------+---------------+-------+-----------+------------+------------------+---------------------------+-------------------------+----------------------+------------+-------------------+-------------+-----------+-------------+-------------+--------------+---------------+--------------+-----------+-------+-----------+-----------+--------------+-----------------+-----------+-----------+----------+-----------+-----------------+--------------+----+----------------------+---------+-----------+----+--------------------------+-----------------------+------------------------+----------------+------------------+-------------------+------------------+-------+-------------+--------------------+------------+-------+---------+---------------+----------------+--------+----------------+-----------+--------+-------------+---------------+---------+-----------+--------+-------------------+----------------+----------+------------------+--------+-----------------+----+------------------------------+-----------+--------------------+----------------+-------+--------------+-------------+--------------+-----------------------------+--------------------------+------------------+------------------------------------+----+---+-----+----------------+-----------------+-----------------+----------------+-----------------+-----------------------+----------------------+----------------+------------------+------+-------------------+------------+----------------+------------+-------------+------------+--------------+----------------------+-----------------------+--------+----+---------------+-------------------+-----------------+---------+--------------+---------+------------------+-------------+--------------------+---------------------+---------------------+-----------------+-------------------+---------------------+----------------------+--------------------------------+--------------------+---------------+------------------+-----------------------+------------------+--------------------+---------------------+---------------------+----------------+------------+---------+-----------+-----------------+--------+----------+--------------------------------------------------+--------------------------------------------------+-------------+--------------+--------------+----------------+-------------------------------------------------+-------------------------------------------------+-------------------+------------------------+-------------------------+------------------------------------------+------------------------------------------+----------------+----------------+-----------------+---------------------------+------------------+------------------+------------+-------------------------------------+----------------------+-----------------------+------------------+--------------------------------------------------------------+-----------------+----------------------------+----------------------------------------+-----------------------------------+---------------------+-----------------------+------------------+-----------+-----+------------+------------+---------------+---------------+--------------------+--------------------+--------------------+----------+\n",
      "|frame_encap_type|frame_len|frame_number|          frame_time|frame_time_delta|frame_time_delta_displayed|frame_time_epoch|frame_time_relative|radiotap_channel_flags_cck|radiotap_channel_flags_ofdm|radiotap_channel_freq|radiotap_datarate|radiotap_dbm_antsignal|radiotap_length|radiotap_mactime|radiotap_present_tsft|radiotap_rxflags|radiotap_timestamp_ts|radiotap_vendor_oui|wlan_duration|wlan_analysis_kck|wlan_analysis_kek|wlan_bssid|wlan_country_info_fnm|wlan_country_info_code|wlan_da|wlan_fc_ds|wlan_fc_frag|wlan_fc_order|wlan_fc_moredata|wlan_fc_protected|wlan_fc_pwrmgt|wlan_fc_type|wlan_fc_retry|wlan_fc_subtype|wlan_fcs_bad_checksum|wlan_fixed_beacon|wlan_fixed_capabilities_ess|wlan_fixed_capabilities_ibss|wlan_fixed_reason_code|wlan_fixed_timestamp|          wlan_ra|wlan_radio_duration|wlan_rsn_ie_gtk_key|wlan_rsn_ie_igtk_key|wlan_rsn_ie_pmkid|wlan_sa|wlan_seq|wlan_ssid|wlan_ta|wlan_tag|wlan_tag_length|wlan_radio_channel|wlan_radio_data_rate|wlan_radio_end_tsf|wlan_radio_frequency|wlan_radio_signal_dbm|wlan_radio_start_tsf|wlan_radio_phy|wlan_radio_timestamp|wlan_rsn_capabilities_mfpc|wlan_rsna_eapol_keydes_msgnr|wlan_rsna_eapol_keydes_data|wlan_rsna_eapol_keydes_data_len|wlan_rsna_eapol_keydes_key_info_key_mic|wlan_rsna_eapol_keydes_nonce|eapol_keydes_key_len|eapol_keydes_replay_counter|eapol_len|eapol_type|llc|arp|arp_hw_type|arp_proto_type|arp_hw_size|arp_proto_size|arp_opcode|arp_src_hw_mac|arp_src_proto_ipv4|arp_dst_hw_mac|arp_dst_proto_ipv4|ip_dst|ip_proto|ip_src|ip_ttl|ip_version|data_data|data_len|icmpv6_mldr_nb_mcast_records|icmpv6_ni_nonce|tcp_ack|tcp_ack_raw|tcp_analysis|tcp_analysis_flags|tcp_analysis_retransmission|tcp_analysis_reused_ports|tcp_analysis_rto_frame|tcp_checksum|tcp_checksum_status|tcp_flags_syn|tcp_dstport|tcp_flags_ack|tcp_flags_fin|tcp_flags_push|tcp_flags_reset|tcp_option_len|tcp_payload|tcp_seq|tcp_seq_raw|tcp_srcport|tcp_time_delta|tcp_time_relative|udp_dstport|udp_srcport|udp_length|udp_payload|udp_time_relative|udp_time_delta|nbns|nbss_continuation_data|nbss_type|nbss_length|ldap|smb_access_generic_execute|smb_access_generic_read|smb_access_generic_write|smb_flags_notify|smb_flags_response|smb_flags2_nt_error|smb_flags2_sec_sig|smb_mid|smb_nt_status|smb_server_component|smb_pid_high|smb_tid|smb2_acct|smb2_auth_frame|smb2_buffer_code|smb2_cmd|smb2_data_offset|smb2_domain|smb2_fid|smb2_filename|smb2_header_len|smb2_host|smb2_msg_id|smb2_pid|smb2_previous_sesid|smb2_protocol_id|smb2_sesid|smb2_session_flags|smb2_tid|smb2_write_length|dhcp|dhcp_client_id_duid_ll_hw_type|dhcp_cookie|dhcp_hw_addr_padding|dhcp_hw_mac_addr|dhcp_id|dhcp_ip_client|dhcp_ip_relay|dhcp_ip_server|dhcp_option_broadcast_address|dhcp_option_dhcp_server_id|dhcp_option_router|dhcp_option_vendor_bsdp_message_type|mdns|dns|dns_a|dns_count_add_rr|dns_count_answers|dns_count_auth_rr|dns_count_labels|dns_count_queries|dns_flags_authoritative|dns_flags_checkdisable|dns_flags_opcode|dns_flags_response|dns_id|dns_ptr_domain_name|dns_qry_name|dns_qry_name_len|dns_resp_len|dns_resp_name|dns_resp_ttl|dns_resp_len_1|dns_retransmit_request|dns_retransmit_response|dns_time|ssdp|http_connection|http_content_length|http_content_type|http_date|http_file_data|http_host|http_last_modified|http_location|http_next_request_in|http_next_response_in|http_request_full_uri|http_request_line|http_request_method|http_request_uri_path|http_request_uri_query|http_request_uri_query_parameter|http_request_version|http_request_in|http_response_code|http_response_code_desc|http_response_line|http_response_phrase|http_response_version|http_response_for_uri|http_response_in|http_referer|http_time|http_server|json_value_string|json_key|ssh_cookie|ssh_compression_algorithms_client_to_server_length|ssh_compression_algorithms_server_to_client_length|ssh_direction|ssh_dh_gex_max|ssh_dh_gex_min|ssh_dh_gex_nbits|ssh_encryption_algorithms_client_to_server_length|ssh_encryption_algorithms_server_to_client_length|ssh_host_key_length|ssh_host_key_type_length|ssh_kex_algorithms_length|ssh_mac_algorithms_client_to_server_length|ssh_mac_algorithms_server_to_client_length|ssh_message_code|ssh_mpint_length|ssh_packet_length|ssh_packet_length_encrypted|ssh_padding_length|ssh_padding_string|ssh_protocol|ssh_server_host_key_algorithms_length|tls_alert_message_desc|tls_alert_message_level|tls_app_data_proto|tls_compress_certificate_compressed_certificate_message_length|tls_connection_id|tls_handshake_extension_type|tls_handshake_extensions_key_share_group|tls_handshake_session_ticket_length|tls_handshake_version|tls_record_content_type|tls_record_version|StringLabel|label|wlan_daindex|wlan_saindex|     wlan_daOHE|     wlan_saOHE|   importantfeatures|       rawPrediction|         probability|prediction|\n",
      "+----------------+---------+------------+--------------------+----------------+--------------------------+----------------+-------------------+--------------------------+---------------------------+---------------------+-----------------+----------------------+---------------+----------------+---------------------+----------------+---------------------+-------------------+-------------+-----------------+-----------------+----------+---------------------+----------------------+-------+----------+------------+-------------+----------------+-----------------+--------------+------------+-------------+---------------+---------------------+-----------------+---------------------------+----------------------------+----------------------+--------------------+-----------------+-------------------+-------------------+--------------------+-----------------+-------+--------+---------+-------+--------+---------------+------------------+--------------------+------------------+--------------------+---------------------+--------------------+--------------+--------------------+--------------------------+----------------------------+---------------------------+-------------------------------+---------------------------------------+----------------------------+--------------------+---------------------------+---------+----------+---+---+-----------+--------------+-----------+--------------+----------+--------------+------------------+--------------+------------------+------+--------+------+------+----------+---------+--------+----------------------------+---------------+-------+-----------+------------+------------------+---------------------------+-------------------------+----------------------+------------+-------------------+-------------+-----------+-------------+-------------+--------------+---------------+--------------+-----------+-------+-----------+-----------+--------------+-----------------+-----------+-----------+----------+-----------+-----------------+--------------+----+----------------------+---------+-----------+----+--------------------------+-----------------------+------------------------+----------------+------------------+-------------------+------------------+-------+-------------+--------------------+------------+-------+---------+---------------+----------------+--------+----------------+-----------+--------+-------------+---------------+---------+-----------+--------+-------------------+----------------+----------+------------------+--------+-----------------+----+------------------------------+-----------+--------------------+----------------+-------+--------------+-------------+--------------+-----------------------------+--------------------------+------------------+------------------------------------+----+---+-----+----------------+-----------------+-----------------+----------------+-----------------+-----------------------+----------------------+----------------+------------------+------+-------------------+------------+----------------+------------+-------------+------------+--------------+----------------------+-----------------------+--------+----+---------------+-------------------+-----------------+---------+--------------+---------+------------------+-------------+--------------------+---------------------+---------------------+-----------------+-------------------+---------------------+----------------------+--------------------------------+--------------------+---------------+------------------+-----------------------+------------------+--------------------+---------------------+---------------------+----------------+------------+---------+-----------+-----------------+--------+----------+--------------------------------------------------+--------------------------------------------------+-------------+--------------+--------------+----------------+-------------------------------------------------+-------------------------------------------------+-------------------+------------------------+-------------------------+------------------------------------------+------------------------------------------+----------------+----------------+-----------------+---------------------------+------------------+------------------+------------+-------------------------------------+----------------------+-----------------------+------------------+--------------------------------------------------------------+-----------------+----------------------------+----------------------------------------+-----------------------------------+---------------------+-----------------------+------------------+-----------+-----+------------+------------+---------------+---------------+--------------------+--------------------+--------------------+----------+\n",
      "|              23|       70|      500027|Dec 15- 2020 22:4...|          2.8E-5|                    2.8E-5|    1.60806495E9|         257.802963|                         0|                          1|                 5180|             24.0|                  -104|             56|   6.883110243E9|                1-0-0|      0x00000000|           2588142928|                  0|          104|               NA|               NA|        NA|                   NA|                    NA|     NA|0x00000000|           0|            0|               0|                0|             0|           1|            0|             12|                    0|                0|                          0|                           0|                     0|                 0.0|50:3e:aa:e4:01:93|                 28|                  0|                   0|                0|     NA|     0.0|       NA|     NA|       0|             NA|                36|                24.0|     6.883110243E9|                5180|                  -33|       6.883110215E9|             5|       6.883110243E9|                       0.0|                         0.0|                         NA|                            0.0|                                    0.0|                          NA|                 0.0|                        0.0|      0.0|       0.0| NA| NA|        0.0|            NA|        0.0|           0.0|       0.0|            NA|                NA|            NA|                NA|    NA|       0|    NA|     0|         0|       NA|       0|                         0.0|              0|      0|          0|           0|                 0|                          0|                        0|                     0|          NA|                  0|            0|          0|            0|            0|             0|              0|             0|         NA|      0|          0|          0|           0.0|              0.0|          0|          0|         0|         NA|              0.0|           0.0|  NA|                    NA|       NA|        0.0|  NA|                       0.0|                    0.0|                     0.0|             0.0|               0.0|                0.0|               0.0|    0.0|          0.0|                  NA|         0.0|    0.0|       NA|             NA|              NA|      NA|              NA|         NA|      NA|           NA|             NA|       NA|         NA|      NA|                 NA|              NA|        NA|                NA|      NA|                0|  NA|                            NA|         NA|                 0.0|              NA|     NA|            NA|           NA|            NA|                           NA|                        NA|                NA|                                  NA|  NA| NA|   NA|               0|                0|                0|               0|                0|                     NA|                    NA|              NA|                NA|    NA|                 NA|          NA|               0|          NA|           NA|          NA|            NA|                     0|                      0|     0.0|  NA|             NA|                0.0|               NA|       NA|            NA|       NA|                NA|           NA|                  NA|                   NA|                   NA|               NA|                 NA|                   NA|                    NA|                              NA|                  NA|            0.0|               0.0|                     NA|                NA|                  NA|                   NA|                   NA|              NA|          NA|      0.0|         NA|               NA|      NA|        NA|                                                 0|                                                 0|            0|             0|             0|               0|                                                0|                                                0|                  0|                       0|                        0|                                         0|                                         0|              NA|              NA|                0|                         NA|                 0|                 0|          NA|                                    0|                     0|                      0|                NA|                                                           0.0|               NA|                          NA|                                      NA|                                  0|                   NA|                      0|                NA|     Normal|    0|         0.0|         0.0|(664,[0],[1.0])|(969,[0],[1.0])|(1633,[0,664],[1....|[49.8110750604174...|[0.99622150120835...|       0.0|\n",
      "+----------------+---------+------------+--------------------+----------------+--------------------------+----------------+-------------------+--------------------------+---------------------------+---------------------+-----------------+----------------------+---------------+----------------+---------------------+----------------+---------------------+-------------------+-------------+-----------------+-----------------+----------+---------------------+----------------------+-------+----------+------------+-------------+----------------+-----------------+--------------+------------+-------------+---------------+---------------------+-----------------+---------------------------+----------------------------+----------------------+--------------------+-----------------+-------------------+-------------------+--------------------+-----------------+-------+--------+---------+-------+--------+---------------+------------------+--------------------+------------------+--------------------+---------------------+--------------------+--------------+--------------------+--------------------------+----------------------------+---------------------------+-------------------------------+---------------------------------------+----------------------------+--------------------+---------------------------+---------+----------+---+---+-----------+--------------+-----------+--------------+----------+--------------+------------------+--------------+------------------+------+--------+------+------+----------+---------+--------+----------------------------+---------------+-------+-----------+------------+------------------+---------------------------+-------------------------+----------------------+------------+-------------------+-------------+-----------+-------------+-------------+--------------+---------------+--------------+-----------+-------+-----------+-----------+--------------+-----------------+-----------+-----------+----------+-----------+-----------------+--------------+----+----------------------+---------+-----------+----+--------------------------+-----------------------+------------------------+----------------+------------------+-------------------+------------------+-------+-------------+--------------------+------------+-------+---------+---------------+----------------+--------+----------------+-----------+--------+-------------+---------------+---------+-----------+--------+-------------------+----------------+----------+------------------+--------+-----------------+----+------------------------------+-----------+--------------------+----------------+-------+--------------+-------------+--------------+-----------------------------+--------------------------+------------------+------------------------------------+----+---+-----+----------------+-----------------+-----------------+----------------+-----------------+-----------------------+----------------------+----------------+------------------+------+-------------------+------------+----------------+------------+-------------+------------+--------------+----------------------+-----------------------+--------+----+---------------+-------------------+-----------------+---------+--------------+---------+------------------+-------------+--------------------+---------------------+---------------------+-----------------+-------------------+---------------------+----------------------+--------------------------------+--------------------+---------------+------------------+-----------------------+------------------+--------------------+---------------------+---------------------+----------------+------------+---------+-----------+-----------------+--------+----------+--------------------------------------------------+--------------------------------------------------+-------------+--------------+--------------+----------------+-------------------------------------------------+-------------------------------------------------+-------------------+------------------------+-------------------------+------------------------------------------+------------------------------------------+----------------+----------------+-----------------+---------------------------+------------------+------------------+------------+-------------------------------------+----------------------+-----------------------+------------------+--------------------------------------------------------------+-----------------+----------------------------+----------------------------------------+-----------------------------------+---------------------+-----------------------+------------------+-----------+-----+------------+------------+---------------+---------------+--------------------+--------------------+--------------------+----------+\n",
      "only showing top 1 row\n",
      "\n"
     ]
    }
   ],
   "source": [
    "pred.show(1)"
   ]
  },
  {
   "cell_type": "code",
   "execution_count": 24,
   "id": "5ae77ee8-f631-46e0-9859-7a88f04f7167",
   "metadata": {},
   "outputs": [
    {
     "data": {
      "text/html": [
       "<div>\n",
       "<style scoped>\n",
       "    .dataframe tbody tr th:only-of-type {\n",
       "        vertical-align: middle;\n",
       "    }\n",
       "\n",
       "    .dataframe tbody tr th {\n",
       "        vertical-align: top;\n",
       "    }\n",
       "\n",
       "    .dataframe thead th {\n",
       "        text-align: right;\n",
       "    }\n",
       "</style>\n",
       "<table border=\"1\" class=\"dataframe\">\n",
       "  <thead>\n",
       "    <tr style=\"text-align: right;\">\n",
       "      <th></th>\n",
       "      <th>label</th>\n",
       "      <th>prediction</th>\n",
       "      <th>probability</th>\n",
       "    </tr>\n",
       "  </thead>\n",
       "  <tbody>\n",
       "    <tr>\n",
       "      <th>0</th>\n",
       "      <td>0</td>\n",
       "      <td>0.0</td>\n",
       "      <td>[0.9962215012083501, 0.0037784987916499456]</td>\n",
       "    </tr>\n",
       "    <tr>\n",
       "      <th>1</th>\n",
       "      <td>0</td>\n",
       "      <td>0.0</td>\n",
       "      <td>[0.9962215012083501, 0.0037784987916499456]</td>\n",
       "    </tr>\n",
       "    <tr>\n",
       "      <th>2</th>\n",
       "      <td>0</td>\n",
       "      <td>0.0</td>\n",
       "      <td>[0.9962215012083501, 0.0037784987916499456]</td>\n",
       "    </tr>\n",
       "    <tr>\n",
       "      <th>3</th>\n",
       "      <td>0</td>\n",
       "      <td>0.0</td>\n",
       "      <td>[0.9962215012083501, 0.0037784987916499456]</td>\n",
       "    </tr>\n",
       "    <tr>\n",
       "      <th>4</th>\n",
       "      <td>0</td>\n",
       "      <td>0.0</td>\n",
       "      <td>[0.9962215012083501, 0.0037784987916499456]</td>\n",
       "    </tr>\n",
       "  </tbody>\n",
       "</table>\n",
       "</div>"
      ],
      "text/plain": [
       "   label  prediction                                  probability\n",
       "0      0         0.0  [0.9962215012083501, 0.0037784987916499456]\n",
       "1      0         0.0  [0.9962215012083501, 0.0037784987916499456]\n",
       "2      0         0.0  [0.9962215012083501, 0.0037784987916499456]\n",
       "3      0         0.0  [0.9962215012083501, 0.0037784987916499456]\n",
       "4      0         0.0  [0.9962215012083501, 0.0037784987916499456]"
      ]
     },
     "execution_count": 24,
     "metadata": {},
     "output_type": "execute_result"
    }
   ],
   "source": [
    "pred_pd = pred.select(['label', 'prediction', 'probability']).toPandas()\n",
    "pred_pd.head()"
   ]
  },
  {
   "cell_type": "code",
   "execution_count": 25,
   "id": "28d9fae8-536d-4b24-a64c-339e162c238a",
   "metadata": {},
   "outputs": [],
   "source": [
    "from sklearn.metrics import confusion_matrix\n",
    "\n",
    "confusion_matrix(pred_pd['label'], pred_pd['prediction'])\n",
    "tn, fp, fn, tp = confusion_matrix(pred_pd['label'], pred_pd['prediction']).ravel()"
   ]
  },
  {
   "cell_type": "code",
   "execution_count": 26,
   "id": "503e64c3-5126-4427-bbf9-2526223443b6",
   "metadata": {},
   "outputs": [
    {
     "name": "stdout",
     "output_type": "stream",
     "text": [
      "There are 485637 true negatives\n",
      "There are 0 true positives\n",
      "There are 2338 false negatives\n",
      "There are 0 false positives\n"
     ]
    }
   ],
   "source": [
    "print(\"There are \"+str(tn)+ \" true negatives\")\n",
    "print(\"There are \"+str(tp)+ \" true positives\")\n",
    "print(\"There are \"+str(fn)+ \" false negatives\")\n",
    "print(\"There are \"+str(fp)+ \" false positives\")"
   ]
  },
  {
   "cell_type": "code",
   "execution_count": 27,
   "id": "8d3f0f18-cf7f-45c6-a348-eb507cfa5d1d",
   "metadata": {},
   "outputs": [
    {
     "name": "stdout",
     "output_type": "stream",
     "text": [
      "The precision is 0.0\n",
      "The recall is 0.0\n",
      "The fscore is 0.0\n",
      "The Matthews correlation coefficient is 0.0\n"
     ]
    },
    {
     "name": "stderr",
     "output_type": "stream",
     "text": [
      "/opt/conda/lib/python3.9/site-packages/sklearn/metrics/_classification.py:1318: UndefinedMetricWarning: Precision and F-score are ill-defined and being set to 0.0 due to no predicted samples. Use `zero_division` parameter to control this behavior.\n",
      "  _warn_prf(average, modifier, msg_start, len(result))\n"
     ]
    }
   ],
   "source": [
    "from sklearn.metrics import precision_recall_fscore_support\n",
    "from sklearn.metrics import matthews_corrcoef\n",
    "\n",
    "precision,recall,fscore,support = precision_recall_fscore_support(pred_pd['label'], pred_pd['prediction'], average='binary')\n",
    "matthews_corrcoef = matthews_corrcoef(pred_pd['label'], pred_pd['prediction'])\n",
    "print(\"The precision is \"+str(precision))\n",
    "print(\"The recall is \"+str(recall))\n",
    "print(\"The fscore is \"+str(fscore))\n",
    "print(\"The Matthews correlation coefficient is \"+str(matthews_corrcoef))\n"
   ]
  },
  {
   "cell_type": "markdown",
   "id": "589e8a42-c7df-4047-894c-f44a4ab83593",
   "metadata": {},
   "source": [
    "This model has classified everything as negative, looking at the output the attack packets have a lower score but not close to 0.5, we could probably catch them changing the threshold"
   ]
  },
  {
   "cell_type": "code",
   "execution_count": 28,
   "id": "e76a2f7a-d4a4-45a6-b4d4-512ad8027475",
   "metadata": {},
   "outputs": [
    {
     "data": {
      "text/html": [
       "<div>\n",
       "<style scoped>\n",
       "    .dataframe tbody tr th:only-of-type {\n",
       "        vertical-align: middle;\n",
       "    }\n",
       "\n",
       "    .dataframe tbody tr th {\n",
       "        vertical-align: top;\n",
       "    }\n",
       "\n",
       "    .dataframe thead th {\n",
       "        text-align: right;\n",
       "    }\n",
       "</style>\n",
       "<table border=\"1\" class=\"dataframe\">\n",
       "  <thead>\n",
       "    <tr style=\"text-align: right;\">\n",
       "      <th></th>\n",
       "      <th>label</th>\n",
       "      <th>prediction</th>\n",
       "      <th>probability</th>\n",
       "    </tr>\n",
       "  </thead>\n",
       "  <tbody>\n",
       "    <tr>\n",
       "      <th>12746</th>\n",
       "      <td>1</td>\n",
       "      <td>0.0</td>\n",
       "      <td>[0.8529477152163364, 0.14705228478366364]</td>\n",
       "    </tr>\n",
       "    <tr>\n",
       "      <th>12747</th>\n",
       "      <td>1</td>\n",
       "      <td>0.0</td>\n",
       "      <td>[0.8529477152163364, 0.14705228478366364]</td>\n",
       "    </tr>\n",
       "    <tr>\n",
       "      <th>12748</th>\n",
       "      <td>1</td>\n",
       "      <td>0.0</td>\n",
       "      <td>[0.8529477152163364, 0.14705228478366364]</td>\n",
       "    </tr>\n",
       "    <tr>\n",
       "      <th>12749</th>\n",
       "      <td>1</td>\n",
       "      <td>0.0</td>\n",
       "      <td>[0.8529477152163364, 0.14705228478366364]</td>\n",
       "    </tr>\n",
       "    <tr>\n",
       "      <th>12750</th>\n",
       "      <td>1</td>\n",
       "      <td>0.0</td>\n",
       "      <td>[0.8529477152163364, 0.14705228478366364]</td>\n",
       "    </tr>\n",
       "    <tr>\n",
       "      <th>...</th>\n",
       "      <td>...</td>\n",
       "      <td>...</td>\n",
       "      <td>...</td>\n",
       "    </tr>\n",
       "    <tr>\n",
       "      <th>462738</th>\n",
       "      <td>1</td>\n",
       "      <td>0.0</td>\n",
       "      <td>[0.7593724450288429, 0.2406275549711571]</td>\n",
       "    </tr>\n",
       "    <tr>\n",
       "      <th>462739</th>\n",
       "      <td>1</td>\n",
       "      <td>0.0</td>\n",
       "      <td>[0.7593724450288429, 0.2406275549711571]</td>\n",
       "    </tr>\n",
       "    <tr>\n",
       "      <th>462740</th>\n",
       "      <td>1</td>\n",
       "      <td>0.0</td>\n",
       "      <td>[0.7593724450288429, 0.2406275549711571]</td>\n",
       "    </tr>\n",
       "    <tr>\n",
       "      <th>462746</th>\n",
       "      <td>1</td>\n",
       "      <td>0.0</td>\n",
       "      <td>[0.7593724450288429, 0.2406275549711571]</td>\n",
       "    </tr>\n",
       "    <tr>\n",
       "      <th>462747</th>\n",
       "      <td>1</td>\n",
       "      <td>0.0</td>\n",
       "      <td>[0.7593724450288429, 0.2406275549711571]</td>\n",
       "    </tr>\n",
       "  </tbody>\n",
       "</table>\n",
       "<p>2338 rows × 3 columns</p>\n",
       "</div>"
      ],
      "text/plain": [
       "        label  prediction                                probability\n",
       "12746       1         0.0  [0.8529477152163364, 0.14705228478366364]\n",
       "12747       1         0.0  [0.8529477152163364, 0.14705228478366364]\n",
       "12748       1         0.0  [0.8529477152163364, 0.14705228478366364]\n",
       "12749       1         0.0  [0.8529477152163364, 0.14705228478366364]\n",
       "12750       1         0.0  [0.8529477152163364, 0.14705228478366364]\n",
       "...       ...         ...                                        ...\n",
       "462738      1         0.0   [0.7593724450288429, 0.2406275549711571]\n",
       "462739      1         0.0   [0.7593724450288429, 0.2406275549711571]\n",
       "462740      1         0.0   [0.7593724450288429, 0.2406275549711571]\n",
       "462746      1         0.0   [0.7593724450288429, 0.2406275549711571]\n",
       "462747      1         0.0   [0.7593724450288429, 0.2406275549711571]\n",
       "\n",
       "[2338 rows x 3 columns]"
      ]
     },
     "execution_count": 28,
     "metadata": {},
     "output_type": "execute_result"
    }
   ],
   "source": [
    "pred_pd.loc[pred_pd['label'] == 1]"
   ]
  },
  {
   "cell_type": "code",
   "execution_count": 189,
   "id": "2e939b6e-ee57-4c4d-812b-8465791c68fd",
   "metadata": {},
   "outputs": [],
   "source": []
  },
  {
   "cell_type": "code",
   "execution_count": null,
   "id": "789c8631-153f-4b7b-bd22-57f9b16e1735",
   "metadata": {},
   "outputs": [],
   "source": []
  },
  {
   "cell_type": "code",
   "execution_count": null,
   "id": "5ae0555b-88c8-4279-ab3b-7d650be88a3f",
   "metadata": {},
   "outputs": [],
   "source": []
  },
  {
   "cell_type": "code",
   "execution_count": null,
   "id": "74ba6b35-e9a4-42c2-8f9a-1865e6f60fbe",
   "metadata": {},
   "outputs": [],
   "source": []
  },
  {
   "cell_type": "code",
   "execution_count": null,
   "id": "cd878ccf-6de8-439e-933b-e4f877f1dab1",
   "metadata": {},
   "outputs": [],
   "source": []
  }
 ],
 "metadata": {
  "kernelspec": {
   "display_name": "Python 3 (ipykernel)",
   "language": "python",
   "name": "python3"
  },
  "language_info": {
   "codemirror_mode": {
    "name": "ipython",
    "version": 3
   },
   "file_extension": ".py",
   "mimetype": "text/x-python",
   "name": "python",
   "nbconvert_exporter": "python",
   "pygments_lexer": "ipython3",
   "version": "3.9.12"
  }
 },
 "nbformat": 4,
 "nbformat_minor": 5
}
