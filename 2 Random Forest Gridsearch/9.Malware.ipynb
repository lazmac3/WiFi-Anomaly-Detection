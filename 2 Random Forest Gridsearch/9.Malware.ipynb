{
 "cells": [
  {
   "cell_type": "code",
   "execution_count": 1,
   "id": "e0a30673-c306-426b-b29c-c7d4b546efff",
   "metadata": {},
   "outputs": [
    {
     "name": "stdout",
     "output_type": "stream",
     "text": [
      "Hello World\n"
     ]
    }
   ],
   "source": [
    "print(\"Hello World\")"
   ]
  },
  {
   "cell_type": "code",
   "execution_count": 2,
   "id": "1ca80d56-7e03-42be-ae46-f2727a41eba3",
   "metadata": {},
   "outputs": [],
   "source": [
    "readFile=\"Data/parquet/9.Malware\""
   ]
  },
  {
   "cell_type": "code",
   "execution_count": 3,
   "id": "568f24af-506e-49ee-b2d0-463093f550b2",
   "metadata": {},
   "outputs": [],
   "source": [
    "from pyspark.sql import SparkSession\n",
    "import seaborn as sns\n",
    "import matplotlib.pyplot as plt \n",
    "from pyspark.sql.functions import col"
   ]
  },
  {
   "cell_type": "code",
   "execution_count": 4,
   "id": "20e74d5e-ef53-4f92-b285-3919dc3bc776",
   "metadata": {},
   "outputs": [],
   "source": [
    "spark = SparkSession.builder \\\n",
    "    .master(\"local\") \\\n",
    "    .appName(\"WiFi\") \\\n",
    "    .config(\"spark.driver.memory\", \"4g\")\\\n",
    "    .getOrCreate()"
   ]
  },
  {
   "cell_type": "code",
   "execution_count": 5,
   "id": "814ba7fe-44ad-49a1-b7c3-f31d5959582a",
   "metadata": {},
   "outputs": [],
   "source": [
    "df = spark.read.parquet(readFile)"
   ]
  },
  {
   "cell_type": "code",
   "execution_count": 6,
   "id": "98ff64c6-ac13-48d2-aa1b-f5ecf5c13edd",
   "metadata": {},
   "outputs": [
    {
     "data": {
      "text/plain": [
       "2312760"
      ]
     },
     "execution_count": 6,
     "metadata": {},
     "output_type": "execute_result"
    }
   ],
   "source": [
    "df.count()"
   ]
  },
  {
   "cell_type": "markdown",
   "id": "d709200e-d7cb-4250-955a-de345d7f8d0d",
   "metadata": {},
   "source": [
    "https://docs.microsoft.com/en-us/azure/databricks/_static/notebooks/getting-started/get-started-with-mllib-dbr7.html as a guide"
   ]
  },
  {
   "cell_type": "code",
   "execution_count": 7,
   "id": "80e19669-eced-4040-a0a6-6e10ec1c89ed",
   "metadata": {},
   "outputs": [],
   "source": [
    "from pyspark.ml.feature import StringIndexer, OneHotEncoder"
   ]
  },
  {
   "cell_type": "code",
   "execution_count": 8,
   "id": "081dcc35-ad79-44eb-be23-dd6bd11fc47b",
   "metadata": {},
   "outputs": [],
   "source": [
    "categoricalCols = [\n",
    "    #\"frame_time\",\n",
    "    \"radiotap_present_tsft\",\n",
    "    \"radiotap_rxflags\",\n",
    "    \"wlan_analysis_kck\",\n",
    "    \"wlan_analysis_kek\",\n",
    "    \"wlan_bssid\",\n",
    "    \"wlan_country_info_fnm\",\n",
    "    \"wlan_country_info_code\",\n",
    "    \"wlan_da\",\n",
    "    \"wlan_fc_ds\",\n",
    "    \"wlan_ra\",\n",
    "    \"wlan_sa\",\n",
    "    \"wlan_ssid\",\n",
    "    \"wlan_ta\",\n",
    "    \"wlan_tag_length\",\n",
    "    \"wlan_rsna_eapol_keydes_data\",\n",
    "    \"wlan_rsna_eapol_keydes_nonce\",\n",
    "    \"llc\",\n",
    "    \"arp\",\n",
    "    \"arp_proto_type\",\n",
    "    \"arp_src_hw_mac\",\n",
    "    \"arp_src_proto_ipv4\",\n",
    "    \"arp_dst_hw_mac\",\n",
    "    \"arp_dst_proto_ipv4\",\n",
    "    \"ip_dst\",\n",
    "    \"ip_src\",\n",
    "    \"data_data\",\n",
    "    \"tcp_checksum\",\n",
    "    #\"tcp_payload\",\n",
    "    #\"udp_payload\",\n",
    "    \"nbns\",\n",
    "    \"nbss_continuation_data\",\n",
    "    \"nbss_type\",\n",
    "    \"ldap\",\n",
    "    \"smb_server_component\",\n",
    "    \"smb2_acct\",\n",
    "    \"smb2_auth_frame\",\n",
    "    \"smb2_buffer_code\",\n",
    "    \"smb2_cmd\",\n",
    "    \"smb2_data_offset\",\n",
    "    \"smb2_domain\",\n",
    "    \"smb2_fid\",\n",
    "    \"smb2_filename\",\n",
    "    \"smb2_header_len\",\n",
    "    \"smb2_host\",\n",
    "    \"smb2_msg_id\",\n",
    "    \"smb2_pid\",\n",
    "    \"smb2_previous_sesid\",\n",
    "    \"smb2_protocol_id\",\n",
    "    \"smb2_sesid\",\n",
    "    \"smb2_session_flags\",\n",
    "    \"smb2_tid\",\n",
    "    \"dhcp\",\n",
    "    \"dhcp_client_id_duid_ll_hw_type\",\n",
    "    \"dhcp_cookie\",\n",
    "    \"dhcp_hw_mac_addr\",\n",
    "    \"dhcp_id\",\n",
    "    \"dhcp_ip_client\",\n",
    "    \"dhcp_ip_relay\",\n",
    "    \"dhcp_ip_server\",\n",
    "    \"dhcp_option_broadcast_address\",\n",
    "    \"dhcp_option_dhcp_server_id\",\n",
    "    \"dhcp_option_router\",\n",
    "    \"dhcp_option_vendor_bsdp_message_type\",\n",
    "    \"mdns\",\n",
    "    \"dns\",\n",
    "    \"dns_a\",\n",
    "    \"dns_flags_authoritative\",\n",
    "    \"dns_flags_checkdisable\",\n",
    "    \"dns_flags_opcode\",\n",
    "    \"dns_flags_response\",\n",
    "    \"dns_id\",\n",
    "    \"dns_ptr_domain_name\",\n",
    "    \"dns_qry_name\",\n",
    "    \"dns_resp_len\",\n",
    "    \"dns_resp_name\",\n",
    "    \"dns_resp_ttl\",\n",
    "    \"dns_resp_len_1\",\n",
    "    \"ssdp\",\n",
    "    \"http_connection\",\n",
    "    \"http_content_type\",\n",
    "    \"http_date\",\n",
    "    \"http_file_data\",\n",
    "    \"http_host\",\n",
    "    \"http_last_modified\",\n",
    "    \"http_location\",\n",
    "    \"http_next_request_in\",\n",
    "    \"http_next_response_in\",\n",
    "    \"http_request_full_uri\",\n",
    "    \"http_request_line\",\n",
    "    \"http_request_method\",\n",
    "    \"http_request_uri_path\",\n",
    "    \"http_request_uri_query\",\n",
    "    \"http_request_uri_query_parameter\",\n",
    "    \"http_request_version\",\n",
    "    \"http_response_code_desc\",\n",
    "    \"http_response_line\",\n",
    "    \"http_response_phrase\",\n",
    "    \"http_response_version\",\n",
    "    \"http_response_for_uri\",\n",
    "    \"http_response_in\",\n",
    "    \"http_referer\",\n",
    "    \"http_server\",\n",
    "    \"json_value_string\",\n",
    "    \"json_key\",\n",
    "    \"ssh_cookie\",\n",
    "    \"ssh_message_code\",\n",
    "    \"ssh_mpint_length\",\n",
    "    #\"ssh_packet_length_encrypted\",\n",
    "    \"ssh_protocol\",\n",
    "    \"tls_app_data_proto\",\n",
    "    \"tls_connection_id\",\n",
    "    \"tls_handshake_extension_type\",\n",
    "    \"tls_handshake_extensions_key_share_group\",\n",
    "    \"tls_handshake_version\",\n",
    "    \"tls_record_version\" \n",
    "]\n"
   ]
  },
  {
   "cell_type": "code",
   "execution_count": 9,
   "id": "05a660a4-eec4-4c97-901f-b31fa7464b19",
   "metadata": {},
   "outputs": [],
   "source": [
    "# The following two lines are estimators. They return functions that we will later apply to transform the dataset.\n",
    "stringIndexer = StringIndexer(inputCols=categoricalCols, outputCols=[x + \"index\" for x in categoricalCols]).setHandleInvalid(\"keep\") \n",
    "encoder = OneHotEncoder(inputCols=stringIndexer.getOutputCols(), outputCols=[x + \"OHE\" for x in categoricalCols]) "
   ]
  },
  {
   "cell_type": "code",
   "execution_count": 10,
   "id": "b5d9a30f-9e7b-408c-a560-b5b131ac332b",
   "metadata": {},
   "outputs": [],
   "source": [
    "numericCols=[\n",
    "    \"frame_time_delta\",\n",
    "    \"frame_time_delta_displayed\",\n",
    "    \"frame_time_epoch\",\n",
    "    \"frame_time_relative\",\n",
    "    \"radiotap_datarate\",\n",
    "    \"radiotap_mactime\",\n",
    "    \"wlan_fixed_timestamp\",\n",
    "    \"wlan_seq\",\n",
    "    \"wlan_radio_data_rate\",\n",
    "    \"wlan_radio_end_tsf\",\n",
    "    \"wlan_radio_start_tsf\",\n",
    "    \"wlan_radio_timestamp\",\n",
    "    \"wlan_rsn_capabilities_mfpc\",\n",
    "    \"wlan_rsna_eapol_keydes_msgnr\",\n",
    "    \"wlan_rsna_eapol_keydes_data_len\",\n",
    "    \"wlan_rsna_eapol_keydes_key_info_key_mic\",\n",
    "    \"eapol_keydes_key_len\",\n",
    "    \"eapol_keydes_replay_counter\",\n",
    "    \"eapol_len\",\n",
    "    \"eapol_type\",\n",
    "    \"arp_hw_type\",\n",
    "    \"arp_hw_size\",\n",
    "    \"arp_proto_size\",\n",
    "    \"arp_opcode\",\n",
    "    \"icmpv6_mldr_nb_mcast_records\",\n",
    "    \"tcp_time_delta\",\n",
    "    \"tcp_time_relative\",\n",
    "    \"udp_time_relative\",\n",
    "    \"udp_time_delta\",\n",
    "    \"nbss_length\",\n",
    "    \"smb_access_generic_execute\",\n",
    "    \"smb_access_generic_read\",\n",
    "    \"smb_access_generic_write\",\n",
    "    \"smb_flags_notify\",\n",
    "    \"smb_flags_response\",\n",
    "    \"smb_flags2_nt_error\",\n",
    "    \"smb_flags2_sec_sig\",\n",
    "    \"smb_mid\",\n",
    "    \"smb_nt_status\",\n",
    "    \"smb_pid_high\",\n",
    "    \"smb_tid\",\n",
    "    \"dhcp_hw_addr_padding\",\n",
    "    \"dns_time\",\n",
    "    \"http_content_length\",\n",
    "    \"http_request_in\",\n",
    "    \"http_response_code\",\n",
    "    \"http_time\",\n",
    "    \"tls_compress_certificate_compressed_certificate_message_length\",\n",
    "    \"frame_encap_type\",\n",
    "    #\"frame_len\",\n",
    "    #\"frame_number\",\n",
    "    \"radiotap_channel_flags_cck\",\n",
    "    \"radiotap_channel_flags_ofdm\",\n",
    "    \"radiotap_channel_freq\",\n",
    "    \"radiotap_dbm_antsignal\",\n",
    "    \"radiotap_length\",\n",
    "    \"radiotap_vendor_oui\",\n",
    "    \"wlan_duration\",\n",
    "    \"wlan_fc_frag\",\n",
    "    \"wlan_fc_order\",\n",
    "    \"wlan_fc_moredata\",\n",
    "    \"wlan_fc_protected\",\n",
    "    \"wlan_fc_pwrmgt\",\n",
    "    \"wlan_fc_type\",\n",
    "    \"wlan_fc_retry\",\n",
    "    \"wlan_fc_subtype\",\n",
    "    \"wlan_fcs_bad_checksum\",\n",
    "    \"wlan_fixed_beacon\",\n",
    "    \"wlan_fixed_capabilities_ess\",\n",
    "    \"wlan_fixed_capabilities_ibss\",\n",
    "    \"wlan_fixed_reason_code\",\n",
    "    \"wlan_radio_duration\",\n",
    "    \"wlan_rsn_ie_gtk_key\",\n",
    "    \"wlan_rsn_ie_igtk_key\",\n",
    "    \"wlan_rsn_ie_pmkid\",\n",
    "    \"wlan_tag\",\n",
    "    \"wlan_radio_channel\",\n",
    "    \"wlan_radio_frequency\",\n",
    "    \"wlan_radio_signal_dbm\",\n",
    "    \"wlan_radio_phy\",\n",
    "    \"ip_proto\",\n",
    "    \"ip_ttl\",\n",
    "    \"ip_version\",\n",
    "    \"data_len\",\n",
    "    \"icmpv6_ni_nonce\",\n",
    "    \"tcp_ack\",\n",
    "    \"tcp_ack_raw\",\n",
    "    \"tcp_analysis\",\n",
    "    \"tcp_analysis_flags\",\n",
    "    \"tcp_analysis_retransmission\",\n",
    "    \"tcp_analysis_reused_ports\",\n",
    "    \"tcp_analysis_rto_frame\",\n",
    "    \"tcp_checksum_status\",\n",
    "    \"tcp_flags_syn\",\n",
    "    \"tcp_dstport\",\n",
    "    \"tcp_flags_ack\",\n",
    "    \"tcp_flags_fin\",\n",
    "    \"tcp_flags_push\",\n",
    "    \"tcp_flags_reset\",\n",
    "    \"tcp_option_len\",\n",
    "    \"tcp_seq\",\n",
    "    \"tcp_seq_raw\",\n",
    "    \"tcp_srcport\",\n",
    "    \"udp_dstport\",\n",
    "    \"udp_srcport\",\n",
    "    \"udp_length\",\n",
    "    \"smb2_write_length\",\n",
    "    \"dns_count_add_rr\",\n",
    "    \"dns_count_answers\",\n",
    "    \"dns_count_auth_rr\",\n",
    "    \"dns_count_labels\",\n",
    "    \"dns_count_queries\",\n",
    "    \"dns_qry_name_len\",\n",
    "    \"dns_retransmit_request\",\n",
    "    \"dns_retransmit_response\",\n",
    "    \"ssh_compression_algorithms_client_to_server_length\",\n",
    "    \"ssh_compression_algorithms_server_to_client_length\",\n",
    "    \"ssh_direction\",\n",
    "    \"ssh_dh_gex_max\",\n",
    "    \"ssh_dh_gex_min\",\n",
    "    \"ssh_dh_gex_nbits\",\n",
    "    \"ssh_encryption_algorithms_client_to_server_length\",\n",
    "    \"ssh_encryption_algorithms_server_to_client_length\",\n",
    "    \"ssh_host_key_length\",\n",
    "    \"ssh_host_key_type_length\",\n",
    "    \"ssh_kex_algorithms_length\",\n",
    "    \"ssh_mac_algorithms_client_to_server_length\",\n",
    "    \"ssh_mac_algorithms_server_to_client_length\",\n",
    "    \"ssh_packet_length\",\n",
    "    \"ssh_padding_length\",\n",
    "    \"ssh_padding_string\",\n",
    "    \"ssh_server_host_key_algorithms_length\",\n",
    "    \"tls_alert_message_desc\",\n",
    "    \"tls_alert_message_level\",\n",
    "    \"tls_handshake_session_ticket_length\",\n",
    "    \"tls_record_content_type\",\n",
    "    \"radiotap_timestamp_ts\"\n",
    "]"
   ]
  },
  {
   "cell_type": "code",
   "execution_count": 11,
   "id": "4699f280-fdd8-4904-9c44-b8103b1f9284",
   "metadata": {},
   "outputs": [],
   "source": [
    "from pyspark.ml.feature import VectorAssembler\n",
    " \n",
    "# This includes both the numeric columns and the one-hot encoded binary vector columns in our dataset.\n",
    "assemblerInputs = [c + \"OHE\" for c in categoricalCols] + numericCols\n",
    "vecAssembler = VectorAssembler(inputCols=assemblerInputs, outputCol=\"features\")"
   ]
  },
  {
   "cell_type": "code",
   "execution_count": 12,
   "id": "a4c188f9-b85a-48c1-bf31-aadf34f53821",
   "metadata": {},
   "outputs": [],
   "source": [
    "from pyspark.ml.classification import RandomForestClassifier\n",
    "from pyspark.ml import Pipeline"
   ]
  },
  {
   "cell_type": "code",
   "execution_count": 13,
   "id": "1543c0d9-c35d-45a0-ba31-2964ea945516",
   "metadata": {},
   "outputs": [
    {
     "name": "stdout",
     "output_type": "stream",
     "text": [
      "We will use 23256  events for the grid search.\n"
     ]
    }
   ],
   "source": [
    "subSample = df.sample(fraction=1.0/100, withReplacement=False)\n",
    "print('We will use',subSample.count(),' events for the grid search.')"
   ]
  },
  {
   "cell_type": "code",
   "execution_count": 14,
   "id": "e8e52697-0407-4cb3-b942-0eb8577a6a9d",
   "metadata": {},
   "outputs": [
    {
     "name": "stdout",
     "output_type": "stream",
     "text": [
      "+-----+-----+\n",
      "|label|count|\n",
      "+-----+-----+\n",
      "|    0|21933|\n",
      "|    1| 1323|\n",
      "+-----+-----+\n",
      "\n"
     ]
    }
   ],
   "source": [
    "subSample.groupBy('label').count().show()"
   ]
  },
  {
   "cell_type": "code",
   "execution_count": 15,
   "id": "c2703cb4-b1a9-4da1-aed8-e1d33109b6b8",
   "metadata": {},
   "outputs": [],
   "source": [
    "from pyspark.ml.tuning import ParamGridBuilder, CrossValidator\n",
    "from pyspark.ml.evaluation import BinaryClassificationEvaluator\n",
    "from pyspark.ml.classification import RandomForestClassifier\n",
    "\n",
    "rf = RandomForestClassifier(labelCol='label', featuresCol='features', \n",
    "                            maxBins=20, subsamplingRate=0.7,\n",
    "                            minInfoGain= 1e-05,\n",
    "                            featureSubsetStrategy='all',\n",
    "                            minInstancesPerNode=2)\n",
    "\n",
    "evaluator=BinaryClassificationEvaluator(metricName='areaUnderPR')\n",
    "rf_pipe = Pipeline(stages=[stringIndexer, encoder, vecAssembler,rf])\n",
    "\n",
    "\n",
    "\n",
    "\n",
    "\n",
    "paramGrid = ParamGridBuilder()\\\n",
    "  .addGrid(rf.maxDepth, [10,20])\\\n",
    "  .addGrid(rf.numTrees, [50])\\\n",
    "  .build()\n",
    "\n",
    "cv = CrossValidator(estimator=rf_pipe, \n",
    "                    evaluator=evaluator,\n",
    "                    estimatorParamMaps=paramGrid,\n",
    "                    numFolds=2, parallelism=2)"
   ]
  },
  {
   "cell_type": "code",
   "execution_count": 16,
   "id": "c6414d94-af2e-454e-8682-b09486c2c453",
   "metadata": {},
   "outputs": [],
   "source": [
    "\n",
    "bestModel = cv.fit(subSample)\n",
    " \n"
   ]
  },
  {
   "cell_type": "code",
   "execution_count": 17,
   "id": "c1413a66-ea2d-418e-9928-4c7173f3d6e0",
   "metadata": {},
   "outputs": [
    {
     "name": "stdout",
     "output_type": "stream",
     "text": [
      "BestModel:\n",
      "\t-maxDepth = 10\n",
      "\t-Feature Importance = (11582,[23,26,43,49,51,61,64,100,112,113,119,208,1033,1111,1274,1339,1412,1482,1552,1602,1607,1634,1638,1650,1700,1715,1751,1774,1775,1903,1957,2371,2541,2623,3530,3550,3797,3842,4036,4258,4287,4335,4512,4966,5674,5752,5922,5979,6478,6513,6543,6769,6903,6997,7181,7467,7536,7540,8007,8034,8147,8386,8945,8961,9351,9527,9801,11447,11449,11454,11472,11499,11530,11545,11581],[0.16393184298732014,0.10871492960936333,2.7316241387685886E-4,2.882999829125571E-4,9.858893114122325E-5,6.841744734386446E-5,5.897853008102251E-6,0.48417576824363523,0.008766637454545012,8.949721272316395E-5,0.004846827464417092,0.11818792086739371,3.028535215779918E-4,1.3373336418792128E-4,3.108000189701424E-4,4.502952494898455E-5,1.1286899419533014E-4,8.995728764312048E-6,1.9816040799179414E-4,1.6609027602291655E-4,6.355499694915865E-5,5.629175967632235E-6,2.496958109311559E-5,6.770063139228394E-6,1.5768757247151794E-4,7.635370240006153E-5,5.747295220594953E-5,3.27413599853899E-5,6.622070047872586E-5,5.90385934246515E-5,2.939082929230749E-5,9.288723236106612E-5,2.9764872713990858E-5,3.650979622378976E-5,3.811516952133413E-5,3.1925650548103956E-5,2.045992808110272E-5,1.555591886829866E-4,6.828497617811627E-5,5.203638438293717E-5,6.125598897666136E-4,8.55570202369359E-5,1.0340824021328089E-4,3.245653487037129E-5,2.6706223531534527E-4,4.39491093983569E-5,4.0309605593461246E-5,6.347043229461391E-5,3.701054667217105E-5,2.010826150662361E-4,6.786343061541001E-5,3.186836559926164E-5,1.5627117021012687E-5,5.826859841669934E-6,4.467116773195602E-4,3.178107440186044E-5,3.2461560036210264E-5,1.9748640776895548E-4,7.750354694335868E-5,8.057742175598183E-5,3.332313479204123E-5,2.369512435575163E-4,1.1346973884979361E-4,4.128531068000929E-4,2.988591696210328E-4,2.7518562340033635E-5,2.9887446085275117E-5,0.001066186829052888,0.06946061213869416,0.009331279209726102,9.65829343908528E-6,0.0024720086717083985,6.810380321863335E-4,0.013954736096787504,0.007565349605187986])\n"
     ]
    }
   ],
   "source": [
    "print('BestModel:\\n\\t-maxDepth =',bestModel.bestModel.stages[-1]._java_obj.getMaxDepth())\n",
    "print('\\t-Feature Importance =',bestModel.bestModel.stages[-1]._java_obj.featureImportances())"
   ]
  },
  {
   "cell_type": "raw",
   "id": "35e100df-e7b7-4504-b31d-076eaa09a21c",
   "metadata": {},
   "source": [
    "We need to use the model as the encoding changes the index to extract the feature names and assess the model. This page was essential in working this out https://stackoverflow.com/questions/50937591/pyspark-random-forest-feature-importance-mapping-after-column-transformations/50957255#50957255"
   ]
  },
  {
   "cell_type": "code",
   "execution_count": 18,
   "id": "fb444d4e-de2c-479c-8973-12b01a0e315f",
   "metadata": {},
   "outputs": [],
   "source": [
    "transformedBestModel=bestModel.transform(subSample)"
   ]
  },
  {
   "cell_type": "code",
   "execution_count": 19,
   "id": "b382b579-f2ce-41be-8357-0afce10f74ad",
   "metadata": {},
   "outputs": [],
   "source": [
    "import pandas as pd\n",
    "\n",
    "p = pd.DataFrame(transformedBestModel.schema[\"features\"].metadata[\"ml_attr\"][\"attrs\"][\"binary\"]+transformedBestModel.schema[\"features\"].metadata[\"ml_attr\"][\"attrs\"][\"numeric\"]).sort_values(\"idx\")"
   ]
  },
  {
   "cell_type": "code",
   "execution_count": 20,
   "id": "c7b93ad6-1d4b-4cf7-ab21-5a1fb177ef82",
   "metadata": {},
   "outputs": [
    {
     "data": {
      "text/plain": [
       "0             radiotap_present_tsftOHE_1-0-0\n",
       "1             radiotap_present_tsftOHE_0-0-0\n",
       "2             radiotap_rxflagsOHE_0x00000000\n",
       "3                    wlan_analysis_kckOHE_NA\n",
       "4                    wlan_analysis_kekOHE_NA\n",
       "                        ...                 \n",
       "11577                 tls_alert_message_desc\n",
       "11578                tls_alert_message_level\n",
       "11579    tls_handshake_session_ticket_length\n",
       "11580                tls_record_content_type\n",
       "11581                  radiotap_timestamp_ts\n",
       "Name: name, Length: 11582, dtype: object"
      ]
     },
     "execution_count": 20,
     "metadata": {},
     "output_type": "execute_result"
    }
   ],
   "source": [
    "p.name"
   ]
  },
  {
   "cell_type": "code",
   "execution_count": 21,
   "id": "2ed13f7f-871c-4a8e-a5c3-92926320902a",
   "metadata": {},
   "outputs": [],
   "source": [
    "\n",
    "from itertools import chain\n",
    "attrs = sorted(\n",
    "    (attr[\"idx\"], attr[\"name\"])\n",
    "    for attr in (\n",
    "        chain(*transformedBestModel.schema[\"features\"].metadata[\"ml_attr\"][\"attrs\"].values())\n",
    "    )\n",
    ") "
   ]
  },
  {
   "cell_type": "code",
   "execution_count": 22,
   "id": "44c4c302-e780-4697-b518-937de740ca6b",
   "metadata": {},
   "outputs": [
    {
     "data": {
      "text/plain": [
       "[('wlan_daOHE_24:f5:a2:ea:86:c3', 0.16393184298732014),\n",
       " ('wlan_daOHE_00:0c:29:cf:08:aa', 0.10871492960936333),\n",
       " ('wlan_daOHE_00:0c:29:cf:08:aa-00:0c:29:cf:08:aa', 0.00027316241387685886),\n",
       " ('wlan_daOHE_50:3e:aa:e3:1f:be-50:3e:aa:e3:1f:be-50:3e:aa:e3:1f:be',\n",
       "  0.0002882999829125571),\n",
       " ('wlan_daOHE_a4:b1:c1:91:4c:72-a4:b1:c1:91:4c:72-a4:b1:c1:91:4c:72',\n",
       "  9.858893114122325e-05),\n",
       " ('wlan_daOHE_24:f5:a2:ea:86:c3-24:f5:a2:ea:86:c3-24:f5:a2:ea:86:c3',\n",
       "  6.841744734386446e-05),\n",
       " ('wlan_daOHE_50:3e:aa:e4:01:93-50:3e:aa:e4:01:93-50:3e:aa:e4:01:93',\n",
       "  5.897853008102251e-06),\n",
       " ('wlan_saOHE_00:0c:29:cf:08:aa', 0.48417576824363523),\n",
       " ('wlan_saOHE_24:f5:a2:ea:86:c3', 0.008766637454545012),\n",
       " ('wlan_saOHE_94:e9:79:82:c5:77-94:e9:79:82:c5:77-94:e9:79:82:c5:77',\n",
       "  8.949721272316395e-05),\n",
       " ('wlan_saOHE_00:0c:29:cf:08:aa-00:0c:29:cf:08:aa', 0.004846827464417092),\n",
       " ('ip_dstOHE_192.168.2.130', 0.11818792086739371),\n",
       " ('data_dataOHE_NA', 0.0003028535215779918),\n",
       " ('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',\n",
       "  0.00013373336418792128),\n",
       " ('data_dataOHE_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',\n",
       "  0.0003108000189701424),\n",
       " ('tcp_checksumOHE_0x00007783', 4.502952494898455e-05),\n",
       " ('tcp_checksumOHE_0x000014b7', 0.00011286899419533014),\n",
       " ('tcp_checksumOHE_0x00003495', 8.995728764312048e-06),\n",
       " ('tcp_checksumOHE_0x00005283', 0.00019816040799179414),\n",
       " ('tcp_checksumOHE_0x00006b1f', 0.00016609027602291655),\n",
       " ('tcp_checksumOHE_0x00006dc8', 6.355499694915865e-05),\n",
       " ('tcp_checksumOHE_0x000079a1', 5.629175967632235e-06),\n",
       " ('tcp_checksumOHE_0x00007b34', 2.496958109311559e-05),\n",
       " ('tcp_checksumOHE_0x00007f39', 6.770063139228394e-06),\n",
       " ('tcp_checksumOHE_0x000094d3', 0.00015768757247151794),\n",
       " ('tcp_checksumOHE_0x00009bb7', 7.635370240006153e-05),\n",
       " ('tcp_checksumOHE_0x0000ab3f', 5.747295220594953e-05),\n",
       " ('tcp_checksumOHE_0x0000b2a5', 3.27413599853899e-05),\n",
       " ('tcp_checksumOHE_0x0000b2b6', 6.622070047872586e-05),\n",
       " ('tcp_checksumOHE_0x0000ec53', 5.90385934246515e-05),\n",
       " ('tcp_checksumOHE_0x0000005e', 2.939082929230749e-05),\n",
       " ('tcp_checksumOHE_0x00000baf', 9.288723236106612e-05),\n",
       " ('tcp_checksumOHE_0x000010da', 2.9764872713990858e-05),\n",
       " ('tcp_checksumOHE_0x00001369', 3.650979622378976e-05),\n",
       " ('tcp_checksumOHE_0x00002e29', 3.811516952133413e-05),\n",
       " ('tcp_checksumOHE_0x00002ea5', 3.1925650548103956e-05),\n",
       " ('tcp_checksumOHE_0x000035d5', 2.045992808110272e-05),\n",
       " ('tcp_checksumOHE_0x00003740', 0.0001555591886829866),\n",
       " ('tcp_checksumOHE_0x00003d47', 6.828497617811627e-05),\n",
       " ('tcp_checksumOHE_0x0000443a', 5.203638438293717e-05),\n",
       " ('tcp_checksumOHE_0x0000450e-0x00002e6c', 0.0006125598897666136),\n",
       " ('tcp_checksumOHE_0x00004671', 8.55570202369359e-05),\n",
       " ('tcp_checksumOHE_0x00004be7', 0.00010340824021328089),\n",
       " ('tcp_checksumOHE_0x0000589a', 3.245653487037129e-05),\n",
       " ('tcp_checksumOHE_0x00006da7', 0.00026706223531534527),\n",
       " ('tcp_checksumOHE_0x00007011', 4.39491093983569e-05),\n",
       " ('tcp_checksumOHE_0x0000758b', 4.0309605593461246e-05),\n",
       " ('tcp_checksumOHE_0x0000773d', 6.347043229461391e-05),\n",
       " ('tcp_checksumOHE_0x0000867a', 3.701054667217105e-05),\n",
       " ('tcp_checksumOHE_0x00008779', 0.0002010826150662361),\n",
       " ('tcp_checksumOHE_0x00008880', 6.786343061541001e-05),\n",
       " ('tcp_checksumOHE_0x00008ea0', 3.186836559926164e-05),\n",
       " ('tcp_checksumOHE_0x000092e4', 1.5627117021012687e-05),\n",
       " ('tcp_checksumOHE_0x000095c4', 5.826859841669934e-06),\n",
       " ('tcp_checksumOHE_0x00009b0c', 0.0004467116773195602),\n",
       " ('tcp_checksumOHE_0x0000a2d3', 3.178107440186044e-05),\n",
       " ('tcp_checksumOHE_0x0000a52c', 3.2461560036210264e-05),\n",
       " ('tcp_checksumOHE_0x0000a538', 0.00019748640776895548),\n",
       " ('tcp_checksumOHE_0x0000b2d2', 7.750354694335868e-05),\n",
       " ('tcp_checksumOHE_0x0000b379', 8.057742175598183e-05),\n",
       " ('tcp_checksumOHE_0x0000b6b3', 3.332313479204123e-05),\n",
       " ('tcp_checksumOHE_0x0000bcf7', 0.0002369512435575163),\n",
       " ('tcp_checksumOHE_0x0000ce6e', 0.00011346973884979361),\n",
       " ('tcp_checksumOHE_0x0000ced5-0x0000ace5', 0.0004128531068000929),\n",
       " ('tcp_checksumOHE_0x0000da85', 0.0002988591696210328),\n",
       " ('tcp_checksumOHE_0x0000df30', 2.7518562340033635e-05),\n",
       " ('tcp_checksumOHE_0x0000e8c5', 2.9887446085275117e-05),\n",
       " ('frame_time_delta', 0.001066186829052888),\n",
       " ('frame_time_epoch', 0.06946061213869416),\n",
       " ('wlan_seq', 0.009331279209726102),\n",
       " ('tcp_time_delta', 9.65829343908528e-06),\n",
       " ('radiotap_dbm_antsignal', 0.0024720086717083985),\n",
       " ('tcp_ack', 0.0006810380321863335),\n",
       " ('tcp_seq', 0.013954736096787504),\n",
       " ('radiotap_timestamp_ts', 0.007565349605187986)]"
      ]
     },
     "execution_count": 22,
     "metadata": {},
     "output_type": "execute_result"
    }
   ],
   "source": [
    "[\n",
    "    (name,  bestModel.bestModel.stages[-1].featureImportances[idx])\n",
    "    for idx, name in attrs\n",
    "    if bestModel.bestModel.stages[-1].featureImportances[idx]\n",
    "]"
   ]
  },
  {
   "cell_type": "code",
   "execution_count": 23,
   "id": "251425d2-b8ce-4d55-ae2e-977d3f7e8add",
   "metadata": {},
   "outputs": [
    {
     "data": {
      "text/plain": [
       "11582"
      ]
     },
     "execution_count": 23,
     "metadata": {},
     "output_type": "execute_result"
    }
   ],
   "source": [
    "len(bestModel.bestModel.stages[-1].featureImportances)"
   ]
  },
  {
   "cell_type": "markdown",
   "id": "c1a448e1-e862-4ec7-83fe-3a7108e33290",
   "metadata": {},
   "source": [
    "The test on the subsample tells us which are important dimensions that we can then use for out model. The lengh output shows that even with the subsample the one hot encoder makes adds an order of magnitude of dimensions"
   ]
  },
  {
   "cell_type": "code",
   "execution_count": 13,
   "id": "d7bc9251-2da6-4d87-a9a2-a319d1290f03",
   "metadata": {},
   "outputs": [],
   "source": [
    "train, test = df.randomSplit([0.8,0.2])"
   ]
  },
  {
   "cell_type": "code",
   "execution_count": 14,
   "id": "3002ad02-183f-4dcd-89f7-ca012417140c",
   "metadata": {},
   "outputs": [
    {
     "name": "stdout",
     "output_type": "stream",
     "text": [
      "Events for the training 1851077\n",
      "Events for the validation 461683\n"
     ]
    }
   ],
   "source": [
    "print('Events for the training {}'.format(train.count()))\n",
    "print('Events for the validation {}'.format(test.count()))"
   ]
  },
  {
   "cell_type": "code",
   "execution_count": 15,
   "id": "ea96cfd2-da22-40ea-b5de-001477c13eaf",
   "metadata": {},
   "outputs": [],
   "source": [
    "importantNumerical=[\n",
    "   \n",
    "]"
   ]
  },
  {
   "cell_type": "code",
   "execution_count": 16,
   "id": "42d98025-120b-463a-a00b-bbe535438b0a",
   "metadata": {},
   "outputs": [],
   "source": [
    "importantCategorical=[\n",
    "    'wlan_da',\n",
    "    'ip_dst',\n",
    "    'wlan_sa'\n",
    "]"
   ]
  },
  {
   "cell_type": "code",
   "execution_count": 17,
   "id": "849fb6b6-caa4-4aff-9d29-06d32493d783",
   "metadata": {},
   "outputs": [],
   "source": [
    "ImportantstringIndexer = StringIndexer(inputCols=importantCategorical, outputCols=[x + \"index\" for x in importantCategorical]).setHandleInvalid(\"keep\") \n",
    "Importantencoder = OneHotEncoder(inputCols=ImportantstringIndexer.getOutputCols(), outputCols=[x + \"OHE\" for x in importantCategorical]) "
   ]
  },
  {
   "cell_type": "code",
   "execution_count": 18,
   "id": "ed08fb80-cef9-4008-86aa-fd2168ab1d53",
   "metadata": {},
   "outputs": [],
   "source": [
    "# This includes both the numeric columns and the one-hot encoded binary vector columns in our dataset.\n",
    "ImportantAssemblerInputs = [c + \"OHE\" for c in importantCategorical] + importantNumerical\n",
    "ImportantvecAssembler = VectorAssembler(inputCols=ImportantAssemblerInputs, outputCol=\"importantfeatures\")"
   ]
  },
  {
   "cell_type": "code",
   "execution_count": 19,
   "id": "df185548-6ee8-4701-9498-76aadd213bbe",
   "metadata": {},
   "outputs": [],
   "source": [
    "\n",
    "\n",
    "rf = RandomForestClassifier(labelCol='label', featuresCol='importantfeatures', numTrees=50)"
   ]
  },
  {
   "cell_type": "code",
   "execution_count": 20,
   "id": "6985d897-9508-4003-9175-515798bb965b",
   "metadata": {},
   "outputs": [],
   "source": [
    "\n",
    " \n",
    "# Define the pipeline based on the stages created in previous steps.\n",
    "pipeline = Pipeline(stages=[ImportantstringIndexer, Importantencoder, ImportantvecAssembler,rf])\n",
    " \n",
    "\n",
    " \n"
   ]
  },
  {
   "cell_type": "code",
   "execution_count": 21,
   "id": "135057f8-7198-4c96-bc8d-c6d3ed73dafd",
   "metadata": {},
   "outputs": [],
   "source": [
    "# Define the pipeline model.\n",
    "pipelineModel = pipeline.fit(train)"
   ]
  },
  {
   "cell_type": "code",
   "execution_count": 22,
   "id": "d9a8ee3c-dded-449b-a2cd-d1683dd1d0d5",
   "metadata": {},
   "outputs": [],
   "source": [
    "# Apply the pipeline model to the test dataset.\n",
    "pred = pipelineModel.transform(test)"
   ]
  },
  {
   "cell_type": "code",
   "execution_count": 23,
   "id": "f8724e5c-af62-44aa-a7f9-117cbe761d39",
   "metadata": {},
   "outputs": [
    {
     "name": "stdout",
     "output_type": "stream",
     "text": [
      "+----------------+---------+------------+--------------------+----------------+--------------------------+------------------+-------------------+--------------------------+---------------------------+---------------------+-----------------+----------------------+---------------+----------------+---------------------+----------------+---------------------+-------------------+-------------+-----------------+-----------------+----------+---------------------+----------------------+-------+----------+------------+-------------+----------------+-----------------+--------------+------------+-------------+---------------+---------------------+-----------------+---------------------------+----------------------------+----------------------+--------------------+-----------------+-------------------+-------------------+--------------------+-----------------+-------+--------+---------+-------+--------+---------------+------------------+--------------------+------------------+--------------------+---------------------+--------------------+--------------+--------------------+--------------------------+----------------------------+---------------------------+-------------------------------+---------------------------------------+----------------------------+--------------------+---------------------------+---------+----------+---+---+-----------+--------------+-----------+--------------+----------+--------------+------------------+--------------+------------------+------+--------+------+------+----------+---------+--------+----------------------------+---------------+-------+-----------+------------+------------------+---------------------------+-------------------------+----------------------+------------+-------------------+-------------+-----------+-------------+-------------+--------------+---------------+--------------+-----------+-------+-----------+-----------+--------------+-----------------+-----------+-----------+----------+-----------+-----------------+--------------+----+----------------------+---------+-----------+----+--------------------------+-----------------------+------------------------+----------------+------------------+-------------------+------------------+-------+-------------+--------------------+------------+-------+---------+---------------+----------------+--------+----------------+-----------+--------+-------------+---------------+---------+-----------+--------+-------------------+----------------+----------+------------------+--------+-----------------+----+------------------------------+-----------+--------------------+----------------+-------+--------------+-------------+--------------+-----------------------------+--------------------------+------------------+------------------------------------+----+---+-----+----------------+-----------------+-----------------+----------------+-----------------+-----------------------+----------------------+----------------+------------------+------+-------------------+------------+----------------+------------+-------------+------------+--------------+----------------------+-----------------------+--------+----+---------------+-------------------+-----------------+---------+--------------+---------+------------------+-------------+--------------------+---------------------+---------------------+-----------------+-------------------+---------------------+----------------------+--------------------------------+--------------------+---------------+------------------+-----------------------+------------------+--------------------+---------------------+---------------------+----------------+------------+---------+-----------+-----------------+--------+----------+--------------------------------------------------+--------------------------------------------------+-------------+--------------+--------------+----------------+-------------------------------------------------+-------------------------------------------------+-------------------+------------------------+-------------------------+------------------------------------------+------------------------------------------+----------------+----------------+-----------------+---------------------------+------------------+------------------+------------+-------------------------------------+----------------------+-----------------------+------------------+--------------------------------------------------------------+-----------------+----------------------------+----------------------------------------+-----------------------------------+---------------------+-----------------------+------------------+-----------+-----+------------+-----------+------------+---------------+----------------+---------------+--------------------+--------------------+--------------------+----------+\n",
      "|frame_encap_type|frame_len|frame_number|          frame_time|frame_time_delta|frame_time_delta_displayed|  frame_time_epoch|frame_time_relative|radiotap_channel_flags_cck|radiotap_channel_flags_ofdm|radiotap_channel_freq|radiotap_datarate|radiotap_dbm_antsignal|radiotap_length|radiotap_mactime|radiotap_present_tsft|radiotap_rxflags|radiotap_timestamp_ts|radiotap_vendor_oui|wlan_duration|wlan_analysis_kck|wlan_analysis_kek|wlan_bssid|wlan_country_info_fnm|wlan_country_info_code|wlan_da|wlan_fc_ds|wlan_fc_frag|wlan_fc_order|wlan_fc_moredata|wlan_fc_protected|wlan_fc_pwrmgt|wlan_fc_type|wlan_fc_retry|wlan_fc_subtype|wlan_fcs_bad_checksum|wlan_fixed_beacon|wlan_fixed_capabilities_ess|wlan_fixed_capabilities_ibss|wlan_fixed_reason_code|wlan_fixed_timestamp|          wlan_ra|wlan_radio_duration|wlan_rsn_ie_gtk_key|wlan_rsn_ie_igtk_key|wlan_rsn_ie_pmkid|wlan_sa|wlan_seq|wlan_ssid|wlan_ta|wlan_tag|wlan_tag_length|wlan_radio_channel|wlan_radio_data_rate|wlan_radio_end_tsf|wlan_radio_frequency|wlan_radio_signal_dbm|wlan_radio_start_tsf|wlan_radio_phy|wlan_radio_timestamp|wlan_rsn_capabilities_mfpc|wlan_rsna_eapol_keydes_msgnr|wlan_rsna_eapol_keydes_data|wlan_rsna_eapol_keydes_data_len|wlan_rsna_eapol_keydes_key_info_key_mic|wlan_rsna_eapol_keydes_nonce|eapol_keydes_key_len|eapol_keydes_replay_counter|eapol_len|eapol_type|llc|arp|arp_hw_type|arp_proto_type|arp_hw_size|arp_proto_size|arp_opcode|arp_src_hw_mac|arp_src_proto_ipv4|arp_dst_hw_mac|arp_dst_proto_ipv4|ip_dst|ip_proto|ip_src|ip_ttl|ip_version|data_data|data_len|icmpv6_mldr_nb_mcast_records|icmpv6_ni_nonce|tcp_ack|tcp_ack_raw|tcp_analysis|tcp_analysis_flags|tcp_analysis_retransmission|tcp_analysis_reused_ports|tcp_analysis_rto_frame|tcp_checksum|tcp_checksum_status|tcp_flags_syn|tcp_dstport|tcp_flags_ack|tcp_flags_fin|tcp_flags_push|tcp_flags_reset|tcp_option_len|tcp_payload|tcp_seq|tcp_seq_raw|tcp_srcport|tcp_time_delta|tcp_time_relative|udp_dstport|udp_srcport|udp_length|udp_payload|udp_time_relative|udp_time_delta|nbns|nbss_continuation_data|nbss_type|nbss_length|ldap|smb_access_generic_execute|smb_access_generic_read|smb_access_generic_write|smb_flags_notify|smb_flags_response|smb_flags2_nt_error|smb_flags2_sec_sig|smb_mid|smb_nt_status|smb_server_component|smb_pid_high|smb_tid|smb2_acct|smb2_auth_frame|smb2_buffer_code|smb2_cmd|smb2_data_offset|smb2_domain|smb2_fid|smb2_filename|smb2_header_len|smb2_host|smb2_msg_id|smb2_pid|smb2_previous_sesid|smb2_protocol_id|smb2_sesid|smb2_session_flags|smb2_tid|smb2_write_length|dhcp|dhcp_client_id_duid_ll_hw_type|dhcp_cookie|dhcp_hw_addr_padding|dhcp_hw_mac_addr|dhcp_id|dhcp_ip_client|dhcp_ip_relay|dhcp_ip_server|dhcp_option_broadcast_address|dhcp_option_dhcp_server_id|dhcp_option_router|dhcp_option_vendor_bsdp_message_type|mdns|dns|dns_a|dns_count_add_rr|dns_count_answers|dns_count_auth_rr|dns_count_labels|dns_count_queries|dns_flags_authoritative|dns_flags_checkdisable|dns_flags_opcode|dns_flags_response|dns_id|dns_ptr_domain_name|dns_qry_name|dns_qry_name_len|dns_resp_len|dns_resp_name|dns_resp_ttl|dns_resp_len_1|dns_retransmit_request|dns_retransmit_response|dns_time|ssdp|http_connection|http_content_length|http_content_type|http_date|http_file_data|http_host|http_last_modified|http_location|http_next_request_in|http_next_response_in|http_request_full_uri|http_request_line|http_request_method|http_request_uri_path|http_request_uri_query|http_request_uri_query_parameter|http_request_version|http_request_in|http_response_code|http_response_code_desc|http_response_line|http_response_phrase|http_response_version|http_response_for_uri|http_response_in|http_referer|http_time|http_server|json_value_string|json_key|ssh_cookie|ssh_compression_algorithms_client_to_server_length|ssh_compression_algorithms_server_to_client_length|ssh_direction|ssh_dh_gex_max|ssh_dh_gex_min|ssh_dh_gex_nbits|ssh_encryption_algorithms_client_to_server_length|ssh_encryption_algorithms_server_to_client_length|ssh_host_key_length|ssh_host_key_type_length|ssh_kex_algorithms_length|ssh_mac_algorithms_client_to_server_length|ssh_mac_algorithms_server_to_client_length|ssh_message_code|ssh_mpint_length|ssh_packet_length|ssh_packet_length_encrypted|ssh_padding_length|ssh_padding_string|ssh_protocol|ssh_server_host_key_algorithms_length|tls_alert_message_desc|tls_alert_message_level|tls_app_data_proto|tls_compress_certificate_compressed_certificate_message_length|tls_connection_id|tls_handshake_extension_type|tls_handshake_extensions_key_share_group|tls_handshake_session_ticket_length|tls_handshake_version|tls_record_content_type|tls_record_version|StringLabel|label|wlan_daindex|ip_dstindex|wlan_saindex|     wlan_daOHE|       ip_dstOHE|     wlan_saOHE|   importantfeatures|       rawPrediction|         probability|prediction|\n",
      "+----------------+---------+------------+--------------------+----------------+--------------------------+------------------+-------------------+--------------------------+---------------------------+---------------------+-----------------+----------------------+---------------+----------------+---------------------+----------------+---------------------+-------------------+-------------+-----------------+-----------------+----------+---------------------+----------------------+-------+----------+------------+-------------+----------------+-----------------+--------------+------------+-------------+---------------+---------------------+-----------------+---------------------------+----------------------------+----------------------+--------------------+-----------------+-------------------+-------------------+--------------------+-----------------+-------+--------+---------+-------+--------+---------------+------------------+--------------------+------------------+--------------------+---------------------+--------------------+--------------+--------------------+--------------------------+----------------------------+---------------------------+-------------------------------+---------------------------------------+----------------------------+--------------------+---------------------------+---------+----------+---+---+-----------+--------------+-----------+--------------+----------+--------------+------------------+--------------+------------------+------+--------+------+------+----------+---------+--------+----------------------------+---------------+-------+-----------+------------+------------------+---------------------------+-------------------------+----------------------+------------+-------------------+-------------+-----------+-------------+-------------+--------------+---------------+--------------+-----------+-------+-----------+-----------+--------------+-----------------+-----------+-----------+----------+-----------+-----------------+--------------+----+----------------------+---------+-----------+----+--------------------------+-----------------------+------------------------+----------------+------------------+-------------------+------------------+-------+-------------+--------------------+------------+-------+---------+---------------+----------------+--------+----------------+-----------+--------+-------------+---------------+---------+-----------+--------+-------------------+----------------+----------+------------------+--------+-----------------+----+------------------------------+-----------+--------------------+----------------+-------+--------------+-------------+--------------+-----------------------------+--------------------------+------------------+------------------------------------+----+---+-----+----------------+-----------------+-----------------+----------------+-----------------+-----------------------+----------------------+----------------+------------------+------+-------------------+------------+----------------+------------+-------------+------------+--------------+----------------------+-----------------------+--------+----+---------------+-------------------+-----------------+---------+--------------+---------+------------------+-------------+--------------------+---------------------+---------------------+-----------------+-------------------+---------------------+----------------------+--------------------------------+--------------------+---------------+------------------+-----------------------+------------------+--------------------+---------------------+---------------------+----------------+------------+---------+-----------+-----------------+--------+----------+--------------------------------------------------+--------------------------------------------------+-------------+--------------+--------------+----------------+-------------------------------------------------+-------------------------------------------------+-------------------+------------------------+-------------------------+------------------------------------------+------------------------------------------+----------------+----------------+-----------------+---------------------------+------------------+------------------+------------+-------------------------------------+----------------------+-----------------------+------------------+--------------------------------------------------------------+-----------------+----------------------------+----------------------------------------+-----------------------------------+---------------------+-----------------------+------------------+-----------+-----+------------+-----------+------------+---------------+----------------+---------------+--------------------+--------------------+--------------------+----------+\n",
      "|              23|       70|      500041|Dec 15- 2020 15:2...|          4.8E-5|                    4.8E-5|1.60803868809762E9|         295.193785|                         0|                          1|                 5180|             24.0|                     0|             56| 1.2692348787E10|                1-0-0|      0x00000000|           4102414176|                  0|          145|               NA|               NA|        NA|                   NA|                    NA|     NA|0x00000000|           0|            0|               0|                0|             0|           1|            0|             12|                    0|                0|                          0|                           0|                     0|                 0.0|a4:b1:c1:91:4c:72|                 28|                  0|                   0|                0|     NA|     0.0|       NA|     NA|       0|             NA|                36|                24.0|   1.2692348787E10|                5180|                  -34|     1.2692348759E10|             5|     1.2692348787E10|                       0.0|                         0.0|                         NA|                            0.0|                                    0.0|                          NA|                 0.0|                        0.0|      0.0|       0.0| NA| NA|        0.0|            NA|        0.0|           0.0|       0.0|            NA|                NA|            NA|                NA|    NA|       0|    NA|     0|         0|       NA|       0|                         0.0|              0|      0|          0|           0|                 0|                          0|                        0|                     0|          NA|                  0|            0|          0|            0|            0|             0|              0|             0|         NA|      0|          0|          0|           0.0|              0.0|          0|          0|         0|         NA|              0.0|           0.0|  NA|                    NA|       NA|        0.0|  NA|                       0.0|                    0.0|                     0.0|             0.0|               0.0|                0.0|               0.0|    0.0|          0.0|                  NA|         0.0|    0.0|       NA|             NA|              NA|      NA|              NA|         NA|      NA|           NA|             NA|       NA|         NA|      NA|                 NA|              NA|        NA|                NA|      NA|                0|  NA|                            NA|         NA|                 0.0|              NA|     NA|            NA|           NA|            NA|                           NA|                        NA|                NA|                                  NA|  NA| NA|   NA|               0|                0|                0|               0|                0|                     NA|                    NA|              NA|                NA|    NA|                 NA|          NA|               0|          NA|           NA|          NA|            NA|                     0|                      0|     0.0|  NA|             NA|                0.0|               NA|       NA|            NA|       NA|                NA|           NA|                  NA|                   NA|                   NA|               NA|                 NA|                   NA|                    NA|                              NA|                  NA|            0.0|               0.0|                     NA|                NA|                  NA|                   NA|                   NA|              NA|          NA|      0.0|         NA|               NA|      NA|        NA|                                                 0|                                                 0|            0|             0|             0|               0|                                                0|                                                0|                  0|                       0|                        0|                                         0|                                         0|              NA|              NA|                0|                         NA|                 0|                 0|          NA|                                    0|                     0|                      0|                NA|                                                           0.0|               NA|                          NA|                                      NA|                                  0|                   NA|                      0|                NA|     Normal|    0|         0.0|        0.0|         0.0|(578,[0],[1.0])|(3186,[0],[1.0])|(715,[0],[1.0])|(4479,[0,578,3764...|[47.4870973630142...|[0.94974194726028...|       0.0|\n",
      "+----------------+---------+------------+--------------------+----------------+--------------------------+------------------+-------------------+--------------------------+---------------------------+---------------------+-----------------+----------------------+---------------+----------------+---------------------+----------------+---------------------+-------------------+-------------+-----------------+-----------------+----------+---------------------+----------------------+-------+----------+------------+-------------+----------------+-----------------+--------------+------------+-------------+---------------+---------------------+-----------------+---------------------------+----------------------------+----------------------+--------------------+-----------------+-------------------+-------------------+--------------------+-----------------+-------+--------+---------+-------+--------+---------------+------------------+--------------------+------------------+--------------------+---------------------+--------------------+--------------+--------------------+--------------------------+----------------------------+---------------------------+-------------------------------+---------------------------------------+----------------------------+--------------------+---------------------------+---------+----------+---+---+-----------+--------------+-----------+--------------+----------+--------------+------------------+--------------+------------------+------+--------+------+------+----------+---------+--------+----------------------------+---------------+-------+-----------+------------+------------------+---------------------------+-------------------------+----------------------+------------+-------------------+-------------+-----------+-------------+-------------+--------------+---------------+--------------+-----------+-------+-----------+-----------+--------------+-----------------+-----------+-----------+----------+-----------+-----------------+--------------+----+----------------------+---------+-----------+----+--------------------------+-----------------------+------------------------+----------------+------------------+-------------------+------------------+-------+-------------+--------------------+------------+-------+---------+---------------+----------------+--------+----------------+-----------+--------+-------------+---------------+---------+-----------+--------+-------------------+----------------+----------+------------------+--------+-----------------+----+------------------------------+-----------+--------------------+----------------+-------+--------------+-------------+--------------+-----------------------------+--------------------------+------------------+------------------------------------+----+---+-----+----------------+-----------------+-----------------+----------------+-----------------+-----------------------+----------------------+----------------+------------------+------+-------------------+------------+----------------+------------+-------------+------------+--------------+----------------------+-----------------------+--------+----+---------------+-------------------+-----------------+---------+--------------+---------+------------------+-------------+--------------------+---------------------+---------------------+-----------------+-------------------+---------------------+----------------------+--------------------------------+--------------------+---------------+------------------+-----------------------+------------------+--------------------+---------------------+---------------------+----------------+------------+---------+-----------+-----------------+--------+----------+--------------------------------------------------+--------------------------------------------------+-------------+--------------+--------------+----------------+-------------------------------------------------+-------------------------------------------------+-------------------+------------------------+-------------------------+------------------------------------------+------------------------------------------+----------------+----------------+-----------------+---------------------------+------------------+------------------+------------+-------------------------------------+----------------------+-----------------------+------------------+--------------------------------------------------------------+-----------------+----------------------------+----------------------------------------+-----------------------------------+---------------------+-----------------------+------------------+-----------+-----+------------+-----------+------------+---------------+----------------+---------------+--------------------+--------------------+--------------------+----------+\n",
      "only showing top 1 row\n",
      "\n"
     ]
    }
   ],
   "source": [
    "pred.show(1)"
   ]
  },
  {
   "cell_type": "code",
   "execution_count": 24,
   "id": "5ae77ee8-f631-46e0-9859-7a88f04f7167",
   "metadata": {},
   "outputs": [
    {
     "data": {
      "text/html": [
       "<div>\n",
       "<style scoped>\n",
       "    .dataframe tbody tr th:only-of-type {\n",
       "        vertical-align: middle;\n",
       "    }\n",
       "\n",
       "    .dataframe tbody tr th {\n",
       "        vertical-align: top;\n",
       "    }\n",
       "\n",
       "    .dataframe thead th {\n",
       "        text-align: right;\n",
       "    }\n",
       "</style>\n",
       "<table border=\"1\" class=\"dataframe\">\n",
       "  <thead>\n",
       "    <tr style=\"text-align: right;\">\n",
       "      <th></th>\n",
       "      <th>label</th>\n",
       "      <th>prediction</th>\n",
       "      <th>probability</th>\n",
       "    </tr>\n",
       "  </thead>\n",
       "  <tbody>\n",
       "    <tr>\n",
       "      <th>0</th>\n",
       "      <td>0</td>\n",
       "      <td>0.0</td>\n",
       "      <td>[0.9497419472602844, 0.05025805273971564]</td>\n",
       "    </tr>\n",
       "    <tr>\n",
       "      <th>1</th>\n",
       "      <td>0</td>\n",
       "      <td>0.0</td>\n",
       "      <td>[0.9497419472602844, 0.05025805273971564]</td>\n",
       "    </tr>\n",
       "    <tr>\n",
       "      <th>2</th>\n",
       "      <td>0</td>\n",
       "      <td>0.0</td>\n",
       "      <td>[0.9497419472602844, 0.05025805273971564]</td>\n",
       "    </tr>\n",
       "    <tr>\n",
       "      <th>3</th>\n",
       "      <td>0</td>\n",
       "      <td>0.0</td>\n",
       "      <td>[0.9497419472602844, 0.05025805273971564]</td>\n",
       "    </tr>\n",
       "    <tr>\n",
       "      <th>4</th>\n",
       "      <td>0</td>\n",
       "      <td>0.0</td>\n",
       "      <td>[0.9497419472602844, 0.05025805273971564]</td>\n",
       "    </tr>\n",
       "  </tbody>\n",
       "</table>\n",
       "</div>"
      ],
      "text/plain": [
       "   label  prediction                                probability\n",
       "0      0         0.0  [0.9497419472602844, 0.05025805273971564]\n",
       "1      0         0.0  [0.9497419472602844, 0.05025805273971564]\n",
       "2      0         0.0  [0.9497419472602844, 0.05025805273971564]\n",
       "3      0         0.0  [0.9497419472602844, 0.05025805273971564]\n",
       "4      0         0.0  [0.9497419472602844, 0.05025805273971564]"
      ]
     },
     "execution_count": 24,
     "metadata": {},
     "output_type": "execute_result"
    }
   ],
   "source": [
    "pred_pd = pred.select(['label', 'prediction', 'probability']).toPandas()\n",
    "pred_pd.head()"
   ]
  },
  {
   "cell_type": "code",
   "execution_count": 25,
   "id": "503e64c3-5126-4427-bbf9-2526223443b6",
   "metadata": {},
   "outputs": [],
   "source": [
    "from sklearn.metrics import confusion_matrix\n",
    "\n",
    "confusion_matrix(pred_pd['label'], pred_pd['prediction'])\n",
    "tn, fp, fn, tp = confusion_matrix(pred_pd['label'], pred_pd['prediction']).ravel()"
   ]
  },
  {
   "cell_type": "code",
   "execution_count": 26,
   "id": "8d3f0f18-cf7f-45c6-a348-eb507cfa5d1d",
   "metadata": {},
   "outputs": [
    {
     "name": "stdout",
     "output_type": "stream",
     "text": [
      "There are 435428 true negatives\n",
      "There are 0 true positives\n",
      "There are 26255 false negatives\n",
      "There are 0 false positives\n"
     ]
    }
   ],
   "source": [
    "print(\"There are \"+str(tn)+ \" true negatives\")\n",
    "print(\"There are \"+str(tp)+ \" true positives\")\n",
    "print(\"There are \"+str(fn)+ \" false negatives\")\n",
    "print(\"There are \"+str(fp)+ \" false positives\")"
   ]
  },
  {
   "cell_type": "code",
   "execution_count": 27,
   "id": "e76a2f7a-d4a4-45a6-b4d4-512ad8027475",
   "metadata": {},
   "outputs": [
    {
     "name": "stdout",
     "output_type": "stream",
     "text": [
      "The precision is 0.0\n",
      "The recall is 0.0\n",
      "The fscore is 0.0\n",
      "The Matthews correlation coefficient is 0.0\n"
     ]
    },
    {
     "name": "stderr",
     "output_type": "stream",
     "text": [
      "/opt/conda/lib/python3.9/site-packages/sklearn/metrics/_classification.py:1318: UndefinedMetricWarning: Precision and F-score are ill-defined and being set to 0.0 due to no predicted samples. Use `zero_division` parameter to control this behavior.\n",
      "  _warn_prf(average, modifier, msg_start, len(result))\n"
     ]
    }
   ],
   "source": [
    "from sklearn.metrics import precision_recall_fscore_support\n",
    "from sklearn.metrics import matthews_corrcoef\n",
    "\n",
    "precision,recall,fscore,support = precision_recall_fscore_support(pred_pd['label'], pred_pd['prediction'], average='binary')\n",
    "matthews_corrcoef = matthews_corrcoef(pred_pd['label'], pred_pd['prediction'])\n",
    "print(\"The precision is \"+str(precision))\n",
    "print(\"The recall is \"+str(recall))\n",
    "print(\"The fscore is \"+str(fscore))\n",
    "print(\"The Matthews correlation coefficient is \"+str(matthews_corrcoef))"
   ]
  },
  {
   "cell_type": "code",
   "execution_count": 28,
   "id": "2e939b6e-ee57-4c4d-812b-8465791c68fd",
   "metadata": {},
   "outputs": [
    {
     "data": {
      "text/html": [
       "<div>\n",
       "<style scoped>\n",
       "    .dataframe tbody tr th:only-of-type {\n",
       "        vertical-align: middle;\n",
       "    }\n",
       "\n",
       "    .dataframe tbody tr th {\n",
       "        vertical-align: top;\n",
       "    }\n",
       "\n",
       "    .dataframe thead th {\n",
       "        text-align: right;\n",
       "    }\n",
       "</style>\n",
       "<table border=\"1\" class=\"dataframe\">\n",
       "  <thead>\n",
       "    <tr style=\"text-align: right;\">\n",
       "      <th></th>\n",
       "      <th>label</th>\n",
       "      <th>prediction</th>\n",
       "      <th>probability</th>\n",
       "    </tr>\n",
       "  </thead>\n",
       "  <tbody>\n",
       "    <tr>\n",
       "      <th>32870</th>\n",
       "      <td>1</td>\n",
       "      <td>0.0</td>\n",
       "      <td>[0.8477088182382644, 0.15229118176173556]</td>\n",
       "    </tr>\n",
       "    <tr>\n",
       "      <th>34112</th>\n",
       "      <td>1</td>\n",
       "      <td>0.0</td>\n",
       "      <td>[0.9047288384737716, 0.09527116152622837]</td>\n",
       "    </tr>\n",
       "    <tr>\n",
       "      <th>34425</th>\n",
       "      <td>1</td>\n",
       "      <td>0.0</td>\n",
       "      <td>[0.8477088182382644, 0.15229118176173556]</td>\n",
       "    </tr>\n",
       "    <tr>\n",
       "      <th>34441</th>\n",
       "      <td>1</td>\n",
       "      <td>0.0</td>\n",
       "      <td>[0.8477088182382644, 0.15229118176173556]</td>\n",
       "    </tr>\n",
       "    <tr>\n",
       "      <th>34516</th>\n",
       "      <td>1</td>\n",
       "      <td>0.0</td>\n",
       "      <td>[0.8477088182382644, 0.15229118176173556]</td>\n",
       "    </tr>\n",
       "    <tr>\n",
       "      <th>...</th>\n",
       "      <td>...</td>\n",
       "      <td>...</td>\n",
       "      <td>...</td>\n",
       "    </tr>\n",
       "    <tr>\n",
       "      <th>461673</th>\n",
       "      <td>1</td>\n",
       "      <td>0.0</td>\n",
       "      <td>[0.9047288384737716, 0.09527116152622837]</td>\n",
       "    </tr>\n",
       "    <tr>\n",
       "      <th>461674</th>\n",
       "      <td>1</td>\n",
       "      <td>0.0</td>\n",
       "      <td>[0.9047288384737716, 0.09527116152622837]</td>\n",
       "    </tr>\n",
       "    <tr>\n",
       "      <th>461678</th>\n",
       "      <td>1</td>\n",
       "      <td>0.0</td>\n",
       "      <td>[0.8723497726574259, 0.1276502273425741]</td>\n",
       "    </tr>\n",
       "    <tr>\n",
       "      <th>461681</th>\n",
       "      <td>1</td>\n",
       "      <td>0.0</td>\n",
       "      <td>[0.8573030642383795, 0.1426969357616204]</td>\n",
       "    </tr>\n",
       "    <tr>\n",
       "      <th>461682</th>\n",
       "      <td>1</td>\n",
       "      <td>0.0</td>\n",
       "      <td>[0.8573030642383795, 0.1426969357616204]</td>\n",
       "    </tr>\n",
       "  </tbody>\n",
       "</table>\n",
       "<p>26255 rows × 3 columns</p>\n",
       "</div>"
      ],
      "text/plain": [
       "        label  prediction                                probability\n",
       "32870       1         0.0  [0.8477088182382644, 0.15229118176173556]\n",
       "34112       1         0.0  [0.9047288384737716, 0.09527116152622837]\n",
       "34425       1         0.0  [0.8477088182382644, 0.15229118176173556]\n",
       "34441       1         0.0  [0.8477088182382644, 0.15229118176173556]\n",
       "34516       1         0.0  [0.8477088182382644, 0.15229118176173556]\n",
       "...       ...         ...                                        ...\n",
       "461673      1         0.0  [0.9047288384737716, 0.09527116152622837]\n",
       "461674      1         0.0  [0.9047288384737716, 0.09527116152622837]\n",
       "461678      1         0.0   [0.8723497726574259, 0.1276502273425741]\n",
       "461681      1         0.0   [0.8573030642383795, 0.1426969357616204]\n",
       "461682      1         0.0   [0.8573030642383795, 0.1426969357616204]\n",
       "\n",
       "[26255 rows x 3 columns]"
      ]
     },
     "execution_count": 28,
     "metadata": {},
     "output_type": "execute_result"
    }
   ],
   "source": [
    "pred_pd.loc[pred_pd['label'] == 1]"
   ]
  },
  {
   "cell_type": "markdown",
   "id": "d10a4ed6-dd32-43cd-9a85-3beeeb5a9146",
   "metadata": {},
   "source": [
    "The model has classified everything as negative so needs to be adjusted"
   ]
  },
  {
   "cell_type": "code",
   "execution_count": null,
   "id": "5ae0555b-88c8-4279-ab3b-7d650be88a3f",
   "metadata": {},
   "outputs": [],
   "source": []
  },
  {
   "cell_type": "code",
   "execution_count": null,
   "id": "74ba6b35-e9a4-42c2-8f9a-1865e6f60fbe",
   "metadata": {},
   "outputs": [],
   "source": []
  },
  {
   "cell_type": "code",
   "execution_count": null,
   "id": "cd878ccf-6de8-439e-933b-e4f877f1dab1",
   "metadata": {},
   "outputs": [],
   "source": []
  }
 ],
 "metadata": {
  "kernelspec": {
   "display_name": "Python 3 (ipykernel)",
   "language": "python",
   "name": "python3"
  },
  "language_info": {
   "codemirror_mode": {
    "name": "ipython",
    "version": 3
   },
   "file_extension": ".py",
   "mimetype": "text/x-python",
   "name": "python",
   "nbconvert_exporter": "python",
   "pygments_lexer": "ipython3",
   "version": "3.9.12"
  }
 },
 "nbformat": 4,
 "nbformat_minor": 5
}
