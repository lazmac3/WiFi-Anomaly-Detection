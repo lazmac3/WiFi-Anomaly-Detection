{
 "cells": [
  {
   "cell_type": "code",
   "execution_count": 1,
   "id": "e0a30673-c306-426b-b29c-c7d4b546efff",
   "metadata": {},
   "outputs": [
    {
     "name": "stdout",
     "output_type": "stream",
     "text": [
      "Hello World\n"
     ]
    }
   ],
   "source": [
    "print(\"Hello World\")"
   ]
  },
  {
   "cell_type": "markdown",
   "id": "2e3d5508-2fd8-448d-a8e7-2d4cae8f14f3",
   "metadata": {},
   "source": [
    "The next stage of the project is looking at the algorithims, and working with a reduced set of dimensions, looking at imporving our random forest and trying other algorithims"
   ]
  },
  {
   "cell_type": "code",
   "execution_count": 2,
   "id": "1ca80d56-7e03-42be-ae46-f2727a41eba3",
   "metadata": {},
   "outputs": [],
   "source": [
    "readFile=\"Data/parquet/subSampleWholeDataSet\""
   ]
  },
  {
   "cell_type": "code",
   "execution_count": 3,
   "id": "568f24af-506e-49ee-b2d0-463093f550b2",
   "metadata": {},
   "outputs": [],
   "source": [
    "from pyspark.sql import SparkSession\n",
    "import seaborn as sns\n",
    "import matplotlib.pyplot as plt \n",
    "from pyspark.sql.functions import col"
   ]
  },
  {
   "cell_type": "code",
   "execution_count": 4,
   "id": "20e74d5e-ef53-4f92-b285-3919dc3bc776",
   "metadata": {},
   "outputs": [],
   "source": [
    "spark = SparkSession.builder \\\n",
    "    .master(\"local\") \\\n",
    "    .appName(\"WiFi\") \\\n",
    "    .config(\"spark.driver.memory\", \"8g\")\\\n",
    "    .getOrCreate()"
   ]
  },
  {
   "cell_type": "code",
   "execution_count": 5,
   "id": "814ba7fe-44ad-49a1-b7c3-f31d5959582a",
   "metadata": {},
   "outputs": [],
   "source": [
    "df=spark.read.parquet(readFile)"
   ]
  },
  {
   "cell_type": "code",
   "execution_count": 6,
   "id": "2860e76c-29aa-4c52-8837-f89ce4c129ef",
   "metadata": {},
   "outputs": [
    {
     "name": "stdout",
     "output_type": "stream",
     "text": [
      "+----------------+------+\n",
      "|     StringLabel| count|\n",
      "+----------------+------+\n",
      "|           Krack|  2500|\n",
      "|             SSH|  3541|\n",
      "|          Botnet|  2725|\n",
      "|            SSDP|  2622|\n",
      "|   SQL_Injection|  2629|\n",
      "|         RogueAP|  1310|\n",
      "|       Evil_Twin|  3088|\n",
      "|Website_spoofing|  2397|\n",
      "|       (Re)Assoc|  3331|\n",
      "|           Disas|  2957|\n",
      "|          Normal|596802|\n",
      "|          Deauth|  2249|\n",
      "|           Kr00k|  3758|\n",
      "|         Malware|  2498|\n",
      "+----------------+------+\n",
      "\n"
     ]
    },
    {
     "data": {
      "text/plain": [
       "632407"
      ]
     },
     "execution_count": 6,
     "metadata": {},
     "output_type": "execute_result"
    }
   ],
   "source": [
    "df.groupBy('StringLabel').count().show()\n",
    "df.count()"
   ]
  },
  {
   "cell_type": "markdown",
   "id": "d709200e-d7cb-4250-955a-de345d7f8d0d",
   "metadata": {},
   "source": [
    "https://docs.microsoft.com/en-us/azure/databricks/_static/notebooks/getting-started/get-started-with-mllib-dbr7.html as a guide"
   ]
  },
  {
   "cell_type": "code",
   "execution_count": 7,
   "id": "80e19669-eced-4040-a0a6-6e10ec1c89ed",
   "metadata": {},
   "outputs": [],
   "source": [
    "from pyspark.ml.feature import StringIndexer, OneHotEncoder"
   ]
  },
  {
   "cell_type": "markdown",
   "id": "986fb7b4-f008-4f95-98e1-d7fc87563cab",
   "metadata": {},
   "source": [
    "To start we will run our grid search only using the dimensions that our individual attack searches showed were responsible for most of the explanation. Dealing with all the attacks together is a much harder problems. These dimensions are:\n",
    "\n",
    " 'wlan_fixed_reason_code' Diassaciation, Deauthentication\n",
    " 'wlan_tag_length' Reassociation\n",
    " 'wlan_country_info_fnm', Rogue_AP\n",
    " 'wlan_da' Rogue_AP\n",
    " 'radiotap_channel_freq', Krack, Krook\n",
    " 'wlan_da', SSH, Botnet, Malware, Website Spoofing\n",
    " 'wlan_sa' SSH, Malware, Website Spoofing\n",
    " 'ip_dst', Botnet, Malware, SQL Injection\n",
    " 'ip_src' Botnet, SQL Injection\n",
    " 'udp_length', SSDP\n",
    " 'wlan_bssid' Evil Twin\n"
   ]
  },
  {
   "cell_type": "code",
   "execution_count": 8,
   "id": "5fc008f8-5233-427c-aed2-9952f0ad81f5",
   "metadata": {},
   "outputs": [],
   "source": [
    "categoricalCols = [\n",
    "    \"wlan_tag_length\",\n",
    "    \"wlan_country_info_fnm\",\n",
    "    \"wlan_da\",\n",
    "    \"wlan_sa\",\n",
    "    \"wlan_bssid\",\n",
    "    \"ip_src\",\n",
    "    \"ip_dst\"\n",
    "]\n",
    "   \n"
   ]
  },
  {
   "cell_type": "code",
   "execution_count": 9,
   "id": "05a660a4-eec4-4c97-901f-b31fa7464b19",
   "metadata": {},
   "outputs": [],
   "source": [
    "# The following two lines are estimators. They return functions that we will later apply to transform the dataset.\n",
    "stringIndexer = StringIndexer(inputCols=categoricalCols, outputCols=[x + \"index\" for x in categoricalCols]).setHandleInvalid(\"keep\") \n",
    "encoder = OneHotEncoder(inputCols=stringIndexer.getOutputCols(), outputCols=[x + \"OHE\" for x in categoricalCols]) "
   ]
  },
  {
   "cell_type": "code",
   "execution_count": 10,
   "id": "d6f62dee-dbad-446e-b404-4c926f91b93f",
   "metadata": {},
   "outputs": [],
   "source": [
    "numericCols=[\n",
    "    \"wlan_fixed_reason_code\",\n",
    "    \"radiotap_channel_freq\",\n",
    "    \"udp_length\"\n",
    "]"
   ]
  },
  {
   "cell_type": "code",
   "execution_count": 11,
   "id": "4699f280-fdd8-4904-9c44-b8103b1f9284",
   "metadata": {},
   "outputs": [],
   "source": [
    "from pyspark.ml.feature import VectorAssembler\n",
    " \n",
    "# This includes both the numeric columns and the one-hot encoded binary vector columns in our dataset.\n",
    "assemblerInputs = [c + \"OHE\" for c in categoricalCols] + numericCols\n",
    "vecAssembler = VectorAssembler(inputCols=assemblerInputs, outputCol=\"features\")"
   ]
  },
  {
   "cell_type": "code",
   "execution_count": 12,
   "id": "a4c188f9-b85a-48c1-bf31-aadf34f53821",
   "metadata": {},
   "outputs": [],
   "source": [
    "from pyspark.ml.classification import RandomForestClassifier\n",
    "from pyspark.ml import Pipeline"
   ]
  },
  {
   "cell_type": "markdown",
   "id": "c181de09-474a-477c-a37e-05e83e2df673",
   "metadata": {},
   "source": [
    "we want to do a test train split on our subsample"
   ]
  },
  {
   "cell_type": "code",
   "execution_count": 13,
   "id": "9afbd3f2-fb69-45f6-8e73-6b91b44d2f3b",
   "metadata": {},
   "outputs": [],
   "source": [
    "train, test = df.randomSplit([0.8,0.2])\n"
   ]
  },
  {
   "cell_type": "code",
   "execution_count": 14,
   "id": "a7d78d30-d402-441c-a508-d00ed44bfa6b",
   "metadata": {},
   "outputs": [
    {
     "name": "stdout",
     "output_type": "stream",
     "text": [
      "Events for the training 505541\n",
      "Events for the validation 126866\n"
     ]
    }
   ],
   "source": [
    "print('Events for the training {}'.format(train.count()))\n",
    "print('Events for the validation {}'.format(test.count()))"
   ]
  },
  {
   "cell_type": "markdown",
   "id": "ed5f151e-27af-4135-8b26-29d735b40c3f",
   "metadata": {},
   "source": [
    "we take a subsample and cache it for the grid search"
   ]
  },
  {
   "cell_type": "code",
   "execution_count": 15,
   "id": "1543c0d9-c35d-45a0-ba31-2964ea945516",
   "metadata": {},
   "outputs": [
    {
     "name": "stdout",
     "output_type": "stream",
     "text": [
      "We will use 20248  events for the grid search.\n",
      "+-----+-----+\n",
      "|label|count|\n",
      "+-----+-----+\n",
      "|    1| 1097|\n",
      "|    0|19151|\n",
      "+-----+-----+\n",
      "\n",
      "+----------------+-----+\n",
      "|     StringLabel|count|\n",
      "+----------------+-----+\n",
      "|           Krack|   65|\n",
      "|             SSH|  112|\n",
      "|          Botnet|   82|\n",
      "|   SQL_Injection|   87|\n",
      "|         RogueAP|   34|\n",
      "|Website_spoofing|   73|\n",
      "|       (Re)Assoc|  130|\n",
      "|           Disas|   78|\n",
      "|          Normal|19151|\n",
      "|          Deauth|   76|\n",
      "|           Kr00k|  113|\n",
      "|       Evil_Twin|   86|\n",
      "|         Malware|   81|\n",
      "|            SSDP|   80|\n",
      "+----------------+-----+\n",
      "\n"
     ]
    }
   ],
   "source": [
    "gridSample = train.sample(fraction=1.0/25, withReplacement=False).cache()\n",
    "print('We will use',gridSample.count(),' events for the grid search.')\n",
    "gridSample.groupBy('label').count().show()\n",
    "gridSample.groupBy('StringLabel').count().show()"
   ]
  },
  {
   "cell_type": "code",
   "execution_count": 16,
   "id": "c2703cb4-b1a9-4da1-aed8-e1d33109b6b8",
   "metadata": {},
   "outputs": [],
   "source": [
    "from pyspark.ml.tuning import ParamGridBuilder, CrossValidator\n",
    "from pyspark.ml.evaluation import BinaryClassificationEvaluator\n",
    "from pyspark.ml.classification import RandomForestClassifier\n",
    "\n",
    "rf = RandomForestClassifier(labelCol='label', featuresCol='features', \n",
    "                            maxBins=20, subsamplingRate=0.7,\n",
    "                            minInfoGain= 1e-05,\n",
    "                            featureSubsetStrategy='all',\n",
    "                            minInstancesPerNode=2)\n",
    "\n",
    "evaluator=BinaryClassificationEvaluator(metricName='areaUnderPR')\n",
    "rf_pipe = Pipeline(stages=[stringIndexer, encoder, vecAssembler,rf])\n",
    "\n",
    "\n",
    "\n",
    "\n",
    "\n",
    "paramGrid = ParamGridBuilder()\\\n",
    "  .addGrid(rf.maxDepth, [10,20])\\\n",
    "  .addGrid(rf.numTrees, [50])\\\n",
    "  .build()\n",
    "\n",
    "cv = CrossValidator(estimator=rf_pipe, \n",
    "                    evaluator=evaluator,\n",
    "                    estimatorParamMaps=paramGrid,\n",
    "                    numFolds=2, parallelism=4)"
   ]
  },
  {
   "cell_type": "code",
   "execution_count": 17,
   "id": "c6414d94-af2e-454e-8682-b09486c2c453",
   "metadata": {},
   "outputs": [
    {
     "name": "stdout",
     "output_type": "stream",
     "text": [
      "CPU times: user 475 ms, sys: 170 ms, total: 645 ms\n",
      "Wall time: 3min 15s\n"
     ]
    }
   ],
   "source": [
    "%%time\n",
    "bestModel = cv.fit(gridSample)\n",
    " "
   ]
  },
  {
   "cell_type": "code",
   "execution_count": 18,
   "id": "c1413a66-ea2d-418e-9928-4c7173f3d6e0",
   "metadata": {},
   "outputs": [
    {
     "name": "stdout",
     "output_type": "stream",
     "text": [
      "BestModel:\n",
      "\t-maxDepth = 20\n",
      "\t-Feature Importance = (1238,[0,1,3,4,5,7,8,9,11,12,13,14,15,16,17,18,20,23,24,25,26,27,29,31,33,34,35,38,41,64,65,68,75,80,81,82,83,84,85,87,88,89,96,97,98,99,128,130,132,150,153,156,163,167,171,675,1235,1236,1237],[0.09279369849394918,0.03286292196780466,0.007950231562010818,0.003344030397251543,5.214761957185102E-4,0.0037598021988920053,0.002647650095915312,9.616559563111539E-5,3.307104004691995E-4,1.1247922768065197E-4,5.7901777544008746E-5,5.2500735771821916E-5,5.381557572898611E-5,1.0933625440646693E-4,3.954905893361447E-4,7.459676639224205E-6,0.025372429891040913,0.013170641308512721,5.062618330689645E-4,0.030951844999622332,8.969060989124423E-5,1.7938646116029443E-4,0.0028782708710796074,2.1319018131144654E-5,3.9965970288860655E-4,0.15682733189500328,2.1020511794097837E-4,2.9079428366121115E-4,3.878370372771966E-4,3.119810228272636E-4,2.215490426918365E-4,2.4319759609771625E-4,4.6338983121414887E-4,1.9523175553250247E-5,0.001107817241414777,8.158271127874008E-7,1.103014820774684E-5,1.5241867098850126E-4,0.004703447524052169,0.2292421777091812,7.903027325997697E-4,1.0811501192546909E-5,5.433593742368956E-4,7.689007372598397E-6,1.0491824005803378E-5,1.7869190066256416E-7,0.0016723020977320183,0.08295130275102992,0.0012127736435700708,3.3054593436944034E-4,0.006406631793327049,0.0025593320789355535,0.005238938000254544,8.424602476111615E-4,2.274485338390785E-4,0.002119453385397857,0.212953301383954,0.0585784983327919,0.01068548712250954])\n",
      "BestModel:\n",
      "\t-maxDepth = 50\n"
     ]
    }
   ],
   "source": [
    "print('BestModel:\\n\\t-maxDepth =',bestModel.bestModel.stages[-1]._java_obj.getMaxDepth())\n",
    "print('\\t-Feature Importance =',bestModel.bestModel.stages[-1]._java_obj.featureImportances())\n",
    "print('BestModel:\\n\\t-maxDepth =',bestModel.bestModel.stages[-1]._java_obj.getNumTrees())"
   ]
  },
  {
   "cell_type": "raw",
   "id": "35e100df-e7b7-4504-b31d-076eaa09a21c",
   "metadata": {},
   "source": [
    "We need to use the model as the encoding changes the index to extract the feature names and assess the model. This page was essential in working this out https://stackoverflow.com/questions/50937591/pyspark-random-forest-feature-importance-mapping-after-column-transformations/50957255#50957255"
   ]
  },
  {
   "cell_type": "code",
   "execution_count": 19,
   "id": "fb444d4e-de2c-479c-8973-12b01a0e315f",
   "metadata": {},
   "outputs": [],
   "source": [
    "transformedBestModel=bestModel.transform(gridSample)"
   ]
  },
  {
   "cell_type": "code",
   "execution_count": 20,
   "id": "b382b579-f2ce-41be-8357-0afce10f74ad",
   "metadata": {},
   "outputs": [],
   "source": [
    "import pandas as pd\n",
    "\n",
    "p = pd.DataFrame(transformedBestModel.schema[\"features\"].metadata[\"ml_attr\"][\"attrs\"][\"binary\"]+transformedBestModel.schema[\"features\"].metadata[\"ml_attr\"][\"attrs\"][\"numeric\"]).sort_values(\"idx\")"
   ]
  },
  {
   "cell_type": "code",
   "execution_count": 21,
   "id": "c7b93ad6-1d4b-4cf7-ab21-5a1fb177ef82",
   "metadata": {},
   "outputs": [
    {
     "data": {
      "text/plain": [
       "0                                   wlan_tag_lengthOHE_NA\n",
       "1                                    wlan_tag_lengthOHE_4\n",
       "2       wlan_tag_lengthOHE_7-8-4-52-1-2-20-5-26-22-8-1...\n",
       "3       wlan_tag_lengthOHE_7-8-1-4-6-20-26-22-4-12-5-2-24\n",
       "4                               wlan_tag_lengthOHE_177-24\n",
       "                              ...                        \n",
       "1233       ip_dstOHE_99.181.79.5-99.181.79.5-99.181.67.49\n",
       "1234                               ip_dstOHE_99.80.71.186\n",
       "1235                               wlan_fixed_reason_code\n",
       "1236                                radiotap_channel_freq\n",
       "1237                                           udp_length\n",
       "Name: name, Length: 1238, dtype: object"
      ]
     },
     "execution_count": 21,
     "metadata": {},
     "output_type": "execute_result"
    }
   ],
   "source": [
    "p.name"
   ]
  },
  {
   "cell_type": "code",
   "execution_count": 22,
   "id": "2ed13f7f-871c-4a8e-a5c3-92926320902a",
   "metadata": {},
   "outputs": [],
   "source": [
    "\n",
    "from itertools import chain\n",
    "attrs = sorted(\n",
    "    (attr[\"idx\"], attr[\"name\"])\n",
    "    for attr in (\n",
    "        chain(*transformedBestModel.schema[\"features\"].metadata[\"ml_attr\"][\"attrs\"].values())\n",
    "    )\n",
    ") "
   ]
  },
  {
   "cell_type": "code",
   "execution_count": 23,
   "id": "44c4c302-e780-4697-b518-937de740ca6b",
   "metadata": {},
   "outputs": [],
   "source": [
    "ImportanceArray=[\n",
    "    (name,  bestModel.bestModel.stages[-1].featureImportances[idx])\n",
    "    for idx, name in attrs\n",
    "    if bestModel.bestModel.stages[-1].featureImportances[idx]\n",
    "]"
   ]
  },
  {
   "cell_type": "code",
   "execution_count": 24,
   "id": "b397114c-b62b-42ae-aeef-d48ea6b729c1",
   "metadata": {},
   "outputs": [],
   "source": [
    "ImportanceArray.sort(key=lambda row: (row[1]), reverse=True)"
   ]
  },
  {
   "cell_type": "code",
   "execution_count": 25,
   "id": "e34e7fc1-7fca-4bbc-991a-401470c634d5",
   "metadata": {},
   "outputs": [
    {
     "data": {
      "text/plain": [
       "[('wlan_saOHE_04:ed:33:e0:24:82', 0.2292421777091812),\n",
       " ('wlan_fixed_reason_code', 0.212953301383954),\n",
       " ('wlan_daOHE_04:ed:33:e0:24:82', 0.15682733189500328),\n",
       " ('wlan_tag_lengthOHE_NA', 0.09279369849394918),\n",
       " ('wlan_bssidOHE_0c:9d:92:54:fe:35', 0.08295130275102992),\n",
       " ('radiotap_channel_freq', 0.0585784983327919),\n",
       " ('wlan_tag_lengthOHE_4', 0.03286292196780466),\n",
       " ('wlan_daOHE_a4:b1:c1:91:4c:72', 0.030951844999622332),\n",
       " ('wlan_country_info_fnmOHE_1-1-1-1-1-1-1-1-1-1-1-1-1-1-1-1',\n",
       "  0.025372429891040913),\n",
       " ('wlan_daOHE_0c:9d:92:54:fe:30', 0.013170641308512721),\n",
       " ('udp_length', 0.01068548712250954),\n",
       " ('wlan_tag_lengthOHE_7-8-1-4-6-20-26-22-4-12-5-2-24', 0.007950231562010818),\n",
       " ('ip_srcOHE_192.168.2.130', 0.006406631793327049),\n",
       " ('ip_srcOHE_192.168.2.248', 0.005238938000254544),\n",
       " ('wlan_saOHE_50:3e:aa:e4:01:93', 0.004703447524052169),\n",
       " ('wlan_tag_lengthOHE_8-1-1-5-26-22-8-5-12-5-9-24', 0.0037598021988920053),\n",
       " ('wlan_tag_lengthOHE_177-24', 0.003344030397251543),\n",
       " ('wlan_daOHE_0c:9d:92:54:fe:34', 0.0028782708710796074),\n",
       " ('wlan_tag_lengthOHE_4-8-1-4-1-1-20-4-5-26-22-8-37-9-24-5-30',\n",
       "  0.002647650095915312),\n",
       " ('ip_srcOHE_192.168.2.73', 0.0025593320789355535),\n",
       " ('ip_dstOHE_192.168.2.130', 0.002119453385397857),\n",
       " ('wlan_bssidOHE_0c:9d:92:54:fe:34', 0.0016723020977320183),\n",
       " ('wlan_bssidOHE_ff:ff:ff:ff:ff:ff', 0.0012127736435700708),\n",
       " ('wlan_saOHE_a4:b1:c1:91:4c:72', 0.001107817241414777),\n",
       " ('ip_srcOHE_20.50.64.3', 0.0008424602476111615),\n",
       " ('wlan_saOHE_00:c0:ca:a8:26:3e', 0.0007903027325997697),\n",
       " ('wlan_saOHE_00:c0:ca:a8:29:56', 0.0005433593742368956),\n",
       " ('wlan_tag_lengthOHE_9', 0.0005214761957185102),\n",
       " ('wlan_daOHE_94:e9:79:82:c5:77', 0.0005062618330689645),\n",
       " ('wlan_daOHE_94:e9:79:82:c5:77-94:e9:79:82:c5:77-94:e9:79:82:c5:77',\n",
       "  0.00046338983121414887),\n",
       " ('wlan_daOHE_00:c0:ca:a8:29:56', 0.00039965970288860655),\n",
       " ('wlan_tag_lengthOHE_8-1-1-5-26-22-8-12-5-9-24', 0.0003954905893361447),\n",
       " ('wlan_daOHE_00:0c:29:ec:72:02', 0.0003878370372771966),\n",
       " ('wlan_tag_lengthOHE_0-8-2-6-38-5-26-8-1-12-1-30-5-9-7',\n",
       "  0.0003307104004691995),\n",
       " ('ip_srcOHE_NA', 0.00033054593436944034),\n",
       " ('wlan_daOHE_0c:95:b3:54:bc:30', 0.0003119810228272636),\n",
       " ('wlan_daOHE_00:c0:ca:a8:26:3e', 0.00029079428366121115),\n",
       " ('wlan_daOHE_0c:9d:92:54:fc:30', 0.00024319759609771625),\n",
       " ('ip_srcOHE_192.168.2.125', 0.0002274485338390785),\n",
       " ('wlan_daOHE_0c:9c:92:54:fe:30', 0.0002215490426918365),\n",
       " ('wlan_daOHE_ff:ff:ff:ff:ff:ff', 0.00021020511794097837),\n",
       " ('wlan_daOHE_24:f5:a2:ea:86:c3', 0.00017938646116029443),\n",
       " ('wlan_saOHE_00:0c:29:cf:08:aa', 0.00015241867098850126),\n",
       " ('wlan_tag_lengthOHE_0-8-26-12-5-9', 0.00011247922768065197),\n",
       " ('wlan_tag_lengthOHE_7-8-26-8-1-12-5-30-5-7-9', 0.00010933625440646693),\n",
       " ('wlan_tag_lengthOHE_7-8-1-4-6-26-22-4-12-5-2-24', 9.616559563111539e-05),\n",
       " ('wlan_daOHE_50:3e:aa:e4:01:93', 8.969060989124423e-05),\n",
       " ('wlan_tag_lengthOHE_4-8-1-5-1-1-20-4-5-26-22-8-37-9-24-5-30',\n",
       "  5.7901777544008746e-05),\n",
       " ('wlan_tag_lengthOHE_7-8-26-12-5-9', 5.381557572898611e-05),\n",
       " ('wlan_tag_lengthOHE_7-8-1-4-24', 5.2500735771821916e-05),\n",
       " ('wlan_daOHE_88:66:a5:55:a2:d4', 2.1319018131144654e-05),\n",
       " ('wlan_saOHE_0c:9d:92:54:fe:30', 1.9523175553250247e-05),\n",
       " ('wlan_saOHE_50:3e:aa:e3:1f:be', 1.103014820774684e-05),\n",
       " ('wlan_saOHE_94:e9:79:82:c5:77', 1.0811501192546909e-05),\n",
       " ('wlan_saOHE_a4:08:ea:2a:9a:01', 1.0491824005803378e-05),\n",
       " ('wlan_saOHE_88:66:a5:55:a2:d4', 7.689007372598397e-06),\n",
       " ('wlan_tag_lengthOHE_8-4-1-1-5-26-22-8-9-24-26', 7.459676639224205e-06),\n",
       " ('wlan_saOHE_0c:9d:92:54:fe:34', 8.158271127874008e-07),\n",
       " ('wlan_saOHE_ff:ff:ff:ff:ff:ff', 1.7869190066256416e-07)]"
      ]
     },
     "execution_count": 25,
     "metadata": {},
     "output_type": "execute_result"
    }
   ],
   "source": [
    "ImportanceArray"
   ]
  },
  {
   "cell_type": "code",
   "execution_count": 26,
   "id": "251425d2-b8ce-4d55-ae2e-977d3f7e8add",
   "metadata": {},
   "outputs": [
    {
     "data": {
      "text/plain": [
       "1238"
      ]
     },
     "execution_count": 26,
     "metadata": {},
     "output_type": "execute_result"
    }
   ],
   "source": [
    "len(bestModel.bestModel.stages[-1].featureImportances)"
   ]
  },
  {
   "cell_type": "code",
   "execution_count": 27,
   "id": "5d3b4223-0aa0-4e49-a3ef-8a59a966bc55",
   "metadata": {},
   "outputs": [
    {
     "data": {
      "text/plain": [
       "DataFrame[frame_encap_type: int, frame_len: int, frame_number: int, frame_time: string, frame_time_delta: double, frame_time_delta_displayed: double, frame_time_epoch: double, frame_time_relative: double, radiotap_channel_flags_cck: int, radiotap_channel_flags_ofdm: int, radiotap_channel_freq: int, radiotap_datarate: double, radiotap_dbm_antsignal: int, radiotap_length: int, radiotap_mactime: double, radiotap_present_tsft: string, radiotap_rxflags: string, radiotap_timestamp_ts: bigint, radiotap_vendor_oui: int, wlan_duration: int, wlan_analysis_kck: string, wlan_analysis_kek: string, wlan_bssid: string, wlan_country_info_fnm: string, wlan_country_info_code: string, wlan_da: string, wlan_fc_ds: string, wlan_fc_frag: int, wlan_fc_order: int, wlan_fc_moredata: int, wlan_fc_protected: int, wlan_fc_pwrmgt: int, wlan_fc_type: int, wlan_fc_retry: int, wlan_fc_subtype: int, wlan_fcs_bad_checksum: int, wlan_fixed_beacon: int, wlan_fixed_capabilities_ess: int, wlan_fixed_capabilities_ibss: int, wlan_fixed_reason_code: int, wlan_fixed_timestamp: double, wlan_ra: string, wlan_radio_duration: int, wlan_rsn_ie_gtk_key: int, wlan_rsn_ie_igtk_key: int, wlan_rsn_ie_pmkid: int, wlan_sa: string, wlan_seq: double, wlan_ssid: string, wlan_ta: string, wlan_tag: int, wlan_tag_length: string, wlan_radio_channel: int, wlan_radio_data_rate: double, wlan_radio_end_tsf: double, wlan_radio_frequency: int, wlan_radio_signal_dbm: int, wlan_radio_start_tsf: double, wlan_radio_phy: int, wlan_radio_timestamp: double, wlan_rsn_capabilities_mfpc: double, wlan_rsna_eapol_keydes_msgnr: double, wlan_rsna_eapol_keydes_data: string, wlan_rsna_eapol_keydes_data_len: double, wlan_rsna_eapol_keydes_key_info_key_mic: double, wlan_rsna_eapol_keydes_nonce: string, eapol_keydes_key_len: double, eapol_keydes_replay_counter: double, eapol_len: double, eapol_type: double, llc: string, arp: string, arp_hw_type: double, arp_proto_type: string, arp_hw_size: double, arp_proto_size: double, arp_opcode: double, arp_src_hw_mac: string, arp_src_proto_ipv4: string, arp_dst_hw_mac: string, arp_dst_proto_ipv4: string, ip_dst: string, ip_proto: int, ip_src: string, ip_ttl: int, ip_version: int, data_data: string, data_len: int, icmpv6_mldr_nb_mcast_records: double, icmpv6_ni_nonce: int, tcp_ack: int, tcp_ack_raw: int, tcp_analysis: int, tcp_analysis_flags: int, tcp_analysis_retransmission: int, tcp_analysis_reused_ports: int, tcp_analysis_rto_frame: int, tcp_checksum: string, tcp_checksum_status: int, tcp_flags_syn: int, tcp_dstport: int, tcp_flags_ack: int, tcp_flags_fin: int, tcp_flags_push: int, tcp_flags_reset: int, tcp_option_len: int, tcp_payload: string, tcp_seq: int, tcp_seq_raw: int, tcp_srcport: int, tcp_time_delta: double, tcp_time_relative: double, udp_dstport: int, udp_srcport: int, udp_length: int, udp_payload: string, udp_time_relative: double, udp_time_delta: double, nbns: string, nbss_continuation_data: string, nbss_type: string, nbss_length: double, ldap: string, smb_access_generic_execute: double, smb_access_generic_read: double, smb_access_generic_write: double, smb_flags_notify: double, smb_flags_response: double, smb_flags2_nt_error: double, smb_flags2_sec_sig: double, smb_mid: double, smb_nt_status: double, smb_server_component: string, smb_pid_high: double, smb_tid: double, smb2_acct: string, smb2_auth_frame: string, smb2_buffer_code: string, smb2_cmd: string, smb2_data_offset: string, smb2_domain: string, smb2_fid: string, smb2_filename: string, smb2_header_len: string, smb2_host: string, smb2_msg_id: string, smb2_pid: string, smb2_previous_sesid: string, smb2_protocol_id: string, smb2_sesid: string, smb2_session_flags: string, smb2_tid: string, smb2_write_length: int, dhcp: string, dhcp_client_id_duid_ll_hw_type: string, dhcp_cookie: string, dhcp_hw_addr_padding: double, dhcp_hw_mac_addr: string, dhcp_id: string, dhcp_ip_client: string, dhcp_ip_relay: string, dhcp_ip_server: string, dhcp_option_broadcast_address: string, dhcp_option_dhcp_server_id: string, dhcp_option_router: string, dhcp_option_vendor_bsdp_message_type: string, mdns: string, dns: string, dns_a: string, dns_count_add_rr: int, dns_count_answers: int, dns_count_auth_rr: int, dns_count_labels: int, dns_count_queries: int, dns_flags_authoritative: string, dns_flags_checkdisable: string, dns_flags_opcode: string, dns_flags_response: string, dns_id: string, dns_ptr_domain_name: string, dns_qry_name: string, dns_qry_name_len: int, dns_resp_len: string, dns_resp_name: string, dns_resp_ttl: string, dns_resp_len_1: string, dns_retransmit_request: int, dns_retransmit_response: int, dns_time: double, ssdp: string, http_connection: string, http_content_length: double, http_content_type: string, http_date: string, http_file_data: string, http_host: string, http_last_modified: string, http_location: string, http_next_request_in: string, http_next_response_in: string, http_request_full_uri: string, http_request_line: string, http_request_method: string, http_request_uri_path: string, http_request_uri_query: string, http_request_uri_query_parameter: string, http_request_version: string, http_request_in: double, http_response_code: double, http_response_code_desc: string, http_response_line: string, http_response_phrase: string, http_response_version: string, http_response_for_uri: string, http_response_in: string, http_referer: string, http_time: double, http_server: string, json_value_string: string, json_key: string, ssh_cookie: string, ssh_compression_algorithms_client_to_server_length: int, ssh_compression_algorithms_server_to_client_length: int, ssh_direction: int, ssh_dh_gex_max: int, ssh_dh_gex_min: int, ssh_dh_gex_nbits: int, ssh_encryption_algorithms_client_to_server_length: int, ssh_encryption_algorithms_server_to_client_length: int, ssh_host_key_length: int, ssh_host_key_type_length: int, ssh_kex_algorithms_length: int, ssh_mac_algorithms_client_to_server_length: int, ssh_mac_algorithms_server_to_client_length: int, ssh_message_code: string, ssh_mpint_length: string, ssh_packet_length: int, ssh_packet_length_encrypted: string, ssh_padding_length: int, ssh_padding_string: int, ssh_protocol: string, ssh_server_host_key_algorithms_length: int, tls_alert_message_desc: int, tls_alert_message_level: int, tls_app_data_proto: string, tls_compress_certificate_compressed_certificate_message_length: double, tls_connection_id: string, tls_handshake_extension_type: string, tls_handshake_extensions_key_share_group: string, tls_handshake_session_ticket_length: int, tls_handshake_version: string, tls_record_content_type: int, tls_record_version: string, StringLabel: string, label: int]"
      ]
     },
     "execution_count": 27,
     "metadata": {},
     "output_type": "execute_result"
    }
   ],
   "source": [
    "gridSample.unpersist()"
   ]
  },
  {
   "cell_type": "code",
   "execution_count": 71,
   "id": "ca3a3ad8-1949-443a-b04f-ae720a9bedc4",
   "metadata": {},
   "outputs": [],
   "source": [
    "rf2 = RandomForestClassifier(labelCol='label', featuresCol='features', numTrees=50, maxDepth=20)\n",
    "pipeline2 = Pipeline(stages=[stringIndexer, encoder, vecAssembler,rf2])"
   ]
  },
  {
   "cell_type": "code",
   "execution_count": 72,
   "id": "ea96cfd2-da22-40ea-b5de-001477c13eaf",
   "metadata": {},
   "outputs": [
    {
     "name": "stdout",
     "output_type": "stream",
     "text": [
      "CPU times: user 330 ms, sys: 88 ms, total: 418 ms\n",
      "Wall time: 13min 8s\n"
     ]
    },
    {
     "data": {
      "text/plain": [
       "DataFrame[frame_encap_type: int, frame_len: int, frame_number: int, frame_time: string, frame_time_delta: double, frame_time_delta_displayed: double, frame_time_epoch: double, frame_time_relative: double, radiotap_channel_flags_cck: int, radiotap_channel_flags_ofdm: int, radiotap_channel_freq: int, radiotap_datarate: double, radiotap_dbm_antsignal: int, radiotap_length: int, radiotap_mactime: double, radiotap_present_tsft: string, radiotap_rxflags: string, radiotap_timestamp_ts: bigint, radiotap_vendor_oui: int, wlan_duration: int, wlan_analysis_kck: string, wlan_analysis_kek: string, wlan_bssid: string, wlan_country_info_fnm: string, wlan_country_info_code: string, wlan_da: string, wlan_fc_ds: string, wlan_fc_frag: int, wlan_fc_order: int, wlan_fc_moredata: int, wlan_fc_protected: int, wlan_fc_pwrmgt: int, wlan_fc_type: int, wlan_fc_retry: int, wlan_fc_subtype: int, wlan_fcs_bad_checksum: int, wlan_fixed_beacon: int, wlan_fixed_capabilities_ess: int, wlan_fixed_capabilities_ibss: int, wlan_fixed_reason_code: int, wlan_fixed_timestamp: double, wlan_ra: string, wlan_radio_duration: int, wlan_rsn_ie_gtk_key: int, wlan_rsn_ie_igtk_key: int, wlan_rsn_ie_pmkid: int, wlan_sa: string, wlan_seq: double, wlan_ssid: string, wlan_ta: string, wlan_tag: int, wlan_tag_length: string, wlan_radio_channel: int, wlan_radio_data_rate: double, wlan_radio_end_tsf: double, wlan_radio_frequency: int, wlan_radio_signal_dbm: int, wlan_radio_start_tsf: double, wlan_radio_phy: int, wlan_radio_timestamp: double, wlan_rsn_capabilities_mfpc: double, wlan_rsna_eapol_keydes_msgnr: double, wlan_rsna_eapol_keydes_data: string, wlan_rsna_eapol_keydes_data_len: double, wlan_rsna_eapol_keydes_key_info_key_mic: double, wlan_rsna_eapol_keydes_nonce: string, eapol_keydes_key_len: double, eapol_keydes_replay_counter: double, eapol_len: double, eapol_type: double, llc: string, arp: string, arp_hw_type: double, arp_proto_type: string, arp_hw_size: double, arp_proto_size: double, arp_opcode: double, arp_src_hw_mac: string, arp_src_proto_ipv4: string, arp_dst_hw_mac: string, arp_dst_proto_ipv4: string, ip_dst: string, ip_proto: int, ip_src: string, ip_ttl: int, ip_version: int, data_data: string, data_len: int, icmpv6_mldr_nb_mcast_records: double, icmpv6_ni_nonce: int, tcp_ack: int, tcp_ack_raw: int, tcp_analysis: int, tcp_analysis_flags: int, tcp_analysis_retransmission: int, tcp_analysis_reused_ports: int, tcp_analysis_rto_frame: int, tcp_checksum: string, tcp_checksum_status: int, tcp_flags_syn: int, tcp_dstport: int, tcp_flags_ack: int, tcp_flags_fin: int, tcp_flags_push: int, tcp_flags_reset: int, tcp_option_len: int, tcp_payload: string, tcp_seq: int, tcp_seq_raw: int, tcp_srcport: int, tcp_time_delta: double, tcp_time_relative: double, udp_dstport: int, udp_srcport: int, udp_length: int, udp_payload: string, udp_time_relative: double, udp_time_delta: double, nbns: string, nbss_continuation_data: string, nbss_type: string, nbss_length: double, ldap: string, smb_access_generic_execute: double, smb_access_generic_read: double, smb_access_generic_write: double, smb_flags_notify: double, smb_flags_response: double, smb_flags2_nt_error: double, smb_flags2_sec_sig: double, smb_mid: double, smb_nt_status: double, smb_server_component: string, smb_pid_high: double, smb_tid: double, smb2_acct: string, smb2_auth_frame: string, smb2_buffer_code: string, smb2_cmd: string, smb2_data_offset: string, smb2_domain: string, smb2_fid: string, smb2_filename: string, smb2_header_len: string, smb2_host: string, smb2_msg_id: string, smb2_pid: string, smb2_previous_sesid: string, smb2_protocol_id: string, smb2_sesid: string, smb2_session_flags: string, smb2_tid: string, smb2_write_length: int, dhcp: string, dhcp_client_id_duid_ll_hw_type: string, dhcp_cookie: string, dhcp_hw_addr_padding: double, dhcp_hw_mac_addr: string, dhcp_id: string, dhcp_ip_client: string, dhcp_ip_relay: string, dhcp_ip_server: string, dhcp_option_broadcast_address: string, dhcp_option_dhcp_server_id: string, dhcp_option_router: string, dhcp_option_vendor_bsdp_message_type: string, mdns: string, dns: string, dns_a: string, dns_count_add_rr: int, dns_count_answers: int, dns_count_auth_rr: int, dns_count_labels: int, dns_count_queries: int, dns_flags_authoritative: string, dns_flags_checkdisable: string, dns_flags_opcode: string, dns_flags_response: string, dns_id: string, dns_ptr_domain_name: string, dns_qry_name: string, dns_qry_name_len: int, dns_resp_len: string, dns_resp_name: string, dns_resp_ttl: string, dns_resp_len_1: string, dns_retransmit_request: int, dns_retransmit_response: int, dns_time: double, ssdp: string, http_connection: string, http_content_length: double, http_content_type: string, http_date: string, http_file_data: string, http_host: string, http_last_modified: string, http_location: string, http_next_request_in: string, http_next_response_in: string, http_request_full_uri: string, http_request_line: string, http_request_method: string, http_request_uri_path: string, http_request_uri_query: string, http_request_uri_query_parameter: string, http_request_version: string, http_request_in: double, http_response_code: double, http_response_code_desc: string, http_response_line: string, http_response_phrase: string, http_response_version: string, http_response_for_uri: string, http_response_in: string, http_referer: string, http_time: double, http_server: string, json_value_string: string, json_key: string, ssh_cookie: string, ssh_compression_algorithms_client_to_server_length: int, ssh_compression_algorithms_server_to_client_length: int, ssh_direction: int, ssh_dh_gex_max: int, ssh_dh_gex_min: int, ssh_dh_gex_nbits: int, ssh_encryption_algorithms_client_to_server_length: int, ssh_encryption_algorithms_server_to_client_length: int, ssh_host_key_length: int, ssh_host_key_type_length: int, ssh_kex_algorithms_length: int, ssh_mac_algorithms_client_to_server_length: int, ssh_mac_algorithms_server_to_client_length: int, ssh_message_code: string, ssh_mpint_length: string, ssh_packet_length: int, ssh_packet_length_encrypted: string, ssh_padding_length: int, ssh_padding_string: int, ssh_protocol: string, ssh_server_host_key_algorithms_length: int, tls_alert_message_desc: int, tls_alert_message_level: int, tls_app_data_proto: string, tls_compress_certificate_compressed_certificate_message_length: double, tls_connection_id: string, tls_handshake_extension_type: string, tls_handshake_extensions_key_share_group: string, tls_handshake_session_ticket_length: int, tls_handshake_version: string, tls_record_content_type: int, tls_record_version: string, StringLabel: string, label: int]"
      ]
     },
     "execution_count": 72,
     "metadata": {},
     "output_type": "execute_result"
    }
   ],
   "source": [
    "%%time\n",
    "train.cache()\n",
    "pipelineModel = pipeline2.fit(train)\n",
    "train.unpersist()"
   ]
  },
  {
   "cell_type": "code",
   "execution_count": 73,
   "id": "42d98025-120b-463a-a00b-bbe535438b0a",
   "metadata": {},
   "outputs": [
    {
     "name": "stdout",
     "output_type": "stream",
     "text": [
      "CPU times: user 10.1 ms, sys: 4.92 ms, total: 15 ms\n",
      "Wall time: 198 ms\n"
     ]
    },
    {
     "data": {
      "text/plain": [
       "DataFrame[frame_encap_type: int, frame_len: int, frame_number: int, frame_time: string, frame_time_delta: double, frame_time_delta_displayed: double, frame_time_epoch: double, frame_time_relative: double, radiotap_channel_flags_cck: int, radiotap_channel_flags_ofdm: int, radiotap_channel_freq: int, radiotap_datarate: double, radiotap_dbm_antsignal: int, radiotap_length: int, radiotap_mactime: double, radiotap_present_tsft: string, radiotap_rxflags: string, radiotap_timestamp_ts: bigint, radiotap_vendor_oui: int, wlan_duration: int, wlan_analysis_kck: string, wlan_analysis_kek: string, wlan_bssid: string, wlan_country_info_fnm: string, wlan_country_info_code: string, wlan_da: string, wlan_fc_ds: string, wlan_fc_frag: int, wlan_fc_order: int, wlan_fc_moredata: int, wlan_fc_protected: int, wlan_fc_pwrmgt: int, wlan_fc_type: int, wlan_fc_retry: int, wlan_fc_subtype: int, wlan_fcs_bad_checksum: int, wlan_fixed_beacon: int, wlan_fixed_capabilities_ess: int, wlan_fixed_capabilities_ibss: int, wlan_fixed_reason_code: int, wlan_fixed_timestamp: double, wlan_ra: string, wlan_radio_duration: int, wlan_rsn_ie_gtk_key: int, wlan_rsn_ie_igtk_key: int, wlan_rsn_ie_pmkid: int, wlan_sa: string, wlan_seq: double, wlan_ssid: string, wlan_ta: string, wlan_tag: int, wlan_tag_length: string, wlan_radio_channel: int, wlan_radio_data_rate: double, wlan_radio_end_tsf: double, wlan_radio_frequency: int, wlan_radio_signal_dbm: int, wlan_radio_start_tsf: double, wlan_radio_phy: int, wlan_radio_timestamp: double, wlan_rsn_capabilities_mfpc: double, wlan_rsna_eapol_keydes_msgnr: double, wlan_rsna_eapol_keydes_data: string, wlan_rsna_eapol_keydes_data_len: double, wlan_rsna_eapol_keydes_key_info_key_mic: double, wlan_rsna_eapol_keydes_nonce: string, eapol_keydes_key_len: double, eapol_keydes_replay_counter: double, eapol_len: double, eapol_type: double, llc: string, arp: string, arp_hw_type: double, arp_proto_type: string, arp_hw_size: double, arp_proto_size: double, arp_opcode: double, arp_src_hw_mac: string, arp_src_proto_ipv4: string, arp_dst_hw_mac: string, arp_dst_proto_ipv4: string, ip_dst: string, ip_proto: int, ip_src: string, ip_ttl: int, ip_version: int, data_data: string, data_len: int, icmpv6_mldr_nb_mcast_records: double, icmpv6_ni_nonce: int, tcp_ack: int, tcp_ack_raw: int, tcp_analysis: int, tcp_analysis_flags: int, tcp_analysis_retransmission: int, tcp_analysis_reused_ports: int, tcp_analysis_rto_frame: int, tcp_checksum: string, tcp_checksum_status: int, tcp_flags_syn: int, tcp_dstport: int, tcp_flags_ack: int, tcp_flags_fin: int, tcp_flags_push: int, tcp_flags_reset: int, tcp_option_len: int, tcp_payload: string, tcp_seq: int, tcp_seq_raw: int, tcp_srcport: int, tcp_time_delta: double, tcp_time_relative: double, udp_dstport: int, udp_srcport: int, udp_length: int, udp_payload: string, udp_time_relative: double, udp_time_delta: double, nbns: string, nbss_continuation_data: string, nbss_type: string, nbss_length: double, ldap: string, smb_access_generic_execute: double, smb_access_generic_read: double, smb_access_generic_write: double, smb_flags_notify: double, smb_flags_response: double, smb_flags2_nt_error: double, smb_flags2_sec_sig: double, smb_mid: double, smb_nt_status: double, smb_server_component: string, smb_pid_high: double, smb_tid: double, smb2_acct: string, smb2_auth_frame: string, smb2_buffer_code: string, smb2_cmd: string, smb2_data_offset: string, smb2_domain: string, smb2_fid: string, smb2_filename: string, smb2_header_len: string, smb2_host: string, smb2_msg_id: string, smb2_pid: string, smb2_previous_sesid: string, smb2_protocol_id: string, smb2_sesid: string, smb2_session_flags: string, smb2_tid: string, smb2_write_length: int, dhcp: string, dhcp_client_id_duid_ll_hw_type: string, dhcp_cookie: string, dhcp_hw_addr_padding: double, dhcp_hw_mac_addr: string, dhcp_id: string, dhcp_ip_client: string, dhcp_ip_relay: string, dhcp_ip_server: string, dhcp_option_broadcast_address: string, dhcp_option_dhcp_server_id: string, dhcp_option_router: string, dhcp_option_vendor_bsdp_message_type: string, mdns: string, dns: string, dns_a: string, dns_count_add_rr: int, dns_count_answers: int, dns_count_auth_rr: int, dns_count_labels: int, dns_count_queries: int, dns_flags_authoritative: string, dns_flags_checkdisable: string, dns_flags_opcode: string, dns_flags_response: string, dns_id: string, dns_ptr_domain_name: string, dns_qry_name: string, dns_qry_name_len: int, dns_resp_len: string, dns_resp_name: string, dns_resp_ttl: string, dns_resp_len_1: string, dns_retransmit_request: int, dns_retransmit_response: int, dns_time: double, ssdp: string, http_connection: string, http_content_length: double, http_content_type: string, http_date: string, http_file_data: string, http_host: string, http_last_modified: string, http_location: string, http_next_request_in: string, http_next_response_in: string, http_request_full_uri: string, http_request_line: string, http_request_method: string, http_request_uri_path: string, http_request_uri_query: string, http_request_uri_query_parameter: string, http_request_version: string, http_request_in: double, http_response_code: double, http_response_code_desc: string, http_response_line: string, http_response_phrase: string, http_response_version: string, http_response_for_uri: string, http_response_in: string, http_referer: string, http_time: double, http_server: string, json_value_string: string, json_key: string, ssh_cookie: string, ssh_compression_algorithms_client_to_server_length: int, ssh_compression_algorithms_server_to_client_length: int, ssh_direction: int, ssh_dh_gex_max: int, ssh_dh_gex_min: int, ssh_dh_gex_nbits: int, ssh_encryption_algorithms_client_to_server_length: int, ssh_encryption_algorithms_server_to_client_length: int, ssh_host_key_length: int, ssh_host_key_type_length: int, ssh_kex_algorithms_length: int, ssh_mac_algorithms_client_to_server_length: int, ssh_mac_algorithms_server_to_client_length: int, ssh_message_code: string, ssh_mpint_length: string, ssh_packet_length: int, ssh_packet_length_encrypted: string, ssh_padding_length: int, ssh_padding_string: int, ssh_protocol: string, ssh_server_host_key_algorithms_length: int, tls_alert_message_desc: int, tls_alert_message_level: int, tls_app_data_proto: string, tls_compress_certificate_compressed_certificate_message_length: double, tls_connection_id: string, tls_handshake_extension_type: string, tls_handshake_extensions_key_share_group: string, tls_handshake_session_ticket_length: int, tls_handshake_version: string, tls_record_content_type: int, tls_record_version: string, StringLabel: string, label: int]"
      ]
     },
     "execution_count": 73,
     "metadata": {},
     "output_type": "execute_result"
    }
   ],
   "source": [
    "%%time\n",
    "test.cache()\n",
    "pred = pipelineModel.transform(test)\n",
    "test.unpersist()"
   ]
  },
  {
   "cell_type": "code",
   "execution_count": 74,
   "id": "849fb6b6-caa4-4aff-9d29-06d32493d783",
   "metadata": {},
   "outputs": [],
   "source": [
    "pred_pd = pred.select(['label', 'prediction', 'probability']).toPandas()"
   ]
  },
  {
   "cell_type": "code",
   "execution_count": 75,
   "id": "ed08fb80-cef9-4008-86aa-fd2168ab1d53",
   "metadata": {},
   "outputs": [
    {
     "data": {
      "text/html": [
       "<div>\n",
       "<style scoped>\n",
       "    .dataframe tbody tr th:only-of-type {\n",
       "        vertical-align: middle;\n",
       "    }\n",
       "\n",
       "    .dataframe tbody tr th {\n",
       "        vertical-align: top;\n",
       "    }\n",
       "\n",
       "    .dataframe thead th {\n",
       "        text-align: right;\n",
       "    }\n",
       "</style>\n",
       "<table border=\"1\" class=\"dataframe\">\n",
       "  <thead>\n",
       "    <tr style=\"text-align: right;\">\n",
       "      <th></th>\n",
       "      <th>label</th>\n",
       "      <th>prediction</th>\n",
       "      <th>probability</th>\n",
       "    </tr>\n",
       "  </thead>\n",
       "  <tbody>\n",
       "    <tr>\n",
       "      <th>0</th>\n",
       "      <td>0</td>\n",
       "      <td>0.0</td>\n",
       "      <td>[0.9848303091387218, 0.015169690861278189]</td>\n",
       "    </tr>\n",
       "    <tr>\n",
       "      <th>1</th>\n",
       "      <td>0</td>\n",
       "      <td>0.0</td>\n",
       "      <td>[0.9848303091387218, 0.015169690861278189]</td>\n",
       "    </tr>\n",
       "    <tr>\n",
       "      <th>2</th>\n",
       "      <td>0</td>\n",
       "      <td>0.0</td>\n",
       "      <td>[0.9848303091387218, 0.015169690861278189]</td>\n",
       "    </tr>\n",
       "    <tr>\n",
       "      <th>3</th>\n",
       "      <td>0</td>\n",
       "      <td>0.0</td>\n",
       "      <td>[0.9848303091387218, 0.015169690861278189]</td>\n",
       "    </tr>\n",
       "    <tr>\n",
       "      <th>4</th>\n",
       "      <td>0</td>\n",
       "      <td>0.0</td>\n",
       "      <td>[0.9848303091387218, 0.015169690861278189]</td>\n",
       "    </tr>\n",
       "  </tbody>\n",
       "</table>\n",
       "</div>"
      ],
      "text/plain": [
       "   label  prediction                                 probability\n",
       "0      0         0.0  [0.9848303091387218, 0.015169690861278189]\n",
       "1      0         0.0  [0.9848303091387218, 0.015169690861278189]\n",
       "2      0         0.0  [0.9848303091387218, 0.015169690861278189]\n",
       "3      0         0.0  [0.9848303091387218, 0.015169690861278189]\n",
       "4      0         0.0  [0.9848303091387218, 0.015169690861278189]"
      ]
     },
     "execution_count": 75,
     "metadata": {},
     "output_type": "execute_result"
    }
   ],
   "source": [
    "pred_pd.head()"
   ]
  },
  {
   "cell_type": "markdown",
   "id": "a54f2e05-b268-4d63-a414-e8e4a493c0c5",
   "metadata": {},
   "source": [
    "Next stage extract precision and recall"
   ]
  },
  {
   "cell_type": "raw",
   "id": "6f8bef9d-e173-4a27-a277-1e6987e3b08d",
   "metadata": {},
   "source": [
    "For the indovidual attacks we got good results without tuning using the AUC from the CERN booklet. However to tune our mode we want to have more feedback to make our descisions on. We want to see Area under the ROC curve, prescision recall and Mathews Correlation coefficient.\n",
    "\n",
    "Pyspark lacks some of the features so we want to use SKlearn here. The first task is to create a confusion matrix\n",
    "https://spark.apache.org/docs/2.2.0/mllib-evaluation-metrics.html.\n",
    "\n",
    "The article mentions also about setting the thresthold\n"
   ]
  },
  {
   "cell_type": "code",
   "execution_count": 76,
   "id": "5ae77ee8-f631-46e0-9859-7a88f04f7167",
   "metadata": {},
   "outputs": [
    {
     "data": {
      "text/plain": [
       "array([[119774,      5],\n",
       "       [  4628,   2459]])"
      ]
     },
     "execution_count": 76,
     "metadata": {},
     "output_type": "execute_result"
    }
   ],
   "source": [
    ">>> from sklearn.metrics import confusion_matrix\n",
    "\n",
    "confusion_matrix(pred_pd['label'], pred_pd['prediction'])"
   ]
  },
  {
   "cell_type": "code",
   "execution_count": 77,
   "id": "503e64c3-5126-4427-bbf9-2526223443b6",
   "metadata": {},
   "outputs": [],
   "source": [
    "tn, fp, fn, tp = confusion_matrix(pred_pd['label'], pred_pd['prediction']).ravel()"
   ]
  },
  {
   "cell_type": "code",
   "execution_count": 78,
   "id": "8d3f0f18-cf7f-45c6-a348-eb507cfa5d1d",
   "metadata": {},
   "outputs": [
    {
     "name": "stdout",
     "output_type": "stream",
     "text": [
      "There are 119774 true negatives\n",
      "There are 2459 true positives\n",
      "There are 4628 false negatives\n",
      "There are 5 false positives\n"
     ]
    }
   ],
   "source": [
    "print(\"There are \"+str(tn)+ \" true negatives\")\n",
    "print(\"There are \"+str(tp)+ \" true positives\")\n",
    "print(\"There are \"+str(fn)+ \" false negatives\")\n",
    "print(\"There are \"+str(fp)+ \" false positives\")\n",
    "\n"
   ]
  },
  {
   "cell_type": "markdown",
   "id": "23794df5-debf-4e5f-aa09-9be240865bf1",
   "metadata": {},
   "source": [
    "So we see this tree is not classifying many non attack packets as attack packets but it is missing most of the attack packets too. Looking at the probability data I think my issue is the threshold most attack packets are rated more likely to be attack packets by most do not meet the criteria of 50%. Next lets look at the Prescion recall, and Mathews Correlation coefficent from Scikit learn. \n"
   ]
  },
  {
   "cell_type": "code",
   "execution_count": 89,
   "id": "2e939b6e-ee57-4c4d-812b-8465791c68fd",
   "metadata": {},
   "outputs": [
    {
     "name": "stdout",
     "output_type": "stream",
     "text": [
      "The precision is 0.9160547156227502\n",
      "The recall is 0.3469733314519543\n",
      "The fscore is 0.514919903675008\n",
      "The Matthews correlation coefficient is 0.5773396289207955\n"
     ]
    }
   ],
   "source": [
    "from sklearn.metrics import precision_recall_fscore_support\n",
    "from sklearn.metrics import matthews_corrcoef\n",
    "\n",
    "precisionScore,recall,fscore,support = precision_recall_fscore_support(pred_pd['label'], pred_pd['prediction'], average='binary')\n",
    "MCC = matthews_corrcoef(pred_pd['label'], pred_pd['prediction'])\n",
    "print(\"The precision is \"+str(precision))\n",
    "print(\"The recall is \"+str(recall))\n",
    "print(\"The fscore is \"+str(fscore))\n",
    "print(\"The Matthews correlation coefficient is \"+str(MCC))"
   ]
  },
  {
   "cell_type": "markdown",
   "id": "b85f9818-fb90-44d1-9f1e-d3667e8daeb3",
   "metadata": {},
   "source": [
    "The first tuning will be to increse the threshold. We want to plot the Presicion Recall curve and ROC curve. This is a better metric for imbalenced sets as we have here and why I used it in the crossvalidator\n",
    "\n",
    "https://spark.apache.org/docs/2.2.0/mllib-evaluation-metrics.html\n",
    "\n"
   ]
  },
  {
   "cell_type": "code",
   "execution_count": 90,
   "id": "5ae0555b-88c8-4279-ab3b-7d650be88a3f",
   "metadata": {},
   "outputs": [],
   "source": [
    "import numpy as np\n",
    "pred_pd['probability'] = pred_pd['probability'].map(lambda x: list(x))\n",
    "pred_pd['encoded_label'] = pred_pd['label'].map(lambda x: np.eye(2)[int(x)])"
   ]
  },
  {
   "cell_type": "code",
   "execution_count": 91,
   "id": "74ba6b35-e9a4-42c2-8f9a-1865e6f60fbe",
   "metadata": {},
   "outputs": [],
   "source": [
    "y_pred = np.array(pred_pd['probability'].tolist())\n",
    "y_true = np.array(pred_pd['encoded_label'].tolist())"
   ]
  },
  {
   "cell_type": "code",
   "execution_count": 92,
   "id": "8f7b45c9-3abb-4df1-a6c9-9b5c6e802a6e",
   "metadata": {},
   "outputs": [],
   "source": [
    "from sklearn.metrics import precision_recall_curve\n",
    "precision, recall, threshold = precision_recall_curve( y_true[:,0], y_pred[:,0])\n"
   ]
  },
  {
   "cell_type": "code",
   "execution_count": 93,
   "id": "8ba80e25-b444-4cc5-8279-d99a6462cf01",
   "metadata": {},
   "outputs": [
    {
     "data": {
      "image/png": "[encoded data removed]",
      "text/plain": [
       "<Figure size 432x288 with 1 Axes>"
      ]
     },
     "metadata": {
      "needs_background": "light"
     },
     "output_type": "display_data"
    }
   ],
   "source": [
    "#create precision recall curve\n",
    "fig, ax = plt.subplots()\n",
    "ax.plot(recall, precision, color='purple')\n",
    "plt.xlim([0.90, 1])\n",
    "plt.ylim([0.90, 1])\n",
    "\n",
    "#add axis labels to plot\n",
    "ax.set_title('Precision-Recall Curve')\n",
    "ax.set_ylabel('Precision')\n",
    "ax.set_xlabel('Recall')\n",
    "\n",
    "#display plot\n",
    "plt.show()"
   ]
  },
  {
   "cell_type": "markdown",
   "id": "c00f48a9-d2a0-433a-aceb-c91408d3174b",
   "metadata": {},
   "source": []
  },
  {
   "cell_type": "code",
   "execution_count": 94,
   "id": "4b046f81-5510-40e0-9994-dfa1f54cf21d",
   "metadata": {},
   "outputs": [
    {
     "name": "stdout",
     "output_type": "stream",
     "text": [
      "Best Threshold=0.672647, F-Score=0.995\n"
     ]
    }
   ],
   "source": [
    "#https://machinelearningmastery.com/threshold-moving-for-imbalanced-classification/ suggestion on setting thresholds\n",
    "from numpy import argmax\n",
    "# convert to f score\n",
    "fscore = (2 * precision * recall) / (precision + recall)\n",
    "# locate the index of the largest f score\n",
    "ix = argmax(fscore)\n",
    "print('Best Threshold=%f, F-Score=%.3f' % (threshold[ix], fscore[ix]))"
   ]
  },
  {
   "cell_type": "code",
   "execution_count": 95,
   "id": "3653cf39-e76c-4f27-8b7c-e59b0d8cd9e9",
   "metadata": {},
   "outputs": [],
   "source": [
    "#taking 1-best threshold\n",
    "threshold = 0.3\n",
    "y_pred2 = (y_pred[:, 1] > threshold).astype('float')\n",
    "\n",
    "tn, fp, fn, tp = confusion_matrix(pred_pd['label'], y_pred2).ravel()"
   ]
  },
  {
   "cell_type": "code",
   "execution_count": 96,
   "id": "19bed7b1-8f93-4cd9-8517-d0dfad8c62d8",
   "metadata": {},
   "outputs": [
    {
     "name": "stdout",
     "output_type": "stream",
     "text": [
      "There are 119196 true negatives\n",
      "There are 6362 true positives\n",
      "There are 725 false negatives\n",
      "There are 583 false positives\n"
     ]
    }
   ],
   "source": [
    "print(\"There are \"+str(tn)+ \" true negatives\")\n",
    "print(\"There are \"+str(tp)+ \" true positives\")\n",
    "print(\"There are \"+str(fn)+ \" false negatives\")\n",
    "print(\"There are \"+str(fp)+ \" false positives\")"
   ]
  },
  {
   "cell_type": "markdown",
   "id": "bdcfa80f-6541-46ce-a08f-249404e9b383",
   "metadata": {},
   "source": [
    "This is with the suggested threshold. The code above just changes our pandas dataframe, but you can adjust the threshold on the model with \n",
    "https://spark.apache.org/docs/3.1.3/api/python/reference/api/pyspark.ml.classification.RandomForestClassifier.html#pyspark.ml.classification.RandomForestClassifier.setThresholds \n",
    "so we loose presicion as we are loosing the some True Posatives in order to lower the false negative rate, which is more important in intrustion detection. The Mathews Correlation coeffiecent also rises. which is what we want to see and likely the metric I will use to judge my algorithims\n"
   ]
  },
  {
   "cell_type": "code",
   "execution_count": 97,
   "id": "68bbed28-68cb-44f0-9f2d-a5a58ae4d7f6",
   "metadata": {},
   "outputs": [
    {
     "name": "stdout",
     "output_type": "stream",
     "text": [
      "The precision is 0.9160547156227502\n",
      "The recall is 0.8977000141103428\n",
      "The fscore is 0.9067844925883695\n",
      "The Matthews correlation coefficient is 0.9013799805508445\n"
     ]
    }
   ],
   "source": [
    "precision,recall,fscore,support = precision_recall_fscore_support(pred_pd['label'], y_pred2, average='binary')\n",
    "MCC2 = matthews_corrcoef(pred_pd['label'], y_pred2)\n",
    "print(\"The precision is \"+str(precision))\n",
    "print(\"The recall is \"+str(recall))\n",
    "print(\"The fscore is \"+str(fscore))\n",
    "print(\"The Matthews correlation coefficient is \"+str(MCC2))"
   ]
  },
  {
   "cell_type": "code",
   "execution_count": null,
   "id": "bef74c14-7a27-48be-99d7-dd8694518f0b",
   "metadata": {},
   "outputs": [],
   "source": []
  },
  {
   "cell_type": "code",
   "execution_count": null,
   "id": "9578bc8b-c38f-4a76-b71e-8bee24e58d5f",
   "metadata": {},
   "outputs": [],
   "source": []
  },
  {
   "cell_type": "code",
   "execution_count": null,
   "id": "043832da-0fe7-4fcf-a448-dbc0dc5cbeda",
   "metadata": {},
   "outputs": [],
   "source": []
  }
 ],
 "metadata": {
  "kernelspec": {
   "display_name": "Python 3 (ipykernel)",
   "language": "python",
   "name": "python3"
  },
  "language_info": {
   "codemirror_mode": {
    "name": "ipython",
    "version": 3
   },
   "file_extension": ".py",
   "mimetype": "text/x-python",
   "name": "python",
   "nbconvert_exporter": "python",
   "pygments_lexer": "ipython3",
   "version": "3.9.12"
  }
 },
 "nbformat": 4,
 "nbformat_minor": 5
}
