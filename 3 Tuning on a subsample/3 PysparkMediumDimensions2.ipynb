{
 "cells": [
  {
   "cell_type": "code",
   "execution_count": 1,
   "id": "e0a30673-c306-426b-b29c-c7d4b546efff",
   "metadata": {},
   "outputs": [
    {
     "name": "stdout",
     "output_type": "stream",
     "text": [
      "Hello World\n"
     ]
    }
   ],
   "source": [
    "print(\"Hello World\")"
   ]
  },
  {
   "cell_type": "markdown",
   "id": "2e3d5508-2fd8-448d-a8e7-2d4cae8f14f3",
   "metadata": {},
   "source": [
    "Running with minimal dimensions, on this slightly artifical subset produced good results, I want to test if we get better results using more dimensions, so to see if the extra processing time leads to better results. The minimal dimension workbook used 9 dimensions. For this I will use 20. I will choose 9 that rated highly on my grid search of the whole dataset randomly sampled. These are:\n",
    "\n",
    "Cat\n",
    "\n",
    "http_host\n",
    "http_request_line\n",
    "http_request_method\n",
    "http_request_version\n",
    "ssdp\n",
    "http_request_full_uri\n",
    "\n",
    "\n",
    "\n",
    "\n",
    "Numerical\n",
    "ip_ttl\n",
    "udp_dstport\n",
    "udp_time_delta\n"
   ]
  },
  {
   "cell_type": "code",
   "execution_count": 2,
   "id": "1ca80d56-7e03-42be-ae46-f2727a41eba3",
   "metadata": {},
   "outputs": [],
   "source": [
    "readFile=\"Data/parquet/subSampleWholeDataSet\""
   ]
  },
  {
   "cell_type": "code",
   "execution_count": 3,
   "id": "568f24af-506e-49ee-b2d0-463093f550b2",
   "metadata": {},
   "outputs": [],
   "source": [
    "from pyspark.sql import SparkSession\n",
    "import seaborn as sns\n",
    "import matplotlib.pyplot as plt \n",
    "from pyspark.sql.functions import col"
   ]
  },
  {
   "cell_type": "code",
   "execution_count": 4,
   "id": "20e74d5e-ef53-4f92-b285-3919dc3bc776",
   "metadata": {},
   "outputs": [],
   "source": [
    "spark = SparkSession.builder \\\n",
    "    .master(\"local\") \\\n",
    "    .appName(\"WiFi\") \\\n",
    "    .config(\"spark.driver.memory\", \"8g\")\\\n",
    "    .getOrCreate()"
   ]
  },
  {
   "cell_type": "code",
   "execution_count": 5,
   "id": "814ba7fe-44ad-49a1-b7c3-f31d5959582a",
   "metadata": {},
   "outputs": [],
   "source": [
    "df=spark.read.parquet(readFile)"
   ]
  },
  {
   "cell_type": "code",
   "execution_count": 6,
   "id": "2860e76c-29aa-4c52-8837-f89ce4c129ef",
   "metadata": {},
   "outputs": [
    {
     "name": "stdout",
     "output_type": "stream",
     "text": [
      "+----------------+------+\n",
      "|     StringLabel| count|\n",
      "+----------------+------+\n",
      "|           Krack|  2500|\n",
      "|             SSH|  3541|\n",
      "|          Botnet|  2725|\n",
      "|            SSDP|  2622|\n",
      "|   SQL_Injection|  2629|\n",
      "|         RogueAP|  1310|\n",
      "|       Evil_Twin|  3088|\n",
      "|Website_spoofing|  2397|\n",
      "|       (Re)Assoc|  3331|\n",
      "|           Disas|  2957|\n",
      "|          Normal|596802|\n",
      "|          Deauth|  2249|\n",
      "|           Kr00k|  3758|\n",
      "|         Malware|  2498|\n",
      "+----------------+------+\n",
      "\n"
     ]
    },
    {
     "data": {
      "text/plain": [
       "632407"
      ]
     },
     "execution_count": 6,
     "metadata": {},
     "output_type": "execute_result"
    }
   ],
   "source": [
    "df.groupBy('StringLabel').count().show()\n",
    "df.count()"
   ]
  },
  {
   "cell_type": "markdown",
   "id": "d709200e-d7cb-4250-955a-de345d7f8d0d",
   "metadata": {},
   "source": [
    "https://docs.microsoft.com/en-us/azure/databricks/_static/notebooks/getting-started/get-started-with-mllib-dbr7.html as a guide"
   ]
  },
  {
   "cell_type": "code",
   "execution_count": 7,
   "id": "80e19669-eced-4040-a0a6-6e10ec1c89ed",
   "metadata": {},
   "outputs": [],
   "source": [
    "from pyspark.ml.feature import StringIndexer, OneHotEncoder"
   ]
  },
  {
   "cell_type": "code",
   "execution_count": 8,
   "id": "5fc008f8-5233-427c-aed2-9952f0ad81f5",
   "metadata": {},
   "outputs": [],
   "source": [
    "categoricalCols = [\n",
    "    \"wlan_tag_length\",\n",
    "    \"wlan_country_info_fnm\",\n",
    "    \"wlan_da\",\n",
    "    \"wlan_sa\",\n",
    "    \"wlan_bssid\",\n",
    "    \"ip_src\",\n",
    "    \"ip_dst\",\n",
    "    \"http_host\",\n",
    "    \"http_request_line\",\n",
    "    \"http_request_method\",\n",
    "    \"http_request_version\",\n",
    "    \"ssdp\",\n",
    "    \"http_request_full_uri\"\n",
    "]\n",
    "   "
   ]
  },
  {
   "cell_type": "code",
   "execution_count": 9,
   "id": "05a660a4-eec4-4c97-901f-b31fa7464b19",
   "metadata": {},
   "outputs": [],
   "source": [
    "# The following two lines are estimators. They return functions that we will later apply to transform the dataset.\n",
    "stringIndexer = StringIndexer(inputCols=categoricalCols, outputCols=[x + \"index\" for x in categoricalCols]).setHandleInvalid(\"keep\") \n",
    "encoder = OneHotEncoder(inputCols=stringIndexer.getOutputCols(), outputCols=[x + \"OHE\" for x in categoricalCols]) "
   ]
  },
  {
   "cell_type": "code",
   "execution_count": 10,
   "id": "d6f62dee-dbad-446e-b404-4c926f91b93f",
   "metadata": {},
   "outputs": [],
   "source": [
    "numericCols=[\n",
    "    \"wlan_fixed_reason_code\",\n",
    "    \"radiotap_channel_freq\",\n",
    "    \"udp_length\",\n",
    "    \"ip_ttl\",\n",
    "    \"udp_dstport\",\n",
    "    \"udp_time_delta\"\n",
    "]"
   ]
  },
  {
   "cell_type": "code",
   "execution_count": 11,
   "id": "4699f280-fdd8-4904-9c44-b8103b1f9284",
   "metadata": {},
   "outputs": [],
   "source": [
    "from pyspark.ml.feature import VectorAssembler\n",
    " \n",
    "# This includes both the numeric columns and the one-hot encoded binary vector columns in our dataset.\n",
    "assemblerInputs = [c + \"OHE\" for c in categoricalCols] + numericCols\n",
    "vecAssembler = VectorAssembler(inputCols=assemblerInputs, outputCol=\"features\")"
   ]
  },
  {
   "cell_type": "code",
   "execution_count": 12,
   "id": "a4c188f9-b85a-48c1-bf31-aadf34f53821",
   "metadata": {},
   "outputs": [],
   "source": [
    "from pyspark.ml.classification import RandomForestClassifier\n",
    "from pyspark.ml import Pipeline"
   ]
  },
  {
   "cell_type": "markdown",
   "id": "c181de09-474a-477c-a37e-05e83e2df673",
   "metadata": {},
   "source": [
    "we want to do a test train split on our subsample"
   ]
  },
  {
   "cell_type": "code",
   "execution_count": 13,
   "id": "9afbd3f2-fb69-45f6-8e73-6b91b44d2f3b",
   "metadata": {},
   "outputs": [],
   "source": [
    "train, test = df.randomSplit([0.8,0.2])\n"
   ]
  },
  {
   "cell_type": "code",
   "execution_count": 14,
   "id": "a7d78d30-d402-441c-a508-d00ed44bfa6b",
   "metadata": {},
   "outputs": [
    {
     "name": "stdout",
     "output_type": "stream",
     "text": [
      "Events for the training 506155\n",
      "Events for the validation 126252\n"
     ]
    }
   ],
   "source": [
    "print('Events for the training {}'.format(train.count()))\n",
    "print('Events for the validation {}'.format(test.count()))"
   ]
  },
  {
   "cell_type": "markdown",
   "id": "ed5f151e-27af-4135-8b26-29d735b40c3f",
   "metadata": {},
   "source": [
    "we take a subsample and cache it for the grid search"
   ]
  },
  {
   "cell_type": "code",
   "execution_count": 15,
   "id": "1543c0d9-c35d-45a0-ba31-2964ea945516",
   "metadata": {},
   "outputs": [
    {
     "name": "stdout",
     "output_type": "stream",
     "text": [
      "We will use 19852  events for the grid search.\n",
      "+-----+-----+\n",
      "|label|count|\n",
      "+-----+-----+\n",
      "|    1| 1091|\n",
      "|    0|18761|\n",
      "+-----+-----+\n",
      "\n",
      "+----------------+-----+\n",
      "|     StringLabel|count|\n",
      "+----------------+-----+\n",
      "|           Krack|   64|\n",
      "|             SSH|  107|\n",
      "|          Botnet|   81|\n",
      "|            SSDP|  100|\n",
      "|   SQL_Injection|   85|\n",
      "|         RogueAP|   41|\n",
      "|       Evil_Twin|   85|\n",
      "|Website_spoofing|   63|\n",
      "|       (Re)Assoc|  114|\n",
      "|           Disas|   85|\n",
      "|          Normal|18761|\n",
      "|          Deauth|   80|\n",
      "|           Kr00k|  120|\n",
      "|         Malware|   66|\n",
      "+----------------+-----+\n",
      "\n"
     ]
    }
   ],
   "source": [
    "gridSample = train.sample(fraction=1.0/25, withReplacement=False).cache()\n",
    "print('We will use',gridSample.count(),' events for the grid search.')\n",
    "gridSample.groupBy('label').count().show()\n",
    "gridSample.groupBy('StringLabel').count().show()"
   ]
  },
  {
   "cell_type": "code",
   "execution_count": 16,
   "id": "c2703cb4-b1a9-4da1-aed8-e1d33109b6b8",
   "metadata": {},
   "outputs": [],
   "source": [
    "from pyspark.ml.tuning import ParamGridBuilder, CrossValidator\n",
    "from pyspark.ml.evaluation import BinaryClassificationEvaluator\n",
    "from pyspark.ml.classification import RandomForestClassifier\n",
    "\n",
    "rf = RandomForestClassifier(labelCol='label', featuresCol='features', \n",
    "                            maxBins=20, subsamplingRate=0.7,\n",
    "                            minInfoGain= 1e-05,\n",
    "                            featureSubsetStrategy='all',\n",
    "                            minInstancesPerNode=2)\n",
    "\n",
    "evaluator=BinaryClassificationEvaluator(metricName='areaUnderPR')\n",
    "rf_pipe = Pipeline(stages=[stringIndexer, encoder, vecAssembler,rf])\n",
    "\n",
    "\n",
    "\n",
    "\n",
    "\n",
    "paramGrid = ParamGridBuilder()\\\n",
    "  .addGrid(rf.maxDepth, [10,20])\\\n",
    "  .addGrid(rf.numTrees, [50])\\\n",
    "  .build()\n",
    "\n",
    "cv = CrossValidator(estimator=rf_pipe, \n",
    "                    evaluator=evaluator,\n",
    "                    estimatorParamMaps=paramGrid,\n",
    "                    numFolds=2, parallelism=4)"
   ]
  },
  {
   "cell_type": "code",
   "execution_count": 17,
   "id": "c6414d94-af2e-454e-8682-b09486c2c453",
   "metadata": {},
   "outputs": [
    {
     "name": "stdout",
     "output_type": "stream",
     "text": [
      "CPU times: user 496 ms, sys: 194 ms, total: 689 ms\n",
      "Wall time: 3min 24s\n"
     ]
    }
   ],
   "source": [
    "%%time\n",
    "bestModel = cv.fit(gridSample)\n",
    " "
   ]
  },
  {
   "cell_type": "code",
   "execution_count": 18,
   "id": "c1413a66-ea2d-418e-9928-4c7173f3d6e0",
   "metadata": {},
   "outputs": [
    {
     "name": "stdout",
     "output_type": "stream",
     "text": [
      "BestModel:\n",
      "\t-maxDepth = 10\n",
      "\t-Feature Importance = (1314,[0,1,2,3,4,6,7,8,9,10,11,12,18,20,22,23,25,26,27,28,29,30,31,33,34,35,36,39,45,57,62,66,81,82,83,85,86,88,89,95,129,130,131,132,145,149,151,159,160,239,327,328,401,575,589,631,698,1308,1309,1310,1311],[0.10438350581730019,0.015623001928454987,0.00400921078705673,4.7271606488639186E-4,0.0010190714504807103,0.0036771644016795496,3.262720110544783E-5,0.0015522346549495273,1.357946062153346E-4,5.393990751525057E-5,8.318093261496383E-5,1.3890414818097647E-4,4.132172154270418E-4,0.02574524890449987,4.3871420578146477E-4,0.011515759695534608,0.03422168536913775,1.0714771041643657E-4,8.637598880323078E-4,1.4703258899330461E-5,0.0011893815125085898,1.80360125771345E-4,1.307662417530646E-4,0.15910004386994578,7.190746809175481E-4,6.109370150350306E-4,8.70704983075547E-5,8.628446505700389E-4,3.0036367659721553E-4,5.358732052126202E-4,3.4647588839700934E-4,3.641190188790085E-4,1.4386653795669624E-5,0.002459625279301684,2.7382478013129455E-5,8.346195568718506E-5,8.329706383007184E-4,0.2329099500465294,0.0016505563296488356,3.7571953509222395E-5,0.001596168370792334,1.3860091595281772E-5,0.08272827161267624,0.003975823599839866,9.295738646389566E-4,0.003970056777685278,6.611512319230212E-4,0.0027322929711481106,0.002126711249096867,3.3405525278797065E-6,1.1958319642219071E-6,3.1790454474947072E-6,7.174991785331392E-6,4.902477487338724E-4,7.086433671458065E-6,1.5747630381017993E-6,9.366652208227008E-4,0.22745103151179497,0.05894093178839726,0.006371144619634335,1.0771385593689989E-4])\n",
      "BestModel:\n",
      "\t-maxDepth = 50\n"
     ]
    }
   ],
   "source": [
    "print('BestModel:\\n\\t-maxDepth =',bestModel.bestModel.stages[-1]._java_obj.getMaxDepth())\n",
    "print('\\t-Feature Importance =',bestModel.bestModel.stages[-1]._java_obj.featureImportances())\n",
    "print('BestModel:\\n\\t-maxDepth =',bestModel.bestModel.stages[-1]._java_obj.getNumTrees())"
   ]
  },
  {
   "cell_type": "raw",
   "id": "35e100df-e7b7-4504-b31d-076eaa09a21c",
   "metadata": {},
   "source": [
    "We need to use the model as the encoding changes the index to extract the feature names and assess the model. This page was essential in working this out https://stackoverflow.com/questions/50937591/pyspark-random-forest-feature-importance-mapping-after-column-transformations/50957255#50957255"
   ]
  },
  {
   "cell_type": "code",
   "execution_count": 19,
   "id": "fb444d4e-de2c-479c-8973-12b01a0e315f",
   "metadata": {},
   "outputs": [],
   "source": [
    "transformedBestModel=bestModel.transform(gridSample)"
   ]
  },
  {
   "cell_type": "code",
   "execution_count": 20,
   "id": "b382b579-f2ce-41be-8357-0afce10f74ad",
   "metadata": {},
   "outputs": [],
   "source": [
    "import pandas as pd\n",
    "\n",
    "p = pd.DataFrame(transformedBestModel.schema[\"features\"].metadata[\"ml_attr\"][\"attrs\"][\"binary\"]+transformedBestModel.schema[\"features\"].metadata[\"ml_attr\"][\"attrs\"][\"numeric\"]).sort_values(\"idx\")"
   ]
  },
  {
   "cell_type": "code",
   "execution_count": 21,
   "id": "c7b93ad6-1d4b-4cf7-ab21-5a1fb177ef82",
   "metadata": {},
   "outputs": [
    {
     "data": {
      "text/plain": [
       "0                                   wlan_tag_lengthOHE_NA\n",
       "1                                    wlan_tag_lengthOHE_4\n",
       "2       wlan_tag_lengthOHE_7-8-1-4-6-20-26-22-4-12-5-2-24\n",
       "3       wlan_tag_lengthOHE_7-8-4-52-1-2-20-5-26-22-8-1...\n",
       "4                               wlan_tag_lengthOHE_177-24\n",
       "                              ...                        \n",
       "1309                                radiotap_channel_freq\n",
       "1310                                           udp_length\n",
       "1311                                               ip_ttl\n",
       "1312                                          udp_dstport\n",
       "1313                                       udp_time_delta\n",
       "Name: name, Length: 1314, dtype: object"
      ]
     },
     "execution_count": 21,
     "metadata": {},
     "output_type": "execute_result"
    }
   ],
   "source": [
    "p.name"
   ]
  },
  {
   "cell_type": "code",
   "execution_count": 22,
   "id": "2ed13f7f-871c-4a8e-a5c3-92926320902a",
   "metadata": {},
   "outputs": [],
   "source": [
    "\n",
    "from itertools import chain\n",
    "attrs = sorted(\n",
    "    (attr[\"idx\"], attr[\"name\"])\n",
    "    for attr in (\n",
    "        chain(*transformedBestModel.schema[\"features\"].metadata[\"ml_attr\"][\"attrs\"].values())\n",
    "    )\n",
    ") "
   ]
  },
  {
   "cell_type": "code",
   "execution_count": 23,
   "id": "44c4c302-e780-4697-b518-937de740ca6b",
   "metadata": {},
   "outputs": [],
   "source": [
    "ImportanceArray=[\n",
    "    (name,  bestModel.bestModel.stages[-1].featureImportances[idx])\n",
    "    for idx, name in attrs\n",
    "    if bestModel.bestModel.stages[-1].featureImportances[idx]\n",
    "]"
   ]
  },
  {
   "cell_type": "code",
   "execution_count": 24,
   "id": "b397114c-b62b-42ae-aeef-d48ea6b729c1",
   "metadata": {},
   "outputs": [],
   "source": [
    "ImportanceArray.sort(key=lambda row: (row[1]), reverse=True)"
   ]
  },
  {
   "cell_type": "code",
   "execution_count": 25,
   "id": "e34e7fc1-7fca-4bbc-991a-401470c634d5",
   "metadata": {},
   "outputs": [
    {
     "data": {
      "text/plain": [
       "[('wlan_saOHE_04:ed:33:e0:24:82', 0.2329099500465294),\n",
       " ('wlan_fixed_reason_code', 0.22745103151179497),\n",
       " ('wlan_daOHE_04:ed:33:e0:24:82', 0.15910004386994578),\n",
       " ('wlan_tag_lengthOHE_NA', 0.10438350581730019),\n",
       " ('wlan_bssidOHE_0c:9d:92:54:fe:35', 0.08272827161267624),\n",
       " ('radiotap_channel_freq', 0.05894093178839726),\n",
       " ('wlan_daOHE_a4:b1:c1:91:4c:72', 0.03422168536913775),\n",
       " ('wlan_country_info_fnmOHE_1-1-1-1-1-1-1-1-1-1-1-1-1-1-1-1',\n",
       "  0.02574524890449987),\n",
       " ('wlan_tag_lengthOHE_4', 0.015623001928454987),\n",
       " ('wlan_daOHE_0c:9d:92:54:fe:30', 0.011515759695534608),\n",
       " ('udp_length', 0.006371144619634335),\n",
       " ('wlan_tag_lengthOHE_7-8-1-4-6-20-26-22-4-12-5-2-24', 0.00400921078705673),\n",
       " ('wlan_bssidOHE_ff:ff:ff:ff:ff:ff', 0.003975823599839866),\n",
       " ('ip_srcOHE_192.168.2.130', 0.003970056777685278),\n",
       " ('wlan_tag_lengthOHE_8-1-1-5-26-22-8-5-12-5-9-24', 0.0036771644016795496),\n",
       " ('ip_srcOHE_20.50.64.3', 0.0027322929711481106),\n",
       " ('wlan_saOHE_a4:b1:c1:91:4c:72', 0.002459625279301684),\n",
       " ('ip_srcOHE_192.168.2.248', 0.002126711249096867),\n",
       " ('wlan_saOHE_00:c0:ca:a8:26:3e', 0.0016505563296488356),\n",
       " ('wlan_bssidOHE_0c:9d:92:54:fe:34', 0.001596168370792334),\n",
       " ('wlan_tag_lengthOHE_4-8-1-4-1-1-20-4-5-26-22-8-37-9-24-5-30',\n",
       "  0.0015522346549495273),\n",
       " ('wlan_daOHE_0c:9d:92:54:fe:34', 0.0011893815125085898),\n",
       " ('wlan_tag_lengthOHE_177-24', 0.0010190714504807103),\n",
       " ('ip_dstOHE_192.168.2.130', 0.0009366652208227008),\n",
       " ('ip_srcOHE_NA', 0.0009295738646389566),\n",
       " ('wlan_daOHE_24:f5:a2:ea:86:c3', 0.0008637598880323078),\n",
       " ('wlan_daOHE_00:c0:ca:a8:26:3e', 0.0008628446505700389),\n",
       " ('wlan_saOHE_50:3e:aa:e4:01:93', 0.0008329706383007184),\n",
       " ('wlan_daOHE_00:c0:ca:a8:29:56', 0.0007190746809175481),\n",
       " ('ip_srcOHE_192.168.2.73', 0.0006611512319230212),\n",
       " ('wlan_daOHE_ff:ff:ff:ff:ff:ff', 0.0006109370150350306),\n",
       " ('wlan_daOHE_0c:9d:12:54:fe:30', 0.0005358732052126202),\n",
       " ('ip_srcOHE_35.167.145.222', 0.0004902477487338724),\n",
       " ('wlan_tag_lengthOHE_7-8-4-52-1-2-20-5-26-22-8-12-5-2-9-24-5',\n",
       "  0.00047271606488639186),\n",
       " ('wlan_daOHE_NA', 0.00043871420578146477),\n",
       " ('wlan_tag_lengthOHE_8-1-1-5-26-22-8-12-5-9-24', 0.0004132172154270418),\n",
       " ('wlan_daOHE_0c:9d:90:54:fe:30', 0.0003641190188790085),\n",
       " ('wlan_daOHE_00:0c:29:cf:08:aa-00:0c:29:cf:08:aa-00:0c:29:cf:08:aa',\n",
       "  0.00034647588839700934),\n",
       " ('wlan_daOHE_00:0c:29:ec:72:02', 0.00030036367659721553),\n",
       " ('wlan_daOHE_88:66:a5:55:a2:d4', 0.000180360125771345),\n",
       " ('wlan_tag_lengthOHE_7-8-26-8-1-12-5-30-5-7-9', 0.00013890414818097647),\n",
       " ('wlan_tag_lengthOHE_7-8-1-4-6-26-22-4-12-5-2-24', 0.0001357946062153346),\n",
       " ('wlan_daOHE_b4:ce:40:c8:33:81', 0.0001307662417530646),\n",
       " ('ip_ttl', 0.00010771385593689989),\n",
       " ('wlan_daOHE_50:3e:aa:e4:01:93', 0.00010714771041643657),\n",
       " ('wlan_daOHE_a4:08:ea:2a:9a:01', 8.70704983075547e-05),\n",
       " ('wlan_saOHE_50:3e:aa:e3:1f:be', 8.346195568718506e-05),\n",
       " ('wlan_tag_lengthOHE_7-8-1-4-24', 8.318093261496383e-05),\n",
       " ('wlan_tag_lengthOHE_0-8-26-12-5-9', 5.393990751525057e-05),\n",
       " ('wlan_saOHE_0c:9d:92:54:fe:35', 3.7571953509222395e-05),\n",
       " ('wlan_tag_lengthOHE_9', 3.262720110544783e-05),\n",
       " ('wlan_saOHE_0c:9d:92:54:fe:34', 2.7382478013129455e-05),\n",
       " ('wlan_daOHE_50:3e:aa:e3:1f:be', 1.4703258899330461e-05),\n",
       " ('wlan_saOHE_0c:9d:92:54:fe:30', 1.4386653795669624e-05),\n",
       " ('wlan_bssidOHE_0c:9d:92:54:fe:30', 1.3860091595281772e-05),\n",
       " ('ip_srcOHE_52.41.255.64', 7.174991785331392e-06),\n",
       " ('ip_srcOHE_44.238.207.5', 7.086433671458065e-06),\n",
       " ('ip_srcOHE_52.85.156.101', 3.3405525278797065e-06),\n",
       " ('ip_srcOHE_52.85.156.71', 3.1790454474947072e-06),\n",
       " ('ip_srcOHE_52.85.156.106', 1.5747630381017993e-06),\n",
       " ('ip_srcOHE_52.26.249.11', 1.1958319642219071e-06)]"
      ]
     },
     "execution_count": 25,
     "metadata": {},
     "output_type": "execute_result"
    }
   ],
   "source": [
    "ImportanceArray"
   ]
  },
  {
   "cell_type": "code",
   "execution_count": 26,
   "id": "251425d2-b8ce-4d55-ae2e-977d3f7e8add",
   "metadata": {},
   "outputs": [
    {
     "data": {
      "text/plain": [
       "1314"
      ]
     },
     "execution_count": 26,
     "metadata": {},
     "output_type": "execute_result"
    }
   ],
   "source": [
    "len(bestModel.bestModel.stages[-1].featureImportances)"
   ]
  },
  {
   "cell_type": "code",
   "execution_count": 27,
   "id": "5d3b4223-0aa0-4e49-a3ef-8a59a966bc55",
   "metadata": {},
   "outputs": [
    {
     "data": {
      "text/plain": [
       "DataFrame[frame_encap_type: int, frame_len: int, frame_number: int, frame_time: string, frame_time_delta: double, frame_time_delta_displayed: double, frame_time_epoch: double, frame_time_relative: double, radiotap_channel_flags_cck: int, radiotap_channel_flags_ofdm: int, radiotap_channel_freq: int, radiotap_datarate: double, radiotap_dbm_antsignal: int, radiotap_length: int, radiotap_mactime: double, radiotap_present_tsft: string, radiotap_rxflags: string, radiotap_timestamp_ts: bigint, radiotap_vendor_oui: int, wlan_duration: int, wlan_analysis_kck: string, wlan_analysis_kek: string, wlan_bssid: string, wlan_country_info_fnm: string, wlan_country_info_code: string, wlan_da: string, wlan_fc_ds: string, wlan_fc_frag: int, wlan_fc_order: int, wlan_fc_moredata: int, wlan_fc_protected: int, wlan_fc_pwrmgt: int, wlan_fc_type: int, wlan_fc_retry: int, wlan_fc_subtype: int, wlan_fcs_bad_checksum: int, wlan_fixed_beacon: int, wlan_fixed_capabilities_ess: int, wlan_fixed_capabilities_ibss: int, wlan_fixed_reason_code: int, wlan_fixed_timestamp: double, wlan_ra: string, wlan_radio_duration: int, wlan_rsn_ie_gtk_key: int, wlan_rsn_ie_igtk_key: int, wlan_rsn_ie_pmkid: int, wlan_sa: string, wlan_seq: double, wlan_ssid: string, wlan_ta: string, wlan_tag: int, wlan_tag_length: string, wlan_radio_channel: int, wlan_radio_data_rate: double, wlan_radio_end_tsf: double, wlan_radio_frequency: int, wlan_radio_signal_dbm: int, wlan_radio_start_tsf: double, wlan_radio_phy: int, wlan_radio_timestamp: double, wlan_rsn_capabilities_mfpc: double, wlan_rsna_eapol_keydes_msgnr: double, wlan_rsna_eapol_keydes_data: string, wlan_rsna_eapol_keydes_data_len: double, wlan_rsna_eapol_keydes_key_info_key_mic: double, wlan_rsna_eapol_keydes_nonce: string, eapol_keydes_key_len: double, eapol_keydes_replay_counter: double, eapol_len: double, eapol_type: double, llc: string, arp: string, arp_hw_type: double, arp_proto_type: string, arp_hw_size: double, arp_proto_size: double, arp_opcode: double, arp_src_hw_mac: string, arp_src_proto_ipv4: string, arp_dst_hw_mac: string, arp_dst_proto_ipv4: string, ip_dst: string, ip_proto: int, ip_src: string, ip_ttl: int, ip_version: int, data_data: string, data_len: int, icmpv6_mldr_nb_mcast_records: double, icmpv6_ni_nonce: int, tcp_ack: int, tcp_ack_raw: int, tcp_analysis: int, tcp_analysis_flags: int, tcp_analysis_retransmission: int, tcp_analysis_reused_ports: int, tcp_analysis_rto_frame: int, tcp_checksum: string, tcp_checksum_status: int, tcp_flags_syn: int, tcp_dstport: int, tcp_flags_ack: int, tcp_flags_fin: int, tcp_flags_push: int, tcp_flags_reset: int, tcp_option_len: int, tcp_payload: string, tcp_seq: int, tcp_seq_raw: int, tcp_srcport: int, tcp_time_delta: double, tcp_time_relative: double, udp_dstport: int, udp_srcport: int, udp_length: int, udp_payload: string, udp_time_relative: double, udp_time_delta: double, nbns: string, nbss_continuation_data: string, nbss_type: string, nbss_length: double, ldap: string, smb_access_generic_execute: double, smb_access_generic_read: double, smb_access_generic_write: double, smb_flags_notify: double, smb_flags_response: double, smb_flags2_nt_error: double, smb_flags2_sec_sig: double, smb_mid: double, smb_nt_status: double, smb_server_component: string, smb_pid_high: double, smb_tid: double, smb2_acct: string, smb2_auth_frame: string, smb2_buffer_code: string, smb2_cmd: string, smb2_data_offset: string, smb2_domain: string, smb2_fid: string, smb2_filename: string, smb2_header_len: string, smb2_host: string, smb2_msg_id: string, smb2_pid: string, smb2_previous_sesid: string, smb2_protocol_id: string, smb2_sesid: string, smb2_session_flags: string, smb2_tid: string, smb2_write_length: int, dhcp: string, dhcp_client_id_duid_ll_hw_type: string, dhcp_cookie: string, dhcp_hw_addr_padding: double, dhcp_hw_mac_addr: string, dhcp_id: string, dhcp_ip_client: string, dhcp_ip_relay: string, dhcp_ip_server: string, dhcp_option_broadcast_address: string, dhcp_option_dhcp_server_id: string, dhcp_option_router: string, dhcp_option_vendor_bsdp_message_type: string, mdns: string, dns: string, dns_a: string, dns_count_add_rr: int, dns_count_answers: int, dns_count_auth_rr: int, dns_count_labels: int, dns_count_queries: int, dns_flags_authoritative: string, dns_flags_checkdisable: string, dns_flags_opcode: string, dns_flags_response: string, dns_id: string, dns_ptr_domain_name: string, dns_qry_name: string, dns_qry_name_len: int, dns_resp_len: string, dns_resp_name: string, dns_resp_ttl: string, dns_resp_len_1: string, dns_retransmit_request: int, dns_retransmit_response: int, dns_time: double, ssdp: string, http_connection: string, http_content_length: double, http_content_type: string, http_date: string, http_file_data: string, http_host: string, http_last_modified: string, http_location: string, http_next_request_in: string, http_next_response_in: string, http_request_full_uri: string, http_request_line: string, http_request_method: string, http_request_uri_path: string, http_request_uri_query: string, http_request_uri_query_parameter: string, http_request_version: string, http_request_in: double, http_response_code: double, http_response_code_desc: string, http_response_line: string, http_response_phrase: string, http_response_version: string, http_response_for_uri: string, http_response_in: string, http_referer: string, http_time: double, http_server: string, json_value_string: string, json_key: string, ssh_cookie: string, ssh_compression_algorithms_client_to_server_length: int, ssh_compression_algorithms_server_to_client_length: int, ssh_direction: int, ssh_dh_gex_max: int, ssh_dh_gex_min: int, ssh_dh_gex_nbits: int, ssh_encryption_algorithms_client_to_server_length: int, ssh_encryption_algorithms_server_to_client_length: int, ssh_host_key_length: int, ssh_host_key_type_length: int, ssh_kex_algorithms_length: int, ssh_mac_algorithms_client_to_server_length: int, ssh_mac_algorithms_server_to_client_length: int, ssh_message_code: string, ssh_mpint_length: string, ssh_packet_length: int, ssh_packet_length_encrypted: string, ssh_padding_length: int, ssh_padding_string: int, ssh_protocol: string, ssh_server_host_key_algorithms_length: int, tls_alert_message_desc: int, tls_alert_message_level: int, tls_app_data_proto: string, tls_compress_certificate_compressed_certificate_message_length: double, tls_connection_id: string, tls_handshake_extension_type: string, tls_handshake_extensions_key_share_group: string, tls_handshake_session_ticket_length: int, tls_handshake_version: string, tls_record_content_type: int, tls_record_version: string, StringLabel: string, label: int]"
      ]
     },
     "execution_count": 27,
     "metadata": {},
     "output_type": "execute_result"
    }
   ],
   "source": [
    "gridSample.unpersist()"
   ]
  },
  {
   "cell_type": "code",
   "execution_count": 28,
   "id": "ca3a3ad8-1949-443a-b04f-ae720a9bedc4",
   "metadata": {},
   "outputs": [],
   "source": [
    "rf2 = RandomForestClassifier(labelCol='label', featuresCol='features', numTrees=50, maxDepth=20)\n",
    "pipeline2 = Pipeline(stages=[stringIndexer, encoder, vecAssembler,rf2])"
   ]
  },
  {
   "cell_type": "code",
   "execution_count": 29,
   "id": "ea96cfd2-da22-40ea-b5de-001477c13eaf",
   "metadata": {},
   "outputs": [
    {
     "name": "stdout",
     "output_type": "stream",
     "text": [
      "CPU times: user 199 ms, sys: 90.9 ms, total: 290 ms\n",
      "Wall time: 16min 6s\n"
     ]
    },
    {
     "data": {
      "text/plain": [
       "DataFrame[frame_encap_type: int, frame_len: int, frame_number: int, frame_time: string, frame_time_delta: double, frame_time_delta_displayed: double, frame_time_epoch: double, frame_time_relative: double, radiotap_channel_flags_cck: int, radiotap_channel_flags_ofdm: int, radiotap_channel_freq: int, radiotap_datarate: double, radiotap_dbm_antsignal: int, radiotap_length: int, radiotap_mactime: double, radiotap_present_tsft: string, radiotap_rxflags: string, radiotap_timestamp_ts: bigint, radiotap_vendor_oui: int, wlan_duration: int, wlan_analysis_kck: string, wlan_analysis_kek: string, wlan_bssid: string, wlan_country_info_fnm: string, wlan_country_info_code: string, wlan_da: string, wlan_fc_ds: string, wlan_fc_frag: int, wlan_fc_order: int, wlan_fc_moredata: int, wlan_fc_protected: int, wlan_fc_pwrmgt: int, wlan_fc_type: int, wlan_fc_retry: int, wlan_fc_subtype: int, wlan_fcs_bad_checksum: int, wlan_fixed_beacon: int, wlan_fixed_capabilities_ess: int, wlan_fixed_capabilities_ibss: int, wlan_fixed_reason_code: int, wlan_fixed_timestamp: double, wlan_ra: string, wlan_radio_duration: int, wlan_rsn_ie_gtk_key: int, wlan_rsn_ie_igtk_key: int, wlan_rsn_ie_pmkid: int, wlan_sa: string, wlan_seq: double, wlan_ssid: string, wlan_ta: string, wlan_tag: int, wlan_tag_length: string, wlan_radio_channel: int, wlan_radio_data_rate: double, wlan_radio_end_tsf: double, wlan_radio_frequency: int, wlan_radio_signal_dbm: int, wlan_radio_start_tsf: double, wlan_radio_phy: int, wlan_radio_timestamp: double, wlan_rsn_capabilities_mfpc: double, wlan_rsna_eapol_keydes_msgnr: double, wlan_rsna_eapol_keydes_data: string, wlan_rsna_eapol_keydes_data_len: double, wlan_rsna_eapol_keydes_key_info_key_mic: double, wlan_rsna_eapol_keydes_nonce: string, eapol_keydes_key_len: double, eapol_keydes_replay_counter: double, eapol_len: double, eapol_type: double, llc: string, arp: string, arp_hw_type: double, arp_proto_type: string, arp_hw_size: double, arp_proto_size: double, arp_opcode: double, arp_src_hw_mac: string, arp_src_proto_ipv4: string, arp_dst_hw_mac: string, arp_dst_proto_ipv4: string, ip_dst: string, ip_proto: int, ip_src: string, ip_ttl: int, ip_version: int, data_data: string, data_len: int, icmpv6_mldr_nb_mcast_records: double, icmpv6_ni_nonce: int, tcp_ack: int, tcp_ack_raw: int, tcp_analysis: int, tcp_analysis_flags: int, tcp_analysis_retransmission: int, tcp_analysis_reused_ports: int, tcp_analysis_rto_frame: int, tcp_checksum: string, tcp_checksum_status: int, tcp_flags_syn: int, tcp_dstport: int, tcp_flags_ack: int, tcp_flags_fin: int, tcp_flags_push: int, tcp_flags_reset: int, tcp_option_len: int, tcp_payload: string, tcp_seq: int, tcp_seq_raw: int, tcp_srcport: int, tcp_time_delta: double, tcp_time_relative: double, udp_dstport: int, udp_srcport: int, udp_length: int, udp_payload: string, udp_time_relative: double, udp_time_delta: double, nbns: string, nbss_continuation_data: string, nbss_type: string, nbss_length: double, ldap: string, smb_access_generic_execute: double, smb_access_generic_read: double, smb_access_generic_write: double, smb_flags_notify: double, smb_flags_response: double, smb_flags2_nt_error: double, smb_flags2_sec_sig: double, smb_mid: double, smb_nt_status: double, smb_server_component: string, smb_pid_high: double, smb_tid: double, smb2_acct: string, smb2_auth_frame: string, smb2_buffer_code: string, smb2_cmd: string, smb2_data_offset: string, smb2_domain: string, smb2_fid: string, smb2_filename: string, smb2_header_len: string, smb2_host: string, smb2_msg_id: string, smb2_pid: string, smb2_previous_sesid: string, smb2_protocol_id: string, smb2_sesid: string, smb2_session_flags: string, smb2_tid: string, smb2_write_length: int, dhcp: string, dhcp_client_id_duid_ll_hw_type: string, dhcp_cookie: string, dhcp_hw_addr_padding: double, dhcp_hw_mac_addr: string, dhcp_id: string, dhcp_ip_client: string, dhcp_ip_relay: string, dhcp_ip_server: string, dhcp_option_broadcast_address: string, dhcp_option_dhcp_server_id: string, dhcp_option_router: string, dhcp_option_vendor_bsdp_message_type: string, mdns: string, dns: string, dns_a: string, dns_count_add_rr: int, dns_count_answers: int, dns_count_auth_rr: int, dns_count_labels: int, dns_count_queries: int, dns_flags_authoritative: string, dns_flags_checkdisable: string, dns_flags_opcode: string, dns_flags_response: string, dns_id: string, dns_ptr_domain_name: string, dns_qry_name: string, dns_qry_name_len: int, dns_resp_len: string, dns_resp_name: string, dns_resp_ttl: string, dns_resp_len_1: string, dns_retransmit_request: int, dns_retransmit_response: int, dns_time: double, ssdp: string, http_connection: string, http_content_length: double, http_content_type: string, http_date: string, http_file_data: string, http_host: string, http_last_modified: string, http_location: string, http_next_request_in: string, http_next_response_in: string, http_request_full_uri: string, http_request_line: string, http_request_method: string, http_request_uri_path: string, http_request_uri_query: string, http_request_uri_query_parameter: string, http_request_version: string, http_request_in: double, http_response_code: double, http_response_code_desc: string, http_response_line: string, http_response_phrase: string, http_response_version: string, http_response_for_uri: string, http_response_in: string, http_referer: string, http_time: double, http_server: string, json_value_string: string, json_key: string, ssh_cookie: string, ssh_compression_algorithms_client_to_server_length: int, ssh_compression_algorithms_server_to_client_length: int, ssh_direction: int, ssh_dh_gex_max: int, ssh_dh_gex_min: int, ssh_dh_gex_nbits: int, ssh_encryption_algorithms_client_to_server_length: int, ssh_encryption_algorithms_server_to_client_length: int, ssh_host_key_length: int, ssh_host_key_type_length: int, ssh_kex_algorithms_length: int, ssh_mac_algorithms_client_to_server_length: int, ssh_mac_algorithms_server_to_client_length: int, ssh_message_code: string, ssh_mpint_length: string, ssh_packet_length: int, ssh_packet_length_encrypted: string, ssh_padding_length: int, ssh_padding_string: int, ssh_protocol: string, ssh_server_host_key_algorithms_length: int, tls_alert_message_desc: int, tls_alert_message_level: int, tls_app_data_proto: string, tls_compress_certificate_compressed_certificate_message_length: double, tls_connection_id: string, tls_handshake_extension_type: string, tls_handshake_extensions_key_share_group: string, tls_handshake_session_ticket_length: int, tls_handshake_version: string, tls_record_content_type: int, tls_record_version: string, StringLabel: string, label: int]"
      ]
     },
     "execution_count": 29,
     "metadata": {},
     "output_type": "execute_result"
    }
   ],
   "source": [
    "%%time\n",
    "train.cache()\n",
    "pipelineModel = pipeline2.fit(train)\n",
    "train.unpersist()"
   ]
  },
  {
   "cell_type": "code",
   "execution_count": 30,
   "id": "42d98025-120b-463a-a00b-bbe535438b0a",
   "metadata": {},
   "outputs": [
    {
     "name": "stdout",
     "output_type": "stream",
     "text": [
      "CPU times: user 14.8 ms, sys: 7 ms, total: 21.8 ms\n",
      "Wall time: 247 ms\n"
     ]
    },
    {
     "data": {
      "text/plain": [
       "DataFrame[frame_encap_type: int, frame_len: int, frame_number: int, frame_time: string, frame_time_delta: double, frame_time_delta_displayed: double, frame_time_epoch: double, frame_time_relative: double, radiotap_channel_flags_cck: int, radiotap_channel_flags_ofdm: int, radiotap_channel_freq: int, radiotap_datarate: double, radiotap_dbm_antsignal: int, radiotap_length: int, radiotap_mactime: double, radiotap_present_tsft: string, radiotap_rxflags: string, radiotap_timestamp_ts: bigint, radiotap_vendor_oui: int, wlan_duration: int, wlan_analysis_kck: string, wlan_analysis_kek: string, wlan_bssid: string, wlan_country_info_fnm: string, wlan_country_info_code: string, wlan_da: string, wlan_fc_ds: string, wlan_fc_frag: int, wlan_fc_order: int, wlan_fc_moredata: int, wlan_fc_protected: int, wlan_fc_pwrmgt: int, wlan_fc_type: int, wlan_fc_retry: int, wlan_fc_subtype: int, wlan_fcs_bad_checksum: int, wlan_fixed_beacon: int, wlan_fixed_capabilities_ess: int, wlan_fixed_capabilities_ibss: int, wlan_fixed_reason_code: int, wlan_fixed_timestamp: double, wlan_ra: string, wlan_radio_duration: int, wlan_rsn_ie_gtk_key: int, wlan_rsn_ie_igtk_key: int, wlan_rsn_ie_pmkid: int, wlan_sa: string, wlan_seq: double, wlan_ssid: string, wlan_ta: string, wlan_tag: int, wlan_tag_length: string, wlan_radio_channel: int, wlan_radio_data_rate: double, wlan_radio_end_tsf: double, wlan_radio_frequency: int, wlan_radio_signal_dbm: int, wlan_radio_start_tsf: double, wlan_radio_phy: int, wlan_radio_timestamp: double, wlan_rsn_capabilities_mfpc: double, wlan_rsna_eapol_keydes_msgnr: double, wlan_rsna_eapol_keydes_data: string, wlan_rsna_eapol_keydes_data_len: double, wlan_rsna_eapol_keydes_key_info_key_mic: double, wlan_rsna_eapol_keydes_nonce: string, eapol_keydes_key_len: double, eapol_keydes_replay_counter: double, eapol_len: double, eapol_type: double, llc: string, arp: string, arp_hw_type: double, arp_proto_type: string, arp_hw_size: double, arp_proto_size: double, arp_opcode: double, arp_src_hw_mac: string, arp_src_proto_ipv4: string, arp_dst_hw_mac: string, arp_dst_proto_ipv4: string, ip_dst: string, ip_proto: int, ip_src: string, ip_ttl: int, ip_version: int, data_data: string, data_len: int, icmpv6_mldr_nb_mcast_records: double, icmpv6_ni_nonce: int, tcp_ack: int, tcp_ack_raw: int, tcp_analysis: int, tcp_analysis_flags: int, tcp_analysis_retransmission: int, tcp_analysis_reused_ports: int, tcp_analysis_rto_frame: int, tcp_checksum: string, tcp_checksum_status: int, tcp_flags_syn: int, tcp_dstport: int, tcp_flags_ack: int, tcp_flags_fin: int, tcp_flags_push: int, tcp_flags_reset: int, tcp_option_len: int, tcp_payload: string, tcp_seq: int, tcp_seq_raw: int, tcp_srcport: int, tcp_time_delta: double, tcp_time_relative: double, udp_dstport: int, udp_srcport: int, udp_length: int, udp_payload: string, udp_time_relative: double, udp_time_delta: double, nbns: string, nbss_continuation_data: string, nbss_type: string, nbss_length: double, ldap: string, smb_access_generic_execute: double, smb_access_generic_read: double, smb_access_generic_write: double, smb_flags_notify: double, smb_flags_response: double, smb_flags2_nt_error: double, smb_flags2_sec_sig: double, smb_mid: double, smb_nt_status: double, smb_server_component: string, smb_pid_high: double, smb_tid: double, smb2_acct: string, smb2_auth_frame: string, smb2_buffer_code: string, smb2_cmd: string, smb2_data_offset: string, smb2_domain: string, smb2_fid: string, smb2_filename: string, smb2_header_len: string, smb2_host: string, smb2_msg_id: string, smb2_pid: string, smb2_previous_sesid: string, smb2_protocol_id: string, smb2_sesid: string, smb2_session_flags: string, smb2_tid: string, smb2_write_length: int, dhcp: string, dhcp_client_id_duid_ll_hw_type: string, dhcp_cookie: string, dhcp_hw_addr_padding: double, dhcp_hw_mac_addr: string, dhcp_id: string, dhcp_ip_client: string, dhcp_ip_relay: string, dhcp_ip_server: string, dhcp_option_broadcast_address: string, dhcp_option_dhcp_server_id: string, dhcp_option_router: string, dhcp_option_vendor_bsdp_message_type: string, mdns: string, dns: string, dns_a: string, dns_count_add_rr: int, dns_count_answers: int, dns_count_auth_rr: int, dns_count_labels: int, dns_count_queries: int, dns_flags_authoritative: string, dns_flags_checkdisable: string, dns_flags_opcode: string, dns_flags_response: string, dns_id: string, dns_ptr_domain_name: string, dns_qry_name: string, dns_qry_name_len: int, dns_resp_len: string, dns_resp_name: string, dns_resp_ttl: string, dns_resp_len_1: string, dns_retransmit_request: int, dns_retransmit_response: int, dns_time: double, ssdp: string, http_connection: string, http_content_length: double, http_content_type: string, http_date: string, http_file_data: string, http_host: string, http_last_modified: string, http_location: string, http_next_request_in: string, http_next_response_in: string, http_request_full_uri: string, http_request_line: string, http_request_method: string, http_request_uri_path: string, http_request_uri_query: string, http_request_uri_query_parameter: string, http_request_version: string, http_request_in: double, http_response_code: double, http_response_code_desc: string, http_response_line: string, http_response_phrase: string, http_response_version: string, http_response_for_uri: string, http_response_in: string, http_referer: string, http_time: double, http_server: string, json_value_string: string, json_key: string, ssh_cookie: string, ssh_compression_algorithms_client_to_server_length: int, ssh_compression_algorithms_server_to_client_length: int, ssh_direction: int, ssh_dh_gex_max: int, ssh_dh_gex_min: int, ssh_dh_gex_nbits: int, ssh_encryption_algorithms_client_to_server_length: int, ssh_encryption_algorithms_server_to_client_length: int, ssh_host_key_length: int, ssh_host_key_type_length: int, ssh_kex_algorithms_length: int, ssh_mac_algorithms_client_to_server_length: int, ssh_mac_algorithms_server_to_client_length: int, ssh_message_code: string, ssh_mpint_length: string, ssh_packet_length: int, ssh_packet_length_encrypted: string, ssh_padding_length: int, ssh_padding_string: int, ssh_protocol: string, ssh_server_host_key_algorithms_length: int, tls_alert_message_desc: int, tls_alert_message_level: int, tls_app_data_proto: string, tls_compress_certificate_compressed_certificate_message_length: double, tls_connection_id: string, tls_handshake_extension_type: string, tls_handshake_extensions_key_share_group: string, tls_handshake_session_ticket_length: int, tls_handshake_version: string, tls_record_content_type: int, tls_record_version: string, StringLabel: string, label: int]"
      ]
     },
     "execution_count": 30,
     "metadata": {},
     "output_type": "execute_result"
    }
   ],
   "source": [
    "%%time\n",
    "test.cache()\n",
    "pred = pipelineModel.transform(test)\n",
    "test.unpersist()"
   ]
  },
  {
   "cell_type": "code",
   "execution_count": 31,
   "id": "849fb6b6-caa4-4aff-9d29-06d32493d783",
   "metadata": {},
   "outputs": [
    {
     "data": {
      "text/html": [
       "<div>\n",
       "<style scoped>\n",
       "    .dataframe tbody tr th:only-of-type {\n",
       "        vertical-align: middle;\n",
       "    }\n",
       "\n",
       "    .dataframe tbody tr th {\n",
       "        vertical-align: top;\n",
       "    }\n",
       "\n",
       "    .dataframe thead th {\n",
       "        text-align: right;\n",
       "    }\n",
       "</style>\n",
       "<table border=\"1\" class=\"dataframe\">\n",
       "  <thead>\n",
       "    <tr style=\"text-align: right;\">\n",
       "      <th></th>\n",
       "      <th>label</th>\n",
       "      <th>prediction</th>\n",
       "      <th>probability</th>\n",
       "    </tr>\n",
       "  </thead>\n",
       "  <tbody>\n",
       "    <tr>\n",
       "      <th>0</th>\n",
       "      <td>0</td>\n",
       "      <td>0.0</td>\n",
       "      <td>[0.9899124110120341, 0.010087588987965837]</td>\n",
       "    </tr>\n",
       "    <tr>\n",
       "      <th>1</th>\n",
       "      <td>0</td>\n",
       "      <td>0.0</td>\n",
       "      <td>[0.9899124110120341, 0.010087588987965837]</td>\n",
       "    </tr>\n",
       "    <tr>\n",
       "      <th>2</th>\n",
       "      <td>0</td>\n",
       "      <td>0.0</td>\n",
       "      <td>[0.9899124110120341, 0.010087588987965837]</td>\n",
       "    </tr>\n",
       "    <tr>\n",
       "      <th>3</th>\n",
       "      <td>0</td>\n",
       "      <td>0.0</td>\n",
       "      <td>[0.9899124110120341, 0.010087588987965837]</td>\n",
       "    </tr>\n",
       "    <tr>\n",
       "      <th>4</th>\n",
       "      <td>0</td>\n",
       "      <td>0.0</td>\n",
       "      <td>[0.9899124110120341, 0.010087588987965837]</td>\n",
       "    </tr>\n",
       "  </tbody>\n",
       "</table>\n",
       "</div>"
      ],
      "text/plain": [
       "   label  prediction                                 probability\n",
       "0      0         0.0  [0.9899124110120341, 0.010087588987965837]\n",
       "1      0         0.0  [0.9899124110120341, 0.010087588987965837]\n",
       "2      0         0.0  [0.9899124110120341, 0.010087588987965837]\n",
       "3      0         0.0  [0.9899124110120341, 0.010087588987965837]\n",
       "4      0         0.0  [0.9899124110120341, 0.010087588987965837]"
      ]
     },
     "execution_count": 31,
     "metadata": {},
     "output_type": "execute_result"
    }
   ],
   "source": [
    "pred_pd = pred.select(['label', 'prediction', 'probability']).toPandas()\n",
    "pred_pd.head()"
   ]
  },
  {
   "cell_type": "code",
   "execution_count": 32,
   "id": "64b004f6-5bbb-49bc-bfaf-8e81ead93ea9",
   "metadata": {},
   "outputs": [],
   "source": [
    "from sklearn.metrics import confusion_matrix\n",
    "\n",
    "confusion_matrix(pred_pd['label'], pred_pd['prediction'])\n",
    "tn, fp, fn, tp = confusion_matrix(pred_pd['label'], pred_pd['prediction']).ravel()"
   ]
  },
  {
   "cell_type": "code",
   "execution_count": 33,
   "id": "df185548-6ee8-4701-9498-76aadd213bbe",
   "metadata": {},
   "outputs": [
    {
     "name": "stdout",
     "output_type": "stream",
     "text": [
      "There are 118945 true negatives\n",
      "There are 2370 true positives\n",
      "There are 4787 false negatives\n",
      "There are 150 false positives\n"
     ]
    }
   ],
   "source": [
    "print(\"There are \"+str(tn)+ \" true negatives\")\n",
    "print(\"There are \"+str(tp)+ \" true positives\")\n",
    "print(\"There are \"+str(fn)+ \" false negatives\")\n",
    "print(\"There are \"+str(fp)+ \" false positives\")"
   ]
  },
  {
   "cell_type": "code",
   "execution_count": 34,
   "id": "6985d897-9508-4003-9175-515798bb965b",
   "metadata": {},
   "outputs": [
    {
     "name": "stdout",
     "output_type": "stream",
     "text": [
      "The precision is 0.9404761904761905\n",
      "The recall is 0.33114433421824785\n",
      "The fscore is 0.48982122558644203\n",
      "The Matthews correlation coefficient is 0.5454228621383743\n"
     ]
    }
   ],
   "source": [
    "from sklearn.metrics import precision_recall_fscore_support\n",
    "from sklearn.metrics import matthews_corrcoef\n",
    "\n",
    "precision,recall,fscore,support = precision_recall_fscore_support(pred_pd['label'], pred_pd['prediction'], average='binary')\n",
    "MCC = matthews_corrcoef(pred_pd['label'], pred_pd['prediction'])\n",
    "print(\"The precision is \"+str(precision))\n",
    "print(\"The recall is \"+str(recall))\n",
    "print(\"The fscore is \"+str(fscore))\n",
    "print(\"The Matthews correlation coefficient is \"+str(MCC))"
   ]
  },
  {
   "cell_type": "markdown",
   "id": "d0d1f4eb-d5fb-42d0-a21f-a702d5782827",
   "metadata": {},
   "source": [
    "Using more dimensions slightly reduces the number of false negatives but with more false positives. We will work on the smaller dimension set for tuning as the results are pretty similar and we can process the data more quickly. Then look at bringing in more later to see if it helps with performance. We will look at adjusting the threshold as we did on the minimal dimensions workbook"
   ]
  },
  {
   "cell_type": "code",
   "execution_count": 35,
   "id": "ad38afaf-a5ed-4aa5-9a9e-247b4771bcb2",
   "metadata": {},
   "outputs": [],
   "source": [
    "import numpy as np\n",
    "pred_pd['probability'] = pred_pd['probability'].map(lambda x: list(x))\n",
    "pred_pd['encoded_label'] = pred_pd['label'].map(lambda x: np.eye(2)[int(x)])"
   ]
  },
  {
   "cell_type": "code",
   "execution_count": 36,
   "id": "f8724e5c-af62-44aa-a7f9-117cbe761d39",
   "metadata": {},
   "outputs": [],
   "source": [
    "y_pred = np.array(pred_pd['probability'].tolist())\n",
    "y_true = np.array(pred_pd['encoded_label'].tolist())"
   ]
  },
  {
   "cell_type": "code",
   "execution_count": 37,
   "id": "5ae77ee8-f631-46e0-9859-7a88f04f7167",
   "metadata": {},
   "outputs": [],
   "source": [
    "from sklearn.metrics import precision_recall_curve\n",
    "precision, recall, threshold = precision_recall_curve( y_true[:,0], y_pred[:,0])\n"
   ]
  },
  {
   "cell_type": "code",
   "execution_count": 38,
   "id": "503e64c3-5126-4427-bbf9-2526223443b6",
   "metadata": {},
   "outputs": [
    {
     "data": {
      "image/png": "[encoded data removed]",
      "text/plain": [
       "<Figure size 432x288 with 1 Axes>"
      ]
     },
     "metadata": {
      "needs_background": "light"
     },
     "output_type": "display_data"
    }
   ],
   "source": [
    "#create precision recall curve\n",
    "fig, ax = plt.subplots()\n",
    "ax.plot(recall, precision, color='purple')\n",
    "plt.xlim([0.90, 1])\n",
    "plt.ylim([0.90, 1])\n",
    "\n",
    "#add axis labels to plot\n",
    "ax.set_title('Precision-Recall Curve')\n",
    "ax.set_ylabel('Precision')\n",
    "ax.set_xlabel('Recall')\n",
    "\n",
    "#display plot\n",
    "plt.show()"
   ]
  },
  {
   "cell_type": "code",
   "execution_count": 39,
   "id": "8d3f0f18-cf7f-45c6-a348-eb507cfa5d1d",
   "metadata": {},
   "outputs": [
    {
     "name": "stdout",
     "output_type": "stream",
     "text": [
      "Best Threshold=0.662450, F-Score=0.995\n"
     ]
    }
   ],
   "source": [
    "#https://machinelearningmastery.com/threshold-moving-for-imbalanced-classification/ suggestion on setting thresholds\n",
    "from numpy import argmax\n",
    "# convert to f score\n",
    "fscore = (2 * precision * recall) / (precision + recall)\n",
    "# locate the index of the largest f score\n",
    "ix = argmax(fscore)\n",
    "print('Best Threshold=%f, F-Score=%.3f' % (threshold[ix], fscore[ix]))\n"
   ]
  },
  {
   "cell_type": "code",
   "execution_count": 46,
   "id": "e76a2f7a-d4a4-45a6-b4d4-512ad8027475",
   "metadata": {},
   "outputs": [],
   "source": [
    "#taking 1-best threshold\n",
    "threshold = 0.34\n",
    "y_pred2 = (y_pred[:, 1] > threshold).astype('float')\n",
    "\n",
    "tn, fp, fn, tp = confusion_matrix(pred_pd['label'], y_pred2).ravel()"
   ]
  },
  {
   "cell_type": "code",
   "execution_count": 47,
   "id": "2e939b6e-ee57-4c4d-812b-8465791c68fd",
   "metadata": {},
   "outputs": [
    {
     "name": "stdout",
     "output_type": "stream",
     "text": [
      "There are 118895 true negatives\n",
      "There are 6042 true positives\n",
      "There are 1115 false negatives\n",
      "There are 200 false positives\n"
     ]
    }
   ],
   "source": [
    "print(\"There are \"+str(tn)+ \" true negatives\")\n",
    "print(\"There are \"+str(tp)+ \" true positives\")\n",
    "print(\"There are \"+str(fn)+ \" false negatives\")\n",
    "print(\"There are \"+str(fp)+ \" false positives\")"
   ]
  },
  {
   "cell_type": "code",
   "execution_count": 48,
   "id": "789c8631-153f-4b7b-bd22-57f9b16e1735",
   "metadata": {},
   "outputs": [
    {
     "name": "stdout",
     "output_type": "stream",
     "text": [
      "The precision is 0.9679589875040051\n",
      "The recall is 0.844208467234875\n",
      "The fscore is 0.9018583476378834\n",
      "The Matthews correlation coefficient is 0.8987245414932079\n"
     ]
    }
   ],
   "source": [
    "precision,recall,fscore,support = precision_recall_fscore_support(pred_pd['label'], y_pred2, average='binary')\n",
    "MCC2 = matthews_corrcoef(pred_pd['label'], y_pred2)\n",
    "print(\"The precision is \"+str(precision))\n",
    "print(\"The recall is \"+str(recall))\n",
    "print(\"The fscore is \"+str(fscore))\n",
    "print(\"The Matthews correlation coefficient is \"+str(MCC2))"
   ]
  },
  {
   "cell_type": "markdown",
   "id": "05f4de2a-bf78-4b11-a634-cba1887f03f8",
   "metadata": {},
   "source": [
    "So compared to the minimal dimensions adjustments we have fewer false posatives by are actually missing more attacks. so we have have a higher presicion but a lower recall and MCC, and these two metrics are more relavant for intrustion detection. "
   ]
  },
  {
   "cell_type": "code",
   "execution_count": null,
   "id": "74ba6b35-e9a4-42c2-8f9a-1865e6f60fbe",
   "metadata": {},
   "outputs": [],
   "source": []
  },
  {
   "cell_type": "code",
   "execution_count": null,
   "id": "cd878ccf-6de8-439e-933b-e4f877f1dab1",
   "metadata": {},
   "outputs": [],
   "source": []
  }
 ],
 "metadata": {
  "kernelspec": {
   "display_name": "Python 3 (ipykernel)",
   "language": "python",
   "name": "python3"
  },
  "language_info": {
   "codemirror_mode": {
    "name": "ipython",
    "version": 3
   },
   "file_extension": ".py",
   "mimetype": "text/x-python",
   "name": "python",
   "nbconvert_exporter": "python",
   "pygments_lexer": "ipython3",
   "version": "3.9.12"
  }
 },
 "nbformat": 4,
 "nbformat_minor": 5
}
