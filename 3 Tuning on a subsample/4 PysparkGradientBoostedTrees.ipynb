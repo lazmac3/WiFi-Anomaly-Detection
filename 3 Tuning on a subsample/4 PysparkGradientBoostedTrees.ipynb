{
 "cells": [
  {
   "cell_type": "code",
   "execution_count": 1,
   "id": "e0a30673-c306-426b-b29c-c7d4b546efff",
   "metadata": {},
   "outputs": [
    {
     "name": "stdout",
     "output_type": "stream",
     "text": [
      "Hello World\n"
     ]
    }
   ],
   "source": [
    "print(\"Hello World\")"
   ]
  },
  {
   "cell_type": "markdown",
   "id": "2e3d5508-2fd8-448d-a8e7-2d4cae8f14f3",
   "metadata": {},
   "source": [
    "Pyspark contains two types of ensemble tree methods, Random Forest which I have been using up until this point and Gradient Boosted Trees\n",
    "https://spark.apache.org/docs/latest/mllib-ensembles.html\n",
    "These trees can not be trained in parallel so take longer to train. Gradient Trees work to minimise a loss function, while the Random Forest algoithims uses randomness, changing each Decision tree. I expect Random Forest to be more suitable for my purposes, as it is faster and I have a large dataset.\n",
    "I would also have liked to have tried the J48 algorithim which was mentioned in some of the papers I read, but it is not available in Pyspark or SciKit Learn so implementing in in Java, which I have little experience of would have been to distracting. \n",
    "\n",
    "https://www.geeksforgeeks.org/building-a-machine-learning-model-using-j48-classifier/\n",
    "\n",
    "I will continue using the minimal dimensions, for speed and we can bring dimensions back if the results are good"
   ]
  },
  {
   "cell_type": "code",
   "execution_count": 2,
   "id": "1ca80d56-7e03-42be-ae46-f2727a41eba3",
   "metadata": {},
   "outputs": [],
   "source": [
    "readFile=\"Data/parquet/subSampleWholeDataSet\""
   ]
  },
  {
   "cell_type": "code",
   "execution_count": 3,
   "id": "568f24af-506e-49ee-b2d0-463093f550b2",
   "metadata": {},
   "outputs": [],
   "source": [
    "from pyspark.sql import SparkSession\n",
    "import seaborn as sns\n",
    "import matplotlib.pyplot as plt \n",
    "from pyspark.sql.functions import col"
   ]
  },
  {
   "cell_type": "code",
   "execution_count": 4,
   "id": "20e74d5e-ef53-4f92-b285-3919dc3bc776",
   "metadata": {},
   "outputs": [],
   "source": [
    "spark = SparkSession.builder \\\n",
    "    .master(\"local\") \\\n",
    "    .appName(\"WiFi\") \\\n",
    "    .config(\"spark.driver.memory\", \"8g\")\\\n",
    "    .getOrCreate()"
   ]
  },
  {
   "cell_type": "code",
   "execution_count": 5,
   "id": "814ba7fe-44ad-49a1-b7c3-f31d5959582a",
   "metadata": {},
   "outputs": [],
   "source": [
    "df=spark.read.parquet(readFile)"
   ]
  },
  {
   "cell_type": "code",
   "execution_count": 6,
   "id": "2860e76c-29aa-4c52-8837-f89ce4c129ef",
   "metadata": {},
   "outputs": [
    {
     "name": "stdout",
     "output_type": "stream",
     "text": [
      "+----------------+------+\n",
      "|     StringLabel| count|\n",
      "+----------------+------+\n",
      "|           Krack|  2500|\n",
      "|             SSH|  3541|\n",
      "|          Botnet|  2725|\n",
      "|            SSDP|  2622|\n",
      "|   SQL_Injection|  2629|\n",
      "|         RogueAP|  1310|\n",
      "|       Evil_Twin|  3088|\n",
      "|Website_spoofing|  2397|\n",
      "|       (Re)Assoc|  3331|\n",
      "|           Disas|  2957|\n",
      "|          Normal|596802|\n",
      "|          Deauth|  2249|\n",
      "|           Kr00k|  3758|\n",
      "|         Malware|  2498|\n",
      "+----------------+------+\n",
      "\n"
     ]
    },
    {
     "data": {
      "text/plain": [
       "632407"
      ]
     },
     "execution_count": 6,
     "metadata": {},
     "output_type": "execute_result"
    }
   ],
   "source": [
    "df.groupBy('StringLabel').count().show()\n",
    "df.count()"
   ]
  },
  {
   "cell_type": "markdown",
   "id": "d709200e-d7cb-4250-955a-de345d7f8d0d",
   "metadata": {},
   "source": [
    "https://docs.microsoft.com/en-us/azure/databricks/_static/notebooks/getting-started/get-started-with-mllib-dbr7.html as a guide"
   ]
  },
  {
   "cell_type": "code",
   "execution_count": 7,
   "id": "80e19669-eced-4040-a0a6-6e10ec1c89ed",
   "metadata": {},
   "outputs": [],
   "source": [
    "from pyspark.ml.feature import StringIndexer, OneHotEncoder"
   ]
  },
  {
   "cell_type": "code",
   "execution_count": 8,
   "id": "5fc008f8-5233-427c-aed2-9952f0ad81f5",
   "metadata": {},
   "outputs": [],
   "source": [
    "categoricalCols = [\n",
    "    \"wlan_tag_length\",\n",
    "    \"wlan_country_info_fnm\",\n",
    "    \"wlan_da\",\n",
    "    \"wlan_sa\",\n",
    "    \"wlan_bssid\",\n",
    "    \"ip_src\",\n",
    "    \"ip_dst\"\n",
    "]\n",
    "   \n"
   ]
  },
  {
   "cell_type": "code",
   "execution_count": 9,
   "id": "05a660a4-eec4-4c97-901f-b31fa7464b19",
   "metadata": {},
   "outputs": [],
   "source": [
    "# The following two lines are estimators. They return functions that we will later apply to transform the dataset.\n",
    "stringIndexer = StringIndexer(inputCols=categoricalCols, outputCols=[x + \"index\" for x in categoricalCols]).setHandleInvalid(\"keep\") \n",
    "encoder = OneHotEncoder(inputCols=stringIndexer.getOutputCols(), outputCols=[x + \"OHE\" for x in categoricalCols]) "
   ]
  },
  {
   "cell_type": "code",
   "execution_count": 10,
   "id": "d6f62dee-dbad-446e-b404-4c926f91b93f",
   "metadata": {},
   "outputs": [],
   "source": [
    "numericCols=[\n",
    "    \"wlan_fixed_reason_code\",\n",
    "    \"radiotap_channel_freq\",\n",
    "    \"udp_length\"\n",
    "]"
   ]
  },
  {
   "cell_type": "code",
   "execution_count": 11,
   "id": "4699f280-fdd8-4904-9c44-b8103b1f9284",
   "metadata": {},
   "outputs": [],
   "source": [
    "from pyspark.ml.feature import VectorAssembler\n",
    "from pyspark.ml import Pipeline\n",
    " \n",
    "# This includes both the numeric columns and the one-hot encoded binary vector columns in our dataset.\n",
    "assemblerInputs = [c + \"OHE\" for c in categoricalCols] + numericCols\n",
    "vecAssembler = VectorAssembler(inputCols=assemblerInputs, outputCol=\"features\")"
   ]
  },
  {
   "cell_type": "markdown",
   "id": "c181de09-474a-477c-a37e-05e83e2df673",
   "metadata": {},
   "source": [
    "we want to do a test train split "
   ]
  },
  {
   "cell_type": "code",
   "execution_count": 12,
   "id": "9afbd3f2-fb69-45f6-8e73-6b91b44d2f3b",
   "metadata": {},
   "outputs": [],
   "source": [
    "train, test = df.randomSplit([0.8,0.2])\n"
   ]
  },
  {
   "cell_type": "code",
   "execution_count": 13,
   "id": "a7d78d30-d402-441c-a508-d00ed44bfa6b",
   "metadata": {},
   "outputs": [
    {
     "name": "stdout",
     "output_type": "stream",
     "text": [
      "Events for the training 506389\n",
      "Events for the validation 126018\n"
     ]
    }
   ],
   "source": [
    "print('Events for the training {}'.format(train.count()))\n",
    "print('Events for the validation {}'.format(test.count()))"
   ]
  },
  {
   "cell_type": "code",
   "execution_count": 16,
   "id": "9b70a908-8189-4e92-95b8-e93e8cbbb355",
   "metadata": {},
   "outputs": [],
   "source": [
    "from pyspark.ml.classification import GBTClassifier\n",
    "\n",
    "gbt = GBTClassifier(labelCol='label', featuresCol='features', maxIter=50, maxDepth=10)\n",
    "pipeline2 = Pipeline(stages=[stringIndexer, encoder, vecAssembler,gbt])"
   ]
  },
  {
   "cell_type": "code",
   "execution_count": 17,
   "id": "ea96cfd2-da22-40ea-b5de-001477c13eaf",
   "metadata": {},
   "outputs": [
    {
     "name": "stdout",
     "output_type": "stream",
     "text": [
      "CPU times: user 2.34 s, sys: 1.82 s, total: 4.17 s\n",
      "Wall time: 4h 31min 5s\n"
     ]
    },
    {
     "data": {
      "text/plain": [
       "DataFrame[frame_encap_type: int, frame_len: int, frame_number: int, frame_time: string, frame_time_delta: double, frame_time_delta_displayed: double, frame_time_epoch: double, frame_time_relative: double, radiotap_channel_flags_cck: int, radiotap_channel_flags_ofdm: int, radiotap_channel_freq: int, radiotap_datarate: double, radiotap_dbm_antsignal: int, radiotap_length: int, radiotap_mactime: double, radiotap_present_tsft: string, radiotap_rxflags: string, radiotap_timestamp_ts: bigint, radiotap_vendor_oui: int, wlan_duration: int, wlan_analysis_kck: string, wlan_analysis_kek: string, wlan_bssid: string, wlan_country_info_fnm: string, wlan_country_info_code: string, wlan_da: string, wlan_fc_ds: string, wlan_fc_frag: int, wlan_fc_order: int, wlan_fc_moredata: int, wlan_fc_protected: int, wlan_fc_pwrmgt: int, wlan_fc_type: int, wlan_fc_retry: int, wlan_fc_subtype: int, wlan_fcs_bad_checksum: int, wlan_fixed_beacon: int, wlan_fixed_capabilities_ess: int, wlan_fixed_capabilities_ibss: int, wlan_fixed_reason_code: int, wlan_fixed_timestamp: double, wlan_ra: string, wlan_radio_duration: int, wlan_rsn_ie_gtk_key: int, wlan_rsn_ie_igtk_key: int, wlan_rsn_ie_pmkid: int, wlan_sa: string, wlan_seq: double, wlan_ssid: string, wlan_ta: string, wlan_tag: int, wlan_tag_length: string, wlan_radio_channel: int, wlan_radio_data_rate: double, wlan_radio_end_tsf: double, wlan_radio_frequency: int, wlan_radio_signal_dbm: int, wlan_radio_start_tsf: double, wlan_radio_phy: int, wlan_radio_timestamp: double, wlan_rsn_capabilities_mfpc: double, wlan_rsna_eapol_keydes_msgnr: double, wlan_rsna_eapol_keydes_data: string, wlan_rsna_eapol_keydes_data_len: double, wlan_rsna_eapol_keydes_key_info_key_mic: double, wlan_rsna_eapol_keydes_nonce: string, eapol_keydes_key_len: double, eapol_keydes_replay_counter: double, eapol_len: double, eapol_type: double, llc: string, arp: string, arp_hw_type: double, arp_proto_type: string, arp_hw_size: double, arp_proto_size: double, arp_opcode: double, arp_src_hw_mac: string, arp_src_proto_ipv4: string, arp_dst_hw_mac: string, arp_dst_proto_ipv4: string, ip_dst: string, ip_proto: int, ip_src: string, ip_ttl: int, ip_version: int, data_data: string, data_len: int, icmpv6_mldr_nb_mcast_records: double, icmpv6_ni_nonce: int, tcp_ack: int, tcp_ack_raw: int, tcp_analysis: int, tcp_analysis_flags: int, tcp_analysis_retransmission: int, tcp_analysis_reused_ports: int, tcp_analysis_rto_frame: int, tcp_checksum: string, tcp_checksum_status: int, tcp_flags_syn: int, tcp_dstport: int, tcp_flags_ack: int, tcp_flags_fin: int, tcp_flags_push: int, tcp_flags_reset: int, tcp_option_len: int, tcp_payload: string, tcp_seq: int, tcp_seq_raw: int, tcp_srcport: int, tcp_time_delta: double, tcp_time_relative: double, udp_dstport: int, udp_srcport: int, udp_length: int, udp_payload: string, udp_time_relative: double, udp_time_delta: double, nbns: string, nbss_continuation_data: string, nbss_type: string, nbss_length: double, ldap: string, smb_access_generic_execute: double, smb_access_generic_read: double, smb_access_generic_write: double, smb_flags_notify: double, smb_flags_response: double, smb_flags2_nt_error: double, smb_flags2_sec_sig: double, smb_mid: double, smb_nt_status: double, smb_server_component: string, smb_pid_high: double, smb_tid: double, smb2_acct: string, smb2_auth_frame: string, smb2_buffer_code: string, smb2_cmd: string, smb2_data_offset: string, smb2_domain: string, smb2_fid: string, smb2_filename: string, smb2_header_len: string, smb2_host: string, smb2_msg_id: string, smb2_pid: string, smb2_previous_sesid: string, smb2_protocol_id: string, smb2_sesid: string, smb2_session_flags: string, smb2_tid: string, smb2_write_length: int, dhcp: string, dhcp_client_id_duid_ll_hw_type: string, dhcp_cookie: string, dhcp_hw_addr_padding: double, dhcp_hw_mac_addr: string, dhcp_id: string, dhcp_ip_client: string, dhcp_ip_relay: string, dhcp_ip_server: string, dhcp_option_broadcast_address: string, dhcp_option_dhcp_server_id: string, dhcp_option_router: string, dhcp_option_vendor_bsdp_message_type: string, mdns: string, dns: string, dns_a: string, dns_count_add_rr: int, dns_count_answers: int, dns_count_auth_rr: int, dns_count_labels: int, dns_count_queries: int, dns_flags_authoritative: string, dns_flags_checkdisable: string, dns_flags_opcode: string, dns_flags_response: string, dns_id: string, dns_ptr_domain_name: string, dns_qry_name: string, dns_qry_name_len: int, dns_resp_len: string, dns_resp_name: string, dns_resp_ttl: string, dns_resp_len_1: string, dns_retransmit_request: int, dns_retransmit_response: int, dns_time: double, ssdp: string, http_connection: string, http_content_length: double, http_content_type: string, http_date: string, http_file_data: string, http_host: string, http_last_modified: string, http_location: string, http_next_request_in: string, http_next_response_in: string, http_request_full_uri: string, http_request_line: string, http_request_method: string, http_request_uri_path: string, http_request_uri_query: string, http_request_uri_query_parameter: string, http_request_version: string, http_request_in: double, http_response_code: double, http_response_code_desc: string, http_response_line: string, http_response_phrase: string, http_response_version: string, http_response_for_uri: string, http_response_in: string, http_referer: string, http_time: double, http_server: string, json_value_string: string, json_key: string, ssh_cookie: string, ssh_compression_algorithms_client_to_server_length: int, ssh_compression_algorithms_server_to_client_length: int, ssh_direction: int, ssh_dh_gex_max: int, ssh_dh_gex_min: int, ssh_dh_gex_nbits: int, ssh_encryption_algorithms_client_to_server_length: int, ssh_encryption_algorithms_server_to_client_length: int, ssh_host_key_length: int, ssh_host_key_type_length: int, ssh_kex_algorithms_length: int, ssh_mac_algorithms_client_to_server_length: int, ssh_mac_algorithms_server_to_client_length: int, ssh_message_code: string, ssh_mpint_length: string, ssh_packet_length: int, ssh_packet_length_encrypted: string, ssh_padding_length: int, ssh_padding_string: int, ssh_protocol: string, ssh_server_host_key_algorithms_length: int, tls_alert_message_desc: int, tls_alert_message_level: int, tls_app_data_proto: string, tls_compress_certificate_compressed_certificate_message_length: double, tls_connection_id: string, tls_handshake_extension_type: string, tls_handshake_extensions_key_share_group: string, tls_handshake_session_ticket_length: int, tls_handshake_version: string, tls_record_content_type: int, tls_record_version: string, StringLabel: string, label: int]"
      ]
     },
     "execution_count": 17,
     "metadata": {},
     "output_type": "execute_result"
    }
   ],
   "source": [
    "%%time\n",
    "train.cache()\n",
    "pipelineModel = pipeline2.fit(train)\n",
    "train.unpersist()"
   ]
  },
  {
   "cell_type": "code",
   "execution_count": 18,
   "id": "42d98025-120b-463a-a00b-bbe535438b0a",
   "metadata": {},
   "outputs": [
    {
     "name": "stdout",
     "output_type": "stream",
     "text": [
      "CPU times: user 21.9 ms, sys: 2.05 ms, total: 24 ms\n",
      "Wall time: 369 ms\n"
     ]
    },
    {
     "data": {
      "text/plain": [
       "DataFrame[frame_encap_type: int, frame_len: int, frame_number: int, frame_time: string, frame_time_delta: double, frame_time_delta_displayed: double, frame_time_epoch: double, frame_time_relative: double, radiotap_channel_flags_cck: int, radiotap_channel_flags_ofdm: int, radiotap_channel_freq: int, radiotap_datarate: double, radiotap_dbm_antsignal: int, radiotap_length: int, radiotap_mactime: double, radiotap_present_tsft: string, radiotap_rxflags: string, radiotap_timestamp_ts: bigint, radiotap_vendor_oui: int, wlan_duration: int, wlan_analysis_kck: string, wlan_analysis_kek: string, wlan_bssid: string, wlan_country_info_fnm: string, wlan_country_info_code: string, wlan_da: string, wlan_fc_ds: string, wlan_fc_frag: int, wlan_fc_order: int, wlan_fc_moredata: int, wlan_fc_protected: int, wlan_fc_pwrmgt: int, wlan_fc_type: int, wlan_fc_retry: int, wlan_fc_subtype: int, wlan_fcs_bad_checksum: int, wlan_fixed_beacon: int, wlan_fixed_capabilities_ess: int, wlan_fixed_capabilities_ibss: int, wlan_fixed_reason_code: int, wlan_fixed_timestamp: double, wlan_ra: string, wlan_radio_duration: int, wlan_rsn_ie_gtk_key: int, wlan_rsn_ie_igtk_key: int, wlan_rsn_ie_pmkid: int, wlan_sa: string, wlan_seq: double, wlan_ssid: string, wlan_ta: string, wlan_tag: int, wlan_tag_length: string, wlan_radio_channel: int, wlan_radio_data_rate: double, wlan_radio_end_tsf: double, wlan_radio_frequency: int, wlan_radio_signal_dbm: int, wlan_radio_start_tsf: double, wlan_radio_phy: int, wlan_radio_timestamp: double, wlan_rsn_capabilities_mfpc: double, wlan_rsna_eapol_keydes_msgnr: double, wlan_rsna_eapol_keydes_data: string, wlan_rsna_eapol_keydes_data_len: double, wlan_rsna_eapol_keydes_key_info_key_mic: double, wlan_rsna_eapol_keydes_nonce: string, eapol_keydes_key_len: double, eapol_keydes_replay_counter: double, eapol_len: double, eapol_type: double, llc: string, arp: string, arp_hw_type: double, arp_proto_type: string, arp_hw_size: double, arp_proto_size: double, arp_opcode: double, arp_src_hw_mac: string, arp_src_proto_ipv4: string, arp_dst_hw_mac: string, arp_dst_proto_ipv4: string, ip_dst: string, ip_proto: int, ip_src: string, ip_ttl: int, ip_version: int, data_data: string, data_len: int, icmpv6_mldr_nb_mcast_records: double, icmpv6_ni_nonce: int, tcp_ack: int, tcp_ack_raw: int, tcp_analysis: int, tcp_analysis_flags: int, tcp_analysis_retransmission: int, tcp_analysis_reused_ports: int, tcp_analysis_rto_frame: int, tcp_checksum: string, tcp_checksum_status: int, tcp_flags_syn: int, tcp_dstport: int, tcp_flags_ack: int, tcp_flags_fin: int, tcp_flags_push: int, tcp_flags_reset: int, tcp_option_len: int, tcp_payload: string, tcp_seq: int, tcp_seq_raw: int, tcp_srcport: int, tcp_time_delta: double, tcp_time_relative: double, udp_dstport: int, udp_srcport: int, udp_length: int, udp_payload: string, udp_time_relative: double, udp_time_delta: double, nbns: string, nbss_continuation_data: string, nbss_type: string, nbss_length: double, ldap: string, smb_access_generic_execute: double, smb_access_generic_read: double, smb_access_generic_write: double, smb_flags_notify: double, smb_flags_response: double, smb_flags2_nt_error: double, smb_flags2_sec_sig: double, smb_mid: double, smb_nt_status: double, smb_server_component: string, smb_pid_high: double, smb_tid: double, smb2_acct: string, smb2_auth_frame: string, smb2_buffer_code: string, smb2_cmd: string, smb2_data_offset: string, smb2_domain: string, smb2_fid: string, smb2_filename: string, smb2_header_len: string, smb2_host: string, smb2_msg_id: string, smb2_pid: string, smb2_previous_sesid: string, smb2_protocol_id: string, smb2_sesid: string, smb2_session_flags: string, smb2_tid: string, smb2_write_length: int, dhcp: string, dhcp_client_id_duid_ll_hw_type: string, dhcp_cookie: string, dhcp_hw_addr_padding: double, dhcp_hw_mac_addr: string, dhcp_id: string, dhcp_ip_client: string, dhcp_ip_relay: string, dhcp_ip_server: string, dhcp_option_broadcast_address: string, dhcp_option_dhcp_server_id: string, dhcp_option_router: string, dhcp_option_vendor_bsdp_message_type: string, mdns: string, dns: string, dns_a: string, dns_count_add_rr: int, dns_count_answers: int, dns_count_auth_rr: int, dns_count_labels: int, dns_count_queries: int, dns_flags_authoritative: string, dns_flags_checkdisable: string, dns_flags_opcode: string, dns_flags_response: string, dns_id: string, dns_ptr_domain_name: string, dns_qry_name: string, dns_qry_name_len: int, dns_resp_len: string, dns_resp_name: string, dns_resp_ttl: string, dns_resp_len_1: string, dns_retransmit_request: int, dns_retransmit_response: int, dns_time: double, ssdp: string, http_connection: string, http_content_length: double, http_content_type: string, http_date: string, http_file_data: string, http_host: string, http_last_modified: string, http_location: string, http_next_request_in: string, http_next_response_in: string, http_request_full_uri: string, http_request_line: string, http_request_method: string, http_request_uri_path: string, http_request_uri_query: string, http_request_uri_query_parameter: string, http_request_version: string, http_request_in: double, http_response_code: double, http_response_code_desc: string, http_response_line: string, http_response_phrase: string, http_response_version: string, http_response_for_uri: string, http_response_in: string, http_referer: string, http_time: double, http_server: string, json_value_string: string, json_key: string, ssh_cookie: string, ssh_compression_algorithms_client_to_server_length: int, ssh_compression_algorithms_server_to_client_length: int, ssh_direction: int, ssh_dh_gex_max: int, ssh_dh_gex_min: int, ssh_dh_gex_nbits: int, ssh_encryption_algorithms_client_to_server_length: int, ssh_encryption_algorithms_server_to_client_length: int, ssh_host_key_length: int, ssh_host_key_type_length: int, ssh_kex_algorithms_length: int, ssh_mac_algorithms_client_to_server_length: int, ssh_mac_algorithms_server_to_client_length: int, ssh_message_code: string, ssh_mpint_length: string, ssh_packet_length: int, ssh_packet_length_encrypted: string, ssh_padding_length: int, ssh_padding_string: int, ssh_protocol: string, ssh_server_host_key_algorithms_length: int, tls_alert_message_desc: int, tls_alert_message_level: int, tls_app_data_proto: string, tls_compress_certificate_compressed_certificate_message_length: double, tls_connection_id: string, tls_handshake_extension_type: string, tls_handshake_extensions_key_share_group: string, tls_handshake_session_ticket_length: int, tls_handshake_version: string, tls_record_content_type: int, tls_record_version: string, StringLabel: string, label: int]"
      ]
     },
     "execution_count": 18,
     "metadata": {},
     "output_type": "execute_result"
    }
   ],
   "source": [
    "%%time\n",
    "test.cache()\n",
    "pred = pipelineModel.transform(test)\n",
    "test.unpersist()"
   ]
  },
  {
   "cell_type": "code",
   "execution_count": 19,
   "id": "849fb6b6-caa4-4aff-9d29-06d32493d783",
   "metadata": {},
   "outputs": [],
   "source": [
    "pred_pd = pred.select(['label', 'prediction', 'probability']).toPandas()"
   ]
  },
  {
   "cell_type": "code",
   "execution_count": 20,
   "id": "ed08fb80-cef9-4008-86aa-fd2168ab1d53",
   "metadata": {},
   "outputs": [
    {
     "data": {
      "text/html": [
       "<div>\n",
       "<style scoped>\n",
       "    .dataframe tbody tr th:only-of-type {\n",
       "        vertical-align: middle;\n",
       "    }\n",
       "\n",
       "    .dataframe tbody tr th {\n",
       "        vertical-align: top;\n",
       "    }\n",
       "\n",
       "    .dataframe thead th {\n",
       "        text-align: right;\n",
       "    }\n",
       "</style>\n",
       "<table border=\"1\" class=\"dataframe\">\n",
       "  <thead>\n",
       "    <tr style=\"text-align: right;\">\n",
       "      <th></th>\n",
       "      <th>label</th>\n",
       "      <th>prediction</th>\n",
       "      <th>probability</th>\n",
       "    </tr>\n",
       "  </thead>\n",
       "  <tbody>\n",
       "    <tr>\n",
       "      <th>0</th>\n",
       "      <td>0</td>\n",
       "      <td>0.0</td>\n",
       "      <td>[0.9784597430700719, 0.021540256929928114]</td>\n",
       "    </tr>\n",
       "    <tr>\n",
       "      <th>1</th>\n",
       "      <td>0</td>\n",
       "      <td>0.0</td>\n",
       "      <td>[0.9784597430700719, 0.021540256929928114]</td>\n",
       "    </tr>\n",
       "    <tr>\n",
       "      <th>2</th>\n",
       "      <td>0</td>\n",
       "      <td>0.0</td>\n",
       "      <td>[0.9784597430700719, 0.021540256929928114]</td>\n",
       "    </tr>\n",
       "    <tr>\n",
       "      <th>3</th>\n",
       "      <td>0</td>\n",
       "      <td>0.0</td>\n",
       "      <td>[0.9784597430700719, 0.021540256929928114]</td>\n",
       "    </tr>\n",
       "    <tr>\n",
       "      <th>4</th>\n",
       "      <td>0</td>\n",
       "      <td>0.0</td>\n",
       "      <td>[0.9784597430700719, 0.021540256929928114]</td>\n",
       "    </tr>\n",
       "  </tbody>\n",
       "</table>\n",
       "</div>"
      ],
      "text/plain": [
       "   label  prediction                                 probability\n",
       "0      0         0.0  [0.9784597430700719, 0.021540256929928114]\n",
       "1      0         0.0  [0.9784597430700719, 0.021540256929928114]\n",
       "2      0         0.0  [0.9784597430700719, 0.021540256929928114]\n",
       "3      0         0.0  [0.9784597430700719, 0.021540256929928114]\n",
       "4      0         0.0  [0.9784597430700719, 0.021540256929928114]"
      ]
     },
     "execution_count": 20,
     "metadata": {},
     "output_type": "execute_result"
    }
   ],
   "source": [
    "pred_pd.head()"
   ]
  },
  {
   "cell_type": "code",
   "execution_count": 21,
   "id": "5ae77ee8-f631-46e0-9859-7a88f04f7167",
   "metadata": {},
   "outputs": [
    {
     "data": {
      "text/plain": [
       "array([[118952,     49],\n",
       "       [   457,   6560]])"
      ]
     },
     "execution_count": 21,
     "metadata": {},
     "output_type": "execute_result"
    }
   ],
   "source": [
    ">>> from sklearn.metrics import confusion_matrix\n",
    "\n",
    "confusion_matrix(pred_pd['label'], pred_pd['prediction'])"
   ]
  },
  {
   "cell_type": "code",
   "execution_count": 22,
   "id": "503e64c3-5126-4427-bbf9-2526223443b6",
   "metadata": {},
   "outputs": [],
   "source": [
    "tn, fp, fn, tp = confusion_matrix(pred_pd['label'], pred_pd['prediction']).ravel()"
   ]
  },
  {
   "cell_type": "code",
   "execution_count": 23,
   "id": "8d3f0f18-cf7f-45c6-a348-eb507cfa5d1d",
   "metadata": {},
   "outputs": [
    {
     "name": "stdout",
     "output_type": "stream",
     "text": [
      "There are 118952 true negatives\n",
      "There are 6560 true positives\n",
      "There are 457 false negatives\n",
      "There are 49 false positives\n"
     ]
    }
   ],
   "source": [
    "print(\"There are \"+str(tn)+ \" true negatives\")\n",
    "print(\"There are \"+str(tp)+ \" true positives\")\n",
    "print(\"There are \"+str(fn)+ \" false negatives\")\n",
    "print(\"There are \"+str(fp)+ \" false positives\")\n",
    "\n"
   ]
  },
  {
   "cell_type": "markdown",
   "id": "23794df5-debf-4e5f-aa09-9be240865bf1",
   "metadata": {},
   "source": [
    "So we have better performance than the Random Forest but a much longer run time on a small subsample"
   ]
  },
  {
   "cell_type": "code",
   "execution_count": 25,
   "id": "2e939b6e-ee57-4c4d-812b-8465791c68fd",
   "metadata": {},
   "outputs": [
    {
     "name": "stdout",
     "output_type": "stream",
     "text": [
      "The precision is 0.9925858677560901\n",
      "The recall is 0.9348724526150777\n",
      "The fscore is 0.9628651108175547\n",
      "The Matthews correlation coefficient is 0.9612263650654274\n"
     ]
    }
   ],
   "source": [
    "from sklearn.metrics import precision_recall_fscore_support\n",
    "from sklearn.metrics import matthews_corrcoef\n",
    "\n",
    "precision,recall,fscore,support = precision_recall_fscore_support(pred_pd['label'], pred_pd['prediction'], average='binary')\n",
    "MCC = matthews_corrcoef(pred_pd['label'], pred_pd['prediction'])\n",
    "print(\"The precision is \"+str(precision))\n",
    "print(\"The recall is \"+str(recall))\n",
    "print(\"The fscore is \"+str(fscore))\n",
    "print(\"The Matthews correlation coefficient is \"+str(MCC))"
   ]
  },
  {
   "cell_type": "markdown",
   "id": "b85f9818-fb90-44d1-9f1e-d3667e8daeb3",
   "metadata": {},
   "source": [
    "The first tuning will be to increse the threshold. We want to plot the Presicion Recall curve and ROC curve. This is a better metric for imbalenced sets as we have here and why I used it in the crossvalidator\n",
    "\n",
    "https://spark.apache.org/docs/2.2.0/mllib-evaluation-metrics.html\n",
    "\n"
   ]
  },
  {
   "cell_type": "code",
   "execution_count": 26,
   "id": "5ae0555b-88c8-4279-ab3b-7d650be88a3f",
   "metadata": {},
   "outputs": [],
   "source": [
    "import numpy as np\n",
    "pred_pd['probability'] = pred_pd['probability'].map(lambda x: list(x))\n",
    "pred_pd['encoded_label'] = pred_pd['label'].map(lambda x: np.eye(2)[int(x)])"
   ]
  },
  {
   "cell_type": "code",
   "execution_count": 27,
   "id": "74ba6b35-e9a4-42c2-8f9a-1865e6f60fbe",
   "metadata": {},
   "outputs": [],
   "source": [
    "y_pred = np.array(pred_pd['probability'].tolist())\n",
    "y_true = np.array(pred_pd['encoded_label'].tolist())"
   ]
  },
  {
   "cell_type": "code",
   "execution_count": 28,
   "id": "8f7b45c9-3abb-4df1-a6c9-9b5c6e802a6e",
   "metadata": {},
   "outputs": [],
   "source": [
    "from sklearn.metrics import precision_recall_curve\n",
    "precision, recall, threshold = precision_recall_curve( y_true[:,0], y_pred[:,0])\n"
   ]
  },
  {
   "cell_type": "code",
   "execution_count": 29,
   "id": "8ba80e25-b444-4cc5-8279-d99a6462cf01",
   "metadata": {},
   "outputs": [
    {
     "name": "stderr",
     "output_type": "stream",
     "text": [
      "Exception ignored in: <function JavaWrapper.__del__ at 0x7f6b3d351430>\n",
      "Traceback (most recent call last):\n",
      "  File \"/usr/local/spark/python/pyspark/ml/wrapper.py\", line 39, in __del__\n",
      "    if SparkContext._active_spark_context and self._java_obj is not None:\n",
      "AttributeError: 'GBTClassifier' object has no attribute '_java_obj'\n"
     ]
    },
    {
     "data": {
      "image/png": "[encoded data removed]",
      "text/plain": [
       "<Figure size 432x288 with 1 Axes>"
      ]
     },
     "metadata": {
      "needs_background": "light"
     },
     "output_type": "display_data"
    }
   ],
   "source": [
    "#create precision recall curve\n",
    "fig, ax = plt.subplots()\n",
    "ax.plot(recall, precision, color='purple')\n",
    "plt.xlim([0.90, 1])\n",
    "plt.ylim([0.90, 1])\n",
    "\n",
    "#add axis labels to plot\n",
    "ax.set_title('Precision-Recall Curve')\n",
    "ax.set_ylabel('Precision')\n",
    "ax.set_xlabel('Recall')\n",
    "\n",
    "#display plot\n",
    "plt.show()"
   ]
  },
  {
   "cell_type": "markdown",
   "id": "c00f48a9-d2a0-433a-aceb-c91408d3174b",
   "metadata": {},
   "source": []
  },
  {
   "cell_type": "code",
   "execution_count": 30,
   "id": "4b046f81-5510-40e0-9994-dfa1f54cf21d",
   "metadata": {},
   "outputs": [
    {
     "name": "stdout",
     "output_type": "stream",
     "text": [
      "Best Threshold=0.623785, F-Score=0.998\n"
     ]
    }
   ],
   "source": [
    "#https://machinelearningmastery.com/threshold-moving-for-imbalanced-classification/ suggestion on setting thresholds\n",
    "from numpy import argmax\n",
    "# convert to f score\n",
    "fscore = (2 * precision * recall) / (precision + recall)\n",
    "# locate the index of the largest f score\n",
    "ix = argmax(fscore)\n",
    "print('Best Threshold=%f, F-Score=%.3f' % (threshold[ix], fscore[ix]))"
   ]
  },
  {
   "cell_type": "code",
   "execution_count": 31,
   "id": "3653cf39-e76c-4f27-8b7c-e59b0d8cd9e9",
   "metadata": {},
   "outputs": [],
   "source": [
    "#taking 1-best threshold\n",
    "threshold = 0.38\n",
    "y_pred2 = (y_pred[:, 1] > threshold).astype('float')\n",
    "\n",
    "tn, fp, fn, tp = confusion_matrix(pred_pd['label'], y_pred2).ravel()"
   ]
  },
  {
   "cell_type": "code",
   "execution_count": 32,
   "id": "19bed7b1-8f93-4cd9-8517-d0dfad8c62d8",
   "metadata": {},
   "outputs": [
    {
     "name": "stdout",
     "output_type": "stream",
     "text": [
      "There are 118952 true negatives\n",
      "There are 6561 true positives\n",
      "There are 456 false negatives\n",
      "There are 49 false positives\n"
     ]
    }
   ],
   "source": [
    "print(\"There are \"+str(tn)+ \" true negatives\")\n",
    "print(\"There are \"+str(tp)+ \" true positives\")\n",
    "print(\"There are \"+str(fn)+ \" false negatives\")\n",
    "print(\"There are \"+str(fp)+ \" false positives\")"
   ]
  },
  {
   "cell_type": "code",
   "execution_count": 33,
   "id": "68bbed28-68cb-44f0-9f2d-a5a58ae4d7f6",
   "metadata": {},
   "outputs": [
    {
     "name": "stdout",
     "output_type": "stream",
     "text": [
      "The precision is 0.9925869894099849\n",
      "The recall is 0.9350149636596836\n",
      "The fscore is 0.9629412196374844\n",
      "The Matthews correlation coefficient is 0.961304259456491\n"
     ]
    }
   ],
   "source": [
    "precision,recall,fscore,support = precision_recall_fscore_support(pred_pd['label'], y_pred2, average='binary')\n",
    "MCC2 = matthews_corrcoef(pred_pd['label'], y_pred2)\n",
    "print(\"The precision is \"+str(precision))\n",
    "print(\"The recall is \"+str(recall))\n",
    "print(\"The fscore is \"+str(fscore))\n",
    "print(\"The Matthews correlation coefficient is \"+str(MCC2))"
   ]
  },
  {
   "cell_type": "markdown",
   "id": "b69ff6cf-c38c-43b9-ba52-858245fd7dd0",
   "metadata": {},
   "source": [
    "The results are excellent, but the run time will likely be impractical, we can see in the cloud if there are any options to run this algorithim for a long time in the back ground"
   ]
  },
  {
   "cell_type": "code",
   "execution_count": null,
   "id": "9578bc8b-c38f-4a76-b71e-8bee24e58d5f",
   "metadata": {},
   "outputs": [],
   "source": []
  },
  {
   "cell_type": "code",
   "execution_count": null,
   "id": "043832da-0fe7-4fcf-a448-dbc0dc5cbeda",
   "metadata": {},
   "outputs": [],
   "source": []
  }
 ],
 "metadata": {
  "kernelspec": {
   "display_name": "Python 3 (ipykernel)",
   "language": "python",
   "name": "python3"
  },
  "language_info": {
   "codemirror_mode": {
    "name": "ipython",
    "version": 3
   },
   "file_extension": ".py",
   "mimetype": "text/x-python",
   "name": "python",
   "nbconvert_exporter": "python",
   "pygments_lexer": "ipython3",
   "version": "3.9.12"
  }
 },
 "nbformat": 4,
 "nbformat_minor": 5
}
