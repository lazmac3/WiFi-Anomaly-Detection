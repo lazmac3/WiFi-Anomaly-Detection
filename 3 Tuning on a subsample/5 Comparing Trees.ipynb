{
 "cells": [
  {
   "cell_type": "code",
   "execution_count": 105,
   "id": "23194e65-93fd-4bd4-92cf-f6b78284508e",
   "metadata": {},
   "outputs": [
    {
     "name": "stdout",
     "output_type": "stream",
     "text": [
      "Hello World\n"
     ]
    }
   ],
   "source": [
    "print(\"Hello World\")"
   ]
  },
  {
   "cell_type": "code",
   "execution_count": 106,
   "id": "7fe3ba58-37a1-47eb-a7bd-3de5aaf44072",
   "metadata": {},
   "outputs": [],
   "source": [
    "readFile=\"Data/parquet/subSampleWholeDataSet\""
   ]
  },
  {
   "cell_type": "markdown",
   "id": "488dcdc3-b6e5-47f7-90c6-4d2ca1edfb7f",
   "metadata": {},
   "source": [
    "SKlearn has a larger variety of Ensemble tree methods than Pyspark. In Pyspark Gradient boosted Trees gave excellent results but the run time was far too long even on our subset. I have refactored the code in SKlearn and will try the larger range of Tree methods, with 20 dimensions. I'll use the parameters from this document.\n",
    "https://scikit-learn.org/stable/modules/ensemble.html#\n",
    "We need to set the hashseed so the mode can be saved and reloaded.\n",
    "On this sheet we will run a basic CV for tuning and compare the performance of Decision Trees\n",
    "https://scikit-learn.org/stable/modules/generated/sklearn.tree.DecisionTreeClassifier.html\n",
    "We then have 2 averaging trees,\n",
    "Random Forest which we used in Pyspark, and Extra Trees which introduduces a an extra element of randomness.\n",
    "https://scikit-learn.org/stable/modules/generated/sklearn.ensemble.RandomForestClassifier.html#sklearn.ensemble.RandomForestClassifier\n",
    "https://scikit-learn.org/stable/modules/generated/sklearn.ensemble.ExtraTreesClassifier.html#sklearn.ensemble.ExtraTreesClassifier\n",
    "I will run the boosing trees after\n",
    "\n",
    "\n",
    "\n",
    "We need to set the hashseed so the mode can be saved and reloaded."
   ]
  },
  {
   "cell_type": "code",
   "execution_count": 107,
   "id": "39c6ce44-ca98-4ebe-ac94-1896fd02bc90",
   "metadata": {
    "tags": []
   },
   "outputs": [],
   "source": [
    "! PYTHONHASHSEED=0\n",
    "import pandas as pd\n",
    "import numpy as np"
   ]
  },
  {
   "cell_type": "code",
   "execution_count": 108,
   "id": "29ac2d44-a4d9-4c09-8e5f-d6372aba6ecc",
   "metadata": {},
   "outputs": [],
   "source": [
    "dataset=pd.read_parquet(readFile, engine='pyarrow')"
   ]
  },
  {
   "cell_type": "code",
   "execution_count": 109,
   "id": "1438066a-6ddd-4468-b417-0f3010512027",
   "metadata": {},
   "outputs": [],
   "source": [
    " from sklearn.preprocessing import LabelEncoder, OneHotEncoder"
   ]
  },
  {
   "cell_type": "markdown",
   "id": "0e09d7e9-34af-4ad2-a6d2-72c51c618ecf",
   "metadata": {},
   "source": [
    "We will use the slightly extended number of features"
   ]
  },
  {
   "cell_type": "code",
   "execution_count": 110,
   "id": "9cc07fe5-74c9-4d32-b07c-53b637facaa3",
   "metadata": {},
   "outputs": [],
   "source": [
    "categoricalCols = [\n",
    "    \"wlan_tag_length\",\n",
    "    \"wlan_country_info_fnm\",\n",
    "    \"wlan_da\",\n",
    "    \"wlan_sa\",\n",
    "    \"wlan_bssid\",\n",
    "    \"ip_src\",\n",
    "    \"ip_dst\",\n",
    "    \"http_host\",\n",
    "    \"http_request_line\",\n",
    "    \"http_request_method\",\n",
    "    \"http_request_version\",\n",
    "    \"ssdp\",\n",
    "    \"http_request_full_uri\"\n",
    "]\n"
   ]
  },
  {
   "cell_type": "code",
   "execution_count": 111,
   "id": "1dc988cd-9882-40cc-9c95-a26a56fec0f8",
   "metadata": {},
   "outputs": [],
   "source": [
    "numericCols=[\n",
    "    \"wlan_fixed_reason_code\",\n",
    "    \"radiotap_channel_freq\",\n",
    "    \"udp_length\",\n",
    "    \"ip_ttl\",\n",
    "    \"udp_dstport\",\n",
    "    \"udp_time_delta\"\n",
    "]"
   ]
  },
  {
   "cell_type": "code",
   "execution_count": 112,
   "id": "fdc2472e-99b3-4160-8b63-b50d111afb66",
   "metadata": {},
   "outputs": [
    {
     "data": {
      "text/html": [
       "<div>\n",
       "<style scoped>\n",
       "    .dataframe tbody tr th:only-of-type {\n",
       "        vertical-align: middle;\n",
       "    }\n",
       "\n",
       "    .dataframe tbody tr th {\n",
       "        vertical-align: top;\n",
       "    }\n",
       "\n",
       "    .dataframe thead th {\n",
       "        text-align: right;\n",
       "    }\n",
       "</style>\n",
       "<table border=\"1\" class=\"dataframe\">\n",
       "  <thead>\n",
       "    <tr style=\"text-align: right;\">\n",
       "      <th></th>\n",
       "      <th>wlan_tag_length</th>\n",
       "      <th>wlan_country_info_fnm</th>\n",
       "      <th>wlan_da</th>\n",
       "      <th>wlan_sa</th>\n",
       "      <th>wlan_bssid</th>\n",
       "      <th>ip_src</th>\n",
       "      <th>ip_dst</th>\n",
       "      <th>http_host</th>\n",
       "      <th>http_request_line</th>\n",
       "      <th>http_request_method</th>\n",
       "      <th>http_request_version</th>\n",
       "      <th>ssdp</th>\n",
       "      <th>http_request_full_uri</th>\n",
       "    </tr>\n",
       "  </thead>\n",
       "  <tbody>\n",
       "    <tr>\n",
       "      <th>0</th>\n",
       "      <td>NA</td>\n",
       "      <td>NA</td>\n",
       "      <td>NA</td>\n",
       "      <td>NA</td>\n",
       "      <td>NA</td>\n",
       "      <td>NA</td>\n",
       "      <td>NA</td>\n",
       "      <td>NA</td>\n",
       "      <td>NA</td>\n",
       "      <td>NA</td>\n",
       "      <td>NA</td>\n",
       "      <td>NA</td>\n",
       "      <td>NA</td>\n",
       "    </tr>\n",
       "    <tr>\n",
       "      <th>1</th>\n",
       "      <td>NA</td>\n",
       "      <td>NA</td>\n",
       "      <td>NA</td>\n",
       "      <td>NA</td>\n",
       "      <td>NA</td>\n",
       "      <td>NA</td>\n",
       "      <td>NA</td>\n",
       "      <td>NA</td>\n",
       "      <td>NA</td>\n",
       "      <td>NA</td>\n",
       "      <td>NA</td>\n",
       "      <td>NA</td>\n",
       "      <td>NA</td>\n",
       "    </tr>\n",
       "    <tr>\n",
       "      <th>2</th>\n",
       "      <td>NA</td>\n",
       "      <td>NA</td>\n",
       "      <td>NA</td>\n",
       "      <td>NA</td>\n",
       "      <td>NA</td>\n",
       "      <td>NA</td>\n",
       "      <td>NA</td>\n",
       "      <td>NA</td>\n",
       "      <td>NA</td>\n",
       "      <td>NA</td>\n",
       "      <td>NA</td>\n",
       "      <td>NA</td>\n",
       "      <td>NA</td>\n",
       "    </tr>\n",
       "    <tr>\n",
       "      <th>3</th>\n",
       "      <td>NA</td>\n",
       "      <td>NA</td>\n",
       "      <td>50:3e:aa:e4:01:93</td>\n",
       "      <td>00:0c:29:cf:08:aa</td>\n",
       "      <td>0c:9d:92:54:fe:34</td>\n",
       "      <td>192.168.2.130</td>\n",
       "      <td>192.168.2.73</td>\n",
       "      <td>NA</td>\n",
       "      <td>NA</td>\n",
       "      <td>NA</td>\n",
       "      <td>NA</td>\n",
       "      <td>NA</td>\n",
       "      <td>NA</td>\n",
       "    </tr>\n",
       "    <tr>\n",
       "      <th>4</th>\n",
       "      <td>NA</td>\n",
       "      <td>NA</td>\n",
       "      <td>50:3e:aa:e4:01:93</td>\n",
       "      <td>00:0c:29:cf:08:aa</td>\n",
       "      <td>0c:9d:92:54:fe:34</td>\n",
       "      <td>192.168.2.130</td>\n",
       "      <td>192.168.2.73</td>\n",
       "      <td>NA</td>\n",
       "      <td>NA</td>\n",
       "      <td>NA</td>\n",
       "      <td>NA</td>\n",
       "      <td>NA</td>\n",
       "      <td>NA</td>\n",
       "    </tr>\n",
       "    <tr>\n",
       "      <th>...</th>\n",
       "      <td>...</td>\n",
       "      <td>...</td>\n",
       "      <td>...</td>\n",
       "      <td>...</td>\n",
       "      <td>...</td>\n",
       "      <td>...</td>\n",
       "      <td>...</td>\n",
       "      <td>...</td>\n",
       "      <td>...</td>\n",
       "      <td>...</td>\n",
       "      <td>...</td>\n",
       "      <td>...</td>\n",
       "      <td>...</td>\n",
       "    </tr>\n",
       "    <tr>\n",
       "      <th>632402</th>\n",
       "      <td>NA</td>\n",
       "      <td>NA</td>\n",
       "      <td>NA</td>\n",
       "      <td>NA</td>\n",
       "      <td>NA</td>\n",
       "      <td>NA</td>\n",
       "      <td>NA</td>\n",
       "      <td>NA</td>\n",
       "      <td>NA</td>\n",
       "      <td>NA</td>\n",
       "      <td>NA</td>\n",
       "      <td>NA</td>\n",
       "      <td>NA</td>\n",
       "    </tr>\n",
       "    <tr>\n",
       "      <th>632403</th>\n",
       "      <td>NA</td>\n",
       "      <td>NA</td>\n",
       "      <td>NA</td>\n",
       "      <td>NA</td>\n",
       "      <td>NA</td>\n",
       "      <td>NA</td>\n",
       "      <td>NA</td>\n",
       "      <td>NA</td>\n",
       "      <td>NA</td>\n",
       "      <td>NA</td>\n",
       "      <td>NA</td>\n",
       "      <td>NA</td>\n",
       "      <td>NA</td>\n",
       "    </tr>\n",
       "    <tr>\n",
       "      <th>632404</th>\n",
       "      <td>NA</td>\n",
       "      <td>NA</td>\n",
       "      <td>NA</td>\n",
       "      <td>NA</td>\n",
       "      <td>NA</td>\n",
       "      <td>NA</td>\n",
       "      <td>NA</td>\n",
       "      <td>NA</td>\n",
       "      <td>NA</td>\n",
       "      <td>NA</td>\n",
       "      <td>NA</td>\n",
       "      <td>NA</td>\n",
       "      <td>NA</td>\n",
       "    </tr>\n",
       "    <tr>\n",
       "      <th>632405</th>\n",
       "      <td>NA</td>\n",
       "      <td>NA</td>\n",
       "      <td>NA</td>\n",
       "      <td>NA</td>\n",
       "      <td>NA</td>\n",
       "      <td>NA</td>\n",
       "      <td>NA</td>\n",
       "      <td>NA</td>\n",
       "      <td>NA</td>\n",
       "      <td>NA</td>\n",
       "      <td>NA</td>\n",
       "      <td>NA</td>\n",
       "      <td>NA</td>\n",
       "    </tr>\n",
       "    <tr>\n",
       "      <th>632406</th>\n",
       "      <td>NA</td>\n",
       "      <td>NA</td>\n",
       "      <td>NA</td>\n",
       "      <td>NA</td>\n",
       "      <td>NA</td>\n",
       "      <td>NA</td>\n",
       "      <td>NA</td>\n",
       "      <td>NA</td>\n",
       "      <td>NA</td>\n",
       "      <td>NA</td>\n",
       "      <td>NA</td>\n",
       "      <td>NA</td>\n",
       "      <td>NA</td>\n",
       "    </tr>\n",
       "  </tbody>\n",
       "</table>\n",
       "<p>632407 rows × 13 columns</p>\n",
       "</div>"
      ],
      "text/plain": [
       "       wlan_tag_length wlan_country_info_fnm            wlan_da  \\\n",
       "0                   NA                    NA                 NA   \n",
       "1                   NA                    NA                 NA   \n",
       "2                   NA                    NA                 NA   \n",
       "3                   NA                    NA  50:3e:aa:e4:01:93   \n",
       "4                   NA                    NA  50:3e:aa:e4:01:93   \n",
       "...                ...                   ...                ...   \n",
       "632402              NA                    NA                 NA   \n",
       "632403              NA                    NA                 NA   \n",
       "632404              NA                    NA                 NA   \n",
       "632405              NA                    NA                 NA   \n",
       "632406              NA                    NA                 NA   \n",
       "\n",
       "                  wlan_sa         wlan_bssid         ip_src        ip_dst  \\\n",
       "0                      NA                 NA             NA            NA   \n",
       "1                      NA                 NA             NA            NA   \n",
       "2                      NA                 NA             NA            NA   \n",
       "3       00:0c:29:cf:08:aa  0c:9d:92:54:fe:34  192.168.2.130  192.168.2.73   \n",
       "4       00:0c:29:cf:08:aa  0c:9d:92:54:fe:34  192.168.2.130  192.168.2.73   \n",
       "...                   ...                ...            ...           ...   \n",
       "632402                 NA                 NA             NA            NA   \n",
       "632403                 NA                 NA             NA            NA   \n",
       "632404                 NA                 NA             NA            NA   \n",
       "632405                 NA                 NA             NA            NA   \n",
       "632406                 NA                 NA             NA            NA   \n",
       "\n",
       "       http_host http_request_line http_request_method http_request_version  \\\n",
       "0             NA                NA                  NA                   NA   \n",
       "1             NA                NA                  NA                   NA   \n",
       "2             NA                NA                  NA                   NA   \n",
       "3             NA                NA                  NA                   NA   \n",
       "4             NA                NA                  NA                   NA   \n",
       "...          ...               ...                 ...                  ...   \n",
       "632402        NA                NA                  NA                   NA   \n",
       "632403        NA                NA                  NA                   NA   \n",
       "632404        NA                NA                  NA                   NA   \n",
       "632405        NA                NA                  NA                   NA   \n",
       "632406        NA                NA                  NA                   NA   \n",
       "\n",
       "       ssdp http_request_full_uri  \n",
       "0        NA                    NA  \n",
       "1        NA                    NA  \n",
       "2        NA                    NA  \n",
       "3        NA                    NA  \n",
       "4        NA                    NA  \n",
       "...     ...                   ...  \n",
       "632402   NA                    NA  \n",
       "632403   NA                    NA  \n",
       "632404   NA                    NA  \n",
       "632405   NA                    NA  \n",
       "632406   NA                    NA  \n",
       "\n",
       "[632407 rows x 13 columns]"
      ]
     },
     "execution_count": 112,
     "metadata": {},
     "output_type": "execute_result"
    }
   ],
   "source": [
    "y=dataset['label']\n",
    "x=dataset[categoricalCols+numericCols]\n",
    "x[categoricalCols].astype(\"category\")"
   ]
  },
  {
   "cell_type": "code",
   "execution_count": 113,
   "id": "1f699532-3363-4963-a86c-02c180a14f98",
   "metadata": {},
   "outputs": [],
   "source": [
    "from sklearn.compose import ColumnTransformer\n",
    "from sklearn.preprocessing import OneHotEncoder\n",
    "categorical_transformer = OneHotEncoder(handle_unknown=\"ignore\")\n",
    "from sklearn.preprocessing import FunctionTransformer\n",
    "preprocessor = ColumnTransformer(\n",
    "    transformers=[\n",
    "        (\"cat\", categorical_transformer, categoricalCols)\n",
    "    ]\n",
    ")"
   ]
  },
  {
   "cell_type": "markdown",
   "id": "7bb2c407-c362-40c8-8c0a-e7962896c2c0",
   "metadata": {},
   "source": [
    "We have our pieline set up and now make our test train split."
   ]
  },
  {
   "cell_type": "code",
   "execution_count": 114,
   "id": "07e4720c-68ea-4de0-b546-6c6c969623b5",
   "metadata": {},
   "outputs": [],
   "source": [
    "from sklearn.model_selection import train_test_split, GridSearchCV\n",
    "X_train, X_test, y_train, y_test = train_test_split(x, y, test_size=0.2, random_state=0)\n"
   ]
  },
  {
   "cell_type": "code",
   "execution_count": 115,
   "id": "d76c9df5-d9aa-46f4-bf1d-4d285d7b512c",
   "metadata": {},
   "outputs": [],
   "source": [
    "from sklearn.pipeline import Pipeline\n",
    "from sklearn.tree import DecisionTreeClassifier\n",
    "from sklearn.ensemble import RandomForestClassifier\n",
    "from sklearn.ensemble import ExtraTreesClassifier\n",
    "from sklearn.ensemble import AdaBoostClassifier\n",
    "from sklearn.ensemble import GradientBoostingClassifier\n",
    "from sklearn.model_selection import GridSearchCV"
   ]
  },
  {
   "cell_type": "code",
   "execution_count": 63,
   "id": "79e0a0f7-0158-43f4-9160-9602439d1c40",
   "metadata": {},
   "outputs": [],
   "source": [
    "\n",
    "DT = Pipeline(steps=[(\"preprocess\", preprocessor), (\"DTclassifier\", DecisionTreeClassifier(random_state=0))])"
   ]
  },
  {
   "cell_type": "markdown",
   "id": "61f3f4e1-e0cd-467f-b704-0d7972acb9d0",
   "metadata": {},
   "source": [
    "DT have few parameters so we will try gini and entropy (log loss produced errors"
   ]
  },
  {
   "cell_type": "code",
   "execution_count": 65,
   "id": "5609d398-f07c-4d36-aaff-d0e24da19f46",
   "metadata": {},
   "outputs": [],
   "source": [
    "param_grid = { \n",
    "    'DTclassifier__criterion' :['gini','entropy'],\n",
    "    'DTclassifier__max_features' :['auto', 'sqrt', 'log2']\n",
    "}"
   ]
  },
  {
   "cell_type": "markdown",
   "id": "5d945dcb-d486-4a00-81d6-caf63f71ea60",
   "metadata": {},
   "source": [
    "In SKlearn we have a lot more scoring metrics, \n",
    "https://scikit-learn.org/stable/modules/model_evaluation.html#scoring-parameter\n",
    "I am using recall rather than the area under PR curve as catching the attack packets is my main concern. "
   ]
  },
  {
   "cell_type": "code",
   "execution_count": 72,
   "id": "00144589-50cf-48f2-9d92-5801f2ae5724",
   "metadata": {},
   "outputs": [
    {
     "name": "stdout",
     "output_type": "stream",
     "text": [
      "CPU times: user 1min 9s, sys: 3.55 s, total: 1min 12s\n",
      "Wall time: 1min 12s\n"
     ]
    },
    {
     "data": {
      "text/plain": [
       "GridSearchCV(cv=5,\n",
       "             estimator=Pipeline(steps=[('preprocess',\n",
       "                                        ColumnTransformer(transformers=[('cat',\n",
       "                                                                         OneHotEncoder(handle_unknown='ignore'),\n",
       "                                                                         ['wlan_tag_length',\n",
       "                                                                          'wlan_country_info_fnm',\n",
       "                                                                          'wlan_da',\n",
       "                                                                          'wlan_sa',\n",
       "                                                                          'wlan_bssid',\n",
       "                                                                          'ip_src',\n",
       "                                                                          'ip_dst',\n",
       "                                                                          'http_host',\n",
       "                                                                          'http_request_line',\n",
       "                                                                          'http_request_method',\n",
       "                                                                          'http_request_version',\n",
       "                                                                          'ssdp',\n",
       "                                                                          'http_request_full_uri'])])),\n",
       "                                       ('DTclassifier',\n",
       "                                        DecisionTreeClassifier(random_state=0))]),\n",
       "             param_grid={'DTclassifier__criterion': ['gini', 'entropy'],\n",
       "                         'DTclassifier__max_features': ['auto', 'sqrt',\n",
       "                                                        'log2']})"
      ]
     },
     "execution_count": 72,
     "metadata": {},
     "output_type": "execute_result"
    }
   ],
   "source": [
    "%%time\n",
    "CV_DT = GridSearchCV(estimator=DT, param_grid=param_grid, cv= 5)\n",
    "CV_DT.fit(X_train, y_train)"
   ]
  },
  {
   "cell_type": "code",
   "execution_count": 73,
   "id": "2aa8b385-ec76-4e71-a536-20b8791eb79e",
   "metadata": {},
   "outputs": [
    {
     "data": {
      "text/plain": [
       "{'DTclassifier__criterion': 'gini', 'DTclassifier__max_features': 'auto'}"
      ]
     },
     "execution_count": 73,
     "metadata": {},
     "output_type": "execute_result"
    }
   ],
   "source": [
    "CV_DT.best_params_"
   ]
  },
  {
   "cell_type": "code",
   "execution_count": 74,
   "id": "991ef6b3-3ef1-4d17-b4bf-5e0ef65ab856",
   "metadata": {},
   "outputs": [],
   "source": [
    "TunedDT = Pipeline(steps=[(\"preprocess\", preprocessor), (\"DTclassifier\", DecisionTreeClassifier(max_depth=None, min_samples_split=2,criterion='gini',max_features='auto',random_state=0))])"
   ]
  },
  {
   "cell_type": "code",
   "execution_count": 75,
   "id": "2afe5302-8304-4ac8-84ea-2c8d249a9d8c",
   "metadata": {},
   "outputs": [
    {
     "name": "stdout",
     "output_type": "stream",
     "text": [
      "The model score for a DecisionTreeClassifier: 0.991\n",
      "CPU times: user 3.04 s, sys: 176 ms, total: 3.21 s\n",
      "Wall time: 3.21 s\n"
     ]
    }
   ],
   "source": [
    "%%time\n",
    "TunedDT.fit(X_train, y_train)\n",
    "print(\"The model score for a DecisionTreeClassifier: %.3f\" % TunedDT.score(X_test, y_test))\n",
    "testPredictions=TunedDT.predict(X_test)"
   ]
  },
  {
   "cell_type": "code",
   "execution_count": 76,
   "id": "8896afa8-95b0-4e45-ba7c-0424ee9140e8",
   "metadata": {},
   "outputs": [
    {
     "name": "stdout",
     "output_type": "stream",
     "text": [
      "There are 119065 true negatives\n",
      "There are 6298 true positives\n",
      "There are 803 false negatives\n",
      "There are 316 false positives\n",
      "The precision is 0.9522225582098579\n",
      "The recall is 0.8869173355865371\n",
      "The fscore is 0.9184104994531536\n",
      "The Matthews correlation coefficient is 0.9143841723115039\n"
     ]
    }
   ],
   "source": [
    "from sklearn.metrics import confusion_matrix\n",
    "from sklearn.metrics import precision_recall_fscore_support\n",
    "from sklearn.metrics import matthews_corrcoef\n",
    "tn, fp, fn, tp = confusion_matrix(y_test, testPredictions).ravel()\n",
    "precision,recall,fscore,support = precision_recall_fscore_support(y_test, testPredictions, average='binary')\n",
    "MCC = matthews_corrcoef(y_test, testPredictions)\n",
    "print(\"There are \"+str(tn)+ \" true negatives\")\n",
    "print(\"There are \"+str(tp)+ \" true positives\")\n",
    "print(\"There are \"+str(fn)+ \" false negatives\")\n",
    "print(\"There are \"+str(fp)+ \" false positives\")\n",
    "print(\"The precision is \"+str(precision))\n",
    "print(\"The recall is \"+str(recall))\n",
    "print(\"The fscore is \"+str(fscore))\n",
    "print(\"The Matthews correlation coefficient is \"+str(MCC))"
   ]
  },
  {
   "cell_type": "markdown",
   "id": "555184a2-fdba-453c-9395-53df2c5992f2",
   "metadata": {},
   "source": [
    "So the DecisionTreeClassifier gives as good results as the other trees, we probably wont use it as there are fewer parameters to tune for the final model but it gives a good baseline. Next Random Forest"
   ]
  },
  {
   "cell_type": "code",
   "execution_count": 22,
   "id": "472a269e-b9e4-4f4c-a051-72d2b247b32d",
   "metadata": {},
   "outputs": [],
   "source": [
    "\n",
    "RF = Pipeline(steps=[(\"preprocess\", preprocessor), (\"RFclassifier\", RandomForestClassifier(random_state=0))])"
   ]
  },
  {
   "cell_type": "markdown",
   "id": "bbf59da8-87b8-47a8-8e6a-5e6fb580fa46",
   "metadata": {},
   "source": [
    "I just look at the max features here, the n_estimators would be good to test, but it is timecomsuming running multiple iterations over the default value of 100. My reading suggests the higher the value the better, so I will tune this on the final model.\n",
    "https://www.analyticsvidhya.com/blog/2015/06/tuning-random-forest-model/#:~:text=n_estimators%20%3A,but%20makes%20your%20code%20slower."
   ]
  },
  {
   "cell_type": "code",
   "execution_count": 89,
   "id": "68432b04-7111-4de3-8c69-2fedf4902fc2",
   "metadata": {},
   "outputs": [],
   "source": [
    "param_grid = { \n",
    "    'RFclassifier__max_features' :['auto', 'sqrt', 'log2']\n",
    "}\n"
   ]
  },
  {
   "cell_type": "code",
   "execution_count": 90,
   "id": "22d9a280-73d2-4a74-ac9d-748eabe8a922",
   "metadata": {},
   "outputs": [
    {
     "name": "stdout",
     "output_type": "stream",
     "text": [
      "CPU times: user 2min 24s, sys: 2.02 s, total: 2min 26s\n",
      "Wall time: 9min 56s\n"
     ]
    },
    {
     "data": {
      "text/plain": [
       "GridSearchCV(cv=5,\n",
       "             estimator=Pipeline(steps=[('preprocess',\n",
       "                                        ColumnTransformer(transformers=[('cat',\n",
       "                                                                         OneHotEncoder(handle_unknown='ignore'),\n",
       "                                                                         ['wlan_tag_length',\n",
       "                                                                          'wlan_country_info_fnm',\n",
       "                                                                          'wlan_da',\n",
       "                                                                          'wlan_sa',\n",
       "                                                                          'wlan_bssid',\n",
       "                                                                          'ip_src',\n",
       "                                                                          'ip_dst',\n",
       "                                                                          'http_host',\n",
       "                                                                          'http_request_line',\n",
       "                                                                          'http_request_method',\n",
       "                                                                          'http_request_version',\n",
       "                                                                          'ssdp',\n",
       "                                                                          'http_request_full_uri'])])),\n",
       "                                       ('RFclassifier',\n",
       "                                        RandomForestClassifier(random_state=0))]),\n",
       "             n_jobs=-1,\n",
       "             param_grid={'RFclassifier__max_features': ['auto', 'sqrt',\n",
       "                                                        'log2']})"
      ]
     },
     "execution_count": 90,
     "metadata": {},
     "output_type": "execute_result"
    }
   ],
   "source": [
    "%%time\n",
    "CV_RF = GridSearchCV(estimator=RF, param_grid=param_grid, cv= 5,n_jobs=-1)\n",
    "CV_RF.fit(X_train, y_train)"
   ]
  },
  {
   "cell_type": "code",
   "execution_count": 91,
   "id": "b60a945b-dd8a-405b-afd2-5d7d34f906c3",
   "metadata": {},
   "outputs": [
    {
     "data": {
      "text/plain": [
       "{'RFclassifier__max_features': 'log2'}"
      ]
     },
     "execution_count": 91,
     "metadata": {},
     "output_type": "execute_result"
    }
   ],
   "source": [
    "CV_RF.best_params_"
   ]
  },
  {
   "cell_type": "code",
   "execution_count": 92,
   "id": "69cd61e4-f029-43cf-87c0-878c761938ef",
   "metadata": {},
   "outputs": [],
   "source": [
    "TunedRF = Pipeline(steps=[(\"preprocess\", preprocessor), (\"RFclassifier\", RandomForestClassifier(max_depth=None, min_samples_split=2,max_features='log2',criterion='gini',n_estimators=100,random_state=0))])"
   ]
  },
  {
   "cell_type": "code",
   "execution_count": 93,
   "id": "de41507b-818b-4dfa-831b-13db5b8412dc",
   "metadata": {},
   "outputs": [
    {
     "name": "stdout",
     "output_type": "stream",
     "text": [
      "The model score for a RandomForestClassifier: 0.991\n",
      "CPU times: user 2min 31s, sys: 59 ms, total: 2min 31s\n",
      "Wall time: 2min 31s\n"
     ]
    }
   ],
   "source": [
    "%%time\n",
    "TunedRF.fit(X_train, y_train)\n",
    "print(\"The model score for a RandomForestClassifier: %.3f\" % TunedRF.score(X_test, y_test))\n",
    "testPredictions=TunedRF.predict(X_test)"
   ]
  },
  {
   "cell_type": "code",
   "execution_count": 94,
   "id": "66f84d38-4f06-42a5-9ee8-e2e2d77a421e",
   "metadata": {},
   "outputs": [
    {
     "name": "stdout",
     "output_type": "stream",
     "text": [
      "There are 119075 true negatives\n",
      "There are 6299 true positives\n",
      "There are 802 false negatives\n",
      "There are 306 false positives\n",
      "The precision is 0.953671461014383\n",
      "The recall is 0.8870581608224194\n",
      "The fscore is 0.9191594921932\n",
      "The Matthews correlation coefficient is 0.9152049719746969\n"
     ]
    }
   ],
   "source": [
    "from sklearn.metrics import confusion_matrix\n",
    "from sklearn.metrics import precision_recall_fscore_support\n",
    "from sklearn.metrics import matthews_corrcoef\n",
    "tn, fp, fn, tp = confusion_matrix(y_test, testPredictions).ravel()\n",
    "precision,recall,fscore,support = precision_recall_fscore_support(y_test, testPredictions, average='binary')\n",
    "MCC = matthews_corrcoef(y_test, testPredictions)\n",
    "print(\"There are \"+str(tn)+ \" true negatives\")\n",
    "print(\"There are \"+str(tp)+ \" true positives\")\n",
    "print(\"There are \"+str(fn)+ \" false negatives\")\n",
    "print(\"There are \"+str(fp)+ \" false positives\")\n",
    "print(\"The precision is \"+str(precision))\n",
    "print(\"The recall is \"+str(recall))\n",
    "print(\"The fscore is \"+str(fscore))\n",
    "print(\"The Matthews correlation coefficient is \"+str(MCC))"
   ]
  },
  {
   "cell_type": "markdown",
   "id": "ee944782-9de0-4014-a58b-21645c6faa94",
   "metadata": {},
   "source": [
    "We get a slightly better performance, but with more estimators we should be able to improve further\n",
    "The Extra trees is similar for the random forest so we won't cross validate"
   ]
  },
  {
   "cell_type": "code",
   "execution_count": 97,
   "id": "fa94f976-0193-4764-8db3-ffd886031295",
   "metadata": {},
   "outputs": [],
   "source": [
    "TunedET = Pipeline(steps=[(\"preprocess\", preprocessor), (\"ETclassifier\", ExtraTreesClassifier(max_depth=None, min_samples_split=2,max_features='log2',criterion='gini',n_estimators=100,random_state=0))])"
   ]
  },
  {
   "cell_type": "code",
   "execution_count": 98,
   "id": "1b5d6509-314b-40aa-bcc3-795b5d99b2f1",
   "metadata": {},
   "outputs": [
    {
     "name": "stdout",
     "output_type": "stream",
     "text": [
      "The model score for a ExtraTreesClassifier: 0.991\n",
      "CPU times: user 2min 41s, sys: 56.2 ms, total: 2min 41s\n",
      "Wall time: 2min 41s\n"
     ]
    }
   ],
   "source": [
    "%%time\n",
    "TunedET.fit(X_train, y_train)\n",
    "print(\"The model score for a ExtraTreesClassifier: %.3f\" % TunedET.score(X_test, y_test))\n",
    "testPredictions=TunedET.predict(X_test)"
   ]
  },
  {
   "cell_type": "code",
   "execution_count": 99,
   "id": "00028fd1-32c9-4206-97fd-556236834b85",
   "metadata": {},
   "outputs": [
    {
     "name": "stdout",
     "output_type": "stream",
     "text": [
      "There are 119075 true negatives\n",
      "There are 6296 true positives\n",
      "There are 805 false negatives\n",
      "There are 306 false positives\n",
      "The precision is 0.9536504089669797\n",
      "The recall is 0.8866356851147725\n",
      "The fscore is 0.9189228636065094\n",
      "The Matthews correlation coefficient is 0.9149641942105532\n"
     ]
    }
   ],
   "source": [
    "tn, fp, fn, tp = confusion_matrix(y_test, testPredictions).ravel()\n",
    "precision,recall,fscore,support = precision_recall_fscore_support(y_test, testPredictions, average='binary')\n",
    "MCC = matthews_corrcoef(y_test, testPredictions)\n",
    "print(\"There are \"+str(tn)+ \" true negatives\")\n",
    "print(\"There are \"+str(tp)+ \" true positives\")\n",
    "print(\"There are \"+str(fn)+ \" false negatives\")\n",
    "print(\"There are \"+str(fp)+ \" false positives\")\n",
    "print(\"The precision is \"+str(precision))\n",
    "print(\"The recall is \"+str(recall))\n",
    "print(\"The fscore is \"+str(fscore))\n",
    "print(\"The Matthews correlation coefficient is \"+str(MCC))"
   ]
  },
  {
   "cell_type": "markdown",
   "id": "af658c97-bc6d-4d01-b46d-60271fdc759a",
   "metadata": {},
   "source": [
    "so the results are almost the same, looks like three scores TP to FN. Next we move onto the boosted Trees. The GBT gave me my best results in pyspark, but with a massive run time. \n",
    "\n",
    "We then have two boosting methods Adaboost and Gradient boosted trees which produced excellent results in a very long time in Pyspark\n",
    "https://scikit-learn.org/stable/modules/generated/sklearn.ensemble.AdaBoostClassifier.html#sklearn.ensemble.AdaBoostClassifier\n",
    "https://scikit-learn.org/stable/modules/generated/sklearn.ensemble.GradientBoostingClassifier.html#sklearn.ensemble.GradientBoostingClassifier\n",
    "there is another that sounds good for my data, gradient boosted trees for larger datasets, but it did not work on my data as it is fairly new implementationand does not work on a sparse matrix.\n",
    "https://scikit-learn.org/stable/modules/generated/sklearn.ensemble.HistGradientBoostingClassifier.html#sklearn.ensemble.HistGradientBoostingClassifier\n",
    "First we look at adaboost. I will set the n_estimators to 100, so it is the same as the RF examples and we will adjust the learning rate and the Max Features in the CV"
   ]
  },
  {
   "cell_type": "code",
   "execution_count": 150,
   "id": "56a9585e-f68f-4ce5-9543-551e3340b702",
   "metadata": {
    "tags": []
   },
   "outputs": [],
   "source": [
    "\n",
    "AB = Pipeline(steps=[(\"preprocess\", preprocessor), (\"ABclassifier\", AdaBoostClassifier(random_state=0))])"
   ]
  },
  {
   "cell_type": "markdown",
   "id": "59ba8d78-98ed-48c5-99fd-5d7c1f8bad4f",
   "metadata": {},
   "source": [
    "So with the Adaboost we will look at the learning rate and max features, the documentation says there is a trade of with learning rate and number of estimators. "
   ]
  },
  {
   "cell_type": "code",
   "execution_count": 151,
   "id": "6c4b302d-5b5f-4ac9-8236-4339a8d9451f",
   "metadata": {},
   "outputs": [],
   "source": [
    "param_grid = { \n",
    "    'ABclassifier__learning_rate' :[0.001,0.1,1]\n",
    "}\n"
   ]
  },
  {
   "cell_type": "code",
   "execution_count": 152,
   "id": "45f9add0-7bfa-41a1-8b45-d70f0beb5b8b",
   "metadata": {},
   "outputs": [
    {
     "name": "stdout",
     "output_type": "stream",
     "text": [
      "CPU times: user 27.9 s, sys: 2.82 s, total: 30.7 s\n",
      "Wall time: 2min 53s\n"
     ]
    },
    {
     "data": {
      "text/plain": [
       "GridSearchCV(cv=5,\n",
       "             estimator=Pipeline(steps=[('preprocess',\n",
       "                                        ColumnTransformer(transformers=[('cat',\n",
       "                                                                         OneHotEncoder(handle_unknown='ignore'),\n",
       "                                                                         ['wlan_tag_length',\n",
       "                                                                          'wlan_country_info_fnm',\n",
       "                                                                          'wlan_da',\n",
       "                                                                          'wlan_sa',\n",
       "                                                                          'wlan_bssid',\n",
       "                                                                          'ip_src',\n",
       "                                                                          'ip_dst',\n",
       "                                                                          'http_host',\n",
       "                                                                          'http_request_line',\n",
       "                                                                          'http_request_method',\n",
       "                                                                          'http_request_version',\n",
       "                                                                          'ssdp',\n",
       "                                                                          'http_request_full_uri'])])),\n",
       "                                       ('ABclassifier',\n",
       "                                        AdaBoostClassifier(random_state=0))]),\n",
       "             n_jobs=-1,\n",
       "             param_grid={'ABclassifier__learning_rate': [0.001, 0.1, 1]})"
      ]
     },
     "execution_count": 152,
     "metadata": {},
     "output_type": "execute_result"
    }
   ],
   "source": [
    "%%time\n",
    "CV_AB = GridSearchCV(estimator=AB, param_grid=param_grid, cv= 5,n_jobs=-1)\n",
    "CV_AB.fit(X_train, y_train)"
   ]
  },
  {
   "cell_type": "code",
   "execution_count": 153,
   "id": "17ca7050-496d-4417-81e4-c2f91ccb0345",
   "metadata": {},
   "outputs": [
    {
     "data": {
      "text/plain": [
       "{'ABclassifier__learning_rate': 1}"
      ]
     },
     "execution_count": 153,
     "metadata": {},
     "output_type": "execute_result"
    }
   ],
   "source": [
    "CV_AB.best_params_"
   ]
  },
  {
   "cell_type": "code",
   "execution_count": 157,
   "id": "2dc42238-c281-401a-bc0d-7b9c8006b6e8",
   "metadata": {},
   "outputs": [],
   "source": [
    "TunedAB = Pipeline(steps=[(\"preprocess\", preprocessor), (\"ABclassifier\", AdaBoostClassifier(n_estimators=100,learning_rate=1,random_state=0))])"
   ]
  },
  {
   "cell_type": "code",
   "execution_count": 158,
   "id": "84a0dd74-6d42-43d5-abde-d4dfbc450a55",
   "metadata": {},
   "outputs": [
    {
     "name": "stdout",
     "output_type": "stream",
     "text": [
      "The model score for a AdaBoostClassifier: 0.986\n",
      "CPU times: user 49.2 s, sys: 1.37 s, total: 50.6 s\n",
      "Wall time: 50.6 s\n"
     ]
    }
   ],
   "source": [
    "%%time\n",
    "TunedAB.fit(X_train, y_train)\n",
    "print(\"The model score for a AdaBoostClassifier: %.3f\" % TunedAB.score(X_test, y_test))\n",
    "testPredictions=TunedAB.predict(X_test)"
   ]
  },
  {
   "cell_type": "code",
   "execution_count": 159,
   "id": "5f074fa5-e56d-4307-ac42-977618e4733c",
   "metadata": {},
   "outputs": [
    {
     "name": "stdout",
     "output_type": "stream",
     "text": [
      "There are 118694 true negatives\n",
      "There are 6002 true positives\n",
      "There are 1099 false negatives\n",
      "There are 687 false positives\n",
      "The precision is 0.8972940648826432\n",
      "The recall is 0.8452330657653851\n",
      "The fscore is 0.8704858593183465\n",
      "The Matthews correlation coefficient is 0.8634566932345586\n"
     ]
    }
   ],
   "source": [
    "from sklearn.metrics import confusion_matrix\n",
    "from sklearn.metrics import precision_recall_fscore_support\n",
    "from sklearn.metrics import matthews_corrcoef\n",
    "tn, fp, fn, tp = confusion_matrix(y_test, testPredictions).ravel()\n",
    "precision,recall,fscore,support = precision_recall_fscore_support(y_test, testPredictions, average='binary')\n",
    "MCC = matthews_corrcoef(y_test, testPredictions)\n",
    "print(\"There are \"+str(tn)+ \" true negatives\")\n",
    "print(\"There are \"+str(tp)+ \" true positives\")\n",
    "print(\"There are \"+str(fn)+ \" false negatives\")\n",
    "print(\"There are \"+str(fp)+ \" false positives\")\n",
    "print(\"The precision is \"+str(precision))\n",
    "print(\"The recall is \"+str(recall))\n",
    "print(\"The fscore is \"+str(fscore))\n",
    "print(\"The Matthews correlation coefficient is \"+str(MCC))"
   ]
  },
  {
   "cell_type": "markdown",
   "id": "275069e4-8794-4e08-beb4-fb42b376ef00",
   "metadata": {},
   "source": [
    "So Adaboost has given worse results,Next we can try the Gradient boosted Trees"
   ]
  },
  {
   "cell_type": "code",
   "execution_count": 164,
   "id": "b3fe78ee-bc00-445f-b744-60a6fee14b28",
   "metadata": {
    "tags": []
   },
   "outputs": [],
   "source": [
    "\n",
    "GB = Pipeline(steps=[(\"preprocess\", preprocessor), (\"GBclassifier\", GradientBoostingClassifier(random_state=0))])"
   ]
  },
  {
   "cell_type": "markdown",
   "id": "39ef296e-3468-48e1-93ce-3c505ee577c0",
   "metadata": {},
   "source": [
    "So with the Gradient Boosts we will look at the learning rate and max depth, while AB default is 1, it is 0.1 for GB and for the RF algorthims the default max depth is None it is 3 for GB"
   ]
  },
  {
   "cell_type": "code",
   "execution_count": 165,
   "id": "7e625ebc-ef6d-409f-92ae-e7a97697d3ac",
   "metadata": {},
   "outputs": [],
   "source": [
    "param_grid = { \n",
    "    'GBclassifier__learning_rate' :[0.01,0.1,1],\n",
    "    'GBclassifier__max_depth' :[3,9]\n",
    "}\n"
   ]
  },
  {
   "cell_type": "code",
   "execution_count": 166,
   "id": "7fa8da40-2f6a-4c79-8fcd-0536bcc1c9d3",
   "metadata": {},
   "outputs": [
    {
     "name": "stdout",
     "output_type": "stream",
     "text": [
      "CPU times: user 3min 31s, sys: 2.93 s, total: 3min 34s\n",
      "Wall time: 29min 38s\n"
     ]
    },
    {
     "data": {
      "text/plain": [
       "GridSearchCV(cv=5,\n",
       "             estimator=Pipeline(steps=[('preprocess',\n",
       "                                        ColumnTransformer(transformers=[('cat',\n",
       "                                                                         OneHotEncoder(handle_unknown='ignore'),\n",
       "                                                                         ['wlan_tag_length',\n",
       "                                                                          'wlan_country_info_fnm',\n",
       "                                                                          'wlan_da',\n",
       "                                                                          'wlan_sa',\n",
       "                                                                          'wlan_bssid',\n",
       "                                                                          'ip_src',\n",
       "                                                                          'ip_dst',\n",
       "                                                                          'http_host',\n",
       "                                                                          'http_request_line',\n",
       "                                                                          'http_request_method',\n",
       "                                                                          'http_request_version',\n",
       "                                                                          'ssdp',\n",
       "                                                                          'http_request_full_uri'])])),\n",
       "                                       ('GBclassifier',\n",
       "                                        GradientBoostingClassifier(random_state=0))]),\n",
       "             n_jobs=6,\n",
       "             param_grid={'GBclassifier__learning_rate': [0.01, 0.1, 1],\n",
       "                         'GBclassifier__max_depth': [3, 9]})"
      ]
     },
     "execution_count": 166,
     "metadata": {},
     "output_type": "execute_result"
    }
   ],
   "source": [
    "%%time\n",
    "CV_GB = GridSearchCV(estimator=GB, param_grid=param_grid, cv= 5,n_jobs=6)\n",
    "CV_GB.fit(X_train, y_train)"
   ]
  },
  {
   "cell_type": "code",
   "execution_count": 167,
   "id": "a837550b-8782-45ce-b89d-5bf8d2df841f",
   "metadata": {},
   "outputs": [
    {
     "data": {
      "text/plain": [
       "{'GBclassifier__learning_rate': 0.1, 'GBclassifier__max_depth': 9}"
      ]
     },
     "execution_count": 167,
     "metadata": {},
     "output_type": "execute_result"
    }
   ],
   "source": [
    "CV_GB.best_params_"
   ]
  },
  {
   "cell_type": "code",
   "execution_count": 168,
   "id": "104797f5-4578-47f3-9dd8-9677660e7b70",
   "metadata": {},
   "outputs": [],
   "source": [
    "TunedGB = Pipeline(steps=[(\"preprocess\", preprocessor), (\"GBclassifier\", GradientBoostingClassifier(n_estimators=100,learning_rate=0.1,max_depth=9,random_state=0))])"
   ]
  },
  {
   "cell_type": "code",
   "execution_count": 169,
   "id": "10cd86b6-1e01-4805-88fb-10bc00b09de5",
   "metadata": {},
   "outputs": [
    {
     "name": "stdout",
     "output_type": "stream",
     "text": [
      "The model score for a GradientBoostingClassifier: 0.991\n",
      "CPU times: user 3min 21s, sys: 1.63 s, total: 3min 23s\n",
      "Wall time: 3min 23s\n"
     ]
    }
   ],
   "source": [
    "%%time\n",
    "TunedGB.fit(X_train, y_train)\n",
    "print(\"The model score for a GradientBoostingClassifier: %.3f\" % TunedGB.score(X_test, y_test))\n",
    "testPredictions=TunedGB.predict(X_test)"
   ]
  },
  {
   "cell_type": "code",
   "execution_count": 170,
   "id": "70115fac-7e58-4d91-9b31-5b39c0c3c681",
   "metadata": {},
   "outputs": [
    {
     "name": "stdout",
     "output_type": "stream",
     "text": [
      "There are 119083 true negatives\n",
      "There are 6256 true positives\n",
      "There are 845 false negatives\n",
      "There are 298 false positives\n",
      "The precision is 0.9545315837656393\n",
      "The recall is 0.8810026756794818\n",
      "The fscore is 0.9162943976565361\n",
      "The Matthews correlation coefficient is 0.9123444003141361\n"
     ]
    }
   ],
   "source": [
    "from sklearn.metrics import confusion_matrix\n",
    "from sklearn.metrics import precision_recall_fscore_support\n",
    "from sklearn.metrics import matthews_corrcoef\n",
    "tn, fp, fn, tp = confusion_matrix(y_test, testPredictions).ravel()\n",
    "precision,recall,fscore,support = precision_recall_fscore_support(y_test, testPredictions, average='binary')\n",
    "MCC = matthews_corrcoef(y_test, testPredictions)\n",
    "print(\"There are \"+str(tn)+ \" true negatives\")\n",
    "print(\"There are \"+str(tp)+ \" true positives\")\n",
    "print(\"There are \"+str(fn)+ \" false negatives\")\n",
    "print(\"There are \"+str(fp)+ \" false positives\")\n",
    "print(\"The precision is \"+str(precision))\n",
    "print(\"The recall is \"+str(recall))\n",
    "print(\"The fscore is \"+str(fscore))\n",
    "print(\"The Matthews correlation coefficient is \"+str(MCC))"
   ]
  },
  {
   "cell_type": "markdown",
   "id": "66c6d4ba-3a02-4a63-9a99-5b2de7294a3d",
   "metadata": {},
   "source": [
    "so we have slightly worse results for the Gradient Boosted Trees, we know from pyspark it is possible to get better results than, this but the overall conclusion is that that the trees all give similar performance on my subsample. "
   ]
  },
  {
   "cell_type": "code",
   "execution_count": 1,
   "id": "8601fa3b-2ba3-4126-81d4-55a846649caf",
   "metadata": {},
   "outputs": [],
   "source": []
  },
  {
   "cell_type": "code",
   "execution_count": null,
   "id": "e1fcbd0b-bc0e-44ae-868d-faaed131ab64",
   "metadata": {},
   "outputs": [],
   "source": []
  },
  {
   "cell_type": "code",
   "execution_count": null,
   "id": "c40737e8-f2e1-40d6-a65b-b9a1a659f447",
   "metadata": {},
   "outputs": [],
   "source": []
  }
 ],
 "metadata": {
  "kernelspec": {
   "display_name": "Python 3 (ipykernel)",
   "language": "python",
   "name": "python3"
  },
  "language_info": {
   "codemirror_mode": {
    "name": "ipython",
    "version": 3
   },
   "file_extension": ".py",
   "mimetype": "text/x-python",
   "name": "python",
   "nbconvert_exporter": "python",
   "pygments_lexer": "ipython3",
   "version": "3.9.12"
  }
 },
 "nbformat": 4,
 "nbformat_minor": 5
}
