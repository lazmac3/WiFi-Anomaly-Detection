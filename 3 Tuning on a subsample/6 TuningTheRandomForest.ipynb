{
 "cells": [
  {
   "cell_type": "code",
   "execution_count": 1,
   "id": "23194e65-93fd-4bd4-92cf-f6b78284508e",
   "metadata": {},
   "outputs": [
    {
     "name": "stdout",
     "output_type": "stream",
     "text": [
      "Hello World\n"
     ]
    }
   ],
   "source": [
    "print(\"Hello World\")"
   ]
  },
  {
   "cell_type": "code",
   "execution_count": 2,
   "id": "7fe3ba58-37a1-47eb-a7bd-3de5aaf44072",
   "metadata": {},
   "outputs": [],
   "source": [
    "readFile=\"Data/parquet/subSampleWholeDataSet\""
   ]
  },
  {
   "cell_type": "markdown",
   "id": "488dcdc3-b6e5-47f7-90c6-4d2ca1edfb7f",
   "metadata": {},
   "source": [
    "Most of my methods have yielded good results and which would most easily be improved by dropping parts of the dataset. The dataset itself is artificial, and there would be more useful things to find than tuning it to gain a couple of percentage points improvment. SKLearn has some new gridfeatures that I wanted to try:\n",
    "https://scikit-learn.org/stable/modules/grid_search.html#randomized-parameter-optimization"
   ]
  },
  {
   "cell_type": "code",
   "execution_count": 3,
   "id": "39c6ce44-ca98-4ebe-ac94-1896fd02bc90",
   "metadata": {
    "tags": []
   },
   "outputs": [],
   "source": [
    "! PYTHONHASHSEED=0\n",
    "import pandas as pd\n",
    "import numpy as np"
   ]
  },
  {
   "cell_type": "code",
   "execution_count": 4,
   "id": "29ac2d44-a4d9-4c09-8e5f-d6372aba6ecc",
   "metadata": {},
   "outputs": [],
   "source": [
    "dataset=pd.read_parquet(readFile, engine='pyarrow')"
   ]
  },
  {
   "cell_type": "code",
   "execution_count": 5,
   "id": "1438066a-6ddd-4468-b417-0f3010512027",
   "metadata": {},
   "outputs": [],
   "source": [
    " from sklearn.preprocessing import LabelEncoder, OneHotEncoder"
   ]
  },
  {
   "cell_type": "markdown",
   "id": "0e09d7e9-34af-4ad2-a6d2-72c51c618ecf",
   "metadata": {},
   "source": [
    "We will use the slightly extended number of features"
   ]
  },
  {
   "cell_type": "code",
   "execution_count": 6,
   "id": "9cc07fe5-74c9-4d32-b07c-53b637facaa3",
   "metadata": {},
   "outputs": [],
   "source": [
    "categoricalCols = [\n",
    "    \"wlan_tag_length\",\n",
    "    \"wlan_country_info_fnm\",\n",
    "    \"wlan_da\",\n",
    "    \"wlan_sa\",\n",
    "    \"wlan_bssid\",\n",
    "    \"ip_src\",\n",
    "    \"ip_dst\",\n",
    "    \"http_host\",\n",
    "    \"http_request_line\",\n",
    "    \"http_request_method\",\n",
    "    \"http_request_version\",\n",
    "    \"ssdp\",\n",
    "    \"http_request_full_uri\"\n",
    "]\n"
   ]
  },
  {
   "cell_type": "code",
   "execution_count": 7,
   "id": "1dc988cd-9882-40cc-9c95-a26a56fec0f8",
   "metadata": {},
   "outputs": [],
   "source": [
    "numericCols=[\n",
    "    \"wlan_fixed_reason_code\",\n",
    "    \"radiotap_channel_freq\",\n",
    "    \"udp_length\",\n",
    "    \"ip_ttl\",\n",
    "    \"udp_dstport\",\n",
    "    \"udp_time_delta\"\n",
    "]"
   ]
  },
  {
   "cell_type": "code",
   "execution_count": 8,
   "id": "fdc2472e-99b3-4160-8b63-b50d111afb66",
   "metadata": {},
   "outputs": [
    {
     "data": {
      "text/html": [
       "<div>\n",
       "<style scoped>\n",
       "    .dataframe tbody tr th:only-of-type {\n",
       "        vertical-align: middle;\n",
       "    }\n",
       "\n",
       "    .dataframe tbody tr th {\n",
       "        vertical-align: top;\n",
       "    }\n",
       "\n",
       "    .dataframe thead th {\n",
       "        text-align: right;\n",
       "    }\n",
       "</style>\n",
       "<table border=\"1\" class=\"dataframe\">\n",
       "  <thead>\n",
       "    <tr style=\"text-align: right;\">\n",
       "      <th></th>\n",
       "      <th>wlan_tag_length</th>\n",
       "      <th>wlan_country_info_fnm</th>\n",
       "      <th>wlan_da</th>\n",
       "      <th>wlan_sa</th>\n",
       "      <th>wlan_bssid</th>\n",
       "      <th>ip_src</th>\n",
       "      <th>ip_dst</th>\n",
       "      <th>http_host</th>\n",
       "      <th>http_request_line</th>\n",
       "      <th>http_request_method</th>\n",
       "      <th>http_request_version</th>\n",
       "      <th>ssdp</th>\n",
       "      <th>http_request_full_uri</th>\n",
       "    </tr>\n",
       "  </thead>\n",
       "  <tbody>\n",
       "    <tr>\n",
       "      <th>0</th>\n",
       "      <td>NA</td>\n",
       "      <td>NA</td>\n",
       "      <td>NA</td>\n",
       "      <td>NA</td>\n",
       "      <td>NA</td>\n",
       "      <td>NA</td>\n",
       "      <td>NA</td>\n",
       "      <td>NA</td>\n",
       "      <td>NA</td>\n",
       "      <td>NA</td>\n",
       "      <td>NA</td>\n",
       "      <td>NA</td>\n",
       "      <td>NA</td>\n",
       "    </tr>\n",
       "    <tr>\n",
       "      <th>1</th>\n",
       "      <td>NA</td>\n",
       "      <td>NA</td>\n",
       "      <td>NA</td>\n",
       "      <td>NA</td>\n",
       "      <td>NA</td>\n",
       "      <td>NA</td>\n",
       "      <td>NA</td>\n",
       "      <td>NA</td>\n",
       "      <td>NA</td>\n",
       "      <td>NA</td>\n",
       "      <td>NA</td>\n",
       "      <td>NA</td>\n",
       "      <td>NA</td>\n",
       "    </tr>\n",
       "    <tr>\n",
       "      <th>2</th>\n",
       "      <td>NA</td>\n",
       "      <td>NA</td>\n",
       "      <td>NA</td>\n",
       "      <td>NA</td>\n",
       "      <td>NA</td>\n",
       "      <td>NA</td>\n",
       "      <td>NA</td>\n",
       "      <td>NA</td>\n",
       "      <td>NA</td>\n",
       "      <td>NA</td>\n",
       "      <td>NA</td>\n",
       "      <td>NA</td>\n",
       "      <td>NA</td>\n",
       "    </tr>\n",
       "    <tr>\n",
       "      <th>3</th>\n",
       "      <td>NA</td>\n",
       "      <td>NA</td>\n",
       "      <td>50:3e:aa:e4:01:93</td>\n",
       "      <td>00:0c:29:cf:08:aa</td>\n",
       "      <td>0c:9d:92:54:fe:34</td>\n",
       "      <td>192.168.2.130</td>\n",
       "      <td>192.168.2.73</td>\n",
       "      <td>NA</td>\n",
       "      <td>NA</td>\n",
       "      <td>NA</td>\n",
       "      <td>NA</td>\n",
       "      <td>NA</td>\n",
       "      <td>NA</td>\n",
       "    </tr>\n",
       "    <tr>\n",
       "      <th>4</th>\n",
       "      <td>NA</td>\n",
       "      <td>NA</td>\n",
       "      <td>50:3e:aa:e4:01:93</td>\n",
       "      <td>00:0c:29:cf:08:aa</td>\n",
       "      <td>0c:9d:92:54:fe:34</td>\n",
       "      <td>192.168.2.130</td>\n",
       "      <td>192.168.2.73</td>\n",
       "      <td>NA</td>\n",
       "      <td>NA</td>\n",
       "      <td>NA</td>\n",
       "      <td>NA</td>\n",
       "      <td>NA</td>\n",
       "      <td>NA</td>\n",
       "    </tr>\n",
       "    <tr>\n",
       "      <th>...</th>\n",
       "      <td>...</td>\n",
       "      <td>...</td>\n",
       "      <td>...</td>\n",
       "      <td>...</td>\n",
       "      <td>...</td>\n",
       "      <td>...</td>\n",
       "      <td>...</td>\n",
       "      <td>...</td>\n",
       "      <td>...</td>\n",
       "      <td>...</td>\n",
       "      <td>...</td>\n",
       "      <td>...</td>\n",
       "      <td>...</td>\n",
       "    </tr>\n",
       "    <tr>\n",
       "      <th>632402</th>\n",
       "      <td>NA</td>\n",
       "      <td>NA</td>\n",
       "      <td>NA</td>\n",
       "      <td>NA</td>\n",
       "      <td>NA</td>\n",
       "      <td>NA</td>\n",
       "      <td>NA</td>\n",
       "      <td>NA</td>\n",
       "      <td>NA</td>\n",
       "      <td>NA</td>\n",
       "      <td>NA</td>\n",
       "      <td>NA</td>\n",
       "      <td>NA</td>\n",
       "    </tr>\n",
       "    <tr>\n",
       "      <th>632403</th>\n",
       "      <td>NA</td>\n",
       "      <td>NA</td>\n",
       "      <td>NA</td>\n",
       "      <td>NA</td>\n",
       "      <td>NA</td>\n",
       "      <td>NA</td>\n",
       "      <td>NA</td>\n",
       "      <td>NA</td>\n",
       "      <td>NA</td>\n",
       "      <td>NA</td>\n",
       "      <td>NA</td>\n",
       "      <td>NA</td>\n",
       "      <td>NA</td>\n",
       "    </tr>\n",
       "    <tr>\n",
       "      <th>632404</th>\n",
       "      <td>NA</td>\n",
       "      <td>NA</td>\n",
       "      <td>NA</td>\n",
       "      <td>NA</td>\n",
       "      <td>NA</td>\n",
       "      <td>NA</td>\n",
       "      <td>NA</td>\n",
       "      <td>NA</td>\n",
       "      <td>NA</td>\n",
       "      <td>NA</td>\n",
       "      <td>NA</td>\n",
       "      <td>NA</td>\n",
       "      <td>NA</td>\n",
       "    </tr>\n",
       "    <tr>\n",
       "      <th>632405</th>\n",
       "      <td>NA</td>\n",
       "      <td>NA</td>\n",
       "      <td>NA</td>\n",
       "      <td>NA</td>\n",
       "      <td>NA</td>\n",
       "      <td>NA</td>\n",
       "      <td>NA</td>\n",
       "      <td>NA</td>\n",
       "      <td>NA</td>\n",
       "      <td>NA</td>\n",
       "      <td>NA</td>\n",
       "      <td>NA</td>\n",
       "      <td>NA</td>\n",
       "    </tr>\n",
       "    <tr>\n",
       "      <th>632406</th>\n",
       "      <td>NA</td>\n",
       "      <td>NA</td>\n",
       "      <td>NA</td>\n",
       "      <td>NA</td>\n",
       "      <td>NA</td>\n",
       "      <td>NA</td>\n",
       "      <td>NA</td>\n",
       "      <td>NA</td>\n",
       "      <td>NA</td>\n",
       "      <td>NA</td>\n",
       "      <td>NA</td>\n",
       "      <td>NA</td>\n",
       "      <td>NA</td>\n",
       "    </tr>\n",
       "  </tbody>\n",
       "</table>\n",
       "<p>632407 rows × 13 columns</p>\n",
       "</div>"
      ],
      "text/plain": [
       "       wlan_tag_length wlan_country_info_fnm            wlan_da  \\\n",
       "0                   NA                    NA                 NA   \n",
       "1                   NA                    NA                 NA   \n",
       "2                   NA                    NA                 NA   \n",
       "3                   NA                    NA  50:3e:aa:e4:01:93   \n",
       "4                   NA                    NA  50:3e:aa:e4:01:93   \n",
       "...                ...                   ...                ...   \n",
       "632402              NA                    NA                 NA   \n",
       "632403              NA                    NA                 NA   \n",
       "632404              NA                    NA                 NA   \n",
       "632405              NA                    NA                 NA   \n",
       "632406              NA                    NA                 NA   \n",
       "\n",
       "                  wlan_sa         wlan_bssid         ip_src        ip_dst  \\\n",
       "0                      NA                 NA             NA            NA   \n",
       "1                      NA                 NA             NA            NA   \n",
       "2                      NA                 NA             NA            NA   \n",
       "3       00:0c:29:cf:08:aa  0c:9d:92:54:fe:34  192.168.2.130  192.168.2.73   \n",
       "4       00:0c:29:cf:08:aa  0c:9d:92:54:fe:34  192.168.2.130  192.168.2.73   \n",
       "...                   ...                ...            ...           ...   \n",
       "632402                 NA                 NA             NA            NA   \n",
       "632403                 NA                 NA             NA            NA   \n",
       "632404                 NA                 NA             NA            NA   \n",
       "632405                 NA                 NA             NA            NA   \n",
       "632406                 NA                 NA             NA            NA   \n",
       "\n",
       "       http_host http_request_line http_request_method http_request_version  \\\n",
       "0             NA                NA                  NA                   NA   \n",
       "1             NA                NA                  NA                   NA   \n",
       "2             NA                NA                  NA                   NA   \n",
       "3             NA                NA                  NA                   NA   \n",
       "4             NA                NA                  NA                   NA   \n",
       "...          ...               ...                 ...                  ...   \n",
       "632402        NA                NA                  NA                   NA   \n",
       "632403        NA                NA                  NA                   NA   \n",
       "632404        NA                NA                  NA                   NA   \n",
       "632405        NA                NA                  NA                   NA   \n",
       "632406        NA                NA                  NA                   NA   \n",
       "\n",
       "       ssdp http_request_full_uri  \n",
       "0        NA                    NA  \n",
       "1        NA                    NA  \n",
       "2        NA                    NA  \n",
       "3        NA                    NA  \n",
       "4        NA                    NA  \n",
       "...     ...                   ...  \n",
       "632402   NA                    NA  \n",
       "632403   NA                    NA  \n",
       "632404   NA                    NA  \n",
       "632405   NA                    NA  \n",
       "632406   NA                    NA  \n",
       "\n",
       "[632407 rows x 13 columns]"
      ]
     },
     "execution_count": 8,
     "metadata": {},
     "output_type": "execute_result"
    }
   ],
   "source": [
    "y=dataset['label']\n",
    "x=dataset[categoricalCols+numericCols]\n",
    "x[categoricalCols].astype(\"category\")"
   ]
  },
  {
   "cell_type": "code",
   "execution_count": 9,
   "id": "1f699532-3363-4963-a86c-02c180a14f98",
   "metadata": {},
   "outputs": [],
   "source": [
    "from sklearn.compose import ColumnTransformer\n",
    "from sklearn.preprocessing import OneHotEncoder\n",
    "categorical_transformer = OneHotEncoder(handle_unknown=\"ignore\")\n",
    "from sklearn.preprocessing import FunctionTransformer\n",
    "preprocessor = ColumnTransformer(\n",
    "    transformers=[\n",
    "        (\"cat\", categorical_transformer, categoricalCols)\n",
    "    ]\n",
    ")"
   ]
  },
  {
   "cell_type": "markdown",
   "id": "7bb2c407-c362-40c8-8c0a-e7962896c2c0",
   "metadata": {},
   "source": [
    "We have our pieline set up and now make our test train split."
   ]
  },
  {
   "cell_type": "code",
   "execution_count": 10,
   "id": "07e4720c-68ea-4de0-b546-6c6c969623b5",
   "metadata": {},
   "outputs": [],
   "source": [
    "from sklearn.model_selection import train_test_split, GridSearchCV\n",
    "X_train, X_test, y_train, y_test = train_test_split(x, y, test_size=0.2, random_state=0)\n"
   ]
  },
  {
   "cell_type": "code",
   "execution_count": 46,
   "id": "d76c9df5-d9aa-46f4-bf1d-4d285d7b512c",
   "metadata": {},
   "outputs": [],
   "source": [
    "from sklearn.pipeline import Pipeline\n",
    "from sklearn.ensemble import RandomForestClassifier\n",
    "from sklearn.experimental import enable_halving_search_cv  # noqa\n",
    "from sklearn.model_selection import HalvingGridSearchCV\n"
   ]
  },
  {
   "cell_type": "markdown",
   "id": "555184a2-fdba-453c-9395-53df2c5992f2",
   "metadata": {},
   "source": [
    "So the DecisionTreeClassifier gives as good results as the other trees, we probably wont use it as there are fewer parameters to tune for the final model but it gives a good baseline. Next Random Forest"
   ]
  },
  {
   "cell_type": "code",
   "execution_count": null,
   "id": "472a269e-b9e4-4f4c-a051-72d2b247b32d",
   "metadata": {},
   "outputs": [],
   "source": [
    "\n",
    "base_estimator = Pipeline(steps=[(\"preprocess\", preprocessor), (\"RFclassifier\", RandomForestClassifier(random_state=0))])\n"
   ]
  },
  {
   "cell_type": "code",
   "execution_count": null,
   "id": "68432b04-7111-4de3-8c69-2fedf4902fc2",
   "metadata": {},
   "outputs": [],
   "source": [
    "param_grid = {'RFclassifier__max_features': ['auto', 'log2']}"
   ]
  },
  {
   "cell_type": "code",
   "execution_count": null,
   "id": "dd4bc1f9-9229-4e13-8e50-7e1945bda1b8",
   "metadata": {},
   "outputs": [
    {
     "name": "stderr",
     "output_type": "stream",
     "text": [
      "/opt/conda/lib/python3.9/site-packages/joblib/externals/loky/process_executor.py:702: UserWarning: A worker stopped while some jobs were given to the executor. This can be caused by a too short worker timeout or by a memory leak.\n",
      "  warnings.warn(\n"
     ]
    },
    {
     "name": "stdout",
     "output_type": "stream",
     "text": [
      "CPU times: user 9min 34s, sys: 1.71 s, total: 9min 35s\n",
      "Wall time: 42min 47s\n"
     ]
    }
   ],
   "source": [
    "%%time\n",
    "sh = HalvingGridSearchCV(base_estimator, param_grid, cv=3,\n",
    "    factor=2, resource='RFclassifier__n_estimators',\n",
    "    max_resources=600,aggressive_elimination=True,n_jobs=6).fit(x, y)"
   ]
  },
  {
   "cell_type": "code",
   "execution_count": 52,
   "id": "45184450-d13e-4aaf-9da3-42cd7e8ea3ac",
   "metadata": {},
   "outputs": [
    {
     "data": {
      "text/plain": [
       "Pipeline(steps=[('preprocess',\n",
       "                 ColumnTransformer(transformers=[('cat',\n",
       "                                                  OneHotEncoder(handle_unknown='ignore'),\n",
       "                                                  ['wlan_tag_length',\n",
       "                                                   'wlan_country_info_fnm',\n",
       "                                                   'wlan_da', 'wlan_sa',\n",
       "                                                   'wlan_bssid', 'ip_src',\n",
       "                                                   'ip_dst', 'http_host',\n",
       "                                                   'http_request_line',\n",
       "                                                   'http_request_method',\n",
       "                                                   'http_request_version',\n",
       "                                                   'ssdp',\n",
       "                                                   'http_request_full_uri'])])),\n",
       "                ('RFclassifier',\n",
       "                 RandomForestClassifier(n_estimators=600, random_state=0))])"
      ]
     },
     "execution_count": 52,
     "metadata": {},
     "output_type": "execute_result"
    }
   ],
   "source": [
    "sh.best_estimator_"
   ]
  },
  {
   "cell_type": "markdown",
   "id": "970d61a3-6383-448a-9822-6f8e1a83ff4f",
   "metadata": {},
   "source": [
    "so this suggests that improvement continues with 600 and even more would be better lets see how this works with the model"
   ]
  },
  {
   "cell_type": "code",
   "execution_count": 53,
   "id": "69cd61e4-f029-43cf-87c0-878c761938ef",
   "metadata": {},
   "outputs": [],
   "source": [
    "TunedRF = Pipeline(steps=[(\"preprocess\", preprocessor), (\"RFclassifier\", RandomForestClassifier(max_depth=None, min_samples_split=2,max_features='log2',criterion='gini',n_estimators=600,random_state=0))])"
   ]
  },
  {
   "cell_type": "code",
   "execution_count": 54,
   "id": "de41507b-818b-4dfa-831b-13db5b8412dc",
   "metadata": {},
   "outputs": [
    {
     "name": "stdout",
     "output_type": "stream",
     "text": [
      "The model score for a RandomForestClassifier: 0.991\n",
      "CPU times: user 14min 36s, sys: 135 ms, total: 14min 36s\n",
      "Wall time: 14min 36s\n"
     ]
    }
   ],
   "source": [
    "%%time\n",
    "TunedRF.fit(X_train, y_train)\n",
    "print(\"The model score for a RandomForestClassifier: %.3f\" % TunedRF.score(X_test, y_test))\n",
    "testPredictions=TunedRF.predict(X_test)"
   ]
  },
  {
   "cell_type": "code",
   "execution_count": 55,
   "id": "66f84d38-4f06-42a5-9ee8-e2e2d77a421e",
   "metadata": {},
   "outputs": [
    {
     "name": "stdout",
     "output_type": "stream",
     "text": [
      "There are 119074 true negatives\n",
      "There are 6300 true positives\n",
      "There are 801 false negatives\n",
      "There are 307 false positives\n",
      "The precision is 0.9535341304676858\n",
      "The recall is 0.8871989860583016\n",
      "The fscore is 0.9191712868398016\n",
      "The Matthews correlation coefficient is 0.9152111022255177\n"
     ]
    }
   ],
   "source": [
    "from sklearn.metrics import confusion_matrix\n",
    "from sklearn.metrics import precision_recall_fscore_support\n",
    "from sklearn.metrics import matthews_corrcoef\n",
    "tn, fp, fn, tp = confusion_matrix(y_test, testPredictions).ravel()\n",
    "precision,recall,fscore,support = precision_recall_fscore_support(y_test, testPredictions, average='binary')\n",
    "MCC = matthews_corrcoef(y_test, testPredictions)\n",
    "print(\"There are \"+str(tn)+ \" true negatives\")\n",
    "print(\"There are \"+str(tp)+ \" true positives\")\n",
    "print(\"There are \"+str(fn)+ \" false negatives\")\n",
    "print(\"There are \"+str(fp)+ \" false positives\")\n",
    "print(\"The precision is \"+str(precision))\n",
    "print(\"The recall is \"+str(recall))\n",
    "print(\"The fscore is \"+str(fscore))\n",
    "print(\"The Matthews correlation coefficient is \"+str(MCC))"
   ]
  },
  {
   "cell_type": "markdown",
   "id": "ee944782-9de0-4014-a58b-21645c6faa94",
   "metadata": {},
   "source": [
    "so compared to the comparing trees notebook which used 100 we get slightly better results but only at the 5 decimal point for the MCC. This shows linear scaling with the number of trees, 100 took 151s 600 trees took 876s so 5.8 times longer. Not an issue with the subsample ubt would be with the full dataset. \n",
    "\n",
    "\n",
    "I think there is a limit to how much more improvement we can get from tuning, but to show how you can print out the results of a grid search I adapted this page:\n",
    "https://sklearn-evaluation.readthedocs.io/en/latest/user_guide/grid_search.html\n",
    "However the results are hard to visualise, as the results are all very good, because every classifier get the vast majority correct by getting the true posatives correct."
   ]
  },
  {
   "cell_type": "code",
   "execution_count": 62,
   "id": "30438b62-7d3e-4e35-859f-d3a8f263be57",
   "metadata": {},
   "outputs": [],
   "source": [
    "hyperparameters = {\n",
    "    'RFclassifier__n_estimators': [1, 10, 50, 100],\n",
    "    'RFclassifier__criterion': ['gini', 'entropy'],\n",
    "    'RFclassifier__max_features': ['sqrt', 'log2'],\n",
    "}"
   ]
  },
  {
   "cell_type": "code",
   "execution_count": 63,
   "id": "8601fa3b-2ba3-4126-81d4-55a846649caf",
   "metadata": {},
   "outputs": [
    {
     "data": {
      "text/plain": [
       "GridSearchCV(cv=3,\n",
       "             estimator=Pipeline(steps=[('preprocess',\n",
       "                                        ColumnTransformer(transformers=[('cat',\n",
       "                                                                         OneHotEncoder(handle_unknown='ignore'),\n",
       "                                                                         ['wlan_tag_length',\n",
       "                                                                          'wlan_country_info_fnm',\n",
       "                                                                          'wlan_da',\n",
       "                                                                          'wlan_sa',\n",
       "                                                                          'wlan_bssid',\n",
       "                                                                          'ip_src',\n",
       "                                                                          'ip_dst',\n",
       "                                                                          'http_host',\n",
       "                                                                          'http_request_line',\n",
       "                                                                          'http_request_method',\n",
       "                                                                          'http_request_version',\n",
       "                                                                          'ssdp',\n",
       "                                                                          'http_request_full_uri'])])),\n",
       "                                       ('RFclassifier',\n",
       "                                        RandomForestClassifier(n_estimators=5,\n",
       "                                                               random_state=0))]),\n",
       "             param_grid={'RFclassifier__criterion': ['gini', 'entropy'],\n",
       "                         'RFclassifier__max_features': ['sqrt', 'log2'],\n",
       "                         'RFclassifier__n_estimators': [1, 10, 50, 100]})"
      ]
     },
     "execution_count": 63,
     "metadata": {},
     "output_type": "execute_result"
    }
   ],
   "source": [
    "estimator = Pipeline(steps=[(\"preprocess\", preprocessor), (\"RFclassifier\", RandomForestClassifier(n_estimators=5, random_state=0))])\n",
    "clf = GridSearchCV(estimator, hyperparameters, cv=3)\n",
    "clf.fit(x, y)\n"
   ]
  },
  {
   "cell_type": "code",
   "execution_count": null,
   "id": "645b3891-2bb3-4ca6-8667-0fea427d54c1",
   "metadata": {},
   "outputs": [],
   "source": [
    "!pip install sklearn-evaluation"
   ]
  },
  {
   "cell_type": "code",
   "execution_count": 84,
   "id": "fef7bb3a-663b-4ede-9f36-40ff7a3e672d",
   "metadata": {},
   "outputs": [
    {
     "data": {
      "text/plain": [
       "<AxesSubplot:>"
      ]
     },
     "execution_count": 84,
     "metadata": {},
     "output_type": "execute_result"
    },
    {
     "data": {
      "image/png": "[encoded data removed]",
      "text/plain": [
       "<Figure size 432x288 with 2 Axes>"
      ]
     },
     "metadata": {
      "needs_background": "light"
     },
     "output_type": "display_data"
    }
   ],
   "source": [
    "plot.grid_search(clf.cv_results_, change=('RFclassifier__n_estimators', 'RFclassifier__max_features'),\n",
    "                 subset={'RFclassifier__criterion': 'gini'})"
   ]
  },
  {
   "cell_type": "markdown",
   "id": "2c1910d4-4999-4dbb-88b0-e85be3621771",
   "metadata": {},
   "source": [
    "This chart shows accuracy so is not the best for our purposes but there is almost no change visibile at the number of decimal places that are used. This was one of the challenges with visualisation on this project, the built in methods are intended for smaller datasets with larger differences in results"
   ]
  }
 ],
 "metadata": {
  "kernelspec": {
   "display_name": "Python 3 (ipykernel)",
   "language": "python",
   "name": "python3"
  },
  "language_info": {
   "codemirror_mode": {
    "name": "ipython",
    "version": 3
   },
   "file_extension": ".py",
   "mimetype": "text/x-python",
   "name": "python",
   "nbconvert_exporter": "python",
   "pygments_lexer": "ipython3",
   "version": "3.9.12"
  }
 },
 "nbformat": 4,
 "nbformat_minor": 5
}
