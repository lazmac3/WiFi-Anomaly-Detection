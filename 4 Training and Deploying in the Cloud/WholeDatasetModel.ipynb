{
 "cells": [
  {
   "cell_type": "code",
   "execution_count": 6,
   "id": "2adbf3ea-5966-4e75-b6bf-48af11424099",
   "metadata": {},
   "outputs": [
    {
     "name": "stdout",
     "output_type": "stream",
     "text": [
      "Hello from the GCP World\n"
     ]
    }
   ],
   "source": [
    "print(\"Hello from the GCP World\")"
   ]
  },
  {
   "cell_type": "markdown",
   "id": "4dfeaca9-0d6f-4774-96f1-66d3a7bea3ad",
   "metadata": {},
   "source": [
    "So we want to train on the whole dataset I will use the minimum number of dimensions to make the vector for my microservice easier to work with ",
    "SKlearn is not as well set up for large scale analysis as Pyspark, so we are seperating code and deleting variables to try and stop memory errors. 24 cpus is my limit on the free tier so the most powerful hardward I can use is 16cpu 60gb Ram"
   ]
  },
  {
   "cell_type": "code",
   "execution_count": 7,
   "id": "d55db37c-fd1f-4069-a2be-da6893e13a2b",
   "metadata": {},
   "outputs": [],
   "source": [
    "! PYTHONHASHSEED=0\n",
    "import pandas as pd\n",
    "import numpy as np"
   ]
  },
  {
   "cell_type": "code",
   "execution_count": 8,
   "id": "5ec4d724-2895-4ef1-929c-90c188e5b709",
   "metadata": {},
   "outputs": [],
   "source": [
    "categoricalCols = [\n",
    "    \"wlan_tag_length\",\n",
    "    \"wlan_country_info_fnm\",\n",
    "    \"wlan_da\",\n",
    "    \"wlan_sa\",\n",
    "    \"wlan_bssid\",\n",
    "    \"ip_src\",\n",
    "    \"ip_dst\"\n",
    "]\n",
    "   "
   ]
  },
  {
   "cell_type": "code",
   "execution_count": 9,
   "id": "ec28c266-6ae3-4eb8-894f-0af93789acbf",
   "metadata": {},
   "outputs": [],
   "source": [
    "numericCols=[\n",
    "    \"wlan_fixed_reason_code\",\n",
    "    \"radiotap_channel_freq\",\n",
    "    \"udp_length\"\n",
    "]"
   ]
  },
  {
   "cell_type": "code",
   "execution_count": 10,
   "id": "064f1b11-0035-4a18-b6af-2529483ed540",
   "metadata": {},
   "outputs": [],
   "source": [
    "labelCols=[\n",
    "    \"StringLabel\",\n",
    "    \"label\"\n",
    "]"
   ]
  },
  {
   "cell_type": "code",
   "execution_count": 11,
   "id": "081c30bb-baa7-49b2-9481-39ce579a1f36",
   "metadata": {},
   "outputs": [],
   "source": [
    "Deauth=pd.read_parquet(\"gs://birkbeckwifibucket/parquet/1.Deauth\", engine='pyarrow')\n",
    "rDeauth=Deauth[categoricalCols+numericCols+labelCols]\n",
    "del Deauth"
   ]
  },
  {
   "cell_type": "code",
   "execution_count": 12,
   "id": "133b231d-348a-4a3d-b18d-d1f1c5c2ae1b",
   "metadata": {},
   "outputs": [],
   "source": [
    "\n",
    "Disas=pd.read_parquet(\"gs://birkbeckwifibucket/parquet/2.Disas\", engine='pyarrow')\n",
    "rDisas=Disas[categoricalCols+numericCols+labelCols]\n",
    "del Disas"
   ]
  },
  {
   "cell_type": "code",
   "execution_count": 13,
   "id": "44c2b0fe-c9ef-4f09-8821-a941cc5655be",
   "metadata": {},
   "outputs": [],
   "source": [
    "reAssoc=pd.read_parquet(\"gs://birkbeckwifibucket/parquet/3.(Re)Assoc\", engine='pyarrow')\n",
    "rreAssoc=reAssoc[categoricalCols+numericCols+labelCols]\n",
    "del reAssoc"
   ]
  },
  {
   "cell_type": "code",
   "execution_count": 14,
   "id": "a9ecd2c5-0bd3-46fd-afea-c90f12323033",
   "metadata": {},
   "outputs": [],
   "source": [
    "rogueAP=pd.read_parquet(\"gs://birkbeckwifibucket/parquet/4.Rogue_AP\", engine='pyarrow')\n",
    "rrogueAP=rogueAP[categoricalCols+numericCols+labelCols]\n",
    "del rogueAP"
   ]
  },
  {
   "cell_type": "code",
   "execution_count": 15,
   "id": "940f2799-7b46-4fd6-b753-aefb2f58efd2",
   "metadata": {},
   "outputs": [],
   "source": [
    "krack=pd.read_parquet(\"gs://birkbeckwifibucket/parquet/5.Krack\", engine='pyarrow')\n",
    "rkrack=krack[categoricalCols+numericCols+labelCols]\n",
    "del krack"
   ]
  },
  {
   "cell_type": "code",
   "execution_count": 16,
   "id": "2a85dfac-c931-45d6-b37e-57cda79d75bf",
   "metadata": {},
   "outputs": [],
   "source": [
    "Kr00k=pd.read_parquet(\"gs://birkbeckwifibucket/parquet/6.Kr00k\", engine='pyarrow')\n",
    "rKr00k=Kr00k[categoricalCols+numericCols+labelCols]\n",
    "del Kr00k"
   ]
  },
  {
   "cell_type": "code",
   "execution_count": 17,
   "id": "7e441f3b-2661-4a21-8912-58af77f7b6eb",
   "metadata": {},
   "outputs": [],
   "source": [
    "ssh=pd.read_parquet(\"gs://birkbeckwifibucket/parquet/7.SSH\", engine='pyarrow')\n",
    "rSSH=ssh[categoricalCols+numericCols+labelCols]\n",
    "del ssh"
   ]
  },
  {
   "cell_type": "code",
   "execution_count": 18,
   "id": "5b976ee1-5454-40f9-b8dd-0bff5f8dd5ca",
   "metadata": {},
   "outputs": [],
   "source": [
    "botnet=pd.read_parquet(\"gs://birkbeckwifibucket/parquet/8.Botnet\", engine='pyarrow')\n",
    "rBotnet=botnet[categoricalCols+numericCols+labelCols]\n",
    "del botnet"
   ]
  },
  {
   "cell_type": "code",
   "execution_count": 19,
   "id": "dfe2c403-aa8f-416c-a352-28a6ced8045c",
   "metadata": {},
   "outputs": [],
   "source": [
    "malware=pd.read_parquet(\"gs://birkbeckwifibucket/parquet/9.Malware\", engine='pyarrow')\n",
    "rMalware=malware[categoricalCols+numericCols+labelCols]\n",
    "del malware"
   ]
  },
  {
   "cell_type": "code",
   "execution_count": 20,
   "id": "f24bee58-a964-4708-99ff-a110dda97ba6",
   "metadata": {},
   "outputs": [],
   "source": [
    "sql=pd.read_parquet(\"gs://birkbeckwifibucket/parquet/10.SQL_Injection\", engine='pyarrow')\n",
    "rSQL=sql[categoricalCols+numericCols+labelCols]\n",
    "del sql"
   ]
  },
  {
   "cell_type": "code",
   "execution_count": 21,
   "id": "d4ee38c7-4b71-48f7-a578-61acb3b221eb",
   "metadata": {},
   "outputs": [],
   "source": [
    "ssdp=pd.read_parquet(\"gs://birkbeckwifibucket/parquet/11.SSDP\", engine='pyarrow')\n",
    "rSSDP=ssdp[categoricalCols+numericCols+labelCols]\n",
    "del ssdp"
   ]
  },
  {
   "cell_type": "code",
   "execution_count": 22,
   "id": "6fccdbfe-b50d-4961-908e-b0452b1e8288",
   "metadata": {},
   "outputs": [],
   "source": [
    "evilTwin=pd.read_parquet(\"gs://birkbeckwifibucket/parquet/12.Evil_Twin\", engine='pyarrow')\n",
    "rEvilTwin=evilTwin[categoricalCols+numericCols+labelCols]\n",
    "del evilTwin"
   ]
  },
  {
   "cell_type": "code",
   "execution_count": 23,
   "id": "4231bde0-f19a-4def-819d-19eaa25ee324",
   "metadata": {},
   "outputs": [],
   "source": [
    "ws=pd.read_parquet(\"gs://birkbeckwifibucket/parquet/13.Website_spoofing\", engine='pyarrow')\n",
    "rWS=ws[categoricalCols+numericCols+labelCols]\n",
    "del ws"
   ]
  },
  {
   "cell_type": "code",
   "execution_count": 24,
   "id": "36315440-4bfd-4455-89b0-9c0d82985a62",
   "metadata": {},
   "outputs": [],
   "source": [
    "#we concat the reduced dataframes\n",
    "frames = [rDeauth, rDisas,rreAssoc,rrogueAP,rkrack,rKr00k,rSSH,rBotnet,rMalware,rSQL,rSSDP,rEvilTwin,rWS]\n",
    "dataset=pd.concat(frames)"
   ]
  },
  {
   "cell_type": "code",
   "execution_count": 25,
   "id": "7fb75eff-0c11-4ab2-9950-6072f5bce724",
   "metadata": {},
   "outputs": [],
   "source": [
    "#incase the next bit breaks\n",
    "dataset.to_pickle(\"./pickledReducedColsDF.pkl\")  "
   ]
  },
  {
   "cell_type": "code",
   "execution_count": 26,
   "id": "00c7d093-0816-44fe-85e3-081931b68129",
   "metadata": {},
   "outputs": [
    {
     "data": {
      "text/plain": [
       "27576415"
      ]
     },
     "execution_count": 26,
     "metadata": {},
     "output_type": "execute_result"
    }
   ],
   "source": [
    "len(dataset.index)"
   ]
  },
  {
   "cell_type": "markdown",
   "id": "84d6d463-660c-4e19-8ea5-604c18d5c7f8",
   "metadata": {},
   "source": [
    "Checking we have the whole dataset"
   ]
  },
  {
   "cell_type": "code",
   "execution_count": 27,
   "id": "cfc1fec0-04fc-4843-848c-1fdd176d6bfc",
   "metadata": {},
   "outputs": [
    {
     "data": {
      "text/plain": [
       "0    21660389\n",
       "1     5916026\n",
       "Name: label, dtype: int64"
      ]
     },
     "execution_count": 27,
     "metadata": {},
     "output_type": "execute_result"
    }
   ],
   "source": [
    "dataset['label'].value_counts()"
   ]
  },
  {
   "cell_type": "markdown",
   "id": "ed4f76f3-e6ab-4840-9192-0d026482f274",
   "metadata": {},
   "source": [
    "Seeing how many are attack packets"
   ]
  },
  {
   "cell_type": "code",
   "execution_count": 28,
   "id": "5e8a2b18-403a-4171-9d4c-d093ce3a9373",
   "metadata": {},
   "outputs": [
    {
     "data": {
      "text/plain": [
       "Normal              21660389\n",
       "SSDP                 5499851\n",
       "Malware               131611\n",
       "Disas                  75131\n",
       "Botnet                 56891\n",
       "Evil_Twin              49186\n",
       "Deauth                 38942\n",
       "Website_spoofing       25923\n",
       "Krack                  16009\n",
       "SSH                    11882\n",
       "(Re)Assoc               5502\n",
       "SQL_Injection           2629\n",
       "RogueAP                 1310\n",
       "Kr00k                   1138\n",
       "NA                        21\n",
       "Name: StringLabel, dtype: int64"
      ]
     },
     "execution_count": 28,
     "metadata": {},
     "output_type": "execute_result"
    }
   ],
   "source": [
    "dataset['StringLabel'].value_counts()"
   ]
  },
  {
   "cell_type": "markdown",
   "id": "ee40bb8c-392a-4b07-995b-d7dcbb7cd5fd",
   "metadata": {},
   "source": [
    "And the types of attacks"
   ]
  },
  {
   "cell_type": "code",
   "execution_count": 29,
   "id": "bde84730-7850-4563-8a14-78791ecbd8f8",
   "metadata": {},
   "outputs": [],
   "source": [
    " from sklearn.preprocessing import LabelEncoder, OneHotEncoder"
   ]
  },
  {
   "cell_type": "code",
   "execution_count": 30,
   "id": "ae8fd26a-2677-4748-a4c1-9a7364c10133",
   "metadata": {},
   "outputs": [
    {
     "data": {
      "text/html": [
       "<div>\n",
       "<style scoped>\n",
       "    .dataframe tbody tr th:only-of-type {\n",
       "        vertical-align: middle;\n",
       "    }\n",
       "\n",
       "    .dataframe tbody tr th {\n",
       "        vertical-align: top;\n",
       "    }\n",
       "\n",
       "    .dataframe thead th {\n",
       "        text-align: right;\n",
       "    }\n",
       "</style>\n",
       "<table border=\"1\" class=\"dataframe\">\n",
       "  <thead>\n",
       "    <tr style=\"text-align: right;\">\n",
       "      <th></th>\n",
       "      <th>wlan_tag_length</th>\n",
       "      <th>wlan_country_info_fnm</th>\n",
       "      <th>wlan_da</th>\n",
       "      <th>wlan_sa</th>\n",
       "      <th>wlan_bssid</th>\n",
       "      <th>ip_src</th>\n",
       "      <th>ip_dst</th>\n",
       "    </tr>\n",
       "  </thead>\n",
       "  <tbody>\n",
       "    <tr>\n",
       "      <th>0</th>\n",
       "      <td>NA</td>\n",
       "      <td>NA</td>\n",
       "      <td>NA</td>\n",
       "      <td>NA</td>\n",
       "      <td>NA</td>\n",
       "      <td>NA</td>\n",
       "      <td>NA</td>\n",
       "    </tr>\n",
       "    <tr>\n",
       "      <th>1</th>\n",
       "      <td>NA</td>\n",
       "      <td>NA</td>\n",
       "      <td>NA</td>\n",
       "      <td>NA</td>\n",
       "      <td>NA</td>\n",
       "      <td>NA</td>\n",
       "      <td>NA</td>\n",
       "    </tr>\n",
       "    <tr>\n",
       "      <th>2</th>\n",
       "      <td>NA</td>\n",
       "      <td>NA</td>\n",
       "      <td>50:3e:aa:e4:01:93</td>\n",
       "      <td>0c:9d:92:54:fe:30</td>\n",
       "      <td>0c:9d:92:54:fe:34</td>\n",
       "      <td>151.101.17.140</td>\n",
       "      <td>192.168.2.73</td>\n",
       "    </tr>\n",
       "    <tr>\n",
       "      <th>3</th>\n",
       "      <td>NA</td>\n",
       "      <td>NA</td>\n",
       "      <td>50:3e:aa:e4:01:93</td>\n",
       "      <td>0c:9d:92:54:fe:30</td>\n",
       "      <td>0c:9d:92:54:fe:34</td>\n",
       "      <td>151.101.17.140</td>\n",
       "      <td>192.168.2.73</td>\n",
       "    </tr>\n",
       "    <tr>\n",
       "      <th>4</th>\n",
       "      <td>NA</td>\n",
       "      <td>NA</td>\n",
       "      <td>50:3e:aa:e4:01:93</td>\n",
       "      <td>0c:9d:92:54:fe:30</td>\n",
       "      <td>0c:9d:92:54:fe:34</td>\n",
       "      <td>151.101.17.140</td>\n",
       "      <td>192.168.2.73</td>\n",
       "    </tr>\n",
       "    <tr>\n",
       "      <th>...</th>\n",
       "      <td>...</td>\n",
       "      <td>...</td>\n",
       "      <td>...</td>\n",
       "      <td>...</td>\n",
       "      <td>...</td>\n",
       "      <td>...</td>\n",
       "      <td>...</td>\n",
       "    </tr>\n",
       "    <tr>\n",
       "      <th>99994</th>\n",
       "      <td>NA</td>\n",
       "      <td>NA</td>\n",
       "      <td>NA</td>\n",
       "      <td>NA</td>\n",
       "      <td>NA</td>\n",
       "      <td>NA</td>\n",
       "      <td>NA</td>\n",
       "    </tr>\n",
       "    <tr>\n",
       "      <th>99995</th>\n",
       "      <td>NA</td>\n",
       "      <td>NA</td>\n",
       "      <td>NA</td>\n",
       "      <td>NA</td>\n",
       "      <td>NA</td>\n",
       "      <td>NA</td>\n",
       "      <td>NA</td>\n",
       "    </tr>\n",
       "    <tr>\n",
       "      <th>99996</th>\n",
       "      <td>NA</td>\n",
       "      <td>NA</td>\n",
       "      <td>NA</td>\n",
       "      <td>NA</td>\n",
       "      <td>NA</td>\n",
       "      <td>NA</td>\n",
       "      <td>NA</td>\n",
       "    </tr>\n",
       "    <tr>\n",
       "      <th>99997</th>\n",
       "      <td>NA</td>\n",
       "      <td>NA</td>\n",
       "      <td>NA</td>\n",
       "      <td>NA</td>\n",
       "      <td>NA</td>\n",
       "      <td>NA</td>\n",
       "      <td>NA</td>\n",
       "    </tr>\n",
       "    <tr>\n",
       "      <th>99998</th>\n",
       "      <td>NA</td>\n",
       "      <td>NA</td>\n",
       "      <td>NA</td>\n",
       "      <td>NA</td>\n",
       "      <td>NA</td>\n",
       "      <td>NA</td>\n",
       "      <td>NA</td>\n",
       "    </tr>\n",
       "  </tbody>\n",
       "</table>\n",
       "<p>27576415 rows × 7 columns</p>\n",
       "</div>"
      ],
      "text/plain": [
       "      wlan_tag_length wlan_country_info_fnm            wlan_da  \\\n",
       "0                  NA                    NA                 NA   \n",
       "1                  NA                    NA                 NA   \n",
       "2                  NA                    NA  50:3e:aa:e4:01:93   \n",
       "3                  NA                    NA  50:3e:aa:e4:01:93   \n",
       "4                  NA                    NA  50:3e:aa:e4:01:93   \n",
       "...               ...                   ...                ...   \n",
       "99994              NA                    NA                 NA   \n",
       "99995              NA                    NA                 NA   \n",
       "99996              NA                    NA                 NA   \n",
       "99997              NA                    NA                 NA   \n",
       "99998              NA                    NA                 NA   \n",
       "\n",
       "                 wlan_sa         wlan_bssid          ip_src        ip_dst  \n",
       "0                     NA                 NA              NA            NA  \n",
       "1                     NA                 NA              NA            NA  \n",
       "2      0c:9d:92:54:fe:30  0c:9d:92:54:fe:34  151.101.17.140  192.168.2.73  \n",
       "3      0c:9d:92:54:fe:30  0c:9d:92:54:fe:34  151.101.17.140  192.168.2.73  \n",
       "4      0c:9d:92:54:fe:30  0c:9d:92:54:fe:34  151.101.17.140  192.168.2.73  \n",
       "...                  ...                ...             ...           ...  \n",
       "99994                 NA                 NA              NA            NA  \n",
       "99995                 NA                 NA              NA            NA  \n",
       "99996                 NA                 NA              NA            NA  \n",
       "99997                 NA                 NA              NA            NA  \n",
       "99998                 NA                 NA              NA            NA  \n",
       "\n",
       "[27576415 rows x 7 columns]"
      ]
     },
     "execution_count": 30,
     "metadata": {},
     "output_type": "execute_result"
    }
   ],
   "source": [
    "y=dataset['label']\n",
    "x=dataset[categoricalCols+numericCols]\n",
    "x[categoricalCols].astype(\"category\")"
   ]
  },
  {
   "cell_type": "code",
   "execution_count": 31,
   "id": "6b021bd5-a2b2-4611-a628-fc3c7f43195a",
   "metadata": {},
   "outputs": [],
   "source": [
    "from sklearn.compose import ColumnTransformer\n",
    "from sklearn.preprocessing import OneHotEncoder\n",
    "categorical_transformer = OneHotEncoder(handle_unknown=\"ignore\")\n",
    "from sklearn.preprocessing import FunctionTransformer\n",
    "preprocessor = ColumnTransformer(\n",
    "    transformers=[\n",
    "        (\"cat\", categorical_transformer, categoricalCols)\n",
    "    ]\n",
    ")"
   ]
  },
  {
   "cell_type": "code",
   "execution_count": 32,
   "id": "52576e02-a74f-4ee3-88c2-2999fbbfe830",
   "metadata": {},
   "outputs": [],
   "source": [
    "from sklearn.model_selection import train_test_split\n",
    "X_train, X_test, y_train, y_test = train_test_split(x, y, test_size=0.2, random_state=0)\n"
   ]
  },
  {
   "cell_type": "code",
   "execution_count": 33,
   "id": "188af6e6-fcf5-45b5-b72a-86111ee416a1",
   "metadata": {},
   "outputs": [],
   "source": [
    "from sklearn.pipeline import Pipeline\n",
    "from sklearn.ensemble import RandomForestClassifier"
   ]
  },
  {
   "cell_type": "code",
   "execution_count": 34,
   "id": "9d46669a-1b8f-460f-9035-555641b1f3e8",
   "metadata": {},
   "outputs": [],
   "source": [
    "RF = Pipeline(steps=[(\"preprocess\", preprocessor), (\"RFclassifier\", RandomForestClassifier(max_depth=None, min_samples_split=2,max_features='log2',criterion='gini',n_estimators=100,random_state=0,n_jobs=-1))])"
   ]
  },
  {
   "cell_type": "code",
   "execution_count": 35,
   "id": "c713d2be-b838-4316-845a-a1c5cbb792d8",
   "metadata": {},
   "outputs": [
    {
     "name": "stdout",
     "output_type": "stream",
     "text": [
      "The model score for a RandomForestClassifier: 0.993\n",
      "CPU times: user 18h 17min 8s, sys: 1min 24s, total: 18h 18min 33s\n",
      "Wall time: 1h 22min 15s\n"
     ]
    }
   ],
   "source": [
    "%%time\n",
    "RF.fit(X_train, y_train)\n",
    "print(\"The model score for a RandomForestClassifier: %.3f\" % RF.score(X_test, y_test))\n",
    "testPredictions=RF.predict(X_test)"
   ]
  },
  {
   "cell_type": "code",
   "execution_count": 36,
   "id": "710863a8-bb8f-4b07-b603-afa53c3039db",
   "metadata": {},
   "outputs": [
    {
     "name": "stdout",
     "output_type": "stream",
     "text": [
      "There are 4321570 true negatives\n",
      "There are 1155444 true positives\n",
      "There are 26916 false negatives\n",
      "There are 11353 false positives\n",
      "The precision is 0.9902699441290987\n",
      "The recall is 0.9772353597888968\n",
      "The fscore is 0.9837094753564789\n",
      "The Matthews correlation coefficient is 0.9793362615765545\n"
     ]
    }
   ],
   "source": [
    "from sklearn.metrics import confusion_matrix\n",
    "from sklearn.metrics import precision_recall_fscore_support\n",
    "from sklearn.metrics import matthews_corrcoef\n",
    "tn, fp, fn, tp = confusion_matrix(y_test, testPredictions).ravel()\n",
    "precision,recall,fscore,support = precision_recall_fscore_support(y_test, testPredictions, average='binary')\n",
    "MCC = matthews_corrcoef(y_test, testPredictions)\n",
    "print(\"There are \"+str(tn)+ \" true negatives\")\n",
    "print(\"There are \"+str(tp)+ \" true positives\")\n",
    "print(\"There are \"+str(fn)+ \" false negatives\")\n",
    "print(\"There are \"+str(fp)+ \" false positives\")\n",
    "print(\"The precision is \"+str(precision))\n",
    "print(\"The recall is \"+str(recall))\n",
    "print(\"The fscore is \"+str(fscore))\n",
    "print(\"The Matthews correlation coefficient is \"+str(MCC))"
   ]
  },
  {
   "cell_type": "code",
   "execution_count": 37,
   "id": "b73dda1d-d66e-4e17-8194-5e1a17ce60c9",
   "metadata": {},
   "outputs": [],
   "source": [
    "from google.cloud import storage\n",
    "import joblib\n",
    "storage_client = storage.Client()\n",
    "model_filename = \"fullDataSetModel.joblib\"\n",
    "with open(model_filename, \"wb\") as model_file:\n",
    "    joblib.dump(RF, model_file)\n",
    "    \n",
    "bucket_name=\"birkbeckwifibucket\"\n",
    "bucket = storage_client.bucket(bucket_name)\n",
    "blob = bucket.blob(model_filename)\n",
    "blob.upload_from_filename(model_filename)"
   ]
  },
  {
   "cell_type": "markdown",
   "id": "9c84d737-02fe-4955-bce5-fb84f1744c7e",
   "metadata": {},
   "source": [
    "so the full dataset has excellent performance, better than my tests, however I would attribute a lot of this to the fact that the SSDP has by far the most attack packets and has a more or less one to one mapping with UDP length field. The code below saves the model so it can be used in my endpoint"
   ]
  },
  {
   "cell_type": "code",
   "execution_count": null,
   "id": "29bed10f-35d2-4413-9675-c9da40cec84e",
   "metadata": {},
   "outputs": [],
   "source": []
  }
 ],
 "metadata": {
  "kernelspec": {
   "display_name": "PySpark (Local)",
   "language": "python",
   "name": "local-pyspark"
  },
  "language_info": {
   "codemirror_mode": {
    "name": "ipython",
    "version": 3
   },
   "file_extension": ".py",
   "mimetype": "text/x-python",
   "name": "python",
   "nbconvert_exporter": "python",
   "pygments_lexer": "ipython3",
   "version": "3.7.12"
  }
 },
 "nbformat": 4,
 "nbformat_minor": 5
}
