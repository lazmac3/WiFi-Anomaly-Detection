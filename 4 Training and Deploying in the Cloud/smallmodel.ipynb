{
 "cells": [
  {
   "cell_type": "code",
   "execution_count": 118,
   "id": "2adbf3ea-5966-4e75-b6bf-48af11424099",
   "metadata": {},
   "outputs": [
    {
     "name": "stdout",
     "output_type": "stream",
     "text": [
      "Hello from the GCP World\n"
     ]
    }
   ],
   "source": [
    "print(\"Hello from the GCP World\")"
   ]
  },
  {
   "cell_type": "markdown",
   "id": "4dfeaca9-0d6f-4774-96f1-66d3a7bea3ad",
   "metadata": {},
   "source": [
    "This is a small 2 dimension model trained on a single csv cheet from the Webspoofing attack used for testing my Django app. I have left it in the submission folder as I will use it in the testing video due to the short run time but the results are not important to the overall study"
   ]
  },
  {
   "cell_type": "code",
   "execution_count": 119,
   "id": "6036f24e-6b0d-4d08-b82b-b201582f4583",
   "metadata": {},
   "outputs": [],
   "source": [
    "readFile=\"gs://birkbeckwifibucket/parquet/smallWebSiteSpoofingTestFile\""
   ]
  },
  {
   "cell_type": "code",
   "execution_count": 120,
   "id": "d55db37c-fd1f-4069-a2be-da6893e13a2b",
   "metadata": {},
   "outputs": [],
   "source": [
    "! PYTHONHASHSEED=0\n",
    "import pandas as pd\n",
    "import numpy as np"
   ]
  },
  {
   "cell_type": "code",
   "execution_count": 121,
   "id": "081c30bb-baa7-49b2-9481-39ce579a1f36",
   "metadata": {},
   "outputs": [],
   "source": [
    "dataset=pd.read_parquet(readFile, engine='pyarrow')"
   ]
  },
  {
   "cell_type": "code",
   "execution_count": 122,
   "id": "637c5c99-b781-44e8-af98-9c32b6f2ec7b",
   "metadata": {},
   "outputs": [],
   "source": [
    " from sklearn.preprocessing import LabelEncoder, OneHotEncoder"
   ]
  },
  {
   "cell_type": "code",
   "execution_count": 123,
   "id": "6a2139e1-31d5-43a6-9a75-518e37d4ba55",
   "metadata": {},
   "outputs": [],
   "source": [
    "categoricalCols = [\n",
    "    \"wlan_da\",\n",
    "    \"wlan_sa\"\n",
    "]\n"
   ]
  },
  {
   "cell_type": "code",
   "execution_count": 124,
   "id": "2c7011d8-5dd1-44bb-81a4-41214e5c3377",
   "metadata": {},
   "outputs": [],
   "source": [
    "numericCols=[\n",
    "\n",
    "]"
   ]
  },
  {
   "cell_type": "code",
   "execution_count": 125,
   "id": "ae8fd26a-2677-4748-a4c1-9a7364c10133",
   "metadata": {},
   "outputs": [
    {
     "data": {
      "text/html": [
       "<div>\n",
       "<style scoped>\n",
       "    .dataframe tbody tr th:only-of-type {\n",
       "        vertical-align: middle;\n",
       "    }\n",
       "\n",
       "    .dataframe tbody tr th {\n",
       "        vertical-align: top;\n",
       "    }\n",
       "\n",
       "    .dataframe thead th {\n",
       "        text-align: right;\n",
       "    }\n",
       "</style>\n",
       "<table border=\"1\" class=\"dataframe\">\n",
       "  <thead>\n",
       "    <tr style=\"text-align: right;\">\n",
       "      <th></th>\n",
       "      <th>wlan_da</th>\n",
       "      <th>wlan_sa</th>\n",
       "    </tr>\n",
       "  </thead>\n",
       "  <tbody>\n",
       "    <tr>\n",
       "      <th>0</th>\n",
       "      <td>NA</td>\n",
       "      <td>NA</td>\n",
       "    </tr>\n",
       "    <tr>\n",
       "      <th>1</th>\n",
       "      <td>88:66:a5:55:a2:d4</td>\n",
       "      <td>74:d0:2b:7c:5a:5e</td>\n",
       "    </tr>\n",
       "    <tr>\n",
       "      <th>2</th>\n",
       "      <td>NA</td>\n",
       "      <td>NA</td>\n",
       "    </tr>\n",
       "    <tr>\n",
       "      <th>3</th>\n",
       "      <td>NA</td>\n",
       "      <td>NA</td>\n",
       "    </tr>\n",
       "    <tr>\n",
       "      <th>4</th>\n",
       "      <td>NA</td>\n",
       "      <td>NA</td>\n",
       "    </tr>\n",
       "    <tr>\n",
       "      <th>...</th>\n",
       "      <td>...</td>\n",
       "      <td>...</td>\n",
       "    </tr>\n",
       "    <tr>\n",
       "      <th>49995</th>\n",
       "      <td>50:3e:aa:e4:01:93</td>\n",
       "      <td>04:ed:33:e0:24:82</td>\n",
       "    </tr>\n",
       "    <tr>\n",
       "      <th>49996</th>\n",
       "      <td>NA</td>\n",
       "      <td>NA</td>\n",
       "    </tr>\n",
       "    <tr>\n",
       "      <th>49997</th>\n",
       "      <td>NA</td>\n",
       "      <td>NA</td>\n",
       "    </tr>\n",
       "    <tr>\n",
       "      <th>49998</th>\n",
       "      <td>NA</td>\n",
       "      <td>NA</td>\n",
       "    </tr>\n",
       "    <tr>\n",
       "      <th>49999</th>\n",
       "      <td>24:f5:a2:ea:86:c3</td>\n",
       "      <td>04:ed:33:e0:24:82</td>\n",
       "    </tr>\n",
       "  </tbody>\n",
       "</table>\n",
       "<p>50000 rows × 2 columns</p>\n",
       "</div>"
      ],
      "text/plain": [
       "                 wlan_da            wlan_sa\n",
       "0                     NA                 NA\n",
       "1      88:66:a5:55:a2:d4  74:d0:2b:7c:5a:5e\n",
       "2                     NA                 NA\n",
       "3                     NA                 NA\n",
       "4                     NA                 NA\n",
       "...                  ...                ...\n",
       "49995  50:3e:aa:e4:01:93  04:ed:33:e0:24:82\n",
       "49996                 NA                 NA\n",
       "49997                 NA                 NA\n",
       "49998                 NA                 NA\n",
       "49999  24:f5:a2:ea:86:c3  04:ed:33:e0:24:82\n",
       "\n",
       "[50000 rows x 2 columns]"
      ]
     },
     "execution_count": 125,
     "metadata": {},
     "output_type": "execute_result"
    }
   ],
   "source": [
    "y=dataset['label']\n",
    "x=dataset[categoricalCols+numericCols]\n",
    "x[categoricalCols].astype(\"category\")"
   ]
  },
  {
   "cell_type": "code",
   "execution_count": 126,
   "id": "6b021bd5-a2b2-4611-a628-fc3c7f43195a",
   "metadata": {},
   "outputs": [],
   "source": [
    "from sklearn.compose import ColumnTransformer\n",
    "from sklearn.preprocessing import OneHotEncoder\n",
    "categorical_transformer = OneHotEncoder(handle_unknown=\"ignore\")\n",
    "from sklearn.preprocessing import FunctionTransformer\n",
    "preprocessor = ColumnTransformer(\n",
    "    transformers=[\n",
    "        (\"cat\", categorical_transformer, categoricalCols)\n",
    "    ]\n",
    ")"
   ]
  },
  {
   "cell_type": "code",
   "execution_count": 127,
   "id": "52576e02-a74f-4ee3-88c2-2999fbbfe830",
   "metadata": {},
   "outputs": [],
   "source": [
    "from sklearn.model_selection import train_test_split, GridSearchCV\n",
    "X_train, X_test, y_train, y_test = train_test_split(x, y, test_size=0.2, random_state=0)\n"
   ]
  },
  {
   "cell_type": "code",
   "execution_count": 128,
   "id": "188af6e6-fcf5-45b5-b72a-86111ee416a1",
   "metadata": {},
   "outputs": [],
   "source": [
    "from sklearn.pipeline import Pipeline\n",
    "from sklearn.ensemble import RandomForestClassifier"
   ]
  },
  {
   "cell_type": "code",
   "execution_count": 129,
   "id": "9d46669a-1b8f-460f-9035-555641b1f3e8",
   "metadata": {},
   "outputs": [],
   "source": [
    "RF = Pipeline(steps=[(\"preprocess\", preprocessor), (\"RFclassifier\", RandomForestClassifier(max_depth=None, min_samples_split=2,max_features='log2',criterion='gini',n_estimators=100,random_state=0))])"
   ]
  },
  {
   "cell_type": "code",
   "execution_count": 130,
   "id": "c713d2be-b838-4316-845a-a1c5cbb792d8",
   "metadata": {},
   "outputs": [
    {
     "name": "stdout",
     "output_type": "stream",
     "text": [
      "The model score for a RandomForestClassifier: 1.000\n",
      "CPU times: user 1.05 s, sys: 7.36 ms, total: 1.05 s\n",
      "Wall time: 1.81 s\n"
     ]
    }
   ],
   "source": [
    "%%time\n",
    "RF.fit(X_train, y_train)\n",
    "print(\"The model score for a RandomForestClassifier: %.3f\" % RF.score(X_test, y_test))\n",
    "testPredictions=RF.predict(X_test)"
   ]
  },
  {
   "cell_type": "code",
   "execution_count": 131,
   "id": "710863a8-bb8f-4b07-b603-afa53c3039db",
   "metadata": {},
   "outputs": [
    {
     "name": "stdout",
     "output_type": "stream",
     "text": [
      "There are 7031 true negatives\n",
      "There are 2969 true positives\n",
      "There are 0 false negatives\n",
      "There are 0 false positives\n",
      "The precision is 1.0\n",
      "The recall is 1.0\n",
      "The fscore is 1.0\n",
      "The Matthews correlation coefficient is 1.0\n"
     ]
    }
   ],
   "source": [
    "from sklearn.metrics import confusion_matrix\n",
    "from sklearn.metrics import precision_recall_fscore_support\n",
    "from sklearn.metrics import matthews_corrcoef\n",
    "tn, fp, fn, tp = confusion_matrix(y_test, testPredictions).ravel()\n",
    "precision,recall,fscore,support = precision_recall_fscore_support(y_test, testPredictions, average='binary')\n",
    "MCC = matthews_corrcoef(y_test, testPredictions)\n",
    "print(\"There are \"+str(tn)+ \" true negatives\")\n",
    "print(\"There are \"+str(tp)+ \" true positives\")\n",
    "print(\"There are \"+str(fn)+ \" false negatives\")\n",
    "print(\"There are \"+str(fp)+ \" false positives\")\n",
    "print(\"The precision is \"+str(precision))\n",
    "print(\"The recall is \"+str(recall))\n",
    "print(\"The fscore is \"+str(fscore))\n",
    "print(\"The Matthews correlation coefficient is \"+str(MCC))"
   ]
  },
  {
   "cell_type": "code",
   "execution_count": 97,
   "id": "b970799a-2fe8-4749-bfa3-0745541b326a",
   "metadata": {},
   "outputs": [],
   "source": []
  },
  {
   "cell_type": "code",
   "execution_count": 132,
   "id": "b73dda1d-d66e-4e17-8194-5e1a17ce60c9",
   "metadata": {},
   "outputs": [],
   "source": [
    "from google.cloud import storage\n",
    "import joblib\n",
    "storage_client = storage.Client()\n",
    "model_filename = \"smallmodel.joblib\"\n",
    "with open(model_filename, \"wb\") as model_file:\n",
    "    joblib.dump(RF, model_file)\n",
    "    \n",
    "bucket_name=\"birkbeckwifibucket\"\n",
    "bucket = storage_client.bucket(bucket_name)\n",
    "blob = bucket.blob(model_filename)\n",
    "blob.upload_from_filename(model_filename)"
   ]
  },
  {
   "cell_type": "code",
   "execution_count": null,
   "id": "d0da1660-9c1f-40bb-8b2f-8e691a42850e",
   "metadata": {},
   "outputs": [],
   "source": []
  }
 ],
 "metadata": {
  "kernelspec": {
   "display_name": "Python (Local)",
   "language": "python",
   "name": "local-base"
  },
  "language_info": {
   "codemirror_mode": {
    "name": "ipython",
    "version": 3
   },
   "file_extension": ".py",
   "mimetype": "text/x-python",
   "name": "python",
   "nbconvert_exporter": "python",
   "pygments_lexer": "ipython3",
   "version": "3.7.12"
  }
 },
 "nbformat": 4,
 "nbformat_minor": 5
}
