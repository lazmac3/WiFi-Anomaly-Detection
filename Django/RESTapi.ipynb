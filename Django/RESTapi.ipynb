{
 "cells": [
  {
   "cell_type": "code",
   "execution_count": 1,
   "metadata": {},
   "outputs": [
    {
     "name": "stdout",
     "output_type": "stream",
     "text": [
      "Hello World\n"
     ]
    }
   ],
   "source": [
    "print(\"Hello World\")"
   ]
  },
  {
   "cell_type": "code",
   "execution_count": 2,
   "metadata": {},
   "outputs": [],
   "source": [
    "import requests\n",
    "import json\n"
   ]
  },
  {
   "cell_type": "code",
   "execution_count": 3,
   "metadata": {},
   "outputs": [
    {
     "name": "stdout",
     "output_type": "stream",
     "text": [
      "{'detail': 'Authentication credentials were not provided.'}\n"
     ]
    }
   ],
   "source": [
    "#should be blocked with not token\n",
    "url = 'http://127.0.0.1:8000/attack/'\n",
    "response = requests.get(url)\n",
    "json_response = response.json()\n",
    "print(json_response)\n"
   ]
  },
  {
   "cell_type": "code",
   "execution_count": 4,
   "metadata": {},
   "outputs": [
    {
     "name": "stdout",
     "output_type": "stream",
     "text": [
      "{'access_token': '947rTtrTDn1FpH8nNESRbjQooatr9z', 'expires_in': 36000, 'token_type': 'Bearer', 'scope': 'read write', 'refresh_token': '2BWKj4NoLcr304B1nrARyEYvhcGHAn'}\n",
      "947rTtrTDn1FpH8nNESRbjQooatr9z\n"
     ]
    }
   ],
   "source": [
    "#create a new user\n",
    "url = \"http://127.0.0.1:8000/authentication/register/\"\n",
    "SSDP = {\n",
    "'username': 'SSDPbot',\n",
    "'password':'1234'\n",
    "}\n",
    "SSDP_response = requests.post(url, data = SSDP)\n",
    "SSDP_response = SSDP_response.json()\n",
    "print(SSDP_response)\n",
    "SSDP_token = SSDP_response['access_token']\n",
    "print(SSDP_token)"
   ]
  },
  {
   "cell_type": "code",
   "execution_count": 5,
   "metadata": {},
   "outputs": [],
   "source": [
    "#submit the attack packet, this is SSDP attack packet\n",
    "attack_url = \"http://127.0.0.1:8000/attack/\" # Our API!\n",
    "headers = {'Authorization': 'Bearer '+str(SSDP_token)}\n",
    "record =     {\n",
    "        \"wlan_tag_length\": \"1\",\n",
    "        \"wlan_country_info_fnm\": \"1\",\n",
    "        \"wlan_da\": \"0c:9d:92:54:fe:30\",\n",
    "        \"wlan_sa\": \"04:ed:33:e0:24:82\",\n",
    "        \"wlan_bssid\": \"0c:9d:92:54:fe:34\",\n",
    "        \"ip_src\": \"20.50.64.3\",\n",
    "        \"ip_dst\": \"192.168.2.1\",\n",
    "        \"wlan_fixed_reason_code\": \"1\",\n",
    "        \"radiotap_channel_freq\": \"5180\",\n",
    "        \"udp_length\": \"102\"\n",
    "    }"
   ]
  },
  {
   "cell_type": "code",
   "execution_count": 6,
   "metadata": {},
   "outputs": [
    {
     "name": "stdout",
     "output_type": "stream",
     "text": [
      "{'wlan_tag_length': '1', 'wlan_country_info_fnm': '1', 'wlan_da': '0c:9d:92:54:fe:30', 'wlan_sa': '04:ed:33:e0:24:82', 'wlan_bssid': '0c:9d:92:54:fe:34', 'ip_src': '20.50.64.3', 'ip_dst': '192.168.2.1', 'wlan_fixed_reason_code': '1', 'radiotap_channel_freq': '5180', 'udp_length': '102'}\n"
     ]
    }
   ],
   "source": [
    "#if all is successful we should see the data and a prediction in the website/adminview\n",
    "SSDP_response = requests.post(attack_url, headers=headers, data=record)\n",
    "print(SSDP_response.json())"
   ]
  }
 ],
 "metadata": {
  "kernelspec": {
   "display_name": "Python 3.10.4 64-bit",
   "language": "python",
   "name": "python3"
  },
  "language_info": {
   "codemirror_mode": {
    "name": "ipython",
    "version": 3
   },
   "file_extension": ".py",
   "mimetype": "text/x-python",
   "name": "python",
   "nbconvert_exporter": "python",
   "pygments_lexer": "ipython3",
   "version": "3.10.4"
  },
  "orig_nbformat": 4,
  "vscode": {
   "interpreter": {
    "hash": "916dbcbb3f70747c44a77c7bcd40155683ae19c65e1c03b4aa3499c5328201f1"
   }
  }
 },
 "nbformat": 4,
 "nbformat_minor": 2
}
